{
 "cells": [
  {
   "cell_type": "code",
   "execution_count": 1,
   "metadata": {
    "collapsed": true
   },
   "outputs": [],
   "source": [
    "import pandas as pd\n",
    "import seaborn as sns\n",
    "import matplotlib.pyplot as plt\n",
    "import time\n",
    "import re\n",
    "import nltk\n",
    "import math\n",
    "from sklearn import svm\n",
    "from sklearn.preprocessing import StandardScaler\n",
    "from sklearn.model_selection import train_test_split, GridSearchCV\n",
    "from sklearn.linear_model import LogisticRegression\n",
    "from sklearn.neighbors import KNeighborsClassifier\n",
    "from sklearn.ensemble import RandomForestClassifier\n",
    "from nltk.corpus import stopwords\n",
    "from sklearn.feature_extraction.text import TfidfVectorizer\n",
    "from sklearn.feature_extraction.text import CountVectorizer\n",
    "\n",
    "%matplotlib inline"
   ]
  },
  {
   "cell_type": "code",
   "execution_count": 2,
   "metadata": {
    "collapsed": true
   },
   "outputs": [],
   "source": [
    "# dataset from http://biostat.mc.vanderbilt.edu/wiki/pub/Main/DataSets/diabetes.html"
   ]
  },
  {
   "cell_type": "markdown",
   "metadata": {},
   "source": [
    "### These data are courtesy of Dr John Schorling, Department of Medicine, University of Virginia School of Medicine.\n",
    "\n",
    "### The data consist of 19 variables on 403 subjects from 1046 subjects who were interviewed in a study to understand the prevalence of obesity, diabetes, and other cardiovascular risk factors in central Virginia for African Americans. According to Dr John Hong, Diabetes Mellitus Type II (adult onset diabetes) is associated most strongly with obesity. The waist/hip ratio may be a predictor in diabetes and heart disease. DM II is also agssociated with hypertension - they may both be part of \"Syndrome X\". The 403 subjects were the ones who were actually screened for diabetes. Glycosolated hemoglobin > 7.0 is usually taken as a positive diagnosis of diabetes. For more information about this study see \n",
    "\n",
    "### Willems JP, Saunders JT, DE Hunt, JB Schorling: Prevalence of coronary heart disease risk factors among rural blacks: A community-based study. Southern Medical Journal 90:814-820; 1997 \n",
    "\n",
    "### and\n",
    "\n",
    "### Schorling JB, Roach J, Siegel M, Baturka N, Hunt DE, Guterbock TM, Stewart HL: A trial of church-based smoking cessation interventions for rural African Americans. Preventive Medicine 26:92-101; 1997.\n",
    "\n"
   ]
  },
  {
   "cell_type": "code",
   "execution_count": 3,
   "metadata": {},
   "outputs": [
    {
     "data": {
      "text/html": [
       "<div>\n",
       "<style>\n",
       "    .dataframe thead tr:only-child th {\n",
       "        text-align: right;\n",
       "    }\n",
       "\n",
       "    .dataframe thead th {\n",
       "        text-align: left;\n",
       "    }\n",
       "\n",
       "    .dataframe tbody tr th {\n",
       "        vertical-align: top;\n",
       "    }\n",
       "</style>\n",
       "<table border=\"1\" class=\"dataframe\">\n",
       "  <thead>\n",
       "    <tr style=\"text-align: right;\">\n",
       "      <th></th>\n",
       "      <th>id</th>\n",
       "      <th>chol</th>\n",
       "      <th>stab.glu</th>\n",
       "      <th>hdl</th>\n",
       "      <th>ratio</th>\n",
       "      <th>glyhb</th>\n",
       "      <th>location</th>\n",
       "      <th>age</th>\n",
       "      <th>gender</th>\n",
       "      <th>height</th>\n",
       "      <th>weight</th>\n",
       "      <th>frame</th>\n",
       "      <th>bp.1s</th>\n",
       "      <th>bp.1d</th>\n",
       "      <th>bp.2s</th>\n",
       "      <th>bp.2d</th>\n",
       "      <th>waist</th>\n",
       "      <th>hip</th>\n",
       "      <th>time.ppn</th>\n",
       "    </tr>\n",
       "  </thead>\n",
       "  <tbody>\n",
       "    <tr>\n",
       "      <th>0</th>\n",
       "      <td>1000</td>\n",
       "      <td>203.0</td>\n",
       "      <td>82</td>\n",
       "      <td>56.0</td>\n",
       "      <td>3.6</td>\n",
       "      <td>4.31</td>\n",
       "      <td>Buckingham</td>\n",
       "      <td>46</td>\n",
       "      <td>female</td>\n",
       "      <td>62.0</td>\n",
       "      <td>121.0</td>\n",
       "      <td>medium</td>\n",
       "      <td>118.0</td>\n",
       "      <td>59.0</td>\n",
       "      <td>NaN</td>\n",
       "      <td>NaN</td>\n",
       "      <td>29.0</td>\n",
       "      <td>38.0</td>\n",
       "      <td>720.0</td>\n",
       "    </tr>\n",
       "    <tr>\n",
       "      <th>1</th>\n",
       "      <td>1001</td>\n",
       "      <td>165.0</td>\n",
       "      <td>97</td>\n",
       "      <td>24.0</td>\n",
       "      <td>6.9</td>\n",
       "      <td>4.44</td>\n",
       "      <td>Buckingham</td>\n",
       "      <td>29</td>\n",
       "      <td>female</td>\n",
       "      <td>64.0</td>\n",
       "      <td>218.0</td>\n",
       "      <td>large</td>\n",
       "      <td>112.0</td>\n",
       "      <td>68.0</td>\n",
       "      <td>NaN</td>\n",
       "      <td>NaN</td>\n",
       "      <td>46.0</td>\n",
       "      <td>48.0</td>\n",
       "      <td>360.0</td>\n",
       "    </tr>\n",
       "    <tr>\n",
       "      <th>2</th>\n",
       "      <td>1002</td>\n",
       "      <td>228.0</td>\n",
       "      <td>92</td>\n",
       "      <td>37.0</td>\n",
       "      <td>6.2</td>\n",
       "      <td>4.64</td>\n",
       "      <td>Buckingham</td>\n",
       "      <td>58</td>\n",
       "      <td>female</td>\n",
       "      <td>61.0</td>\n",
       "      <td>256.0</td>\n",
       "      <td>large</td>\n",
       "      <td>190.0</td>\n",
       "      <td>92.0</td>\n",
       "      <td>185.0</td>\n",
       "      <td>92.0</td>\n",
       "      <td>49.0</td>\n",
       "      <td>57.0</td>\n",
       "      <td>180.0</td>\n",
       "    </tr>\n",
       "    <tr>\n",
       "      <th>3</th>\n",
       "      <td>1003</td>\n",
       "      <td>78.0</td>\n",
       "      <td>93</td>\n",
       "      <td>12.0</td>\n",
       "      <td>6.5</td>\n",
       "      <td>4.63</td>\n",
       "      <td>Buckingham</td>\n",
       "      <td>67</td>\n",
       "      <td>male</td>\n",
       "      <td>67.0</td>\n",
       "      <td>119.0</td>\n",
       "      <td>large</td>\n",
       "      <td>110.0</td>\n",
       "      <td>50.0</td>\n",
       "      <td>NaN</td>\n",
       "      <td>NaN</td>\n",
       "      <td>33.0</td>\n",
       "      <td>38.0</td>\n",
       "      <td>480.0</td>\n",
       "    </tr>\n",
       "    <tr>\n",
       "      <th>4</th>\n",
       "      <td>1005</td>\n",
       "      <td>249.0</td>\n",
       "      <td>90</td>\n",
       "      <td>28.0</td>\n",
       "      <td>8.9</td>\n",
       "      <td>7.72</td>\n",
       "      <td>Buckingham</td>\n",
       "      <td>64</td>\n",
       "      <td>male</td>\n",
       "      <td>68.0</td>\n",
       "      <td>183.0</td>\n",
       "      <td>medium</td>\n",
       "      <td>138.0</td>\n",
       "      <td>80.0</td>\n",
       "      <td>NaN</td>\n",
       "      <td>NaN</td>\n",
       "      <td>44.0</td>\n",
       "      <td>41.0</td>\n",
       "      <td>300.0</td>\n",
       "    </tr>\n",
       "    <tr>\n",
       "      <th>5</th>\n",
       "      <td>1008</td>\n",
       "      <td>248.0</td>\n",
       "      <td>94</td>\n",
       "      <td>69.0</td>\n",
       "      <td>3.6</td>\n",
       "      <td>4.81</td>\n",
       "      <td>Buckingham</td>\n",
       "      <td>34</td>\n",
       "      <td>male</td>\n",
       "      <td>71.0</td>\n",
       "      <td>190.0</td>\n",
       "      <td>large</td>\n",
       "      <td>132.0</td>\n",
       "      <td>86.0</td>\n",
       "      <td>NaN</td>\n",
       "      <td>NaN</td>\n",
       "      <td>36.0</td>\n",
       "      <td>42.0</td>\n",
       "      <td>195.0</td>\n",
       "    </tr>\n",
       "    <tr>\n",
       "      <th>6</th>\n",
       "      <td>1011</td>\n",
       "      <td>195.0</td>\n",
       "      <td>92</td>\n",
       "      <td>41.0</td>\n",
       "      <td>4.8</td>\n",
       "      <td>4.84</td>\n",
       "      <td>Buckingham</td>\n",
       "      <td>30</td>\n",
       "      <td>male</td>\n",
       "      <td>69.0</td>\n",
       "      <td>191.0</td>\n",
       "      <td>medium</td>\n",
       "      <td>161.0</td>\n",
       "      <td>112.0</td>\n",
       "      <td>161.0</td>\n",
       "      <td>112.0</td>\n",
       "      <td>46.0</td>\n",
       "      <td>49.0</td>\n",
       "      <td>720.0</td>\n",
       "    </tr>\n",
       "    <tr>\n",
       "      <th>7</th>\n",
       "      <td>1015</td>\n",
       "      <td>227.0</td>\n",
       "      <td>75</td>\n",
       "      <td>44.0</td>\n",
       "      <td>5.2</td>\n",
       "      <td>3.94</td>\n",
       "      <td>Buckingham</td>\n",
       "      <td>37</td>\n",
       "      <td>male</td>\n",
       "      <td>59.0</td>\n",
       "      <td>170.0</td>\n",
       "      <td>medium</td>\n",
       "      <td>NaN</td>\n",
       "      <td>NaN</td>\n",
       "      <td>NaN</td>\n",
       "      <td>NaN</td>\n",
       "      <td>34.0</td>\n",
       "      <td>39.0</td>\n",
       "      <td>1020.0</td>\n",
       "    </tr>\n",
       "    <tr>\n",
       "      <th>8</th>\n",
       "      <td>1016</td>\n",
       "      <td>177.0</td>\n",
       "      <td>87</td>\n",
       "      <td>49.0</td>\n",
       "      <td>3.6</td>\n",
       "      <td>4.84</td>\n",
       "      <td>Buckingham</td>\n",
       "      <td>45</td>\n",
       "      <td>male</td>\n",
       "      <td>69.0</td>\n",
       "      <td>166.0</td>\n",
       "      <td>large</td>\n",
       "      <td>160.0</td>\n",
       "      <td>80.0</td>\n",
       "      <td>128.0</td>\n",
       "      <td>86.0</td>\n",
       "      <td>34.0</td>\n",
       "      <td>40.0</td>\n",
       "      <td>300.0</td>\n",
       "    </tr>\n",
       "    <tr>\n",
       "      <th>9</th>\n",
       "      <td>1022</td>\n",
       "      <td>263.0</td>\n",
       "      <td>89</td>\n",
       "      <td>40.0</td>\n",
       "      <td>6.6</td>\n",
       "      <td>5.78</td>\n",
       "      <td>Buckingham</td>\n",
       "      <td>55</td>\n",
       "      <td>female</td>\n",
       "      <td>63.0</td>\n",
       "      <td>202.0</td>\n",
       "      <td>small</td>\n",
       "      <td>108.0</td>\n",
       "      <td>72.0</td>\n",
       "      <td>NaN</td>\n",
       "      <td>NaN</td>\n",
       "      <td>45.0</td>\n",
       "      <td>50.0</td>\n",
       "      <td>240.0</td>\n",
       "    </tr>\n",
       "  </tbody>\n",
       "</table>\n",
       "</div>"
      ],
      "text/plain": [
       "     id   chol  stab.glu   hdl  ratio  glyhb    location  age  gender  height  \\\n",
       "0  1000  203.0        82  56.0    3.6   4.31  Buckingham   46  female    62.0   \n",
       "1  1001  165.0        97  24.0    6.9   4.44  Buckingham   29  female    64.0   \n",
       "2  1002  228.0        92  37.0    6.2   4.64  Buckingham   58  female    61.0   \n",
       "3  1003   78.0        93  12.0    6.5   4.63  Buckingham   67    male    67.0   \n",
       "4  1005  249.0        90  28.0    8.9   7.72  Buckingham   64    male    68.0   \n",
       "5  1008  248.0        94  69.0    3.6   4.81  Buckingham   34    male    71.0   \n",
       "6  1011  195.0        92  41.0    4.8   4.84  Buckingham   30    male    69.0   \n",
       "7  1015  227.0        75  44.0    5.2   3.94  Buckingham   37    male    59.0   \n",
       "8  1016  177.0        87  49.0    3.6   4.84  Buckingham   45    male    69.0   \n",
       "9  1022  263.0        89  40.0    6.6   5.78  Buckingham   55  female    63.0   \n",
       "\n",
       "   weight   frame  bp.1s  bp.1d  bp.2s  bp.2d  waist   hip  time.ppn  \n",
       "0   121.0  medium  118.0   59.0    NaN    NaN   29.0  38.0     720.0  \n",
       "1   218.0   large  112.0   68.0    NaN    NaN   46.0  48.0     360.0  \n",
       "2   256.0   large  190.0   92.0  185.0   92.0   49.0  57.0     180.0  \n",
       "3   119.0   large  110.0   50.0    NaN    NaN   33.0  38.0     480.0  \n",
       "4   183.0  medium  138.0   80.0    NaN    NaN   44.0  41.0     300.0  \n",
       "5   190.0   large  132.0   86.0    NaN    NaN   36.0  42.0     195.0  \n",
       "6   191.0  medium  161.0  112.0  161.0  112.0   46.0  49.0     720.0  \n",
       "7   170.0  medium    NaN    NaN    NaN    NaN   34.0  39.0    1020.0  \n",
       "8   166.0   large  160.0   80.0  128.0   86.0   34.0  40.0     300.0  \n",
       "9   202.0   small  108.0   72.0    NaN    NaN   45.0  50.0     240.0  "
      ]
     },
     "execution_count": 3,
     "metadata": {},
     "output_type": "execute_result"
    }
   ],
   "source": [
    "df = pd.read_csv('diabetes.csv')\n",
    "df.head(10)"
   ]
  },
  {
   "cell_type": "code",
   "execution_count": 4,
   "metadata": {},
   "outputs": [
    {
     "data": {
      "text/plain": [
       "(403, 19)"
      ]
     },
     "execution_count": 4,
     "metadata": {},
     "output_type": "execute_result"
    }
   ],
   "source": [
    "df.shape"
   ]
  },
  {
   "cell_type": "code",
   "execution_count": 5,
   "metadata": {},
   "outputs": [
    {
     "data": {
      "text/plain": [
       "Index(['id', 'chol', 'stab.glu', 'hdl', 'ratio', 'glyhb', 'location', 'age',\n",
       "       'gender', 'height', 'weight', 'frame', 'bp.1s', 'bp.1d', 'bp.2s',\n",
       "       'bp.2d', 'waist', 'hip', 'time.ppn'],\n",
       "      dtype='object')"
      ]
     },
     "execution_count": 5,
     "metadata": {},
     "output_type": "execute_result"
    }
   ],
   "source": [
    "df.columns"
   ]
  },
  {
   "cell_type": "code",
   "execution_count": 6,
   "metadata": {},
   "outputs": [
    {
     "data": {
      "text/plain": [
       "id            int64\n",
       "chol        float64\n",
       "stab.glu      int64\n",
       "hdl         float64\n",
       "ratio       float64\n",
       "glyhb       float64\n",
       "location     object\n",
       "age           int64\n",
       "gender       object\n",
       "height      float64\n",
       "weight      float64\n",
       "frame        object\n",
       "bp.1s       float64\n",
       "bp.1d       float64\n",
       "bp.2s       float64\n",
       "bp.2d       float64\n",
       "waist       float64\n",
       "hip         float64\n",
       "time.ppn    float64\n",
       "dtype: object"
      ]
     },
     "execution_count": 6,
     "metadata": {},
     "output_type": "execute_result"
    }
   ],
   "source": [
    "df.dtypes"
   ]
  },
  {
   "cell_type": "code",
   "execution_count": 7,
   "metadata": {},
   "outputs": [
    {
     "data": {
      "text/plain": [
       "id            0\n",
       "chol          1\n",
       "stab.glu      0\n",
       "hdl           1\n",
       "ratio         1\n",
       "glyhb        13\n",
       "location      0\n",
       "age           0\n",
       "gender        0\n",
       "height        5\n",
       "weight        1\n",
       "frame        12\n",
       "bp.1s         5\n",
       "bp.1d         5\n",
       "bp.2s       262\n",
       "bp.2d       262\n",
       "waist         2\n",
       "hip           2\n",
       "time.ppn      3\n",
       "dtype: int64"
      ]
     },
     "execution_count": 7,
     "metadata": {},
     "output_type": "execute_result"
    }
   ],
   "source": [
    "df.isnull().sum()"
   ]
  },
  {
   "cell_type": "code",
   "execution_count": 8,
   "metadata": {},
   "outputs": [
    {
     "data": {
      "text/plain": [
       "<matplotlib.axes._subplots.AxesSubplot at 0x11870a160>"
      ]
     },
     "execution_count": 8,
     "metadata": {},
     "output_type": "execute_result"
    },
    {
     "data": {
      "image/png": "[encoded data removed]",
      "text/plain": [
       "<matplotlib.figure.Figure at 0x11870a630>"
      ]
     },
     "metadata": {},
     "output_type": "display_data"
    }
   ],
   "source": [
    "sns.distplot(df['stab.glu'])"
   ]
  },
  {
   "cell_type": "code",
   "execution_count": 9,
   "metadata": {},
   "outputs": [
    {
     "data": {
      "text/plain": [
       "count    390.000000\n",
       "mean       5.589769\n",
       "std        2.242595\n",
       "min        2.680000\n",
       "25%        4.380000\n",
       "50%        4.840000\n",
       "75%        5.600000\n",
       "max       16.110001\n",
       "Name: glyhb, dtype: float64"
      ]
     },
     "execution_count": 9,
     "metadata": {},
     "output_type": "execute_result"
    }
   ],
   "source": [
    "df.glyhb.describe()"
   ]
  },
  {
   "cell_type": "code",
   "execution_count": 10,
   "metadata": {},
   "outputs": [
    {
     "data": {
      "text/plain": [
       "<matplotlib.axes._subplots.AxesSubplot at 0x11baedf98>"
      ]
     },
     "execution_count": 10,
     "metadata": {},
     "output_type": "execute_result"
    },
    {
     "data": {
      "image/png": "[encoded data removed]",
      "text/plain": [
       "<matplotlib.figure.Figure at 0x11baa3f28>"
      ]
     },
     "metadata": {},
     "output_type": "display_data"
    }
   ],
   "source": [
    "sns.boxplot(df['glyhb'])"
   ]
  },
  {
   "cell_type": "code",
   "execution_count": 11,
   "metadata": {
    "collapsed": true
   },
   "outputs": [],
   "source": [
    "# create a function to create a categorical column for the dataframe\n",
    "# based on levels of glycated hemoglobin\n",
    "def diabetes_cat(glyhb):\n",
    "    if glyhb >= 6.5:\n",
    "        return 1\n",
    "    else:\n",
    "        return 0"
   ]
  },
  {
   "cell_type": "code",
   "execution_count": 12,
   "metadata": {
    "collapsed": true
   },
   "outputs": [],
   "source": [
    "# create a new column in dataframe, 'Outcome' where 1 indicates diabetes & 0 indicates non-diabetic\n",
    "df['Outcome'] = df['glyhb'].apply(diabetes_cat)"
   ]
  },
  {
   "cell_type": "code",
   "execution_count": 13,
   "metadata": {},
   "outputs": [
    {
     "data": {
      "text/html": [
       "<div>\n",
       "<style>\n",
       "    .dataframe thead tr:only-child th {\n",
       "        text-align: right;\n",
       "    }\n",
       "\n",
       "    .dataframe thead th {\n",
       "        text-align: left;\n",
       "    }\n",
       "\n",
       "    .dataframe tbody tr th {\n",
       "        vertical-align: top;\n",
       "    }\n",
       "</style>\n",
       "<table border=\"1\" class=\"dataframe\">\n",
       "  <thead>\n",
       "    <tr style=\"text-align: right;\">\n",
       "      <th></th>\n",
       "      <th>id</th>\n",
       "      <th>chol</th>\n",
       "      <th>stab.glu</th>\n",
       "      <th>hdl</th>\n",
       "      <th>ratio</th>\n",
       "      <th>glyhb</th>\n",
       "      <th>location</th>\n",
       "      <th>age</th>\n",
       "      <th>gender</th>\n",
       "      <th>height</th>\n",
       "      <th>weight</th>\n",
       "      <th>frame</th>\n",
       "      <th>bp.1s</th>\n",
       "      <th>bp.1d</th>\n",
       "      <th>bp.2s</th>\n",
       "      <th>bp.2d</th>\n",
       "      <th>waist</th>\n",
       "      <th>hip</th>\n",
       "      <th>time.ppn</th>\n",
       "      <th>Outcome</th>\n",
       "    </tr>\n",
       "  </thead>\n",
       "  <tbody>\n",
       "    <tr>\n",
       "      <th>0</th>\n",
       "      <td>1000</td>\n",
       "      <td>203.0</td>\n",
       "      <td>82</td>\n",
       "      <td>56.0</td>\n",
       "      <td>3.6</td>\n",
       "      <td>4.31</td>\n",
       "      <td>Buckingham</td>\n",
       "      <td>46</td>\n",
       "      <td>female</td>\n",
       "      <td>62.0</td>\n",
       "      <td>121.0</td>\n",
       "      <td>medium</td>\n",
       "      <td>118.0</td>\n",
       "      <td>59.0</td>\n",
       "      <td>NaN</td>\n",
       "      <td>NaN</td>\n",
       "      <td>29.0</td>\n",
       "      <td>38.0</td>\n",
       "      <td>720.0</td>\n",
       "      <td>0</td>\n",
       "    </tr>\n",
       "    <tr>\n",
       "      <th>1</th>\n",
       "      <td>1001</td>\n",
       "      <td>165.0</td>\n",
       "      <td>97</td>\n",
       "      <td>24.0</td>\n",
       "      <td>6.9</td>\n",
       "      <td>4.44</td>\n",
       "      <td>Buckingham</td>\n",
       "      <td>29</td>\n",
       "      <td>female</td>\n",
       "      <td>64.0</td>\n",
       "      <td>218.0</td>\n",
       "      <td>large</td>\n",
       "      <td>112.0</td>\n",
       "      <td>68.0</td>\n",
       "      <td>NaN</td>\n",
       "      <td>NaN</td>\n",
       "      <td>46.0</td>\n",
       "      <td>48.0</td>\n",
       "      <td>360.0</td>\n",
       "      <td>0</td>\n",
       "    </tr>\n",
       "    <tr>\n",
       "      <th>2</th>\n",
       "      <td>1002</td>\n",
       "      <td>228.0</td>\n",
       "      <td>92</td>\n",
       "      <td>37.0</td>\n",
       "      <td>6.2</td>\n",
       "      <td>4.64</td>\n",
       "      <td>Buckingham</td>\n",
       "      <td>58</td>\n",
       "      <td>female</td>\n",
       "      <td>61.0</td>\n",
       "      <td>256.0</td>\n",
       "      <td>large</td>\n",
       "      <td>190.0</td>\n",
       "      <td>92.0</td>\n",
       "      <td>185.0</td>\n",
       "      <td>92.0</td>\n",
       "      <td>49.0</td>\n",
       "      <td>57.0</td>\n",
       "      <td>180.0</td>\n",
       "      <td>0</td>\n",
       "    </tr>\n",
       "  </tbody>\n",
       "</table>\n",
       "</div>"
      ],
      "text/plain": [
       "     id   chol  stab.glu   hdl  ratio  glyhb    location  age  gender  height  \\\n",
       "0  1000  203.0        82  56.0    3.6   4.31  Buckingham   46  female    62.0   \n",
       "1  1001  165.0        97  24.0    6.9   4.44  Buckingham   29  female    64.0   \n",
       "2  1002  228.0        92  37.0    6.2   4.64  Buckingham   58  female    61.0   \n",
       "\n",
       "   weight   frame  bp.1s  bp.1d  bp.2s  bp.2d  waist   hip  time.ppn  Outcome  \n",
       "0   121.0  medium  118.0   59.0    NaN    NaN   29.0  38.0     720.0        0  \n",
       "1   218.0   large  112.0   68.0    NaN    NaN   46.0  48.0     360.0        0  \n",
       "2   256.0   large  190.0   92.0  185.0   92.0   49.0  57.0     180.0        0  "
      ]
     },
     "execution_count": 13,
     "metadata": {},
     "output_type": "execute_result"
    }
   ],
   "source": [
    "df.head(3)"
   ]
  },
  {
   "cell_type": "code",
   "execution_count": 14,
   "metadata": {},
   "outputs": [
    {
     "data": {
      "text/html": [
       "<div>\n",
       "<style>\n",
       "    .dataframe thead tr:only-child th {\n",
       "        text-align: right;\n",
       "    }\n",
       "\n",
       "    .dataframe thead th {\n",
       "        text-align: left;\n",
       "    }\n",
       "\n",
       "    .dataframe tbody tr th {\n",
       "        vertical-align: top;\n",
       "    }\n",
       "</style>\n",
       "<table border=\"1\" class=\"dataframe\">\n",
       "  <thead>\n",
       "    <tr style=\"text-align: right;\">\n",
       "      <th></th>\n",
       "      <th>id</th>\n",
       "      <th>chol</th>\n",
       "      <th>stab.glu</th>\n",
       "      <th>hdl</th>\n",
       "      <th>ratio</th>\n",
       "      <th>glyhb</th>\n",
       "      <th>location</th>\n",
       "      <th>age</th>\n",
       "      <th>gender</th>\n",
       "      <th>height</th>\n",
       "      <th>weight</th>\n",
       "      <th>frame</th>\n",
       "      <th>bp.1s</th>\n",
       "      <th>bp.1d</th>\n",
       "      <th>bp.2s</th>\n",
       "      <th>bp.2d</th>\n",
       "      <th>waist</th>\n",
       "      <th>hip</th>\n",
       "      <th>time.ppn</th>\n",
       "      <th>Outcome</th>\n",
       "    </tr>\n",
       "  </thead>\n",
       "  <tbody>\n",
       "    <tr>\n",
       "      <th>0</th>\n",
       "      <td>1000</td>\n",
       "      <td>203.0</td>\n",
       "      <td>82</td>\n",
       "      <td>56.0</td>\n",
       "      <td>3.6</td>\n",
       "      <td>4.31</td>\n",
       "      <td>Buckingham</td>\n",
       "      <td>46</td>\n",
       "      <td>female</td>\n",
       "      <td>62.0</td>\n",
       "      <td>121.0</td>\n",
       "      <td>medium</td>\n",
       "      <td>118.0</td>\n",
       "      <td>59.0</td>\n",
       "      <td>152.382979</td>\n",
       "      <td>92.524823</td>\n",
       "      <td>29.0</td>\n",
       "      <td>38.0</td>\n",
       "      <td>720.0</td>\n",
       "      <td>0</td>\n",
       "    </tr>\n",
       "    <tr>\n",
       "      <th>1</th>\n",
       "      <td>1001</td>\n",
       "      <td>165.0</td>\n",
       "      <td>97</td>\n",
       "      <td>24.0</td>\n",
       "      <td>6.9</td>\n",
       "      <td>4.44</td>\n",
       "      <td>Buckingham</td>\n",
       "      <td>29</td>\n",
       "      <td>female</td>\n",
       "      <td>64.0</td>\n",
       "      <td>218.0</td>\n",
       "      <td>large</td>\n",
       "      <td>112.0</td>\n",
       "      <td>68.0</td>\n",
       "      <td>152.382979</td>\n",
       "      <td>92.524823</td>\n",
       "      <td>46.0</td>\n",
       "      <td>48.0</td>\n",
       "      <td>360.0</td>\n",
       "      <td>0</td>\n",
       "    </tr>\n",
       "    <tr>\n",
       "      <th>2</th>\n",
       "      <td>1002</td>\n",
       "      <td>228.0</td>\n",
       "      <td>92</td>\n",
       "      <td>37.0</td>\n",
       "      <td>6.2</td>\n",
       "      <td>4.64</td>\n",
       "      <td>Buckingham</td>\n",
       "      <td>58</td>\n",
       "      <td>female</td>\n",
       "      <td>61.0</td>\n",
       "      <td>256.0</td>\n",
       "      <td>large</td>\n",
       "      <td>190.0</td>\n",
       "      <td>92.0</td>\n",
       "      <td>185.000000</td>\n",
       "      <td>92.000000</td>\n",
       "      <td>49.0</td>\n",
       "      <td>57.0</td>\n",
       "      <td>180.0</td>\n",
       "      <td>0</td>\n",
       "    </tr>\n",
       "  </tbody>\n",
       "</table>\n",
       "</div>"
      ],
      "text/plain": [
       "     id   chol  stab.glu   hdl  ratio  glyhb    location  age  gender  height  \\\n",
       "0  1000  203.0        82  56.0    3.6   4.31  Buckingham   46  female    62.0   \n",
       "1  1001  165.0        97  24.0    6.9   4.44  Buckingham   29  female    64.0   \n",
       "2  1002  228.0        92  37.0    6.2   4.64  Buckingham   58  female    61.0   \n",
       "\n",
       "   weight   frame  bp.1s  bp.1d       bp.2s      bp.2d  waist   hip  time.ppn  \\\n",
       "0   121.0  medium  118.0   59.0  152.382979  92.524823   29.0  38.0     720.0   \n",
       "1   218.0   large  112.0   68.0  152.382979  92.524823   46.0  48.0     360.0   \n",
       "2   256.0   large  190.0   92.0  185.000000  92.000000   49.0  57.0     180.0   \n",
       "\n",
       "   Outcome  \n",
       "0        0  \n",
       "1        0  \n",
       "2        0  "
      ]
     },
     "execution_count": 14,
     "metadata": {},
     "output_type": "execute_result"
    }
   ],
   "source": [
    "#df = df.fillna(0)\n",
    "# replace nans in columns with mean value in columns\n",
    "df=df.fillna(df.mean())\n",
    "df.head(3)"
   ]
  },
  {
   "cell_type": "code",
   "execution_count": 15,
   "metadata": {},
   "outputs": [
    {
     "data": {
      "text/plain": [
       "id           0\n",
       "chol         0\n",
       "stab.glu     0\n",
       "hdl          0\n",
       "ratio        0\n",
       "glyhb        0\n",
       "location     0\n",
       "age          0\n",
       "gender       0\n",
       "height       0\n",
       "weight       0\n",
       "frame       12\n",
       "bp.1s        0\n",
       "bp.1d        0\n",
       "bp.2s        0\n",
       "bp.2d        0\n",
       "waist        0\n",
       "hip          0\n",
       "time.ppn     0\n",
       "Outcome      0\n",
       "dtype: int64"
      ]
     },
     "execution_count": 15,
     "metadata": {},
     "output_type": "execute_result"
    }
   ],
   "source": [
    "df.isnull().sum()"
   ]
  },
  {
   "cell_type": "markdown",
   "metadata": {},
   "source": [
    "## Exploratory Data Analysis"
   ]
  },
  {
   "cell_type": "code",
   "execution_count": 16,
   "metadata": {},
   "outputs": [
    {
     "data": {
      "text/plain": [
       "<matplotlib.axes._subplots.AxesSubplot at 0x11bc266d8>"
      ]
     },
     "execution_count": 16,
     "metadata": {},
     "output_type": "execute_result"
    },
    {
     "data": {
      "image/png": "[encoded data removed]",
      "text/plain": [
       "<matplotlib.figure.Figure at 0x11ba9d470>"
      ]
     },
     "metadata": {},
     "output_type": "display_data"
    }
   ],
   "source": [
    "plt.figure(figsize = [9,6])\n",
    "sns.boxplot(x=\"Outcome\", y=\"glyhb\", data= df)"
   ]
  },
  {
   "cell_type": "code",
   "execution_count": 17,
   "metadata": {},
   "outputs": [
    {
     "data": {
      "text/plain": [
       "<matplotlib.axes._subplots.AxesSubplot at 0x11bd39518>"
      ]
     },
     "execution_count": 17,
     "metadata": {},
     "output_type": "execute_result"
    },
    {
     "data": {
      "image/png": "[encoded data removed]",
      "text/plain": [
       "<matplotlib.figure.Figure at 0x11be6aac8>"
      ]
     },
     "metadata": {},
     "output_type": "display_data"
    }
   ],
   "source": [
    "plt.figure(figsize = [9,6])\n",
    "sns.boxplot(x=\"Outcome\", y=\"stab.glu\", data= df)"
   ]
  },
  {
   "cell_type": "code",
   "execution_count": 18,
   "metadata": {},
   "outputs": [
    {
     "data": {
      "text/plain": [
       "<matplotlib.axes._subplots.AxesSubplot at 0x11bfee390>"
      ]
     },
     "execution_count": 18,
     "metadata": {},
     "output_type": "execute_result"
    },
    {
     "data": {
      "image/png": "[encoded data removed]",
      "text/plain": [
       "<matplotlib.figure.Figure at 0x11bfee470>"
      ]
     },
     "metadata": {},
     "output_type": "display_data"
    }
   ],
   "source": [
    "plt.figure(figsize = [9,6])\n",
    "sns.boxplot(x=\"Outcome\", y=\"hdl\", data= df)"
   ]
  },
  {
   "cell_type": "code",
   "execution_count": 19,
   "metadata": {},
   "outputs": [
    {
     "data": {
      "text/plain": [
       "<matplotlib.axes._subplots.AxesSubplot at 0x11bfdf390>"
      ]
     },
     "execution_count": 19,
     "metadata": {},
     "output_type": "execute_result"
    },
    {
     "data": {
      "image/png": "[encoded data removed]",
      "text/plain": [
       "<matplotlib.figure.Figure at 0x11c028358>"
      ]
     },
     "metadata": {},
     "output_type": "display_data"
    }
   ],
   "source": [
    "plt.figure(figsize = [9,6])\n",
    "sns.boxplot(x=\"Outcome\", y=\"chol\", data= df)"
   ]
  },
  {
   "cell_type": "code",
   "execution_count": 20,
   "metadata": {},
   "outputs": [
    {
     "data": {
      "text/plain": [
       "<matplotlib.text.Text at 0x11c31e828>"
      ]
     },
     "execution_count": 20,
     "metadata": {},
     "output_type": "execute_result"
    },
    {
     "data": {
      "image/png": "[encoded data removed]",
      "text/plain": [
       "<matplotlib.figure.Figure at 0x11c26d320>"
      ]
     },
     "metadata": {},
     "output_type": "display_data"
    }
   ],
   "source": [
    "plt.figure(figsize = [9,9]) # [width, height]\n",
    "plt.title('Diabetes Data',weight = 'bold', size =20)\n",
    "sns.regplot(x=\"stab.glu\", y=\"glyhb\", data = df)\n",
    "plt.xlabel('Glucose', weight = 'bold',size =18)\n",
    "plt.ylabel('Glycated Hemoglobin', weight = 'bold', size=18)"
   ]
  },
  {
   "cell_type": "code",
   "execution_count": 21,
   "metadata": {},
   "outputs": [
    {
     "data": {
      "text/plain": [
       "<matplotlib.axes._subplots.AxesSubplot at 0x11c447128>"
      ]
     },
     "execution_count": 21,
     "metadata": {},
     "output_type": "execute_result"
    },
    {
     "data": {
      "image/png": "[encoded data removed]",
      "text/plain": [
       "<matplotlib.figure.Figure at 0x11c4057b8>"
      ]
     },
     "metadata": {},
     "output_type": "display_data"
    }
   ],
   "source": [
    "my_columns = ['chol', 'stab.glu', 'hdl', 'ratio', 'glyhb', 'age',\n",
    "       'gender', 'height', 'weight', 'frame','waist', 'hip']\n",
    "df_1 = df[my_columns]\n",
    "corr = df_1.corr()\n",
    "plt.figure(figsize = [9,6]) \n",
    "\n",
    "sns.heatmap(corr,cmap = sns.color_palette(\"GnBu_d\"),\n",
    "            xticklabels=corr.columns.values,\n",
    "            yticklabels=corr.columns.values)"
   ]
  },
  {
   "cell_type": "code",
   "execution_count": 35,
   "metadata": {},
   "outputs": [
    {
     "data": {
      "text/html": [
       "<div>\n",
       "<style>\n",
       "    .dataframe thead tr:only-child th {\n",
       "        text-align: right;\n",
       "    }\n",
       "\n",
       "    .dataframe thead th {\n",
       "        text-align: left;\n",
       "    }\n",
       "\n",
       "    .dataframe tbody tr th {\n",
       "        vertical-align: top;\n",
       "    }\n",
       "</style>\n",
       "<table border=\"1\" class=\"dataframe\">\n",
       "  <thead>\n",
       "    <tr style=\"text-align: right;\">\n",
       "      <th></th>\n",
       "      <th>chol</th>\n",
       "      <th>stab.glu</th>\n",
       "      <th>hdl</th>\n",
       "      <th>ratio</th>\n",
       "      <th>glyhb</th>\n",
       "      <th>age</th>\n",
       "      <th>height</th>\n",
       "      <th>weight</th>\n",
       "      <th>waist</th>\n",
       "      <th>hip</th>\n",
       "    </tr>\n",
       "  </thead>\n",
       "  <tbody>\n",
       "    <tr>\n",
       "      <th>chol</th>\n",
       "      <td>1.000000</td>\n",
       "      <td>0.150021</td>\n",
       "      <td>0.186581</td>\n",
       "      <td>0.475521</td>\n",
       "      <td>0.244407</td>\n",
       "      <td>0.233118</td>\n",
       "      <td>-0.058324</td>\n",
       "      <td>0.066239</td>\n",
       "      <td>0.123726</td>\n",
       "      <td>0.078967</td>\n",
       "    </tr>\n",
       "    <tr>\n",
       "      <th>stab.glu</th>\n",
       "      <td>0.150021</td>\n",
       "      <td>1.000000</td>\n",
       "      <td>-0.161823</td>\n",
       "      <td>0.280216</td>\n",
       "      <td>0.747041</td>\n",
       "      <td>0.289258</td>\n",
       "      <td>0.090315</td>\n",
       "      <td>0.184010</td>\n",
       "      <td>0.218297</td>\n",
       "      <td>0.133411</td>\n",
       "    </tr>\n",
       "    <tr>\n",
       "      <th>hdl</th>\n",
       "      <td>0.186581</td>\n",
       "      <td>-0.161823</td>\n",
       "      <td>1.000000</td>\n",
       "      <td>-0.686907</td>\n",
       "      <td>-0.146987</td>\n",
       "      <td>0.038087</td>\n",
       "      <td>-0.100981</td>\n",
       "      <td>-0.289370</td>\n",
       "      <td>-0.266577</td>\n",
       "      <td>-0.208785</td>\n",
       "    </tr>\n",
       "    <tr>\n",
       "      <th>ratio</th>\n",
       "      <td>0.475521</td>\n",
       "      <td>0.280216</td>\n",
       "      <td>-0.686907</td>\n",
       "      <td>1.000000</td>\n",
       "      <td>0.325137</td>\n",
       "      <td>0.148509</td>\n",
       "      <td>0.094176</td>\n",
       "      <td>0.280148</td>\n",
       "      <td>0.301908</td>\n",
       "      <td>0.193302</td>\n",
       "    </tr>\n",
       "    <tr>\n",
       "      <th>glyhb</th>\n",
       "      <td>0.244407</td>\n",
       "      <td>0.747041</td>\n",
       "      <td>-0.146987</td>\n",
       "      <td>0.325137</td>\n",
       "      <td>1.000000</td>\n",
       "      <td>0.335930</td>\n",
       "      <td>0.061628</td>\n",
       "      <td>0.166749</td>\n",
       "      <td>0.223218</td>\n",
       "      <td>0.138550</td>\n",
       "    </tr>\n",
       "    <tr>\n",
       "      <th>age</th>\n",
       "      <td>0.233118</td>\n",
       "      <td>0.289258</td>\n",
       "      <td>0.038087</td>\n",
       "      <td>0.148509</td>\n",
       "      <td>0.335930</td>\n",
       "      <td>1.000000</td>\n",
       "      <td>-0.090358</td>\n",
       "      <td>-0.055937</td>\n",
       "      <td>0.149434</td>\n",
       "      <td>0.008807</td>\n",
       "    </tr>\n",
       "    <tr>\n",
       "      <th>height</th>\n",
       "      <td>-0.058324</td>\n",
       "      <td>0.090315</td>\n",
       "      <td>-0.100981</td>\n",
       "      <td>0.094176</td>\n",
       "      <td>0.061628</td>\n",
       "      <td>-0.090358</td>\n",
       "      <td>1.000000</td>\n",
       "      <td>0.249728</td>\n",
       "      <td>0.050888</td>\n",
       "      <td>-0.106813</td>\n",
       "    </tr>\n",
       "    <tr>\n",
       "      <th>weight</th>\n",
       "      <td>0.066239</td>\n",
       "      <td>0.184010</td>\n",
       "      <td>-0.289370</td>\n",
       "      <td>0.280148</td>\n",
       "      <td>0.166749</td>\n",
       "      <td>-0.055937</td>\n",
       "      <td>0.249728</td>\n",
       "      <td>1.000000</td>\n",
       "      <td>0.846362</td>\n",
       "      <td>0.826496</td>\n",
       "    </tr>\n",
       "    <tr>\n",
       "      <th>waist</th>\n",
       "      <td>0.123726</td>\n",
       "      <td>0.218297</td>\n",
       "      <td>-0.266577</td>\n",
       "      <td>0.301908</td>\n",
       "      <td>0.223218</td>\n",
       "      <td>0.149434</td>\n",
       "      <td>0.050888</td>\n",
       "      <td>0.846362</td>\n",
       "      <td>1.000000</td>\n",
       "      <td>0.837080</td>\n",
       "    </tr>\n",
       "    <tr>\n",
       "      <th>hip</th>\n",
       "      <td>0.078967</td>\n",
       "      <td>0.133411</td>\n",
       "      <td>-0.208785</td>\n",
       "      <td>0.193302</td>\n",
       "      <td>0.138550</td>\n",
       "      <td>0.008807</td>\n",
       "      <td>-0.106813</td>\n",
       "      <td>0.826496</td>\n",
       "      <td>0.837080</td>\n",
       "      <td>1.000000</td>\n",
       "    </tr>\n",
       "  </tbody>\n",
       "</table>\n",
       "</div>"
      ],
      "text/plain": [
       "              chol  stab.glu       hdl     ratio     glyhb       age  \\\n",
       "chol      1.000000  0.150021  0.186581  0.475521  0.244407  0.233118   \n",
       "stab.glu  0.150021  1.000000 -0.161823  0.280216  0.747041  0.289258   \n",
       "hdl       0.186581 -0.161823  1.000000 -0.686907 -0.146987  0.038087   \n",
       "ratio     0.475521  0.280216 -0.686907  1.000000  0.325137  0.148509   \n",
       "glyhb     0.244407  0.747041 -0.146987  0.325137  1.000000  0.335930   \n",
       "age       0.233118  0.289258  0.038087  0.148509  0.335930  1.000000   \n",
       "height   -0.058324  0.090315 -0.100981  0.094176  0.061628 -0.090358   \n",
       "weight    0.066239  0.184010 -0.289370  0.280148  0.166749 -0.055937   \n",
       "waist     0.123726  0.218297 -0.266577  0.301908  0.223218  0.149434   \n",
       "hip       0.078967  0.133411 -0.208785  0.193302  0.138550  0.008807   \n",
       "\n",
       "            height    weight     waist       hip  \n",
       "chol     -0.058324  0.066239  0.123726  0.078967  \n",
       "stab.glu  0.090315  0.184010  0.218297  0.133411  \n",
       "hdl      -0.100981 -0.289370 -0.266577 -0.208785  \n",
       "ratio     0.094176  0.280148  0.301908  0.193302  \n",
       "glyhb     0.061628  0.166749  0.223218  0.138550  \n",
       "age      -0.090358 -0.055937  0.149434  0.008807  \n",
       "height    1.000000  0.249728  0.050888 -0.106813  \n",
       "weight    0.249728  1.000000  0.846362  0.826496  \n",
       "waist     0.050888  0.846362  1.000000  0.837080  \n",
       "hip      -0.106813  0.826496  0.837080  1.000000  "
      ]
     },
     "execution_count": 35,
     "metadata": {},
     "output_type": "execute_result"
    }
   ],
   "source": [
    "corr"
   ]
  },
  {
   "cell_type": "markdown",
   "metadata": {},
   "source": [
    "## Logistic Regression Model for Classification"
   ]
  },
  {
   "cell_type": "code",
   "execution_count": 22,
   "metadata": {},
   "outputs": [
    {
     "name": "stdout",
     "output_type": "stream",
     "text": [
      "15\n"
     ]
    }
   ],
   "source": [
    "predictors = ['chol', 'stab.glu', 'hdl', 'ratio', 'glyhb', 'age',\n",
    "              'height', 'weight','bp.1s', 'bp.1d', 'bp.2s',\n",
    "              'bp.2d', 'waist', 'hip', 'time.ppn']\n",
    "#predictors = [ 'glyhb']\n",
    "\n",
    "print(len(predictors))"
   ]
  },
  {
   "cell_type": "code",
   "execution_count": 23,
   "metadata": {},
   "outputs": [
    {
     "name": "stdout",
     "output_type": "stream",
     "text": [
      "(322, 15) (322,)\n",
      "(81, 15) (81,)\n"
     ]
    }
   ],
   "source": [
    "# create training and testing data\n",
    "y = df.Outcome\n",
    "X = df[predictors]\n",
    "X_train, X_test, y_train, y_test = train_test_split(X, y, test_size=0.2,random_state =42)\n",
    "print(X_train.shape, y_train.shape)\n",
    "print(X_test.shape, y_test.shape)"
   ]
  },
  {
   "cell_type": "code",
   "execution_count": 24,
   "metadata": {
    "collapsed": true
   },
   "outputs": [],
   "source": [
    "#X_test"
   ]
  },
  {
   "cell_type": "code",
   "execution_count": 25,
   "metadata": {
    "collapsed": true
   },
   "outputs": [],
   "source": [
    "#y_test"
   ]
  },
  {
   "cell_type": "code",
   "execution_count": 26,
   "metadata": {},
   "outputs": [
    {
     "name": "stdout",
     "output_type": "stream",
     "text": [
      "Score for test data: 0.98\n"
     ]
    }
   ],
   "source": [
    "# Logistic Regression to predict diabetes with glylhb data\n",
    "lr = LogisticRegression()\n",
    "lr.fit(X_train, y_train)\n",
    "predictions = lr.predict(X_test)\n",
    "print(\"Score for test data: {:.2f}\".format(lr.score(X_test, y_test)))"
   ]
  },
  {
   "cell_type": "code",
   "execution_count": 27,
   "metadata": {},
   "outputs": [
    {
     "name": "stdout",
     "output_type": "stream",
     "text": [
      "(322, 14) (322,)\n",
      "(81, 14) (81,)\n",
      "\n",
      "Score for test data: 0.91\n"
     ]
    }
   ],
   "source": [
    "# Create another model without glyhb data\n",
    "predictors2 = ['chol', 'stab.glu', 'hdl', 'ratio', 'age',\n",
    "              'height', 'weight','bp.1s', 'bp.1d', 'bp.2s',\n",
    "              'bp.2d', 'waist', 'hip', 'time.ppn']\n",
    "\n",
    "\n",
    "# create training and testing data\n",
    "y = df.Outcome\n",
    "X = df[predictors2]\n",
    "X_train, X_test, y_train, y_test = train_test_split(X, y, test_size=0.2,random_state =42)\n",
    "print(X_train.shape, y_train.shape)\n",
    "print(X_test.shape, y_test.shape)\n",
    "print()\n",
    "# Logistic Regression to predict diabetes\n",
    "lr2 = LogisticRegression()\n",
    "lr2.fit(X_train, y_train)\n",
    "predictions = lr2.predict(X_test)\n",
    "print(\"Score for test data: {:.2f}\".format(lr2.score(X_test, y_test)))"
   ]
  },
  {
   "cell_type": "code",
   "execution_count": 28,
   "metadata": {},
   "outputs": [
    {
     "name": "stdout",
     "output_type": "stream",
     "text": [
      "(322, 9) (322,)\n",
      "(81, 9) (81,)\n",
      "Score for test data: 0.91\n"
     ]
    }
   ],
   "source": [
    "# Create another model without glyhb data\n",
    "#predictors3 = ['chol', 'stab.glu', 'hdl', 'ratio', 'age',\n",
    "              #'height', 'weight','waist', 'hip', 'time.ppn']\n",
    "predictors3 = ['chol', 'stab.glu', 'hdl', 'ratio', 'age',\n",
    "              'height', 'weight','waist', 'hip']\n",
    "\n",
    "# create training and testing data\n",
    "y = df.Outcome\n",
    "X = df[predictors3]\n",
    "X_train, X_test, y_train, y_test = train_test_split(X, y, test_size=0.2,random_state =42)\n",
    "print(X_train.shape, y_train.shape)\n",
    "print(X_test.shape, y_test.shape)\n",
    "\n",
    "# Logistic Regression to predict diabetes\n",
    "lr3 = LogisticRegression()\n",
    "lr3.fit(X_train, y_train)\n",
    "predictions = lr3.predict(X_test)\n",
    "print(\"Score for test data: {:.2f}\".format(lr3.score(X_test, y_test)))"
   ]
  },
  {
   "cell_type": "code",
   "execution_count": 29,
   "metadata": {},
   "outputs": [
    {
     "name": "stdout",
     "output_type": "stream",
     "text": [
      "(322, 11) (322,)\n",
      "(81, 11) (81,)\n",
      "\n",
      "Score for test data: 0.91\n"
     ]
    }
   ],
   "source": [
    "# Create model without glyhb data\n",
    "predictors4 = ['chol', 'stab.glu', 'height', 'weight','bp.1s', 'bp.1d', 'bp.2s',\n",
    "               'bp.2d', 'waist', 'hip', 'time.ppn']\n",
    "\n",
    "# create training and testing data\n",
    "y = df.Outcome\n",
    "X = df[predictors4]\n",
    "X_train, X_test, y_train, y_test = train_test_split(X, y, test_size=0.2,random_state =42)\n",
    "print(X_train.shape, y_train.shape)\n",
    "print(X_test.shape, y_test.shape)\n",
    "print()\n",
    "# Logistic Regression to predict diabetes\n",
    "lr4 = LogisticRegression()\n",
    "lr4.fit(X_train, y_train)\n",
    "predictions = lr4.predict(X_test)\n",
    "print(\"Score for test data: {:.2f}\".format(lr4.score(X_test, y_test)))"
   ]
  },
  {
   "cell_type": "code",
   "execution_count": 30,
   "metadata": {},
   "outputs": [
    {
     "name": "stdout",
     "output_type": "stream",
     "text": [
      "(322, 7) (322,)\n",
      "(81, 7) (81,)\n",
      "\n",
      "Score for test data: 0.93\n"
     ]
    }
   ],
   "source": [
    "predictors5 = ['chol', 'stab.glu', 'hdl', 'ratio', 'age',\n",
    "              'height', 'weight']\n",
    "# create training and testing data\n",
    "y = df.Outcome\n",
    "X = df[predictors5]\n",
    "X_train, X_test, y_train, y_test = train_test_split(X, y, test_size=0.2,random_state =42)\n",
    "print(X_train.shape, y_train.shape)\n",
    "print(X_test.shape, y_test.shape)\n",
    "print()\n",
    "\n",
    "# Logistic Regression to predict diabetes\n",
    "lr5 = LogisticRegression()\n",
    "lr5.fit(X_train, y_train)\n",
    "predictions = lr5.predict(X_test)\n",
    "print(\"Score for test data: {:.2f}\".format(lr5.score(X_test, y_test)))"
   ]
  },
  {
   "cell_type": "code",
   "execution_count": 31,
   "metadata": {},
   "outputs": [
    {
     "data": {
      "text/plain": [
       "[0.9135802469135802,\n",
       " 0.9135802469135802,\n",
       " 0.92592592592592593,\n",
       " 0.92592592592592593,\n",
       " 0.9135802469135802,\n",
       " 0.9135802469135802]"
      ]
     },
     "execution_count": 31,
     "metadata": {},
     "output_type": "execute_result"
    }
   ],
   "source": [
    "# Try optimizing above Logistic Regression model\n",
    "#the grid of parameters to search over\n",
    "Cs = [0.001,0.01, 0.1, 1, 10, 100]\n",
    "\n",
    "Scores = []\n",
    "\n",
    "for item in Cs:\n",
    "    clf = LogisticRegression(C=item)\n",
    "    clf.fit(X_train, y_train)\n",
    "    Scores.append((clf.score(X_test, y_test)))\n",
    "    \n",
    "Scores"
   ]
  },
  {
   "cell_type": "code",
   "execution_count": 32,
   "metadata": {},
   "outputs": [
    {
     "name": "stdout",
     "output_type": "stream",
     "text": [
      "(322, 4) (322,)\n",
      "(81, 4) (81,)\n",
      "\n",
      "Score for test data: 0.81\n"
     ]
    }
   ],
   "source": [
    "#predictors6 = ['chol', 'hdl', 'age','height', 'weight']\n",
    "predictors6 = ['chol','hdl','weight','age']\n",
    "# create training and testing data\n",
    "y = df.Outcome\n",
    "X = df[predictors6]\n",
    "X_train, X_test, y_train, y_test = train_test_split(X, y, test_size=0.2,random_state =42)\n",
    "print(X_train.shape, y_train.shape)\n",
    "print(X_test.shape, y_test.shape)\n",
    "print()\n",
    "\n",
    "# Logistic Regression to predict diabetes\n",
    "lr6 = LogisticRegression()\n",
    "lr6.fit(X_train, y_train)\n",
    "predictions = lr6.predict(X_test)\n",
    "print(\"Score for test data: {:.2f}\".format(lr6.score(X_test, y_test)))"
   ]
  },
  {
   "cell_type": "code",
   "execution_count": 33,
   "metadata": {},
   "outputs": [
    {
     "name": "stdout",
     "output_type": "stream",
     "text": [
      "(322, 4) (322,)\n",
      "(81, 4) (81,)\n",
      "\n",
      "Score for test data: 0.91\n"
     ]
    }
   ],
   "source": [
    "# Another model\n",
    "#predictors7 = ['chol', 'stab.glu', 'hdl']\n",
    "predictors7 = ['chol', 'stab.glu', 'hdl','weight']\n",
    "# create training and testing data\n",
    "y = df.Outcome\n",
    "X = df[predictors7]\n",
    "X_train, X_test, y_train, y_test = train_test_split(X, y, test_size=0.2,random_state =42)\n",
    "print(X_train.shape, y_train.shape)\n",
    "print(X_test.shape, y_test.shape)\n",
    "print()\n",
    "\n",
    "# Logistic Regression to predict diabetes\n",
    "lr7 = LogisticRegression()\n",
    "lr7.fit(X_train, y_train)\n",
    "predictions = lr7.predict(X_test)\n",
    "print(\"Score for test data: {:.2f}\".format(lr7.score(X_test, y_test)))"
   ]
  },
  {
   "cell_type": "code",
   "execution_count": 34,
   "metadata": {},
   "outputs": [
    {
     "data": {
      "text/plain": [
       "[0.9135802469135802,\n",
       " 0.9135802469135802,\n",
       " 0.9135802469135802,\n",
       " 0.9135802469135802,\n",
       " 0.9135802469135802,\n",
       " 0.9135802469135802]"
      ]
     },
     "execution_count": 34,
     "metadata": {},
     "output_type": "execute_result"
    }
   ],
   "source": [
    "# Try optimizing Logistic Regression model\n",
    "#the grid of parameters to search over\n",
    "Cs = [0.001,0.01, 0.1, 1, 10, 100]\n",
    "\n",
    "Scores = []\n",
    "\n",
    "for item in Cs:\n",
    "    clf = LogisticRegression(C=item)\n",
    "    clf.fit(X_train, y_train)\n",
    "    Scores.append((clf.score(X_test, y_test)))\n",
    "    \n",
    "Scores"
   ]
  },
  {
   "cell_type": "code",
   "execution_count": null,
   "metadata": {
    "collapsed": true
   },
   "outputs": [],
   "source": []
  }
 ],
 "metadata": {
  "kernelspec": {
   "display_name": "Python [default]",
   "language": "python",
   "name": "python3"
  },
  "language_info": {
   "codemirror_mode": {
    "name": "ipython",
    "version": 3
   },
   "file_extension": ".py",
   "mimetype": "text/x-python",
   "name": "python",
   "nbconvert_exporter": "python",
   "pygments_lexer": "ipython3",
   "version": "3.6.0"
  }
 },
 "nbformat": 4,
 "nbformat_minor": 2
}
