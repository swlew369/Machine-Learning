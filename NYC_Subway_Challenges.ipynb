{
 "cells": [
  {
   "cell_type": "markdown",
   "metadata": {},
   "source": [
    "# EDA Continued: Challenge Set 1 Review, Data Checking & Cleaning with Pandas and Viz Tools\n",
    "\n",
    "Aka, learning how to always expect your data to have more problems.\n",
    "\n",
    "**Learning Goals**:\n",
    "\n",
    "1. Review core pandas methods and understand their application to challenge set 1\n",
    "2. Understand basic methods for data quality checking and cleaning \n",
    "3. See examples of how to use visualization as an aid in exploring data quality "
   ]
  },
  {
   "cell_type": "code",
   "execution_count": 174,
   "metadata": {},
   "outputs": [],
   "source": [
    "from __future__ import print_function, division"
   ]
  },
  {
   "cell_type": "code",
   "execution_count": 175,
   "metadata": {},
   "outputs": [],
   "source": [
    "import pandas as pd\n",
    "import numpy as np\n",
    "import matplotlib.pyplot as plt\n",
    "import pickle\n",
    "\n",
    "%matplotlib inline"
   ]
  },
  {
   "cell_type": "code",
   "execution_count": 176,
   "metadata": {},
   "outputs": [],
   "source": [
    "import datetime"
   ]
  },
  {
   "cell_type": "markdown",
   "metadata": {},
   "source": [
    "#### Exercise 1.1\n",
    "\n",
    "- Open up a new IPython notebook\n",
    "- Download a few MTA turnstile data files\n",
    "- Read them into a pandas dataframe (pd.read_csv()), format the columns nicely, and display the first few rows."
   ]
  },
  {
   "cell_type": "markdown",
   "metadata": {},
   "source": [
    "#Pickle code to save df#"
   ]
  },
  {
   "cell_type": "code",
   "execution_count": 177,
   "metadata": {},
   "outputs": [],
   "source": [
    "#turnstiles_df.columns = [column.strip() for column in turnstiles_df.columns]"
   ]
  },
  {
   "cell_type": "code",
   "execution_count": 178,
   "metadata": {},
   "outputs": [],
   "source": [
    "#turnstiles_df.columns"
   ]
  },
  {
   "cell_type": "code",
   "execution_count": 179,
   "metadata": {},
   "outputs": [],
   "source": [
    "# Three weeks of Data\n",
    "#turnstiles_df.DATE.value_counts().sort_index()"
   ]
  },
  {
   "cell_type": "markdown",
   "metadata": {},
   "source": [
    "\n",
    "#### Exercise 1.2\n",
    "\n",
    "- Let's turn this into a time series. Create a new column that stores the date and time as a single pandas datetime object."
   ]
  },
  {
   "cell_type": "code",
   "execution_count": 180,
   "metadata": {},
   "outputs": [],
   "source": [
    "#turnstiles_df.columns"
   ]
  },
  {
   "cell_type": "code",
   "execution_count": 181,
   "metadata": {},
   "outputs": [],
   "source": [
    "from datetime import datetime as dt"
   ]
  },
  {
   "cell_type": "code",
   "execution_count": 182,
   "metadata": {},
   "outputs": [],
   "source": [
    "#df_exits = pd.read_csv('mta1.csv')\n",
    "df_exits = pd.read_csv('mta2.csv')"
   ]
  },
  {
   "cell_type": "code",
   "execution_count": 183,
   "metadata": {},
   "outputs": [
    {
     "data": {
      "text/html": [
       "<div>\n",
       "<style scoped>\n",
       "    .dataframe tbody tr th:only-of-type {\n",
       "        vertical-align: middle;\n",
       "    }\n",
       "\n",
       "    .dataframe tbody tr th {\n",
       "        vertical-align: top;\n",
       "    }\n",
       "\n",
       "    .dataframe thead th {\n",
       "        text-align: right;\n",
       "    }\n",
       "</style>\n",
       "<table border=\"1\" class=\"dataframe\">\n",
       "  <thead>\n",
       "    <tr style=\"text-align: right;\">\n",
       "      <th></th>\n",
       "      <th>Unnamed: 0</th>\n",
       "      <th>C/A</th>\n",
       "      <th>UNIT</th>\n",
       "      <th>SCP</th>\n",
       "      <th>STATION</th>\n",
       "      <th>DATE</th>\n",
       "      <th>DATE_TIME</th>\n",
       "      <th>EXITS</th>\n",
       "      <th>PREV_DATE</th>\n",
       "      <th>PREV_EXITS</th>\n",
       "      <th>DAILY_EXITS</th>\n",
       "    </tr>\n",
       "  </thead>\n",
       "  <tbody>\n",
       "    <tr>\n",
       "      <th>0</th>\n",
       "      <td>1</td>\n",
       "      <td>A002</td>\n",
       "      <td>R051</td>\n",
       "      <td>02-00-00</td>\n",
       "      <td>59 ST</td>\n",
       "      <td>08/27/2016</td>\n",
       "      <td>2016-08-27 04:00:00</td>\n",
       "      <td>1966044</td>\n",
       "      <td>08/27/2016</td>\n",
       "      <td>1966041.0</td>\n",
       "      <td>3.0</td>\n",
       "    </tr>\n",
       "    <tr>\n",
       "      <th>1</th>\n",
       "      <td>2</td>\n",
       "      <td>A002</td>\n",
       "      <td>R051</td>\n",
       "      <td>02-00-00</td>\n",
       "      <td>59 ST</td>\n",
       "      <td>08/27/2016</td>\n",
       "      <td>2016-08-27 08:00:00</td>\n",
       "      <td>1966079</td>\n",
       "      <td>08/27/2016</td>\n",
       "      <td>1966044.0</td>\n",
       "      <td>35.0</td>\n",
       "    </tr>\n",
       "    <tr>\n",
       "      <th>2</th>\n",
       "      <td>3</td>\n",
       "      <td>A002</td>\n",
       "      <td>R051</td>\n",
       "      <td>02-00-00</td>\n",
       "      <td>59 ST</td>\n",
       "      <td>08/27/2016</td>\n",
       "      <td>2016-08-27 12:00:00</td>\n",
       "      <td>1966155</td>\n",
       "      <td>08/27/2016</td>\n",
       "      <td>1966079.0</td>\n",
       "      <td>76.0</td>\n",
       "    </tr>\n",
       "  </tbody>\n",
       "</table>\n",
       "</div>"
      ],
      "text/plain": [
       "   Unnamed: 0   C/A  UNIT       SCP STATION        DATE            DATE_TIME  \\\n",
       "0           1  A002  R051  02-00-00   59 ST  08/27/2016  2016-08-27 04:00:00   \n",
       "1           2  A002  R051  02-00-00   59 ST  08/27/2016  2016-08-27 08:00:00   \n",
       "2           3  A002  R051  02-00-00   59 ST  08/27/2016  2016-08-27 12:00:00   \n",
       "\n",
       "     EXITS   PREV_DATE  PREV_EXITS  DAILY_EXITS  \n",
       "0  1966044  08/27/2016   1966041.0          3.0  \n",
       "1  1966079  08/27/2016   1966044.0         35.0  \n",
       "2  1966155  08/27/2016   1966079.0         76.0  "
      ]
     },
     "execution_count": 183,
     "metadata": {},
     "output_type": "execute_result"
    }
   ],
   "source": [
    "df_exits.head(3)"
   ]
  },
  {
   "cell_type": "code",
   "execution_count": 184,
   "metadata": {},
   "outputs": [
    {
     "data": {
      "text/plain": [
       "STATION\n",
       "JFK JAMAICA CT1    947.996203\n",
       "NORWOOD 205 ST     916.318363\n",
       "HOWARD BCH JFK     799.470968\n",
       "GROVE STREET       473.646085\n",
       "225 ST             352.992063\n",
       "BEDFORD AV         349.502077\n",
       "59 ST COLUMBUS     346.809450\n",
       "14 ST-UNION SQ     339.432055\n",
       "1 AV               331.633871\n",
       "LACKAWANNA         323.871456\n",
       "191 ST             321.549902\n",
       "ROCKAWAY AV        317.207043\n",
       "BERGEN ST          314.459316\n",
       "W 4 ST-WASH SQ     308.646960\n",
       "CITY / BUS         305.875606\n",
       "YORK ST            305.791005\n",
       "CANAL ST           301.272888\n",
       "LEXINGTON AV/63    290.730769\n",
       "VERNON-JACKSON     287.773423\n",
       "GRD CNTRL-42 ST    287.322418\n",
       "82 ST-JACKSON H    285.902967\n",
       "NEWKIRK PLAZA      282.900800\n",
       "MYRTLE AV          279.823413\n",
       "30 AV              275.714470\n",
       "34 ST-HERALD SQ    270.854015\n",
       "WESTCHESTER SQ     268.343915\n",
       "FLUSHING-MAIN      267.186968\n",
       "ASTORIA DITMARS    265.425595\n",
       "181 ST             260.782699\n",
       "PAVONIA/NEWPORT    260.362319\n",
       "                      ...    \n",
       "JACKSON AV          30.270866\n",
       "AVENUE J            30.012720\n",
       "174-175 STS         29.213787\n",
       "BEVERLY RD          28.242063\n",
       "AVENUE M            27.539200\n",
       "BROAD ST            26.427340\n",
       "AVENUE H            26.082265\n",
       "E 143/ST MARY'S     25.538667\n",
       "NECK RD             25.197714\n",
       "BAYCHESTER AV       24.374332\n",
       "BEACH 44 ST         24.294118\n",
       "AVENUE I            22.228000\n",
       "231 ST              22.112090\n",
       "BEACH 98 ST         21.242188\n",
       "AVENUE P            16.930667\n",
       "BEACH 105 ST        11.800000\n",
       "75 AV                7.445736\n",
       "238 ST               5.443570\n",
       "AQUEDUCT RACETR      5.280000\n",
       "NEWARK BM BW         5.169742\n",
       "BROAD CHANNEL        4.898667\n",
       "NEWARK C             2.567474\n",
       "RIT-MANHATTAN        2.408000\n",
       "RIT-ROOSEVELT        1.998667\n",
       "PENNSYLVANIA AV      1.193333\n",
       "SARATOGA AV          0.366826\n",
       "ORCHARD BEACH        0.227027\n",
       "TOMPKINSVILLE        0.000000\n",
       "ST. GEORGE           0.000000\n",
       "PATH NEW WTC         0.000000\n",
       "Name: DAILY_EXITS, Length: 374, dtype: float64"
      ]
     },
     "execution_count": 184,
     "metadata": {},
     "output_type": "execute_result"
    }
   ],
   "source": [
    "df_exits.groupby(['STATION']).DAILY_EXITS.mean().sort_values(ascending = False)"
   ]
  },
  {
   "cell_type": "code",
   "execution_count": 185,
   "metadata": {},
   "outputs": [
    {
     "data": {
      "text/plain": [
       "34 ST-PENN STA     12494\n",
       "FULTON ST          12113\n",
       "23 ST               8925\n",
       "GRD CNTRL-42 ST     7940\n",
       "CANAL ST            7362\n",
       "34 ST-HERALD SQ     6987\n",
       "CHAMBERS ST         6852\n",
       "59 ST               6723\n",
       "86 ST               6528\n",
       "42 ST-PORT AUTH     6521\n",
       "TIMES SQ-42 ST      6261\n",
       "WALL ST             6214\n",
       "ATL AV-BARCLAY      6121\n",
       "125 ST              5509\n",
       "14 ST               5382\n",
       "59 ST COLUMBUS      5185\n",
       "14 ST-UNION SQ      4798\n",
       "96 ST               4714\n",
       "28 ST               4694\n",
       "161/YANKEE STAD     4675\n",
       "CHURCH AV           4628\n",
       "JAY ST-METROTEC     4580\n",
       "47-50 STS ROCK      4557\n",
       "METS-WILLETS PT     4536\n",
       "50 ST               4496\n",
       "LEXINGTON AV/53     4088\n",
       "CORTLANDT ST        3797\n",
       "BOWLING GREEN       3629\n",
       "BOROUGH HALL        3442\n",
       "FLUSHING-MAIN       3407\n",
       "                   ...  \n",
       "182-183 STS          378\n",
       "65 ST                377\n",
       "KOSCIUSZKO ST        375\n",
       "BOWERY               375\n",
       "INTERVALE AV         375\n",
       "BROAD CHANNEL        375\n",
       "CHAUNCEY ST          375\n",
       "GATES AV             375\n",
       "BURKE AV             375\n",
       "55 ST                375\n",
       "88 ST                375\n",
       "SHEPHERD AV          375\n",
       "CORTELYOU RD         375\n",
       "FOREST AVE           375\n",
       "CYPRESS HILLS        375\n",
       "PARKSIDE AV          375\n",
       "AVENUE P             375\n",
       "25 AV                375\n",
       "AVENUE X             375\n",
       "NEW LOTS             375\n",
       "CRESCENT ST          375\n",
       "NORWOOD AV           375\n",
       "ALABAMA AV           375\n",
       "BRONX PARK EAST      375\n",
       "MORRIS PARK          374\n",
       "BAYCHESTER AV        374\n",
       "219 ST               369\n",
       "CLEVELAND ST         252\n",
       "SUTTER AV            250\n",
       "PATH NEW WTC           1\n",
       "Name: STATION, Length: 374, dtype: int64"
      ]
     },
     "execution_count": 185,
     "metadata": {},
     "output_type": "execute_result"
    }
   ],
   "source": [
    "df_exits.STATION.value_counts()"
   ]
  },
  {
   "cell_type": "code",
   "execution_count": 186,
   "metadata": {},
   "outputs": [
    {
     "data": {
      "text/plain": [
       "Unnamed: 0       int64\n",
       "C/A             object\n",
       "UNIT            object\n",
       "SCP             object\n",
       "STATION         object\n",
       "DATE            object\n",
       "DATE_TIME       object\n",
       "EXITS            int64\n",
       "PREV_DATE       object\n",
       "PREV_EXITS     float64\n",
       "DAILY_EXITS    float64\n",
       "dtype: object"
      ]
     },
     "execution_count": 186,
     "metadata": {},
     "output_type": "execute_result"
    }
   ],
   "source": [
    "df_exits.dtypes"
   ]
  },
  {
   "cell_type": "code",
   "execution_count": 187,
   "metadata": {},
   "outputs": [
    {
     "data": {
      "text/html": [
       "<div>\n",
       "<style scoped>\n",
       "    .dataframe tbody tr th:only-of-type {\n",
       "        vertical-align: middle;\n",
       "    }\n",
       "\n",
       "    .dataframe tbody tr th {\n",
       "        vertical-align: top;\n",
       "    }\n",
       "\n",
       "    .dataframe thead th {\n",
       "        text-align: right;\n",
       "    }\n",
       "</style>\n",
       "<table border=\"1\" class=\"dataframe\">\n",
       "  <thead>\n",
       "    <tr style=\"text-align: right;\">\n",
       "      <th></th>\n",
       "      <th>Unnamed: 0</th>\n",
       "      <th>C/A</th>\n",
       "      <th>UNIT</th>\n",
       "      <th>SCP</th>\n",
       "      <th>STATION</th>\n",
       "      <th>DATE</th>\n",
       "      <th>DATE_TIME</th>\n",
       "      <th>EXITS</th>\n",
       "      <th>PREV_DATE</th>\n",
       "      <th>PREV_EXITS</th>\n",
       "      <th>DAILY_EXITS</th>\n",
       "    </tr>\n",
       "  </thead>\n",
       "  <tbody>\n",
       "    <tr>\n",
       "      <th>1496</th>\n",
       "      <td>1509</td>\n",
       "      <td>A006</td>\n",
       "      <td>R079</td>\n",
       "      <td>00-00-00</td>\n",
       "      <td>5 AV/59 ST</td>\n",
       "      <td>08/27/2016</td>\n",
       "      <td>2016-08-27 06:00:00</td>\n",
       "      <td>4184886</td>\n",
       "      <td>08/27/2016</td>\n",
       "      <td>4184854.0</td>\n",
       "      <td>32.0</td>\n",
       "    </tr>\n",
       "    <tr>\n",
       "      <th>1497</th>\n",
       "      <td>1510</td>\n",
       "      <td>A006</td>\n",
       "      <td>R079</td>\n",
       "      <td>00-00-00</td>\n",
       "      <td>5 AV/59 ST</td>\n",
       "      <td>08/27/2016</td>\n",
       "      <td>2016-08-27 10:00:00</td>\n",
       "      <td>4185197</td>\n",
       "      <td>08/27/2016</td>\n",
       "      <td>4184886.0</td>\n",
       "      <td>311.0</td>\n",
       "    </tr>\n",
       "    <tr>\n",
       "      <th>1498</th>\n",
       "      <td>1511</td>\n",
       "      <td>A006</td>\n",
       "      <td>R079</td>\n",
       "      <td>00-00-00</td>\n",
       "      <td>5 AV/59 ST</td>\n",
       "      <td>08/27/2016</td>\n",
       "      <td>2016-08-27 14:00:00</td>\n",
       "      <td>4185671</td>\n",
       "      <td>08/27/2016</td>\n",
       "      <td>4185197.0</td>\n",
       "      <td>474.0</td>\n",
       "    </tr>\n",
       "  </tbody>\n",
       "</table>\n",
       "</div>"
      ],
      "text/plain": [
       "      Unnamed: 0   C/A  UNIT       SCP     STATION        DATE  \\\n",
       "1496        1509  A006  R079  00-00-00  5 AV/59 ST  08/27/2016   \n",
       "1497        1510  A006  R079  00-00-00  5 AV/59 ST  08/27/2016   \n",
       "1498        1511  A006  R079  00-00-00  5 AV/59 ST  08/27/2016   \n",
       "\n",
       "                DATE_TIME    EXITS   PREV_DATE  PREV_EXITS  DAILY_EXITS  \n",
       "1496  2016-08-27 06:00:00  4184886  08/27/2016   4184854.0         32.0  \n",
       "1497  2016-08-27 10:00:00  4185197  08/27/2016   4184886.0        311.0  \n",
       "1498  2016-08-27 14:00:00  4185671  08/27/2016   4185197.0        474.0  "
      ]
     },
     "execution_count": 187,
     "metadata": {},
     "output_type": "execute_result"
    }
   ],
   "source": [
    "# Challenge 4\n",
    "%matplotlib inline\n",
    "df_RO79 = df_exits[df_exits['UNIT'] == 'R079']\n",
    "df_RO79.head(3)"
   ]
  },
  {
   "cell_type": "code",
   "execution_count": 188,
   "metadata": {},
   "outputs": [
    {
     "data": {
      "text/plain": [
       "[<matplotlib.lines.Line2D at 0x1a353ac710>]"
      ]
     },
     "execution_count": 188,
     "metadata": {},
     "output_type": "execute_result"
    },
    {
     "data": {
      "image/png": "[encoded data removed]",
      "text/plain": [
       "<Figure size 720x216 with 1 Axes>"
      ]
     },
     "metadata": {
      "needs_background": "light"
     },
     "output_type": "display_data"
    }
   ],
   "source": [
    "# Challenge 4\n",
    "dates = df_RO79['DATE']\n",
    "counts = df_RO79['DAILY_EXITS']\n",
    "plt.figure(figsize=(10,3))\n",
    "plt.plot(dates,counts)"
   ]
  },
  {
   "cell_type": "code",
   "execution_count": 189,
   "metadata": {},
   "outputs": [
    {
     "data": {
      "text/html": [
       "<div>\n",
       "<style scoped>\n",
       "    .dataframe tbody tr th:only-of-type {\n",
       "        vertical-align: middle;\n",
       "    }\n",
       "\n",
       "    .dataframe tbody tr th {\n",
       "        vertical-align: top;\n",
       "    }\n",
       "\n",
       "    .dataframe thead th {\n",
       "        text-align: right;\n",
       "    }\n",
       "</style>\n",
       "<table border=\"1\" class=\"dataframe\">\n",
       "  <thead>\n",
       "    <tr style=\"text-align: right;\">\n",
       "      <th></th>\n",
       "      <th></th>\n",
       "      <th></th>\n",
       "      <th>Unnamed: 0</th>\n",
       "      <th>EXITS</th>\n",
       "      <th>PREV_EXITS</th>\n",
       "      <th>DAILY_EXITS</th>\n",
       "    </tr>\n",
       "    <tr>\n",
       "      <th>C/A</th>\n",
       "      <th>UNIT</th>\n",
       "      <th>STATION</th>\n",
       "      <th></th>\n",
       "      <th></th>\n",
       "      <th></th>\n",
       "      <th></th>\n",
       "    </tr>\n",
       "  </thead>\n",
       "  <tbody>\n",
       "    <tr>\n",
       "      <th>A002</th>\n",
       "      <th>R051</th>\n",
       "      <th>59 ST</th>\n",
       "      <td>1127998</td>\n",
       "      <td>4013544859</td>\n",
       "      <td>4.013363e+09</td>\n",
       "      <td>181578.0</td>\n",
       "    </tr>\n",
       "    <tr>\n",
       "      <th>A006</th>\n",
       "      <th>R079</th>\n",
       "      <th>5 AV/59 ST</th>\n",
       "      <td>2012000</td>\n",
       "      <td>4075428713</td>\n",
       "      <td>4.075270e+09</td>\n",
       "      <td>159012.0</td>\n",
       "    </tr>\n",
       "    <tr>\n",
       "      <th>A007</th>\n",
       "      <th>R079</th>\n",
       "      <th>5 AV/59 ST</th>\n",
       "      <td>2190132</td>\n",
       "      <td>1439929447</td>\n",
       "      <td>1.439844e+09</td>\n",
       "      <td>85223.0</td>\n",
       "    </tr>\n",
       "  </tbody>\n",
       "</table>\n",
       "</div>"
      ],
      "text/plain": [
       "                      Unnamed: 0       EXITS    PREV_EXITS  DAILY_EXITS\n",
       "C/A  UNIT STATION                                                      \n",
       "A002 R051 59 ST          1127998  4013544859  4.013363e+09     181578.0\n",
       "A006 R079 5 AV/59 ST     2012000  4075428713  4.075270e+09     159012.0\n",
       "A007 R079 5 AV/59 ST     2190132  1439929447  1.439844e+09      85223.0"
      ]
     },
     "execution_count": 189,
     "metadata": {},
     "output_type": "execute_result"
    }
   ],
   "source": [
    "# Challenge 5 Group by CA, Unit & STATION\n",
    "df_exits.groupby(['C/A','UNIT','STATION']).sum().head(3)"
   ]
  },
  {
   "cell_type": "code",
   "execution_count": 190,
   "metadata": {},
   "outputs": [
    {
     "data": {
      "text/plain": [
       "STATION    DATE      \n",
       "1 AV       08/27/2016    12567.0\n",
       "           08/28/2016    15717.0\n",
       "           08/29/2016    18982.0\n",
       "           08/30/2016    19715.0\n",
       "           08/31/2016    20518.0\n",
       "           09/01/2016    20084.0\n",
       "           09/02/2016    21131.0\n",
       "           09/03/2016    15465.0\n",
       "           09/04/2016    13530.0\n",
       "           09/05/2016    13112.0\n",
       "           09/06/2016    20073.0\n",
       "           09/07/2016    21216.0\n",
       "           09/08/2016    23496.0\n",
       "           09/09/2016    24297.0\n",
       "           09/10/2016    19089.0\n",
       "           09/11/2016    16543.0\n",
       "           09/12/2016    19796.0\n",
       "           09/13/2016    22817.0\n",
       "           09/14/2016    24395.0\n",
       "           09/15/2016    23968.0\n",
       "           09/16/2016    24715.0\n",
       "103 ST     08/27/2016    10537.0\n",
       "           08/28/2016    11785.0\n",
       "           08/29/2016    19362.0\n",
       "           08/30/2016    20772.0\n",
       "           08/31/2016    19796.0\n",
       "           09/01/2016    20392.0\n",
       "           09/02/2016    20199.0\n",
       "           09/03/2016    13577.0\n",
       "           09/04/2016    12003.0\n",
       "                          ...   \n",
       "YORK ST    09/08/2016     5776.0\n",
       "           09/09/2016     5503.0\n",
       "           09/10/2016     8079.0\n",
       "           09/11/2016     8001.0\n",
       "           09/12/2016     5711.0\n",
       "           09/13/2016     5579.0\n",
       "           09/14/2016     5625.0\n",
       "           09/15/2016     5497.0\n",
       "           09/16/2016     5845.0\n",
       "ZEREGA AV  08/27/2016     1069.0\n",
       "           08/28/2016     1058.0\n",
       "           08/29/2016     2180.0\n",
       "           08/30/2016     2254.0\n",
       "           08/31/2016     2393.0\n",
       "           09/01/2016     2179.0\n",
       "           09/02/2016     2084.0\n",
       "           09/03/2016     1257.0\n",
       "           09/04/2016      993.0\n",
       "           09/05/2016     1048.0\n",
       "           09/06/2016     2268.0\n",
       "           09/07/2016     2319.0\n",
       "           09/08/2016     2458.0\n",
       "           09/09/2016     2282.0\n",
       "           09/10/2016     1351.0\n",
       "           09/11/2016     1081.0\n",
       "           09/12/2016     2092.0\n",
       "           09/13/2016     2519.0\n",
       "           09/14/2016     2539.0\n",
       "           09/15/2016     2609.0\n",
       "           09/16/2016     2463.0\n",
       "Name: DAILY_EXITS, Length: 7832, dtype: float64"
      ]
     },
     "execution_count": 190,
     "metadata": {},
     "output_type": "execute_result"
    }
   ],
   "source": [
    "# Challenge 6\n",
    "df_exits.groupby(['STATION','DATE']).sum()['DAILY_EXITS']"
   ]
  },
  {
   "cell_type": "code",
   "execution_count": 191,
   "metadata": {},
   "outputs": [
    {
     "data": {
      "text/html": [
       "<div>\n",
       "<style scoped>\n",
       "    .dataframe tbody tr th:only-of-type {\n",
       "        vertical-align: middle;\n",
       "    }\n",
       "\n",
       "    .dataframe tbody tr th {\n",
       "        vertical-align: top;\n",
       "    }\n",
       "\n",
       "    .dataframe thead th {\n",
       "        text-align: right;\n",
       "    }\n",
       "</style>\n",
       "<table border=\"1\" class=\"dataframe\">\n",
       "  <thead>\n",
       "    <tr style=\"text-align: right;\">\n",
       "      <th></th>\n",
       "      <th>Unnamed: 0</th>\n",
       "      <th>C/A</th>\n",
       "      <th>UNIT</th>\n",
       "      <th>SCP</th>\n",
       "      <th>STATION</th>\n",
       "      <th>DATE</th>\n",
       "      <th>DATE_TIME</th>\n",
       "      <th>EXITS</th>\n",
       "      <th>PREV_DATE</th>\n",
       "      <th>PREV_EXITS</th>\n",
       "      <th>DAILY_EXITS</th>\n",
       "    </tr>\n",
       "  </thead>\n",
       "  <tbody>\n",
       "    <tr>\n",
       "      <th>436689</th>\n",
       "      <td>440164</td>\n",
       "      <td>R236</td>\n",
       "      <td>R045</td>\n",
       "      <td>00-00-00</td>\n",
       "      <td>GRD CNTRL-42 ST</td>\n",
       "      <td>08/27/2016</td>\n",
       "      <td>2016-08-27 05:00:00</td>\n",
       "      <td>1330528</td>\n",
       "      <td>08/27/2016</td>\n",
       "      <td>1330521.0</td>\n",
       "      <td>7.0</td>\n",
       "    </tr>\n",
       "    <tr>\n",
       "      <th>436690</th>\n",
       "      <td>440165</td>\n",
       "      <td>R236</td>\n",
       "      <td>R045</td>\n",
       "      <td>00-00-00</td>\n",
       "      <td>GRD CNTRL-42 ST</td>\n",
       "      <td>08/27/2016</td>\n",
       "      <td>2016-08-27 09:00:00</td>\n",
       "      <td>1330659</td>\n",
       "      <td>08/27/2016</td>\n",
       "      <td>1330528.0</td>\n",
       "      <td>131.0</td>\n",
       "    </tr>\n",
       "    <tr>\n",
       "      <th>436691</th>\n",
       "      <td>440166</td>\n",
       "      <td>R236</td>\n",
       "      <td>R045</td>\n",
       "      <td>00-00-00</td>\n",
       "      <td>GRD CNTRL-42 ST</td>\n",
       "      <td>08/27/2016</td>\n",
       "      <td>2016-08-27 13:00:00</td>\n",
       "      <td>1331043</td>\n",
       "      <td>08/27/2016</td>\n",
       "      <td>1330659.0</td>\n",
       "      <td>384.0</td>\n",
       "    </tr>\n",
       "  </tbody>\n",
       "</table>\n",
       "</div>"
      ],
      "text/plain": [
       "        Unnamed: 0   C/A  UNIT       SCP          STATION        DATE  \\\n",
       "436689      440164  R236  R045  00-00-00  GRD CNTRL-42 ST  08/27/2016   \n",
       "436690      440165  R236  R045  00-00-00  GRD CNTRL-42 ST  08/27/2016   \n",
       "436691      440166  R236  R045  00-00-00  GRD CNTRL-42 ST  08/27/2016   \n",
       "\n",
       "                  DATE_TIME    EXITS   PREV_DATE  PREV_EXITS  DAILY_EXITS  \n",
       "436689  2016-08-27 05:00:00  1330528  08/27/2016   1330521.0          7.0  \n",
       "436690  2016-08-27 09:00:00  1330659  08/27/2016   1330528.0        131.0  \n",
       "436691  2016-08-27 13:00:00  1331043  08/27/2016   1330659.0        384.0  "
      ]
     },
     "execution_count": 191,
     "metadata": {},
     "output_type": "execute_result"
    }
   ],
   "source": [
    "# Challenge 7\n",
    "gct = df_exits[df_exits['STATION'] == 'GRD CNTRL-42 ST']\n",
    "gct.head(3)"
   ]
  },
  {
   "cell_type": "code",
   "execution_count": 192,
   "metadata": {},
   "outputs": [
    {
     "data": {
      "text/plain": [
       "DATE\n",
       "08/27/2016     47945.0\n",
       "08/28/2016     45325.0\n",
       "08/29/2016    127822.0\n",
       "08/30/2016    136231.0\n",
       "08/31/2016    136245.0\n",
       "09/01/2016    137070.0\n",
       "09/02/2016    119701.0\n",
       "09/03/2016     57463.0\n",
       "09/04/2016     48174.0\n",
       "09/05/2016     44659.0\n",
       "09/06/2016    135895.0\n",
       "09/07/2016    143054.0\n",
       "09/08/2016    144673.0\n",
       "09/09/2016    139195.0\n",
       "09/10/2016     61448.0\n",
       "09/11/2016     43270.0\n",
       "09/12/2016    134661.0\n",
       "09/13/2016    143761.0\n",
       "09/14/2016    148405.0\n",
       "09/15/2016    146324.0\n",
       "09/16/2016    140019.0\n",
       "Name: DAILY_EXITS, dtype: float64"
      ]
     },
     "execution_count": 192,
     "metadata": {},
     "output_type": "execute_result"
    }
   ],
   "source": [
    "# challenge 7\n",
    "gct.groupby(['DATE']).DAILY_EXITS.sum()"
   ]
  },
  {
   "cell_type": "code",
   "execution_count": 193,
   "metadata": {},
   "outputs": [
    {
     "data": {
      "text/plain": [
       "Text(0.5,0,'DATE')"
      ]
     },
     "execution_count": 193,
     "metadata": {},
     "output_type": "execute_result"
    },
    {
     "data": {
      "image/png": "[encoded data removed]",
      "text/plain": [
       "<Figure size 432x288 with 1 Axes>"
      ]
     },
     "metadata": {
      "needs_background": "light"
     },
     "output_type": "display_data"
    }
   ],
   "source": [
    "# Challenge 7\n",
    "gct.groupby(['DATE']).DAILY_EXITS.sum().plot()\n",
    "plt.title('Daily Exits From Grand Central Station')\n",
    "plt.ylabel('DAILY EXITS')\n",
    "plt.xlabel('DATE')"
   ]
  },
  {
   "cell_type": "code",
   "execution_count": 194,
   "metadata": {},
   "outputs": [
    {
     "data": {
      "text/plain": [
       "Unnamed: 0       int64\n",
       "C/A             object\n",
       "UNIT            object\n",
       "SCP             object\n",
       "STATION         object\n",
       "DATE            object\n",
       "DATE_TIME       object\n",
       "EXITS            int64\n",
       "PREV_DATE       object\n",
       "PREV_EXITS     float64\n",
       "DAILY_EXITS    float64\n",
       "dtype: object"
      ]
     },
     "execution_count": 194,
     "metadata": {},
     "output_type": "execute_result"
    }
   ],
   "source": [
    "gct.dtypes"
   ]
  },
  {
   "cell_type": "code",
   "execution_count": 195,
   "metadata": {},
   "outputs": [
    {
     "name": "stderr",
     "output_type": "stream",
     "text": [
      "/anaconda2/lib/python2.7/site-packages/ipykernel_launcher.py:2: SettingWithCopyWarning: \n",
      "A value is trying to be set on a copy of a slice from a DataFrame.\n",
      "Try using .loc[row_indexer,col_indexer] = value instead\n",
      "\n",
      "See the caveats in the documentation: http://pandas.pydata.org/pandas-docs/stable/indexing.html#indexing-view-versus-copy\n",
      "  \n"
     ]
    }
   ],
   "source": [
    "#import datetime\n",
    "gct['DATE'] = pd.to_datetime(gct['DATE'])"
   ]
  },
  {
   "cell_type": "code",
   "execution_count": 196,
   "metadata": {},
   "outputs": [
    {
     "data": {
      "text/plain": [
       "Unnamed: 0              int64\n",
       "C/A                    object\n",
       "UNIT                   object\n",
       "SCP                    object\n",
       "STATION                object\n",
       "DATE           datetime64[ns]\n",
       "DATE_TIME              object\n",
       "EXITS                   int64\n",
       "PREV_DATE              object\n",
       "PREV_EXITS            float64\n",
       "DAILY_EXITS           float64\n",
       "dtype: object"
      ]
     },
     "execution_count": 196,
     "metadata": {},
     "output_type": "execute_result"
    }
   ],
   "source": [
    "gct.dtypes"
   ]
  },
  {
   "cell_type": "code",
   "execution_count": 197,
   "metadata": {},
   "outputs": [
    {
     "name": "stderr",
     "output_type": "stream",
     "text": [
      "/anaconda2/lib/python2.7/site-packages/ipykernel_launcher.py:1: SettingWithCopyWarning: \n",
      "A value is trying to be set on a copy of a slice from a DataFrame.\n",
      "Try using .loc[row_indexer,col_indexer] = value instead\n",
      "\n",
      "See the caveats in the documentation: http://pandas.pydata.org/pandas-docs/stable/indexing.html#indexing-view-versus-copy\n",
      "  \"\"\"Entry point for launching an IPython kernel.\n"
     ]
    }
   ],
   "source": [
    "gct['day_of_week'] = gct['DATE'].dt.day_name()"
   ]
  },
  {
   "cell_type": "code",
   "execution_count": 198,
   "metadata": {},
   "outputs": [
    {
     "data": {
      "text/html": [
       "<div>\n",
       "<style scoped>\n",
       "    .dataframe tbody tr th:only-of-type {\n",
       "        vertical-align: middle;\n",
       "    }\n",
       "\n",
       "    .dataframe tbody tr th {\n",
       "        vertical-align: top;\n",
       "    }\n",
       "\n",
       "    .dataframe thead th {\n",
       "        text-align: right;\n",
       "    }\n",
       "</style>\n",
       "<table border=\"1\" class=\"dataframe\">\n",
       "  <thead>\n",
       "    <tr style=\"text-align: right;\">\n",
       "      <th></th>\n",
       "      <th>Unnamed: 0</th>\n",
       "      <th>C/A</th>\n",
       "      <th>UNIT</th>\n",
       "      <th>SCP</th>\n",
       "      <th>STATION</th>\n",
       "      <th>DATE</th>\n",
       "      <th>DATE_TIME</th>\n",
       "      <th>EXITS</th>\n",
       "      <th>PREV_DATE</th>\n",
       "      <th>PREV_EXITS</th>\n",
       "      <th>DAILY_EXITS</th>\n",
       "      <th>day_of_week</th>\n",
       "    </tr>\n",
       "  </thead>\n",
       "  <tbody>\n",
       "    <tr>\n",
       "      <th>436689</th>\n",
       "      <td>440164</td>\n",
       "      <td>R236</td>\n",
       "      <td>R045</td>\n",
       "      <td>00-00-00</td>\n",
       "      <td>GRD CNTRL-42 ST</td>\n",
       "      <td>2016-08-27</td>\n",
       "      <td>2016-08-27 05:00:00</td>\n",
       "      <td>1330528</td>\n",
       "      <td>08/27/2016</td>\n",
       "      <td>1330521.0</td>\n",
       "      <td>7.0</td>\n",
       "      <td>Saturday</td>\n",
       "    </tr>\n",
       "    <tr>\n",
       "      <th>436690</th>\n",
       "      <td>440165</td>\n",
       "      <td>R236</td>\n",
       "      <td>R045</td>\n",
       "      <td>00-00-00</td>\n",
       "      <td>GRD CNTRL-42 ST</td>\n",
       "      <td>2016-08-27</td>\n",
       "      <td>2016-08-27 09:00:00</td>\n",
       "      <td>1330659</td>\n",
       "      <td>08/27/2016</td>\n",
       "      <td>1330528.0</td>\n",
       "      <td>131.0</td>\n",
       "      <td>Saturday</td>\n",
       "    </tr>\n",
       "    <tr>\n",
       "      <th>436691</th>\n",
       "      <td>440166</td>\n",
       "      <td>R236</td>\n",
       "      <td>R045</td>\n",
       "      <td>00-00-00</td>\n",
       "      <td>GRD CNTRL-42 ST</td>\n",
       "      <td>2016-08-27</td>\n",
       "      <td>2016-08-27 13:00:00</td>\n",
       "      <td>1331043</td>\n",
       "      <td>08/27/2016</td>\n",
       "      <td>1330659.0</td>\n",
       "      <td>384.0</td>\n",
       "      <td>Saturday</td>\n",
       "    </tr>\n",
       "  </tbody>\n",
       "</table>\n",
       "</div>"
      ],
      "text/plain": [
       "        Unnamed: 0   C/A  UNIT       SCP          STATION       DATE  \\\n",
       "436689      440164  R236  R045  00-00-00  GRD CNTRL-42 ST 2016-08-27   \n",
       "436690      440165  R236  R045  00-00-00  GRD CNTRL-42 ST 2016-08-27   \n",
       "436691      440166  R236  R045  00-00-00  GRD CNTRL-42 ST 2016-08-27   \n",
       "\n",
       "                  DATE_TIME    EXITS   PREV_DATE  PREV_EXITS  DAILY_EXITS  \\\n",
       "436689  2016-08-27 05:00:00  1330528  08/27/2016   1330521.0          7.0   \n",
       "436690  2016-08-27 09:00:00  1330659  08/27/2016   1330528.0        131.0   \n",
       "436691  2016-08-27 13:00:00  1331043  08/27/2016   1330659.0        384.0   \n",
       "\n",
       "       day_of_week  \n",
       "436689    Saturday  \n",
       "436690    Saturday  \n",
       "436691    Saturday  "
      ]
     },
     "execution_count": 198,
     "metadata": {},
     "output_type": "execute_result"
    }
   ],
   "source": [
    "gct.head(3)"
   ]
  },
  {
   "cell_type": "code",
   "execution_count": 199,
   "metadata": {},
   "outputs": [
    {
     "data": {
      "text/plain": [
       "DATE        day_of_week\n",
       "2016-08-27  Saturday        47945.0\n",
       "2016-08-28  Sunday          45325.0\n",
       "2016-08-29  Monday         127822.0\n",
       "2016-08-30  Tuesday        136231.0\n",
       "2016-08-31  Wednesday      136245.0\n",
       "2016-09-01  Thursday       137070.0\n",
       "2016-09-02  Friday         119701.0\n",
       "2016-09-03  Saturday        57463.0\n",
       "2016-09-04  Sunday          48174.0\n",
       "2016-09-05  Monday          44659.0\n",
       "2016-09-06  Tuesday        135895.0\n",
       "2016-09-07  Wednesday      143054.0\n",
       "2016-09-08  Thursday       144673.0\n",
       "2016-09-09  Friday         139195.0\n",
       "2016-09-10  Saturday        61448.0\n",
       "2016-09-11  Sunday          43270.0\n",
       "2016-09-12  Monday         134661.0\n",
       "2016-09-13  Tuesday        143761.0\n",
       "2016-09-14  Wednesday      148405.0\n",
       "2016-09-15  Thursday       146324.0\n",
       "2016-09-16  Friday         140019.0\n",
       "Name: DAILY_EXITS, dtype: float64"
      ]
     },
     "execution_count": 199,
     "metadata": {},
     "output_type": "execute_result"
    }
   ],
   "source": [
    "gct.groupby(['DATE','day_of_week']).DAILY_EXITS.sum()\n",
    "#gct.groupby(['DATE','day_of_week'])"
   ]
  },
  {
   "cell_type": "code",
   "execution_count": 200,
   "metadata": {},
   "outputs": [
    {
     "data": {
      "text/html": [
       "<div>\n",
       "<style scoped>\n",
       "    .dataframe tbody tr th:only-of-type {\n",
       "        vertical-align: middle;\n",
       "    }\n",
       "\n",
       "    .dataframe tbody tr th {\n",
       "        vertical-align: top;\n",
       "    }\n",
       "\n",
       "    .dataframe thead th {\n",
       "        text-align: right;\n",
       "    }\n",
       "</style>\n",
       "<table border=\"1\" class=\"dataframe\">\n",
       "  <thead>\n",
       "    <tr style=\"text-align: right;\">\n",
       "      <th></th>\n",
       "      <th>DATE</th>\n",
       "      <th>day_of_week</th>\n",
       "      <th>DAILY_EXITS</th>\n",
       "    </tr>\n",
       "  </thead>\n",
       "  <tbody>\n",
       "    <tr>\n",
       "      <th>0</th>\n",
       "      <td>2016-08-27</td>\n",
       "      <td>Saturday</td>\n",
       "      <td>47945.0</td>\n",
       "    </tr>\n",
       "    <tr>\n",
       "      <th>1</th>\n",
       "      <td>2016-08-28</td>\n",
       "      <td>Sunday</td>\n",
       "      <td>45325.0</td>\n",
       "    </tr>\n",
       "    <tr>\n",
       "      <th>2</th>\n",
       "      <td>2016-08-29</td>\n",
       "      <td>Monday</td>\n",
       "      <td>127822.0</td>\n",
       "    </tr>\n",
       "    <tr>\n",
       "      <th>3</th>\n",
       "      <td>2016-08-30</td>\n",
       "      <td>Tuesday</td>\n",
       "      <td>136231.0</td>\n",
       "    </tr>\n",
       "    <tr>\n",
       "      <th>4</th>\n",
       "      <td>2016-08-31</td>\n",
       "      <td>Wednesday</td>\n",
       "      <td>136245.0</td>\n",
       "    </tr>\n",
       "    <tr>\n",
       "      <th>5</th>\n",
       "      <td>2016-09-01</td>\n",
       "      <td>Thursday</td>\n",
       "      <td>137070.0</td>\n",
       "    </tr>\n",
       "    <tr>\n",
       "      <th>6</th>\n",
       "      <td>2016-09-02</td>\n",
       "      <td>Friday</td>\n",
       "      <td>119701.0</td>\n",
       "    </tr>\n",
       "    <tr>\n",
       "      <th>7</th>\n",
       "      <td>2016-09-03</td>\n",
       "      <td>Saturday</td>\n",
       "      <td>57463.0</td>\n",
       "    </tr>\n",
       "    <tr>\n",
       "      <th>8</th>\n",
       "      <td>2016-09-04</td>\n",
       "      <td>Sunday</td>\n",
       "      <td>48174.0</td>\n",
       "    </tr>\n",
       "    <tr>\n",
       "      <th>9</th>\n",
       "      <td>2016-09-05</td>\n",
       "      <td>Monday</td>\n",
       "      <td>44659.0</td>\n",
       "    </tr>\n",
       "    <tr>\n",
       "      <th>10</th>\n",
       "      <td>2016-09-06</td>\n",
       "      <td>Tuesday</td>\n",
       "      <td>135895.0</td>\n",
       "    </tr>\n",
       "    <tr>\n",
       "      <th>11</th>\n",
       "      <td>2016-09-07</td>\n",
       "      <td>Wednesday</td>\n",
       "      <td>143054.0</td>\n",
       "    </tr>\n",
       "    <tr>\n",
       "      <th>12</th>\n",
       "      <td>2016-09-08</td>\n",
       "      <td>Thursday</td>\n",
       "      <td>144673.0</td>\n",
       "    </tr>\n",
       "    <tr>\n",
       "      <th>13</th>\n",
       "      <td>2016-09-09</td>\n",
       "      <td>Friday</td>\n",
       "      <td>139195.0</td>\n",
       "    </tr>\n",
       "    <tr>\n",
       "      <th>14</th>\n",
       "      <td>2016-09-10</td>\n",
       "      <td>Saturday</td>\n",
       "      <td>61448.0</td>\n",
       "    </tr>\n",
       "    <tr>\n",
       "      <th>15</th>\n",
       "      <td>2016-09-11</td>\n",
       "      <td>Sunday</td>\n",
       "      <td>43270.0</td>\n",
       "    </tr>\n",
       "    <tr>\n",
       "      <th>16</th>\n",
       "      <td>2016-09-12</td>\n",
       "      <td>Monday</td>\n",
       "      <td>134661.0</td>\n",
       "    </tr>\n",
       "    <tr>\n",
       "      <th>17</th>\n",
       "      <td>2016-09-13</td>\n",
       "      <td>Tuesday</td>\n",
       "      <td>143761.0</td>\n",
       "    </tr>\n",
       "    <tr>\n",
       "      <th>18</th>\n",
       "      <td>2016-09-14</td>\n",
       "      <td>Wednesday</td>\n",
       "      <td>148405.0</td>\n",
       "    </tr>\n",
       "    <tr>\n",
       "      <th>19</th>\n",
       "      <td>2016-09-15</td>\n",
       "      <td>Thursday</td>\n",
       "      <td>146324.0</td>\n",
       "    </tr>\n",
       "    <tr>\n",
       "      <th>20</th>\n",
       "      <td>2016-09-16</td>\n",
       "      <td>Friday</td>\n",
       "      <td>140019.0</td>\n",
       "    </tr>\n",
       "  </tbody>\n",
       "</table>\n",
       "</div>"
      ],
      "text/plain": [
       "         DATE day_of_week  DAILY_EXITS\n",
       "0  2016-08-27    Saturday      47945.0\n",
       "1  2016-08-28      Sunday      45325.0\n",
       "2  2016-08-29      Monday     127822.0\n",
       "3  2016-08-30     Tuesday     136231.0\n",
       "4  2016-08-31   Wednesday     136245.0\n",
       "5  2016-09-01    Thursday     137070.0\n",
       "6  2016-09-02      Friday     119701.0\n",
       "7  2016-09-03    Saturday      57463.0\n",
       "8  2016-09-04      Sunday      48174.0\n",
       "9  2016-09-05      Monday      44659.0\n",
       "10 2016-09-06     Tuesday     135895.0\n",
       "11 2016-09-07   Wednesday     143054.0\n",
       "12 2016-09-08    Thursday     144673.0\n",
       "13 2016-09-09      Friday     139195.0\n",
       "14 2016-09-10    Saturday      61448.0\n",
       "15 2016-09-11      Sunday      43270.0\n",
       "16 2016-09-12      Monday     134661.0\n",
       "17 2016-09-13     Tuesday     143761.0\n",
       "18 2016-09-14   Wednesday     148405.0\n",
       "19 2016-09-15    Thursday     146324.0\n",
       "20 2016-09-16      Friday     140019.0"
      ]
     },
     "execution_count": 200,
     "metadata": {},
     "output_type": "execute_result"
    }
   ],
   "source": [
    "#grouped = df.groupby(['A', 'B'], as_index=False)\n",
    "day = pd.DataFrame(gct.groupby(['DATE','day_of_week'], as_index = False).DAILY_EXITS.sum())\n",
    "day.head(23)"
   ]
  },
  {
   "cell_type": "code",
   "execution_count": 201,
   "metadata": {},
   "outputs": [
    {
     "data": {
      "text/plain": [
       "Index([u'DATE', u'day_of_week', u'DAILY_EXITS'], dtype='object')"
      ]
     },
     "execution_count": 201,
     "metadata": {},
     "output_type": "execute_result"
    }
   ],
   "source": [
    "#day.columns =['DATE','day_of_week','DAILY_EXITS']\n",
    "day.columns"
   ]
  },
  {
   "cell_type": "code",
   "execution_count": 202,
   "metadata": {},
   "outputs": [
    {
     "data": {
      "text/plain": [
       "DATE           datetime64[ns]\n",
       "day_of_week            object\n",
       "DAILY_EXITS           float64\n",
       "dtype: object"
      ]
     },
     "execution_count": 202,
     "metadata": {},
     "output_type": "execute_result"
    }
   ],
   "source": [
    "day.dtypes"
   ]
  },
  {
   "cell_type": "code",
   "execution_count": 203,
   "metadata": {},
   "outputs": [
    {
     "data": {
      "text/plain": [
       "0     False\n",
       "1     False\n",
       "2      True\n",
       "3     False\n",
       "4     False\n",
       "5     False\n",
       "6     False\n",
       "7     False\n",
       "8     False\n",
       "9      True\n",
       "10    False\n",
       "11    False\n",
       "12    False\n",
       "13    False\n",
       "14    False\n",
       "15    False\n",
       "16     True\n",
       "17    False\n",
       "18    False\n",
       "19    False\n",
       "20    False\n",
       "Name: day_of_week, dtype: bool"
      ]
     },
     "execution_count": 203,
     "metadata": {},
     "output_type": "execute_result"
    }
   ],
   "source": [
    "criteria = day['day_of_week'] == 'Monday'\n",
    "criteria"
   ]
  },
  {
   "cell_type": "code",
   "execution_count": 204,
   "metadata": {},
   "outputs": [
    {
     "data": {
      "text/plain": [
       "pandas.core.series.Series"
      ]
     },
     "execution_count": 204,
     "metadata": {},
     "output_type": "execute_result"
    }
   ],
   "source": [
    "type(criteria)"
   ]
  },
  {
   "cell_type": "code",
   "execution_count": 205,
   "metadata": {},
   "outputs": [
    {
     "name": "stdout",
     "output_type": "stream",
     "text": [
      "[False, False, True, False, False, False, False, False, False, True, False, False, False, False, False, False, True, False, False, False, False]\n"
     ]
    }
   ],
   "source": [
    "print(list(criteria))"
   ]
  },
  {
   "cell_type": "code",
   "execution_count": 206,
   "metadata": {},
   "outputs": [
    {
     "name": "stdout",
     "output_type": "stream",
     "text": [
      "<type 'list'>\n"
     ]
    },
    {
     "data": {
      "text/plain": [
       "[2, 9, 16]"
      ]
     },
     "execution_count": 206,
     "metadata": {},
     "output_type": "execute_result"
    }
   ],
   "source": [
    "criteria2 = list(criteria)\n",
    "hug = []\n",
    "print(type(criteria2))\n",
    "for idx in range(len(criteria2)):\n",
    "    if criteria2[idx] == True:\n",
    "        hug.append(idx)\n",
    "hug"
   ]
  },
  {
   "cell_type": "code",
   "execution_count": 207,
   "metadata": {},
   "outputs": [
    {
     "name": "stdout",
     "output_type": "stream",
     "text": [
      "127822.0\n",
      "136231.0\n",
      "136245.0\n",
      "137070.0\n",
      "119701.0\n",
      "57463.0\n",
      "48174.0\n",
      "44659.0\n",
      "135895.0\n",
      "143054.0\n",
      "144673.0\n",
      "139195.0\n",
      "61448.0\n",
      "43270.0\n"
     ]
    }
   ],
   "source": [
    "week_list = []\n",
    "for item in hug:\n",
    "    \n",
    "    l = []\n",
    "    if item + 7 < len(day.DAILY_EXITS):\n",
    "        for idx in range(item,item+7):\n",
    "            print(day['DAILY_EXITS'][idx])\n",
    "            l.append(day['DAILY_EXITS'][idx])\n",
    "        week_list.append(l)\n",
    "    #print(day['DAILY_EXITS'][item])\n",
    "    \n"
   ]
  },
  {
   "cell_type": "code",
   "execution_count": 208,
   "metadata": {},
   "outputs": [
    {
     "data": {
      "text/plain": [
       "[[127822.0, 136231.0, 136245.0, 137070.0, 119701.0, 57463.0, 48174.0],\n",
       " [44659.0, 135895.0, 143054.0, 144673.0, 139195.0, 61448.0, 43270.0]]"
      ]
     },
     "execution_count": 208,
     "metadata": {},
     "output_type": "execute_result"
    }
   ],
   "source": [
    "week_list"
   ]
  },
  {
   "cell_type": "code",
   "execution_count": 209,
   "metadata": {},
   "outputs": [
    {
     "name": "stdout",
     "output_type": "stream",
     "text": [
      "2\n"
     ]
    }
   ],
   "source": [
    "print(len(week_list))"
   ]
  },
  {
   "cell_type": "code",
   "execution_count": 210,
   "metadata": {},
   "outputs": [
    {
     "name": "stdout",
     "output_type": "stream",
     "text": [
      "7\n",
      "7\n"
     ]
    }
   ],
   "source": [
    "for item in week_list:\n",
    "    print(len(item))"
   ]
  },
  {
   "cell_type": "code",
   "execution_count": 211,
   "metadata": {},
   "outputs": [
    {
     "data": {
      "text/plain": [
       "Text(0.5,0,'Day of Week')"
      ]
     },
     "execution_count": 211,
     "metadata": {},
     "output_type": "execute_result"
    },
    {
     "data": {
      "image/png": "[encoded data removed]",
      "text/plain": [
       "<Figure size 432x288 with 1 Axes>"
      ]
     },
     "metadata": {
      "needs_background": "light"
     },
     "output_type": "display_data"
    }
   ],
   "source": [
    "plt.plot(week_list[0])\n",
    "plt.ylabel('Daily Exits')\n",
    "plt.xlabel('Day of Week')"
   ]
  },
  {
   "cell_type": "code",
   "execution_count": 212,
   "metadata": {},
   "outputs": [
    {
     "data": {
      "text/plain": [
       "Text(0.5,0,'Day of Week')"
      ]
     },
     "execution_count": 212,
     "metadata": {},
     "output_type": "execute_result"
    },
    {
     "data": {
      "image/png": "[encoded data removed]",
      "text/plain": [
       "<Figure size 432x288 with 1 Axes>"
      ]
     },
     "metadata": {
      "needs_background": "light"
     },
     "output_type": "display_data"
    }
   ],
   "source": [
    "plt.plot(week_list[0])\n",
    "plt.plot(week_list[1])\n",
    "plt.ylabel('Daily Exits')\n",
    "plt.xlabel('Day of Week')"
   ]
  },
  {
   "cell_type": "code",
   "execution_count": 213,
   "metadata": {},
   "outputs": [
    {
     "data": {
      "text/plain": [
       "STATION\n",
       "34 ST-PENN STA     2507555.0\n",
       "GRD CNTRL-42 ST    2281340.0\n",
       "CANAL ST           2217971.0\n",
       "34 ST-HERALD SQ    1892457.0\n",
       "59 ST COLUMBUS     1798207.0\n",
       "14 ST-UNION SQ     1628595.0\n",
       "HOWARD BCH JFK     1610934.0\n",
       "TIMES SQ-42 ST     1610372.0\n",
       "86 ST              1549959.0\n",
       "23 ST              1548625.0\n",
       "FULTON ST          1317098.0\n",
       "42 ST-PORT AUTH    1292401.0\n",
       "JFK JAMAICA CT1    1248511.0\n",
       "125 ST             1128933.0\n",
       "59 ST              1102284.0\n",
       "GROVE STREET       1058599.0\n",
       "47-50 STS ROCK      988638.0\n",
       "CHAMBERS ST         930258.0\n",
       "14 ST               921428.0\n",
       "NORWOOD 205 ST      918151.0\n",
       "FLUSHING-MAIN       910306.0\n",
       "96 ST               884050.0\n",
       "LACKAWANNA          833969.0\n",
       "BERGEN ST           827028.0\n",
       "72 ST               823790.0\n",
       "28 ST               808953.0\n",
       "CITY / BUS          757348.0\n",
       "W 4 ST-WASH SQ      736123.0\n",
       "LEXINGTON AV/53     702194.0\n",
       "50 ST               696828.0\n",
       "                     ...    \n",
       "E 143/ST MARY'S      19154.0\n",
       "55 ST                18668.0\n",
       "BRONX PARK EAST      17213.0\n",
       "215 ST               16257.0\n",
       "CYPRESS HILLS        16099.0\n",
       "JUNIUS ST            15496.0\n",
       "BEACH 44 ST          14455.0\n",
       "BEVERLY RD           14234.0\n",
       "BEACH 98 ST          13595.0\n",
       "NEPTUNE AV           12705.0\n",
       "BAY 50 ST            12478.0\n",
       "ATLANTIC AV          12438.0\n",
       "AVENUE I             11114.0\n",
       "NEWARK BM BW          9807.0\n",
       "BAYCHESTER AV         9116.0\n",
       "75 AV                 7684.0\n",
       "BEACH 105 ST          7434.0\n",
       "AVENUE P              6349.0\n",
       "NEWARK C              5194.0\n",
       "AQUEDUCT RACETR       3960.0\n",
       "238 ST                2074.0\n",
       "BROAD CHANNEL         1837.0\n",
       "RIT-ROOSEVELT         1499.0\n",
       "RIT-MANHATTAN         1204.0\n",
       "PENNSYLVANIA AV        537.0\n",
       "SARATOGA AV            230.0\n",
       "ORCHARD BEACH          126.0\n",
       "TOMPKINSVILLE            0.0\n",
       "ST. GEORGE               0.0\n",
       "PATH NEW WTC             0.0\n",
       "Name: DAILY_EXITS, Length: 374, dtype: float64"
      ]
     },
     "execution_count": 213,
     "metadata": {},
     "output_type": "execute_result"
    }
   ],
   "source": [
    "# Challenge 9\n",
    "df_exits.groupby(['STATION']).sum()['DAILY_EXITS'].sort_values(ascending = False)"
   ]
  },
  {
   "cell_type": "code",
   "execution_count": 214,
   "metadata": {},
   "outputs": [
    {
     "data": {
      "text/plain": [
       "pandas.core.series.Series"
      ]
     },
     "execution_count": 214,
     "metadata": {},
     "output_type": "execute_result"
    }
   ],
   "source": [
    "# Challenge 10\n",
    "total_ridership_counts = df_exits.groupby(['STATION']).sum()['DAILY_EXITS']\n",
    "type(total_ridership_counts)"
   ]
  },
  {
   "cell_type": "code",
   "execution_count": 215,
   "metadata": {},
   "outputs": [
    {
     "data": {
      "text/plain": [
       "(array([283.,  49.,  15.,  11.,   4.,   2.,   5.,   2.,   1.,   2.]),\n",
       " array([      0. ,  250755.5,  501511. ,  752266.5, 1003022. , 1253777.5,\n",
       "        1504533. , 1755288.5, 2006044. , 2256799.5, 2507555. ]),\n",
       " <a list of 10 Patch objects>)"
      ]
     },
     "execution_count": 215,
     "metadata": {},
     "output_type": "execute_result"
    },
    {
     "data": {
      "image/png": "[encoded data removed]",
      "text/plain": [
       "<Figure size 432x288 with 1 Axes>"
      ]
     },
     "metadata": {
      "needs_background": "light"
     },
     "output_type": "display_data"
    }
   ],
   "source": [
    "# Challenge 10\n",
    "plt.hist(total_ridership_counts)"
   ]
  },
  {
   "cell_type": "code",
   "execution_count": 216,
   "metadata": {},
   "outputs": [
    {
     "data": {
      "text/plain": [
       "<matplotlib.axes._subplots.AxesSubplot at 0x123422890>"
      ]
     },
     "execution_count": 216,
     "metadata": {},
     "output_type": "execute_result"
    },
    {
     "data": {
      "image/png": "[encoded data removed]",
      "text/plain": [
       "<Figure size 432x288 with 1 Axes>"
      ]
     },
     "metadata": {
      "needs_background": "light"
     },
     "output_type": "display_data"
    }
   ],
   "source": [
    "# Challenge 10\n",
    "sns.distplot(total_ridership_counts)"
   ]
  },
  {
   "cell_type": "code",
   "execution_count": 217,
   "metadata": {},
   "outputs": [],
   "source": [
    "import matplotlib.pyplot as plt\n",
    "import seaborn as sns\n",
    "sns.set()\n",
    "\n",
    "%matplotlib inline"
   ]
  },
  {
   "cell_type": "code",
   "execution_count": null,
   "metadata": {},
   "outputs": [],
   "source": []
  },
  {
   "cell_type": "code",
   "execution_count": 218,
   "metadata": {},
   "outputs": [
    {
     "data": {
      "text/plain": [
       "<matplotlib.axes._subplots.AxesSubplot at 0x1235f0150>"
      ]
     },
     "execution_count": 218,
     "metadata": {},
     "output_type": "execute_result"
    },
    {
     "data": {
      "image/png": "[encoded data removed]",
      "text/plain": [
       "<Figure size 432x288 with 1 Axes>"
      ]
     },
     "metadata": {
      "needs_background": "light"
     },
     "output_type": "display_data"
    }
   ],
   "source": [
    "sns.distplot(df_exits['DAILY_EXITS']\n",
    "             [df_exits['DAILY_EXITS'] < 50000])"
   ]
  },
  {
   "cell_type": "markdown",
   "metadata": {},
   "source": [
    "Alternatively, pandas is so good that it can even automatically parse datetimes as you load in data if you tell it to, as below."
   ]
  },
  {
   "cell_type": "markdown",
   "metadata": {},
   "source": [
    "### Now let's run some diagnostics on the data and see approaches to cleaning before tackling exercise 3"
   ]
  },
  {
   "cell_type": "markdown",
   "metadata": {},
   "source": [
    "We can isolate specific turnstiles by creating boolean series masks, then using them to index into the dataframe: "
   ]
  },
  {
   "cell_type": "markdown",
   "metadata": {},
   "source": [
    "* Looks to be a incorrect AUD entry.  May be we should just select the Regular One."
   ]
  },
  {
   "cell_type": "markdown",
   "metadata": {},
   "source": [
    "* Since we are only interested in Entries, we might be OK."
   ]
  },
  {
   "cell_type": "markdown",
   "metadata": {},
   "source": [
    "* No more duplicate Entries"
   ]
  },
  {
   "cell_type": "markdown",
   "metadata": {},
   "source": [
    "#### Exercise 1.3\n",
    "\n",
    "- These counts are for every n hours (What is n?). Also, there's something odd about these \"counts\", what is it? Do they actually represent total entries for a time period, or something else? We want total daily entries, create a new dataframe with one row per turnstile/day and a column that gives total daily entries."
   ]
  },
  {
   "cell_type": "markdown",
   "metadata": {},
   "source": [
    "### Next, let's look at some more weirdness in the data and think about handling it before we finalize our daily count column"
   ]
  },
  {
   "cell_type": "markdown",
   "metadata": {},
   "source": [
    "* Counter working in Reverse??? - WHHHAT"
   ]
  },
  {
   "cell_type": "code",
   "execution_count": 219,
   "metadata": {
    "scrolled": false
   },
   "outputs": [],
   "source": [
    "def get_daily_counts(row, max_counter):\n",
    "    counter = row[\"ENTRIES\"] - row[\"PREV_ENTRIES\"]\n",
    "    if counter < 0:\n",
    "        counter = -counter\n",
    "    if counter > max_counter:\n",
    "        print(row[\"ENTRIES\"], row[\"PREV_ENTRIES\"])\n",
    "        return 0\n",
    "    return counter\n",
    "\n",
    "# If counter is > 1Million, then the counter might have been reset.  \n",
    "# Just set it to zero as different counters have different cycle limits\n",
    "#_ = turnstiles_daily.apply(get_daily_counts, axis=1, max_counter=1000000)#"
   ]
  },
  {
   "cell_type": "code",
   "execution_count": 220,
   "metadata": {},
   "outputs": [],
   "source": [
    "def get_daily_counts(row, max_counter):\n",
    "    counter = row[\"ENTRIES\"] - row[\"PREV_ENTRIES\"]\n",
    "    if counter < 0:\n",
    "        # Maybe counter is reversed?\n",
    "        counter = -counter\n",
    "    if counter > max_counter:\n",
    "        # Maybe counter was reset to 0? \n",
    "        print(row[\"ENTRIES\"], row[\"PREV_ENTRIES\"])\n",
    "        counter = min(row[\"ENTRIES\"], row[\"PREV_ENTRIES\"])\n",
    "    if counter > max_counter:\n",
    "        # Check it again to make sure we're not still giving a counter that's too big\n",
    "        return 0\n",
    "    return counter\n",
    "\n",
    "# If counter is > 1Million, then the counter might have been reset.  \n",
    "# Just set it to zero as different counters have different cycle limits\n",
    "# It'd probably be a good idea to use a number even significantly smaller than 1 million as the limit!\n",
    "#turnstiles_daily[\"DAILY_ENTRIES\"] = turnstiles_daily.apply(get_daily_counts, axis=1, max_counter=1000000)"
   ]
  },
  {
   "cell_type": "code",
   "execution_count": 221,
   "metadata": {},
   "outputs": [],
   "source": [
    "# Verify that we got same results via the non-pandas version."
   ]
  },
  {
   "cell_type": "markdown",
   "metadata": {},
   "source": [
    "## Bonus: EDA Visualizations & Viz Review"
   ]
  },
  {
   "cell_type": "markdown",
   "metadata": {},
   "source": [
    "So we've gotten the data into a cleaner state, but are all the issues really resolved? It's a good idea to do some sanity checking at the turnstile level, but also at the **station level**. Here we'll see a couple of good/standard EDA approaches applied to this data, that leverage plots to better understand what we're working with.\n",
    "\n",
    "Do we get results we'd expect based on our domain knowledge of NYC, and can we detect anything else that's clearly an anomaly?\n",
    "\n",
    "First, let's look at the distribution of daily entries for turnstiles to check that it's sensible. What type of plot can we use? "
   ]
  },
  {
   "cell_type": "markdown",
   "metadata": {},
   "source": [
    "## Bonus Solutions"
   ]
  },
  {
   "cell_type": "code",
   "execution_count": 222,
   "metadata": {},
   "outputs": [],
   "source": [
    "import matplotlib.pyplot as plt\n",
    "import seaborn as sns\n",
    "sns.set()\n",
    "\n",
    "%matplotlib inline"
   ]
  },
  {
   "cell_type": "markdown",
   "metadata": {},
   "source": [
    "### Distribution of turnstile daily entries"
   ]
  },
  {
   "cell_type": "code",
   "execution_count": 223,
   "metadata": {},
   "outputs": [],
   "source": [
    "#sns.distplot(turnstiles_daily['DAILY_ENTRIES']\n",
    "             #[turnstiles_daily['DAILY_ENTRIES'] < 50000])"
   ]
  },
  {
   "cell_type": "markdown",
   "metadata": {},
   "source": [
    "This is a right-skewed distribution (the mean is to the right of the median). It's good that there are no values less than 0 now, but it seems there are still entry values that are likely too extreme to be sensible. "
   ]
  },
  {
   "cell_type": "markdown",
   "metadata": {},
   "source": [
    "### Distribution of daily entries by station, for top 10 stations by volume"
   ]
  },
  {
   "cell_type": "code",
   "execution_count": null,
   "metadata": {},
   "outputs": [],
   "source": []
  },
  {
   "cell_type": "code",
   "execution_count": null,
   "metadata": {},
   "outputs": [],
   "source": []
  },
  {
   "cell_type": "markdown",
   "metadata": {},
   "source": [
    "Two key things we should notice from these quick EDA steps:\n",
    "\n",
    "- Using our knowledge of NYC, it **doesn't seem right that these are the top 10 stations**. Some are reasonable like grand central and times square, but is 23rd street really that popular? A next step here would be to dig into turnstiles in \"23 ST\" (hint: check the line names for different instances of 23 ST, is it really one station?) \n",
    "\n",
    "\n",
    "- There's still a **clear outlier in daily traffic for Canal St**, we should be able to figure out what's causing this by digging into it. Maybe our cleaning process is not quite enough yet (1 million is too large a cutoff!)"
   ]
  },
  {
   "cell_type": "code",
   "execution_count": null,
   "metadata": {},
   "outputs": [],
   "source": []
  }
 ],
 "metadata": {
  "anaconda-cloud": {},
  "kernelspec": {
   "display_name": "Python 2",
   "language": "python",
   "name": "python2"
  },
  "language_info": {
   "codemirror_mode": {
    "name": "ipython",
    "version": 2
   },
   "file_extension": ".py",
   "mimetype": "text/x-python",
   "name": "python",
   "nbconvert_exporter": "python",
   "pygments_lexer": "ipython2",
   "version": "2.7.15"
  }
 },
 "nbformat": 4,
 "nbformat_minor": 1
}
