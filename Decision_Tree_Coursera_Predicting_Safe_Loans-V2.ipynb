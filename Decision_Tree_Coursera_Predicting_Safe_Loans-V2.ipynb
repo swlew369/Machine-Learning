{
 "cells": [
  {
   "cell_type": "code",
   "execution_count": 1,
   "metadata": {},
   "outputs": [],
   "source": [
    "import pandas as pd\n",
    "import numpy as np\n",
    "import seaborn as sns\n",
    "import matplotlib.pyplot as plt\n",
    "import time\n",
    "import re\n",
    "import nltk\n",
    "import math\n",
    "import pickle\n",
    "\n",
    "from sklearn import svm\n",
    "from sklearn.preprocessing import StandardScaler\n",
    "from sklearn.model_selection import train_test_split, GridSearchCV\n",
    "from sklearn.tree import DecisionTreeClassifier\n",
    "from sklearn.linear_model import LogisticRegression\n",
    "from sklearn.neighbors import KNeighborsClassifier\n",
    "from sklearn.ensemble import RandomForestClassifier\n",
    "from nltk.corpus import stopwords\n",
    "from sklearn.feature_extraction.text import TfidfVectorizer\n",
    "from sklearn.feature_extraction.text import CountVectorizer\n",
    "import sklearn.metrics\n",
    "from sklearn.metrics import confusion_matrix\n",
    "from Bio.SeqUtils.ProtParam import ProteinAnalysis\n",
    "#from imblearn.over_sampling import SMOTE\n",
    "from sklearn.model_selection import cross_val_score, cross_val_predict, cross_validate\n",
    "\n",
    "import sklearn.metrics\n",
    "from sklearn.metrics import confusion_matrix\n",
    "from sklearn.metrics import classification_report\n",
    "\n",
    "\n",
    "%matplotlib inline\n",
    "\n",
    "import itertools \n",
    "from collections import Counter\n"
   ]
  },
  {
   "cell_type": "code",
   "execution_count": 2,
   "metadata": {},
   "outputs": [
    {
     "name": "stdout",
     "output_type": "stream",
     "text": [
      "13\n"
     ]
    }
   ],
   "source": [
    "features = ['grade',                     # grade of the loan\n",
    "            'sub_grade',                 # sub-grade of the loan\n",
    "            'short_emp',                 # one year or less of employment\n",
    "            'emp_length_num',            # number of years of employment\n",
    "            'home_ownership',            # home_ownership status: own, mortgage or rent\n",
    "            'dti',                       # debt to income ratio\n",
    "            'purpose',                   # the purpose of the loan\n",
    "            'term',                      # the term of the loan\n",
    "            'last_delinq_none',          # has borrower had a delinquincy\n",
    "            'last_major_derog_none',     # has borrower had 90 day or worse rating\n",
    "            'revol_util',                # percent of available credit being used\n",
    "            'total_rec_late_fee', \n",
    "            'safe_loans'# total late fees received to day\n",
    "           ]\n",
    "\n",
    "target = 'safe_loans'                    # prediction target (y) (+1 means safe, -1 is risky)\n",
    "\n",
    "# Extract the feature columns and target column\n",
    "print(len(features))"
   ]
  },
  {
   "cell_type": "code",
   "execution_count": 3,
   "metadata": {},
   "outputs": [],
   "source": [
    "import json\n",
    "\n",
    "#with open('module-5-assignment-1-train-idx.json') as f:\n",
    "    #train_idx = json.load(f)\n",
    "\n",
    "#train_data = loans.iloc[train_idx]\n",
    "\n",
    "#print(train_data)\n"
   ]
  },
  {
   "cell_type": "code",
   "execution_count": 4,
   "metadata": {},
   "outputs": [
    {
     "name": "stderr",
     "output_type": "stream",
     "text": [
      "/Users/scottlew/anaconda2/envs/py3/lib/python3.6/site-packages/IPython/core/interactiveshell.py:3072: DtypeWarning: Columns (19,47) have mixed types. Specify dtype option on import or set low_memory=False.\n",
      "  interactivity=interactivity, compiler=compiler, result=result)\n"
     ]
    },
    {
     "data": {
      "text/html": [
       "<div>\n",
       "<style scoped>\n",
       "    .dataframe tbody tr th:only-of-type {\n",
       "        vertical-align: middle;\n",
       "    }\n",
       "\n",
       "    .dataframe tbody tr th {\n",
       "        vertical-align: top;\n",
       "    }\n",
       "\n",
       "    .dataframe thead th {\n",
       "        text-align: right;\n",
       "    }\n",
       "</style>\n",
       "<table border=\"1\" class=\"dataframe\">\n",
       "  <thead>\n",
       "    <tr style=\"text-align: right;\">\n",
       "      <th></th>\n",
       "      <th>id</th>\n",
       "      <th>member_id</th>\n",
       "      <th>loan_amnt</th>\n",
       "      <th>funded_amnt</th>\n",
       "      <th>funded_amnt_inv</th>\n",
       "      <th>term</th>\n",
       "      <th>int_rate</th>\n",
       "      <th>installment</th>\n",
       "      <th>grade</th>\n",
       "      <th>sub_grade</th>\n",
       "      <th>...</th>\n",
       "      <th>sub_grade_num</th>\n",
       "      <th>delinq_2yrs_zero</th>\n",
       "      <th>pub_rec_zero</th>\n",
       "      <th>collections_12_mths_zero</th>\n",
       "      <th>short_emp</th>\n",
       "      <th>payment_inc_ratio</th>\n",
       "      <th>final_d</th>\n",
       "      <th>last_delinq_none</th>\n",
       "      <th>last_record_none</th>\n",
       "      <th>last_major_derog_none</th>\n",
       "    </tr>\n",
       "  </thead>\n",
       "  <tbody>\n",
       "    <tr>\n",
       "      <th>0</th>\n",
       "      <td>1077501</td>\n",
       "      <td>1296599</td>\n",
       "      <td>5000</td>\n",
       "      <td>5000</td>\n",
       "      <td>4975</td>\n",
       "      <td>36 months</td>\n",
       "      <td>10.65</td>\n",
       "      <td>162.87</td>\n",
       "      <td>B</td>\n",
       "      <td>B2</td>\n",
       "      <td>...</td>\n",
       "      <td>0.4</td>\n",
       "      <td>1.0</td>\n",
       "      <td>1.0</td>\n",
       "      <td>1.0</td>\n",
       "      <td>0</td>\n",
       "      <td>8.14350</td>\n",
       "      <td>20141201T000000</td>\n",
       "      <td>1</td>\n",
       "      <td>1</td>\n",
       "      <td>1</td>\n",
       "    </tr>\n",
       "    <tr>\n",
       "      <th>1</th>\n",
       "      <td>1077430</td>\n",
       "      <td>1314167</td>\n",
       "      <td>2500</td>\n",
       "      <td>2500</td>\n",
       "      <td>2500</td>\n",
       "      <td>60 months</td>\n",
       "      <td>15.27</td>\n",
       "      <td>59.83</td>\n",
       "      <td>C</td>\n",
       "      <td>C4</td>\n",
       "      <td>...</td>\n",
       "      <td>0.8</td>\n",
       "      <td>1.0</td>\n",
       "      <td>1.0</td>\n",
       "      <td>1.0</td>\n",
       "      <td>1</td>\n",
       "      <td>2.39320</td>\n",
       "      <td>20161201T000000</td>\n",
       "      <td>1</td>\n",
       "      <td>1</td>\n",
       "      <td>1</td>\n",
       "    </tr>\n",
       "    <tr>\n",
       "      <th>2</th>\n",
       "      <td>1077175</td>\n",
       "      <td>1313524</td>\n",
       "      <td>2400</td>\n",
       "      <td>2400</td>\n",
       "      <td>2400</td>\n",
       "      <td>36 months</td>\n",
       "      <td>15.96</td>\n",
       "      <td>84.33</td>\n",
       "      <td>C</td>\n",
       "      <td>C5</td>\n",
       "      <td>...</td>\n",
       "      <td>1.0</td>\n",
       "      <td>1.0</td>\n",
       "      <td>1.0</td>\n",
       "      <td>1.0</td>\n",
       "      <td>0</td>\n",
       "      <td>8.25955</td>\n",
       "      <td>20141201T000000</td>\n",
       "      <td>1</td>\n",
       "      <td>1</td>\n",
       "      <td>1</td>\n",
       "    </tr>\n",
       "    <tr>\n",
       "      <th>3</th>\n",
       "      <td>1076863</td>\n",
       "      <td>1277178</td>\n",
       "      <td>10000</td>\n",
       "      <td>10000</td>\n",
       "      <td>10000</td>\n",
       "      <td>36 months</td>\n",
       "      <td>13.49</td>\n",
       "      <td>339.31</td>\n",
       "      <td>C</td>\n",
       "      <td>C1</td>\n",
       "      <td>...</td>\n",
       "      <td>0.2</td>\n",
       "      <td>1.0</td>\n",
       "      <td>1.0</td>\n",
       "      <td>1.0</td>\n",
       "      <td>0</td>\n",
       "      <td>8.27585</td>\n",
       "      <td>20141201T000000</td>\n",
       "      <td>0</td>\n",
       "      <td>1</td>\n",
       "      <td>1</td>\n",
       "    </tr>\n",
       "    <tr>\n",
       "      <th>4</th>\n",
       "      <td>1075269</td>\n",
       "      <td>1311441</td>\n",
       "      <td>5000</td>\n",
       "      <td>5000</td>\n",
       "      <td>5000</td>\n",
       "      <td>36 months</td>\n",
       "      <td>7.90</td>\n",
       "      <td>156.46</td>\n",
       "      <td>A</td>\n",
       "      <td>A4</td>\n",
       "      <td>...</td>\n",
       "      <td>0.8</td>\n",
       "      <td>1.0</td>\n",
       "      <td>1.0</td>\n",
       "      <td>1.0</td>\n",
       "      <td>0</td>\n",
       "      <td>5.21533</td>\n",
       "      <td>20141201T000000</td>\n",
       "      <td>1</td>\n",
       "      <td>1</td>\n",
       "      <td>1</td>\n",
       "    </tr>\n",
       "  </tbody>\n",
       "</table>\n",
       "<p>5 rows × 68 columns</p>\n",
       "</div>"
      ],
      "text/plain": [
       "        id  member_id  loan_amnt  funded_amnt  funded_amnt_inv        term  \\\n",
       "0  1077501    1296599       5000         5000             4975   36 months   \n",
       "1  1077430    1314167       2500         2500             2500   60 months   \n",
       "2  1077175    1313524       2400         2400             2400   36 months   \n",
       "3  1076863    1277178      10000        10000            10000   36 months   \n",
       "4  1075269    1311441       5000         5000             5000   36 months   \n",
       "\n",
       "   int_rate  installment grade sub_grade          ...          sub_grade_num  \\\n",
       "0     10.65       162.87     B        B2          ...                    0.4   \n",
       "1     15.27        59.83     C        C4          ...                    0.8   \n",
       "2     15.96        84.33     C        C5          ...                    1.0   \n",
       "3     13.49       339.31     C        C1          ...                    0.2   \n",
       "4      7.90       156.46     A        A4          ...                    0.8   \n",
       "\n",
       "  delinq_2yrs_zero pub_rec_zero  collections_12_mths_zero short_emp  \\\n",
       "0              1.0          1.0                       1.0         0   \n",
       "1              1.0          1.0                       1.0         1   \n",
       "2              1.0          1.0                       1.0         0   \n",
       "3              1.0          1.0                       1.0         0   \n",
       "4              1.0          1.0                       1.0         0   \n",
       "\n",
       "  payment_inc_ratio          final_d last_delinq_none last_record_none  \\\n",
       "0           8.14350  20141201T000000                1                1   \n",
       "1           2.39320  20161201T000000                1                1   \n",
       "2           8.25955  20141201T000000                1                1   \n",
       "3           8.27585  20141201T000000                0                1   \n",
       "4           5.21533  20141201T000000                1                1   \n",
       "\n",
       "  last_major_derog_none  \n",
       "0                     1  \n",
       "1                     1  \n",
       "2                     1  \n",
       "3                     1  \n",
       "4                     1  \n",
       "\n",
       "[5 rows x 68 columns]"
      ]
     },
     "execution_count": 4,
     "metadata": {},
     "output_type": "execute_result"
    }
   ],
   "source": [
    "df_lending = pd.read_csv('lending-club-data.csv')\n",
    "\n",
    "df_lending.head()"
   ]
  },
  {
   "cell_type": "code",
   "execution_count": 5,
   "metadata": {},
   "outputs": [
    {
     "data": {
      "text/html": [
       "<div>\n",
       "<style scoped>\n",
       "    .dataframe tbody tr th:only-of-type {\n",
       "        vertical-align: middle;\n",
       "    }\n",
       "\n",
       "    .dataframe tbody tr th {\n",
       "        vertical-align: top;\n",
       "    }\n",
       "\n",
       "    .dataframe thead th {\n",
       "        text-align: right;\n",
       "    }\n",
       "</style>\n",
       "<table border=\"1\" class=\"dataframe\">\n",
       "  <thead>\n",
       "    <tr style=\"text-align: right;\">\n",
       "      <th></th>\n",
       "      <th>id</th>\n",
       "      <th>member_id</th>\n",
       "      <th>loan_amnt</th>\n",
       "      <th>funded_amnt</th>\n",
       "      <th>funded_amnt_inv</th>\n",
       "      <th>int_rate</th>\n",
       "      <th>installment</th>\n",
       "      <th>annual_inc</th>\n",
       "      <th>dti</th>\n",
       "      <th>delinq_2yrs</th>\n",
       "      <th>...</th>\n",
       "      <th>grade_num</th>\n",
       "      <th>sub_grade_num</th>\n",
       "      <th>delinq_2yrs_zero</th>\n",
       "      <th>pub_rec_zero</th>\n",
       "      <th>collections_12_mths_zero</th>\n",
       "      <th>short_emp</th>\n",
       "      <th>payment_inc_ratio</th>\n",
       "      <th>last_delinq_none</th>\n",
       "      <th>last_record_none</th>\n",
       "      <th>last_major_derog_none</th>\n",
       "    </tr>\n",
       "  </thead>\n",
       "  <tbody>\n",
       "    <tr>\n",
       "      <th>count</th>\n",
       "      <td>1.226070e+05</td>\n",
       "      <td>1.226070e+05</td>\n",
       "      <td>122607.000000</td>\n",
       "      <td>122607.000000</td>\n",
       "      <td>122607.000000</td>\n",
       "      <td>122607.000000</td>\n",
       "      <td>122607.000000</td>\n",
       "      <td>1.226030e+05</td>\n",
       "      <td>122607.000000</td>\n",
       "      <td>122578.000000</td>\n",
       "      <td>...</td>\n",
       "      <td>122607.000000</td>\n",
       "      <td>122607.000000</td>\n",
       "      <td>122578.000000</td>\n",
       "      <td>122578.000000</td>\n",
       "      <td>122462.000000</td>\n",
       "      <td>122607.000000</td>\n",
       "      <td>122603.000000</td>\n",
       "      <td>122607.000000</td>\n",
       "      <td>122607.000000</td>\n",
       "      <td>122607.000000</td>\n",
       "    </tr>\n",
       "    <tr>\n",
       "      <th>mean</th>\n",
       "      <td>4.728452e+06</td>\n",
       "      <td>5.493222e+06</td>\n",
       "      <td>12809.733743</td>\n",
       "      <td>12736.123753</td>\n",
       "      <td>12497.828395</td>\n",
       "      <td>13.639487</td>\n",
       "      <td>396.623285</td>\n",
       "      <td>7.138502e+04</td>\n",
       "      <td>15.496888</td>\n",
       "      <td>0.211996</td>\n",
       "      <td>...</td>\n",
       "      <td>4.232882</td>\n",
       "      <td>0.597509</td>\n",
       "      <td>0.858107</td>\n",
       "      <td>0.908173</td>\n",
       "      <td>0.996734</td>\n",
       "      <td>0.123672</td>\n",
       "      <td>7.564725</td>\n",
       "      <td>0.588115</td>\n",
       "      <td>0.897795</td>\n",
       "      <td>0.873906</td>\n",
       "    </tr>\n",
       "    <tr>\n",
       "      <th>std</th>\n",
       "      <td>5.938517e+06</td>\n",
       "      <td>6.604693e+06</td>\n",
       "      <td>7932.313398</td>\n",
       "      <td>7887.167118</td>\n",
       "      <td>7946.731527</td>\n",
       "      <td>4.390836</td>\n",
       "      <td>239.475936</td>\n",
       "      <td>5.841483e+04</td>\n",
       "      <td>7.497442</td>\n",
       "      <td>0.662052</td>\n",
       "      <td>...</td>\n",
       "      <td>1.362138</td>\n",
       "      <td>0.278934</td>\n",
       "      <td>0.348942</td>\n",
       "      <td>0.288783</td>\n",
       "      <td>0.057059</td>\n",
       "      <td>0.329208</td>\n",
       "      <td>4.127291</td>\n",
       "      <td>0.492177</td>\n",
       "      <td>0.302918</td>\n",
       "      <td>0.331957</td>\n",
       "    </tr>\n",
       "    <tr>\n",
       "      <th>min</th>\n",
       "      <td>5.473400e+04</td>\n",
       "      <td>7.047300e+04</td>\n",
       "      <td>500.000000</td>\n",
       "      <td>500.000000</td>\n",
       "      <td>0.000000</td>\n",
       "      <td>5.420000</td>\n",
       "      <td>15.670000</td>\n",
       "      <td>1.896000e+03</td>\n",
       "      <td>0.000000</td>\n",
       "      <td>0.000000</td>\n",
       "      <td>...</td>\n",
       "      <td>0.000000</td>\n",
       "      <td>0.200000</td>\n",
       "      <td>0.000000</td>\n",
       "      <td>0.000000</td>\n",
       "      <td>0.000000</td>\n",
       "      <td>0.000000</td>\n",
       "      <td>0.028895</td>\n",
       "      <td>0.000000</td>\n",
       "      <td>0.000000</td>\n",
       "      <td>0.000000</td>\n",
       "    </tr>\n",
       "    <tr>\n",
       "      <th>25%</th>\n",
       "      <td>8.532925e+05</td>\n",
       "      <td>1.064872e+06</td>\n",
       "      <td>6700.000000</td>\n",
       "      <td>6625.000000</td>\n",
       "      <td>6271.000000</td>\n",
       "      <td>10.620000</td>\n",
       "      <td>215.985000</td>\n",
       "      <td>4.405250e+04</td>\n",
       "      <td>9.880000</td>\n",
       "      <td>0.000000</td>\n",
       "      <td>...</td>\n",
       "      <td>3.000000</td>\n",
       "      <td>0.400000</td>\n",
       "      <td>1.000000</td>\n",
       "      <td>1.000000</td>\n",
       "      <td>1.000000</td>\n",
       "      <td>0.000000</td>\n",
       "      <td>4.362575</td>\n",
       "      <td>0.000000</td>\n",
       "      <td>1.000000</td>\n",
       "      <td>1.000000</td>\n",
       "    </tr>\n",
       "    <tr>\n",
       "      <th>50%</th>\n",
       "      <td>1.621401e+06</td>\n",
       "      <td>1.879659e+06</td>\n",
       "      <td>11000.000000</td>\n",
       "      <td>10950.000000</td>\n",
       "      <td>10500.000000</td>\n",
       "      <td>13.480000</td>\n",
       "      <td>348.180000</td>\n",
       "      <td>6.000000e+04</td>\n",
       "      <td>15.260000</td>\n",
       "      <td>0.000000</td>\n",
       "      <td>...</td>\n",
       "      <td>4.000000</td>\n",
       "      <td>0.600000</td>\n",
       "      <td>1.000000</td>\n",
       "      <td>1.000000</td>\n",
       "      <td>1.000000</td>\n",
       "      <td>0.000000</td>\n",
       "      <td>6.965760</td>\n",
       "      <td>1.000000</td>\n",
       "      <td>1.000000</td>\n",
       "      <td>1.000000</td>\n",
       "    </tr>\n",
       "    <tr>\n",
       "      <th>75%</th>\n",
       "      <td>6.699942e+06</td>\n",
       "      <td>8.117948e+06</td>\n",
       "      <td>17600.000000</td>\n",
       "      <td>17425.000000</td>\n",
       "      <td>17000.000000</td>\n",
       "      <td>16.290000</td>\n",
       "      <td>521.930000</td>\n",
       "      <td>8.500000e+04</td>\n",
       "      <td>20.850000</td>\n",
       "      <td>0.000000</td>\n",
       "      <td>...</td>\n",
       "      <td>5.000000</td>\n",
       "      <td>0.800000</td>\n",
       "      <td>1.000000</td>\n",
       "      <td>1.000000</td>\n",
       "      <td>1.000000</td>\n",
       "      <td>0.000000</td>\n",
       "      <td>10.215850</td>\n",
       "      <td>1.000000</td>\n",
       "      <td>1.000000</td>\n",
       "      <td>1.000000</td>\n",
       "    </tr>\n",
       "    <tr>\n",
       "      <th>max</th>\n",
       "      <td>3.784128e+07</td>\n",
       "      <td>4.060424e+07</td>\n",
       "      <td>35000.000000</td>\n",
       "      <td>35000.000000</td>\n",
       "      <td>35000.000000</td>\n",
       "      <td>26.060000</td>\n",
       "      <td>1408.130000</td>\n",
       "      <td>7.141778e+06</td>\n",
       "      <td>39.880000</td>\n",
       "      <td>29.000000</td>\n",
       "      <td>...</td>\n",
       "      <td>6.000000</td>\n",
       "      <td>1.000000</td>\n",
       "      <td>1.000000</td>\n",
       "      <td>1.000000</td>\n",
       "      <td>1.000000</td>\n",
       "      <td>1.000000</td>\n",
       "      <td>54.171000</td>\n",
       "      <td>1.000000</td>\n",
       "      <td>1.000000</td>\n",
       "      <td>1.000000</td>\n",
       "    </tr>\n",
       "  </tbody>\n",
       "</table>\n",
       "<p>8 rows × 45 columns</p>\n",
       "</div>"
      ],
      "text/plain": [
       "                 id     member_id      loan_amnt    funded_amnt  \\\n",
       "count  1.226070e+05  1.226070e+05  122607.000000  122607.000000   \n",
       "mean   4.728452e+06  5.493222e+06   12809.733743   12736.123753   \n",
       "std    5.938517e+06  6.604693e+06    7932.313398    7887.167118   \n",
       "min    5.473400e+04  7.047300e+04     500.000000     500.000000   \n",
       "25%    8.532925e+05  1.064872e+06    6700.000000    6625.000000   \n",
       "50%    1.621401e+06  1.879659e+06   11000.000000   10950.000000   \n",
       "75%    6.699942e+06  8.117948e+06   17600.000000   17425.000000   \n",
       "max    3.784128e+07  4.060424e+07   35000.000000   35000.000000   \n",
       "\n",
       "       funded_amnt_inv       int_rate    installment    annual_inc  \\\n",
       "count    122607.000000  122607.000000  122607.000000  1.226030e+05   \n",
       "mean      12497.828395      13.639487     396.623285  7.138502e+04   \n",
       "std        7946.731527       4.390836     239.475936  5.841483e+04   \n",
       "min           0.000000       5.420000      15.670000  1.896000e+03   \n",
       "25%        6271.000000      10.620000     215.985000  4.405250e+04   \n",
       "50%       10500.000000      13.480000     348.180000  6.000000e+04   \n",
       "75%       17000.000000      16.290000     521.930000  8.500000e+04   \n",
       "max       35000.000000      26.060000    1408.130000  7.141778e+06   \n",
       "\n",
       "                 dti    delinq_2yrs          ...                grade_num  \\\n",
       "count  122607.000000  122578.000000          ...            122607.000000   \n",
       "mean       15.496888       0.211996          ...                 4.232882   \n",
       "std         7.497442       0.662052          ...                 1.362138   \n",
       "min         0.000000       0.000000          ...                 0.000000   \n",
       "25%         9.880000       0.000000          ...                 3.000000   \n",
       "50%        15.260000       0.000000          ...                 4.000000   \n",
       "75%        20.850000       0.000000          ...                 5.000000   \n",
       "max        39.880000      29.000000          ...                 6.000000   \n",
       "\n",
       "       sub_grade_num  delinq_2yrs_zero   pub_rec_zero  \\\n",
       "count  122607.000000     122578.000000  122578.000000   \n",
       "mean        0.597509          0.858107       0.908173   \n",
       "std         0.278934          0.348942       0.288783   \n",
       "min         0.200000          0.000000       0.000000   \n",
       "25%         0.400000          1.000000       1.000000   \n",
       "50%         0.600000          1.000000       1.000000   \n",
       "75%         0.800000          1.000000       1.000000   \n",
       "max         1.000000          1.000000       1.000000   \n",
       "\n",
       "       collections_12_mths_zero      short_emp  payment_inc_ratio  \\\n",
       "count             122462.000000  122607.000000      122603.000000   \n",
       "mean                   0.996734       0.123672           7.564725   \n",
       "std                    0.057059       0.329208           4.127291   \n",
       "min                    0.000000       0.000000           0.028895   \n",
       "25%                    1.000000       0.000000           4.362575   \n",
       "50%                    1.000000       0.000000           6.965760   \n",
       "75%                    1.000000       0.000000          10.215850   \n",
       "max                    1.000000       1.000000          54.171000   \n",
       "\n",
       "       last_delinq_none  last_record_none  last_major_derog_none  \n",
       "count     122607.000000     122607.000000          122607.000000  \n",
       "mean           0.588115          0.897795               0.873906  \n",
       "std            0.492177          0.302918               0.331957  \n",
       "min            0.000000          0.000000               0.000000  \n",
       "25%            0.000000          1.000000               1.000000  \n",
       "50%            1.000000          1.000000               1.000000  \n",
       "75%            1.000000          1.000000               1.000000  \n",
       "max            1.000000          1.000000               1.000000  \n",
       "\n",
       "[8 rows x 45 columns]"
      ]
     },
     "execution_count": 5,
     "metadata": {},
     "output_type": "execute_result"
    }
   ],
   "source": [
    "df_lending.describe()"
   ]
  },
  {
   "cell_type": "code",
   "execution_count": 6,
   "metadata": {},
   "outputs": [
    {
     "data": {
      "text/plain": [
       "id                               int64\n",
       "member_id                        int64\n",
       "loan_amnt                        int64\n",
       "funded_amnt                      int64\n",
       "funded_amnt_inv                  int64\n",
       "term                            object\n",
       "int_rate                       float64\n",
       "installment                    float64\n",
       "grade                           object\n",
       "sub_grade                       object\n",
       "emp_title                       object\n",
       "emp_length                      object\n",
       "home_ownership                  object\n",
       "annual_inc                     float64\n",
       "is_inc_v                        object\n",
       "issue_d                         object\n",
       "loan_status                     object\n",
       "pymnt_plan                      object\n",
       "url                             object\n",
       "desc                            object\n",
       "purpose                         object\n",
       "title                           object\n",
       "zip_code                        object\n",
       "addr_state                      object\n",
       "dti                            float64\n",
       "delinq_2yrs                    float64\n",
       "earliest_cr_line                object\n",
       "inq_last_6mths                 float64\n",
       "mths_since_last_delinq         float64\n",
       "mths_since_last_record         float64\n",
       "                                ...   \n",
       "total_pymnt                    float64\n",
       "total_pymnt_inv                float64\n",
       "total_rec_prncp                float64\n",
       "total_rec_int                  float64\n",
       "total_rec_late_fee             float64\n",
       "recoveries                     float64\n",
       "collection_recovery_fee        float64\n",
       "last_pymnt_d                    object\n",
       "last_pymnt_amnt                float64\n",
       "next_pymnt_d                    object\n",
       "last_credit_pull_d              object\n",
       "collections_12_mths_ex_med     float64\n",
       "mths_since_last_major_derog    float64\n",
       "policy_code                      int64\n",
       "not_compliant                    int64\n",
       "status                          object\n",
       "inactive_loans                   int64\n",
       "bad_loans                        int64\n",
       "emp_length_num                   int64\n",
       "grade_num                        int64\n",
       "sub_grade_num                  float64\n",
       "delinq_2yrs_zero               float64\n",
       "pub_rec_zero                   float64\n",
       "collections_12_mths_zero       float64\n",
       "short_emp                        int64\n",
       "payment_inc_ratio              float64\n",
       "final_d                         object\n",
       "last_delinq_none                 int64\n",
       "last_record_none                 int64\n",
       "last_major_derog_none            int64\n",
       "Length: 68, dtype: object"
      ]
     },
     "execution_count": 6,
     "metadata": {},
     "output_type": "execute_result"
    }
   ],
   "source": [
    "df_lending.dtypes"
   ]
  },
  {
   "cell_type": "code",
   "execution_count": 7,
   "metadata": {},
   "outputs": [
    {
     "data": {
      "text/plain": [
       "id                                  0\n",
       "member_id                           0\n",
       "loan_amnt                           0\n",
       "funded_amnt                         0\n",
       "funded_amnt_inv                     0\n",
       "term                                0\n",
       "int_rate                            0\n",
       "installment                         0\n",
       "grade                               0\n",
       "sub_grade                           0\n",
       "emp_title                        6840\n",
       "emp_length                       4091\n",
       "home_ownership                      0\n",
       "annual_inc                          4\n",
       "is_inc_v                            0\n",
       "issue_d                             0\n",
       "loan_status                         0\n",
       "pymnt_plan                          0\n",
       "url                                 0\n",
       "desc                            61902\n",
       "purpose                             0\n",
       "title                              11\n",
       "zip_code                            0\n",
       "addr_state                          0\n",
       "dti                                 0\n",
       "delinq_2yrs                        29\n",
       "earliest_cr_line                   29\n",
       "inq_last_6mths                     29\n",
       "mths_since_last_delinq          72107\n",
       "mths_since_last_record         110076\n",
       "                                ...  \n",
       "total_pymnt                         0\n",
       "total_pymnt_inv                     0\n",
       "total_rec_prncp                     0\n",
       "total_rec_int                       0\n",
       "total_rec_late_fee                  0\n",
       "recoveries                          0\n",
       "collection_recovery_fee             0\n",
       "last_pymnt_d                      336\n",
       "last_pymnt_amnt                     0\n",
       "next_pymnt_d                   119700\n",
       "last_credit_pull_d                  6\n",
       "collections_12_mths_ex_med        145\n",
       "mths_since_last_major_derog    107147\n",
       "policy_code                         0\n",
       "not_compliant                       0\n",
       "status                              0\n",
       "inactive_loans                      0\n",
       "bad_loans                           0\n",
       "emp_length_num                      0\n",
       "grade_num                           0\n",
       "sub_grade_num                       0\n",
       "delinq_2yrs_zero                   29\n",
       "pub_rec_zero                       29\n",
       "collections_12_mths_zero          145\n",
       "short_emp                           0\n",
       "payment_inc_ratio                   4\n",
       "final_d                             0\n",
       "last_delinq_none                    0\n",
       "last_record_none                    0\n",
       "last_major_derog_none               0\n",
       "Length: 68, dtype: int64"
      ]
     },
     "execution_count": 7,
     "metadata": {},
     "output_type": "execute_result"
    }
   ],
   "source": [
    "df_lending.isna().sum()"
   ]
  },
  {
   "cell_type": "code",
   "execution_count": 8,
   "metadata": {},
   "outputs": [
    {
     "data": {
      "text/plain": [
       "(122607, 68)"
      ]
     },
     "execution_count": 8,
     "metadata": {},
     "output_type": "execute_result"
    }
   ],
   "source": [
    "df_lending.shape"
   ]
  },
  {
   "cell_type": "code",
   "execution_count": 9,
   "metadata": {},
   "outputs": [
    {
     "data": {
      "text/plain": [
       "Index(['id', 'member_id', 'loan_amnt', 'funded_amnt', 'funded_amnt_inv',\n",
       "       'term', 'int_rate', 'installment', 'grade', 'sub_grade', 'emp_title',\n",
       "       'emp_length', 'home_ownership', 'annual_inc', 'is_inc_v', 'issue_d',\n",
       "       'loan_status', 'pymnt_plan', 'url', 'desc', 'purpose', 'title',\n",
       "       'zip_code', 'addr_state', 'dti', 'delinq_2yrs', 'earliest_cr_line',\n",
       "       'inq_last_6mths', 'mths_since_last_delinq', 'mths_since_last_record',\n",
       "       'open_acc', 'pub_rec', 'revol_bal', 'revol_util', 'total_acc',\n",
       "       'initial_list_status', 'out_prncp', 'out_prncp_inv', 'total_pymnt',\n",
       "       'total_pymnt_inv', 'total_rec_prncp', 'total_rec_int',\n",
       "       'total_rec_late_fee', 'recoveries', 'collection_recovery_fee',\n",
       "       'last_pymnt_d', 'last_pymnt_amnt', 'next_pymnt_d', 'last_credit_pull_d',\n",
       "       'collections_12_mths_ex_med', 'mths_since_last_major_derog',\n",
       "       'policy_code', 'not_compliant', 'status', 'inactive_loans', 'bad_loans',\n",
       "       'emp_length_num', 'grade_num', 'sub_grade_num', 'delinq_2yrs_zero',\n",
       "       'pub_rec_zero', 'collections_12_mths_zero', 'short_emp',\n",
       "       'payment_inc_ratio', 'final_d', 'last_delinq_none', 'last_record_none',\n",
       "       'last_major_derog_none'],\n",
       "      dtype='object')"
      ]
     },
     "execution_count": 9,
     "metadata": {},
     "output_type": "execute_result"
    }
   ],
   "source": [
    "df_lending.columns"
   ]
  },
  {
   "cell_type": "code",
   "execution_count": 10,
   "metadata": {},
   "outputs": [
    {
     "data": {
      "text/plain": [
       "Index(['id', 'member_id', 'loan_amnt', 'funded_amnt', 'funded_amnt_inv',\n",
       "       'term', 'int_rate', 'installment', 'grade', 'sub_grade', 'emp_title',\n",
       "       'emp_length', 'home_ownership', 'annual_inc', 'is_inc_v', 'issue_d',\n",
       "       'loan_status', 'pymnt_plan', 'url', 'desc', 'purpose', 'title',\n",
       "       'zip_code', 'addr_state', 'dti', 'delinq_2yrs', 'earliest_cr_line',\n",
       "       'inq_last_6mths', 'mths_since_last_delinq', 'mths_since_last_record',\n",
       "       'open_acc', 'pub_rec', 'revol_bal', 'revol_util', 'total_acc',\n",
       "       'initial_list_status', 'out_prncp', 'out_prncp_inv', 'total_pymnt',\n",
       "       'total_pymnt_inv', 'total_rec_prncp', 'total_rec_int',\n",
       "       'total_rec_late_fee', 'recoveries', 'collection_recovery_fee',\n",
       "       'last_pymnt_d', 'last_pymnt_amnt', 'next_pymnt_d', 'last_credit_pull_d',\n",
       "       'collections_12_mths_ex_med', 'mths_since_last_major_derog',\n",
       "       'policy_code', 'not_compliant', 'status', 'inactive_loans', 'bad_loans',\n",
       "       'emp_length_num', 'grade_num', 'sub_grade_num', 'delinq_2yrs_zero',\n",
       "       'pub_rec_zero', 'collections_12_mths_zero', 'short_emp',\n",
       "       'payment_inc_ratio', 'final_d', 'last_delinq_none', 'last_record_none',\n",
       "       'last_major_derog_none', 'safe_loans'],\n",
       "      dtype='object')"
      ]
     },
     "execution_count": 10,
     "metadata": {},
     "output_type": "execute_result"
    }
   ],
   "source": [
    "df_lending['safe_loans'] = df_lending['bad_loans'].apply(lambda x : +1 if x==0 else -1)\n",
    "\n",
    "df_lending.columns"
   ]
  },
  {
   "cell_type": "code",
   "execution_count": 11,
   "metadata": {},
   "outputs": [
    {
     "data": {
      "text/plain": [
       " 1    99457\n",
       "-1    23150\n",
       "Name: safe_loans, dtype: int64"
      ]
     },
     "execution_count": 11,
     "metadata": {},
     "output_type": "execute_result"
    }
   ],
   "source": [
    "df_lending['safe_loans'].value_counts()"
   ]
  },
  {
   "cell_type": "code",
   "execution_count": 12,
   "metadata": {},
   "outputs": [
    {
     "data": {
      "text/plain": [
       "(122607, 69)"
      ]
     },
     "execution_count": 12,
     "metadata": {},
     "output_type": "execute_result"
    }
   ],
   "source": [
    "df_lending.shape"
   ]
  },
  {
   "cell_type": "code",
   "execution_count": 13,
   "metadata": {},
   "outputs": [
    {
     "data": {
      "text/plain": [
       "(122607, 13)"
      ]
     },
     "execution_count": 13,
     "metadata": {},
     "output_type": "execute_result"
    }
   ],
   "source": [
    "df_data = df_lending[features]\n",
    "\n",
    "df_data.shape"
   ]
  },
  {
   "cell_type": "code",
   "execution_count": 14,
   "metadata": {},
   "outputs": [
    {
     "data": {
      "text/html": [
       "<div>\n",
       "<style scoped>\n",
       "    .dataframe tbody tr th:only-of-type {\n",
       "        vertical-align: middle;\n",
       "    }\n",
       "\n",
       "    .dataframe tbody tr th {\n",
       "        vertical-align: top;\n",
       "    }\n",
       "\n",
       "    .dataframe thead th {\n",
       "        text-align: right;\n",
       "    }\n",
       "</style>\n",
       "<table border=\"1\" class=\"dataframe\">\n",
       "  <thead>\n",
       "    <tr style=\"text-align: right;\">\n",
       "      <th></th>\n",
       "      <th>short_emp</th>\n",
       "      <th>emp_length_num</th>\n",
       "      <th>dti</th>\n",
       "      <th>last_delinq_none</th>\n",
       "      <th>last_major_derog_none</th>\n",
       "      <th>revol_util</th>\n",
       "      <th>total_rec_late_fee</th>\n",
       "      <th>safe_loans</th>\n",
       "      <th>grade_B</th>\n",
       "      <th>grade_C</th>\n",
       "      <th>...</th>\n",
       "      <th>purpose_home_improvement</th>\n",
       "      <th>purpose_house</th>\n",
       "      <th>purpose_major_purchase</th>\n",
       "      <th>purpose_medical</th>\n",
       "      <th>purpose_moving</th>\n",
       "      <th>purpose_other</th>\n",
       "      <th>purpose_small_business</th>\n",
       "      <th>purpose_vacation</th>\n",
       "      <th>purpose_wedding</th>\n",
       "      <th>term_ 60 months</th>\n",
       "    </tr>\n",
       "  </thead>\n",
       "  <tbody>\n",
       "    <tr>\n",
       "      <th>0</th>\n",
       "      <td>0</td>\n",
       "      <td>11</td>\n",
       "      <td>27.65</td>\n",
       "      <td>1</td>\n",
       "      <td>1</td>\n",
       "      <td>83.7</td>\n",
       "      <td>0.00</td>\n",
       "      <td>1</td>\n",
       "      <td>1</td>\n",
       "      <td>0</td>\n",
       "      <td>...</td>\n",
       "      <td>0</td>\n",
       "      <td>0</td>\n",
       "      <td>0</td>\n",
       "      <td>0</td>\n",
       "      <td>0</td>\n",
       "      <td>0</td>\n",
       "      <td>0</td>\n",
       "      <td>0</td>\n",
       "      <td>0</td>\n",
       "      <td>0</td>\n",
       "    </tr>\n",
       "    <tr>\n",
       "      <th>1</th>\n",
       "      <td>1</td>\n",
       "      <td>1</td>\n",
       "      <td>1.00</td>\n",
       "      <td>1</td>\n",
       "      <td>1</td>\n",
       "      <td>9.4</td>\n",
       "      <td>0.00</td>\n",
       "      <td>-1</td>\n",
       "      <td>0</td>\n",
       "      <td>1</td>\n",
       "      <td>...</td>\n",
       "      <td>0</td>\n",
       "      <td>0</td>\n",
       "      <td>0</td>\n",
       "      <td>0</td>\n",
       "      <td>0</td>\n",
       "      <td>0</td>\n",
       "      <td>0</td>\n",
       "      <td>0</td>\n",
       "      <td>0</td>\n",
       "      <td>1</td>\n",
       "    </tr>\n",
       "    <tr>\n",
       "      <th>2</th>\n",
       "      <td>0</td>\n",
       "      <td>11</td>\n",
       "      <td>8.72</td>\n",
       "      <td>1</td>\n",
       "      <td>1</td>\n",
       "      <td>98.5</td>\n",
       "      <td>0.00</td>\n",
       "      <td>1</td>\n",
       "      <td>0</td>\n",
       "      <td>1</td>\n",
       "      <td>...</td>\n",
       "      <td>0</td>\n",
       "      <td>0</td>\n",
       "      <td>0</td>\n",
       "      <td>0</td>\n",
       "      <td>0</td>\n",
       "      <td>0</td>\n",
       "      <td>1</td>\n",
       "      <td>0</td>\n",
       "      <td>0</td>\n",
       "      <td>0</td>\n",
       "    </tr>\n",
       "    <tr>\n",
       "      <th>3</th>\n",
       "      <td>0</td>\n",
       "      <td>11</td>\n",
       "      <td>20.00</td>\n",
       "      <td>0</td>\n",
       "      <td>1</td>\n",
       "      <td>21.0</td>\n",
       "      <td>16.97</td>\n",
       "      <td>1</td>\n",
       "      <td>0</td>\n",
       "      <td>1</td>\n",
       "      <td>...</td>\n",
       "      <td>0</td>\n",
       "      <td>0</td>\n",
       "      <td>0</td>\n",
       "      <td>0</td>\n",
       "      <td>0</td>\n",
       "      <td>1</td>\n",
       "      <td>0</td>\n",
       "      <td>0</td>\n",
       "      <td>0</td>\n",
       "      <td>0</td>\n",
       "    </tr>\n",
       "    <tr>\n",
       "      <th>4</th>\n",
       "      <td>0</td>\n",
       "      <td>4</td>\n",
       "      <td>11.20</td>\n",
       "      <td>1</td>\n",
       "      <td>1</td>\n",
       "      <td>28.3</td>\n",
       "      <td>0.00</td>\n",
       "      <td>1</td>\n",
       "      <td>0</td>\n",
       "      <td>0</td>\n",
       "      <td>...</td>\n",
       "      <td>0</td>\n",
       "      <td>0</td>\n",
       "      <td>0</td>\n",
       "      <td>0</td>\n",
       "      <td>0</td>\n",
       "      <td>0</td>\n",
       "      <td>0</td>\n",
       "      <td>0</td>\n",
       "      <td>1</td>\n",
       "      <td>0</td>\n",
       "    </tr>\n",
       "  </tbody>\n",
       "</table>\n",
       "<p>5 rows × 63 columns</p>\n",
       "</div>"
      ],
      "text/plain": [
       "   short_emp  emp_length_num    dti  last_delinq_none  last_major_derog_none  \\\n",
       "0          0              11  27.65                 1                      1   \n",
       "1          1               1   1.00                 1                      1   \n",
       "2          0              11   8.72                 1                      1   \n",
       "3          0              11  20.00                 0                      1   \n",
       "4          0               4  11.20                 1                      1   \n",
       "\n",
       "   revol_util  total_rec_late_fee  safe_loans  grade_B  grade_C  \\\n",
       "0        83.7                0.00           1        1        0   \n",
       "1         9.4                0.00          -1        0        1   \n",
       "2        98.5                0.00           1        0        1   \n",
       "3        21.0               16.97           1        0        1   \n",
       "4        28.3                0.00           1        0        0   \n",
       "\n",
       "        ...         purpose_home_improvement  purpose_house  \\\n",
       "0       ...                                0              0   \n",
       "1       ...                                0              0   \n",
       "2       ...                                0              0   \n",
       "3       ...                                0              0   \n",
       "4       ...                                0              0   \n",
       "\n",
       "   purpose_major_purchase  purpose_medical  purpose_moving  purpose_other  \\\n",
       "0                       0                0               0              0   \n",
       "1                       0                0               0              0   \n",
       "2                       0                0               0              0   \n",
       "3                       0                0               0              1   \n",
       "4                       0                0               0              0   \n",
       "\n",
       "   purpose_small_business  purpose_vacation  purpose_wedding  term_ 60 months  \n",
       "0                       0                 0                0                0  \n",
       "1                       0                 0                0                1  \n",
       "2                       1                 0                0                0  \n",
       "3                       0                 0                0                0  \n",
       "4                       0                 0                1                0  \n",
       "\n",
       "[5 rows x 63 columns]"
      ]
     },
     "execution_count": 14,
     "metadata": {},
     "output_type": "execute_result"
    }
   ],
   "source": [
    "# Using Pandas one-hot encoding method instead of scikitlearn\n",
    "# Get dummies\n",
    "df_data = pd.get_dummies(df_data, prefix_sep='_', drop_first=True)\n",
    "# X head\n",
    "df_data.head()"
   ]
  },
  {
   "cell_type": "code",
   "execution_count": 15,
   "metadata": {},
   "outputs": [
    {
     "data": {
      "text/plain": [
       "(122607, 63)"
      ]
     },
     "execution_count": 15,
     "metadata": {},
     "output_type": "execute_result"
    }
   ],
   "source": [
    "# X head\n",
    "df_data.shape"
   ]
  },
  {
   "cell_type": "code",
   "execution_count": 16,
   "metadata": {},
   "outputs": [
    {
     "data": {
      "text/plain": [
       "Index(['short_emp', 'emp_length_num', 'dti', 'last_delinq_none',\n",
       "       'last_major_derog_none', 'revol_util', 'total_rec_late_fee',\n",
       "       'safe_loans', 'grade_B', 'grade_C', 'grade_D', 'grade_E', 'grade_F',\n",
       "       'grade_G', 'sub_grade_A2', 'sub_grade_A3', 'sub_grade_A4',\n",
       "       'sub_grade_A5', 'sub_grade_B1', 'sub_grade_B2', 'sub_grade_B3',\n",
       "       'sub_grade_B4', 'sub_grade_B5', 'sub_grade_C1', 'sub_grade_C2',\n",
       "       'sub_grade_C3', 'sub_grade_C4', 'sub_grade_C5', 'sub_grade_D1',\n",
       "       'sub_grade_D2', 'sub_grade_D3', 'sub_grade_D4', 'sub_grade_D5',\n",
       "       'sub_grade_E1', 'sub_grade_E2', 'sub_grade_E3', 'sub_grade_E4',\n",
       "       'sub_grade_E5', 'sub_grade_F1', 'sub_grade_F2', 'sub_grade_F3',\n",
       "       'sub_grade_F4', 'sub_grade_F5', 'sub_grade_G1', 'sub_grade_G2',\n",
       "       'sub_grade_G3', 'sub_grade_G4', 'sub_grade_G5', 'home_ownership_OTHER',\n",
       "       'home_ownership_OWN', 'home_ownership_RENT', 'purpose_credit_card',\n",
       "       'purpose_debt_consolidation', 'purpose_home_improvement',\n",
       "       'purpose_house', 'purpose_major_purchase', 'purpose_medical',\n",
       "       'purpose_moving', 'purpose_other', 'purpose_small_business',\n",
       "       'purpose_vacation', 'purpose_wedding', 'term_ 60 months'],\n",
       "      dtype='object')"
      ]
     },
     "execution_count": 16,
     "metadata": {},
     "output_type": "execute_result"
    }
   ],
   "source": [
    "df_data.columns"
   ]
  },
  {
   "cell_type": "code",
   "execution_count": 17,
   "metadata": {},
   "outputs": [
    {
     "name": "stdout",
     "output_type": "stream",
     "text": [
      "(99457, 63)\n",
      "\n",
      "(23150, 63)\n"
     ]
    }
   ],
   "source": [
    "safe_data = df_data.loc[df_data['safe_loans'] == +1]\n",
    "risky_data = df_data.loc[df_data['safe_loans'] == -1]\n",
    "\n",
    "print(safe_data.shape)\n",
    "print()\n",
    "print(risky_data.shape)"
   ]
  },
  {
   "cell_type": "code",
   "execution_count": 18,
   "metadata": {},
   "outputs": [
    {
     "data": {
      "text/plain": [
       "(21881, 63)"
      ]
     },
     "execution_count": 18,
     "metadata": {},
     "output_type": "execute_result"
    }
   ],
   "source": [
    "safe_data = safe_data.sample(frac=0.22)\n",
    "\n",
    "safe_data.shape"
   ]
  },
  {
   "cell_type": "code",
   "execution_count": 19,
   "metadata": {},
   "outputs": [
    {
     "data": {
      "text/plain": [
       "(45031, 63)"
      ]
     },
     "execution_count": 19,
     "metadata": {},
     "output_type": "execute_result"
    }
   ],
   "source": [
    "df_balanced = pd.concat([safe_data,risky_data])\n",
    "\n",
    "df_balanced.shape"
   ]
  },
  {
   "cell_type": "code",
   "execution_count": 20,
   "metadata": {},
   "outputs": [
    {
     "name": "stdout",
     "output_type": "stream",
     "text": [
      "(36024, 63)\n",
      "(9007, 63)\n",
      "\n",
      "(36024,)\n",
      "(9007,)\n"
     ]
    }
   ],
   "source": [
    "X = df_balanced.drop(['safe_loans'], axis=1)\n",
    "\n",
    "y = df_balanced['safe_loans']\n",
    "\n",
    "# balanced data \n",
    "\n",
    "# split the data: training & test sets imbalanced data\n",
    "X_train, X_test, y_train, y_test = train_test_split(df_balanced,y, test_size=0.2)\n",
    "print(X_train.shape)\n",
    "print\n",
    "print(X_test.shape)\n",
    "print()\n",
    "print(y_train.shape)\n",
    "print\n",
    "print(y_test.shape)"
   ]
  },
  {
   "cell_type": "code",
   "execution_count": 21,
   "metadata": {},
   "outputs": [
    {
     "data": {
      "text/plain": [
       "-1    23150\n",
       " 1    21881\n",
       "Name: safe_loans, dtype: int64"
      ]
     },
     "execution_count": 21,
     "metadata": {},
     "output_type": "execute_result"
    }
   ],
   "source": [
    "y.value_counts()"
   ]
  },
  {
   "cell_type": "code",
   "execution_count": 22,
   "metadata": {},
   "outputs": [
    {
     "data": {
      "text/plain": [
       "Index(['short_emp', 'emp_length_num', 'dti', 'last_delinq_none',\n",
       "       'last_major_derog_none', 'revol_util', 'total_rec_late_fee', 'grade_B',\n",
       "       'grade_C', 'grade_D', 'grade_E', 'grade_F', 'grade_G', 'sub_grade_A2',\n",
       "       'sub_grade_A3', 'sub_grade_A4', 'sub_grade_A5', 'sub_grade_B1',\n",
       "       'sub_grade_B2', 'sub_grade_B3', 'sub_grade_B4', 'sub_grade_B5',\n",
       "       'sub_grade_C1', 'sub_grade_C2', 'sub_grade_C3', 'sub_grade_C4',\n",
       "       'sub_grade_C5', 'sub_grade_D1', 'sub_grade_D2', 'sub_grade_D3',\n",
       "       'sub_grade_D4', 'sub_grade_D5', 'sub_grade_E1', 'sub_grade_E2',\n",
       "       'sub_grade_E3', 'sub_grade_E4', 'sub_grade_E5', 'sub_grade_F1',\n",
       "       'sub_grade_F2', 'sub_grade_F3', 'sub_grade_F4', 'sub_grade_F5',\n",
       "       'sub_grade_G1', 'sub_grade_G2', 'sub_grade_G3', 'sub_grade_G4',\n",
       "       'sub_grade_G5', 'home_ownership_OTHER', 'home_ownership_OWN',\n",
       "       'home_ownership_RENT', 'purpose_credit_card',\n",
       "       'purpose_debt_consolidation', 'purpose_home_improvement',\n",
       "       'purpose_house', 'purpose_major_purchase', 'purpose_medical',\n",
       "       'purpose_moving', 'purpose_other', 'purpose_small_business',\n",
       "       'purpose_vacation', 'purpose_wedding', 'term_ 60 months'],\n",
       "      dtype='object')"
      ]
     },
     "execution_count": 22,
     "metadata": {},
     "output_type": "execute_result"
    }
   ],
   "source": [
    "X.columns"
   ]
  },
  {
   "cell_type": "code",
   "execution_count": 23,
   "metadata": {},
   "outputs": [
    {
     "data": {
      "text/plain": [
       "short_emp                       int64\n",
       "emp_length_num                  int64\n",
       "dti                           float64\n",
       "last_delinq_none                int64\n",
       "last_major_derog_none           int64\n",
       "revol_util                    float64\n",
       "total_rec_late_fee            float64\n",
       "grade_B                         uint8\n",
       "grade_C                         uint8\n",
       "grade_D                         uint8\n",
       "grade_E                         uint8\n",
       "grade_F                         uint8\n",
       "grade_G                         uint8\n",
       "sub_grade_A2                    uint8\n",
       "sub_grade_A3                    uint8\n",
       "sub_grade_A4                    uint8\n",
       "sub_grade_A5                    uint8\n",
       "sub_grade_B1                    uint8\n",
       "sub_grade_B2                    uint8\n",
       "sub_grade_B3                    uint8\n",
       "sub_grade_B4                    uint8\n",
       "sub_grade_B5                    uint8\n",
       "sub_grade_C1                    uint8\n",
       "sub_grade_C2                    uint8\n",
       "sub_grade_C3                    uint8\n",
       "sub_grade_C4                    uint8\n",
       "sub_grade_C5                    uint8\n",
       "sub_grade_D1                    uint8\n",
       "sub_grade_D2                    uint8\n",
       "sub_grade_D3                    uint8\n",
       "                               ...   \n",
       "sub_grade_E1                    uint8\n",
       "sub_grade_E2                    uint8\n",
       "sub_grade_E3                    uint8\n",
       "sub_grade_E4                    uint8\n",
       "sub_grade_E5                    uint8\n",
       "sub_grade_F1                    uint8\n",
       "sub_grade_F2                    uint8\n",
       "sub_grade_F3                    uint8\n",
       "sub_grade_F4                    uint8\n",
       "sub_grade_F5                    uint8\n",
       "sub_grade_G1                    uint8\n",
       "sub_grade_G2                    uint8\n",
       "sub_grade_G3                    uint8\n",
       "sub_grade_G4                    uint8\n",
       "sub_grade_G5                    uint8\n",
       "home_ownership_OTHER            uint8\n",
       "home_ownership_OWN              uint8\n",
       "home_ownership_RENT             uint8\n",
       "purpose_credit_card             uint8\n",
       "purpose_debt_consolidation      uint8\n",
       "purpose_home_improvement        uint8\n",
       "purpose_house                   uint8\n",
       "purpose_major_purchase          uint8\n",
       "purpose_medical                 uint8\n",
       "purpose_moving                  uint8\n",
       "purpose_other                   uint8\n",
       "purpose_small_business          uint8\n",
       "purpose_vacation                uint8\n",
       "purpose_wedding                 uint8\n",
       "term_ 60 months                 uint8\n",
       "Length: 62, dtype: object"
      ]
     },
     "execution_count": 23,
     "metadata": {},
     "output_type": "execute_result"
    }
   ],
   "source": [
    "X.dtypes"
   ]
  },
  {
   "cell_type": "code",
   "execution_count": 24,
   "metadata": {},
   "outputs": [
    {
     "name": "stdout",
     "output_type": "stream",
     "text": [
      "Accuracy score for test data\n",
      "1.0\n"
     ]
    }
   ],
   "source": [
    "dtc = DecisionTreeClassifier(random_state=0)\n",
    "\n",
    "dtc.fit(X_train,y_train)\n",
    "\n",
    "score = dtc.score(X_test,y_test)\n",
    "print('Accuracy score for test data')\n",
    "print(score)"
   ]
  },
  {
   "cell_type": "code",
   "execution_count": 25,
   "metadata": {},
   "outputs": [
    {
     "name": "stdout",
     "output_type": "stream",
     "text": [
      "\n",
      "[[4615    0]\n",
      " [   0 4392]]\n"
     ]
    }
   ],
   "source": [
    "# Generate Confusion Matrix for Logistic Regression\n",
    "actual = y_test\n",
    "predictions = dtc.predict(X_test)\n",
    "print()\n",
    "cm = confusion_matrix(actual,predictions)\n",
    "print(cm)"
   ]
  },
  {
   "cell_type": "code",
   "execution_count": 26,
   "metadata": {},
   "outputs": [
    {
     "data": {
      "image/png": "[encoded data removed]",
      "text/plain": [
       "<Figure size 432x432 with 1 Axes>"
      ]
     },
     "metadata": {
      "needs_background": "light"
     },
     "output_type": "display_data"
    }
   ],
   "source": [
    "# Confusion matrix for Decision Tree Classifier Model\n",
    "plt.figure(figsize=(6,6))\n",
    "sns.heatmap(cm, annot=True, fmt=\".0f\", linewidths=.5, square = True, cmap = 'Blues_r',cbar= None);\n",
    "plt.ylabel('Actual label',fontsize=16,fontweight='bold');\n",
    "plt.xlabel('Predicted label',fontsize=16,fontweight='bold');\n",
    "#plt.savefig('ConfusionMatrix_VotingClassifier_Locations_Model_1.png')"
   ]
  },
  {
   "cell_type": "code",
   "execution_count": 27,
   "metadata": {},
   "outputs": [
    {
     "name": "stdout",
     "output_type": "stream",
     "text": [
      "int64\n",
      "int64\n",
      "float64\n",
      "int64\n",
      "int64\n",
      "float64\n",
      "float64\n",
      "int64\n",
      "['short_emp', 'emp_length_num', 'dti', 'last_delinq_none', 'last_major_derog_none', 'revol_util', 'total_rec_late_fee', 'safe_loans']\n",
      "\n",
      "8\n"
     ]
    }
   ],
   "source": [
    "df_balanced.dtypes\n",
    "numerical_features = []\n",
    "for item in df_balanced.columns:\n",
    "    if df_balanced[item].dtype != 'uint8':\n",
    "        print(df_balanced[item].dtype)\n",
    "        numerical_features.append(item)\n",
    "    \n",
    "print(numerical_features)\n",
    "print()\n",
    "print(len(numerical_features))"
   ]
  },
  {
   "cell_type": "code",
   "execution_count": 28,
   "metadata": {},
   "outputs": [
    {
     "name": "stdout",
     "output_type": "stream",
     "text": [
      "(36024, 7)\n",
      "(9007, 7)\n",
      "\n",
      "(36024,)\n",
      "(9007,)\n"
     ]
    }
   ],
   "source": [
    "X = df_balanced[numerical_features]\n",
    "X= X.drop(['safe_loans'],axis=1)\n",
    "y = df_balanced['safe_loans']\n",
    "\n",
    "# balanced data \n",
    "\n",
    "# split the data: training & test sets imbalanced data\n",
    "X_train, X_test, y_train, y_test = train_test_split(X,y, test_size=0.2)\n",
    "print(X_train.shape)\n",
    "print\n",
    "print(X_test.shape)\n",
    "print()\n",
    "print(y_train.shape)\n",
    "print\n",
    "print(y_test.shape)"
   ]
  },
  {
   "cell_type": "code",
   "execution_count": 29,
   "metadata": {},
   "outputs": [
    {
     "data": {
      "text/plain": [
       "Index(['short_emp', 'emp_length_num', 'dti', 'last_delinq_none',\n",
       "       'last_major_derog_none', 'revol_util', 'total_rec_late_fee'],\n",
       "      dtype='object')"
      ]
     },
     "execution_count": 29,
     "metadata": {},
     "output_type": "execute_result"
    }
   ],
   "source": [
    "X.columns"
   ]
  },
  {
   "cell_type": "code",
   "execution_count": 30,
   "metadata": {},
   "outputs": [
    {
     "data": {
      "text/plain": [
       "short_emp                  int64\n",
       "emp_length_num             int64\n",
       "dti                      float64\n",
       "last_delinq_none           int64\n",
       "last_major_derog_none      int64\n",
       "revol_util               float64\n",
       "total_rec_late_fee       float64\n",
       "dtype: object"
      ]
     },
     "execution_count": 30,
     "metadata": {},
     "output_type": "execute_result"
    }
   ],
   "source": [
    "X.dtypes"
   ]
  },
  {
   "cell_type": "code",
   "execution_count": 31,
   "metadata": {},
   "outputs": [
    {
     "data": {
      "text/plain": [
       "-1    23150\n",
       " 1    21881\n",
       "Name: safe_loans, dtype: int64"
      ]
     },
     "execution_count": 31,
     "metadata": {},
     "output_type": "execute_result"
    }
   ],
   "source": [
    "y.value_counts()"
   ]
  },
  {
   "cell_type": "code",
   "execution_count": 32,
   "metadata": {},
   "outputs": [
    {
     "name": "stdout",
     "output_type": "stream",
     "text": [
      "0.5939824580881536\n"
     ]
    }
   ],
   "source": [
    "# Logistic Regressio on balanced data\n",
    "# Instantiate Logistic Regression Model\n",
    "lr = LogisticRegression(random_state = 3)\n",
    "# build the model using training data\n",
    "lr.fit(X_train, y_train)\n",
    "score = lr.score(X_test,y_test)\n",
    "print(score)\n"
   ]
  },
  {
   "cell_type": "code",
   "execution_count": 33,
   "metadata": {},
   "outputs": [
    {
     "name": "stdout",
     "output_type": "stream",
     "text": [
      "\n",
      "[[2975 1673]\n",
      " [1984 2375]]\n"
     ]
    }
   ],
   "source": [
    "# Generate Confusion Matrix for Logistic Regression\n",
    "actual = y_test\n",
    "predictions = lr.predict(X_test)\n",
    "print()\n",
    "cm_lr = confusion_matrix(actual,predictions)\n",
    "print(cm_lr)"
   ]
  },
  {
   "cell_type": "code",
   "execution_count": 34,
   "metadata": {},
   "outputs": [
    {
     "data": {
      "image/png": "[encoded data removed]",
      "text/plain": [
       "<Figure size 432x432 with 1 Axes>"
      ]
     },
     "metadata": {
      "needs_background": "light"
     },
     "output_type": "display_data"
    }
   ],
   "source": [
    "# Confusion matrix for Logistic Regression Classifier Model for Balanced Data\n",
    "plt.figure(figsize=(6,6))\n",
    "sns.heatmap(cm_lr, annot=True, fmt=\".0f\", linewidths=.5, square = True, cmap = 'Blues_r',cbar= None);\n",
    "plt.ylabel('Actual label',fontsize=16,fontweight='bold');\n",
    "plt.xlabel('Predicted label',fontsize=16,fontweight='bold');\n",
    "#plt.savefig('ConfusionMatrix_VotingClassifier_Locations_Model_1.png')"
   ]
  },
  {
   "cell_type": "code",
   "execution_count": 35,
   "metadata": {},
   "outputs": [
    {
     "name": "stdout",
     "output_type": "stream",
     "text": [
      "0.001 0.5930942600199844\n",
      "0.01 0.5942045076051959\n",
      "0.1 0.5939824580881536\n",
      "1 0.5939824580881536\n"
     ]
    },
    {
     "name": "stderr",
     "output_type": "stream",
     "text": [
      "/Users/scottlew/anaconda2/envs/py3/lib/python3.6/site-packages/sklearn/linear_model/_logistic.py:764: ConvergenceWarning: lbfgs failed to converge (status=1):\n",
      "STOP: TOTAL NO. of ITERATIONS REACHED LIMIT.\n",
      "\n",
      "Increase the number of iterations (max_iter) or scale the data as shown in:\n",
      "    https://scikit-learn.org/stable/modules/preprocessing.html\n",
      "Please also refer to the documentation for alternative solver options:\n",
      "    https://scikit-learn.org/stable/modules/linear_model.html#logistic-regression\n",
      "  extra_warning_msg=_LOGISTIC_SOLVER_CONVERGENCE_MSG)\n"
     ]
    },
    {
     "name": "stdout",
     "output_type": "stream",
     "text": [
      "10 0.5939824580881536\n",
      "100 0.5940934828466748\n"
     ]
    }
   ],
   "source": [
    "# optimize logistic regression model\n",
    "\n",
    "C_param_range = [0.001,0.01,0.1,1,10,100]\n",
    "\n",
    "for C_ in C_param_range:\n",
    "    \n",
    "    # Apply logistic regression model to training data\n",
    "    lr = LogisticRegression(C = C_,random_state = 0)\n",
    "    lr.fit(X_train,y_train)\n",
    "    score = lr.score(X_test,y_test)\n",
    "    print(C_, score)\n",
    "    print"
   ]
  },
  {
   "cell_type": "code",
   "execution_count": 36,
   "metadata": {},
   "outputs": [],
   "source": [
    "###################################################################################################"
   ]
  },
  {
   "cell_type": "code",
   "execution_count": null,
   "metadata": {},
   "outputs": [],
   "source": []
  }
 ],
 "metadata": {
  "kernelspec": {
   "display_name": "Python 3",
   "language": "python",
   "name": "python3"
  },
  "language_info": {
   "codemirror_mode": {
    "name": "ipython",
    "version": 3
   },
   "file_extension": ".py",
   "mimetype": "text/x-python",
   "name": "python",
   "nbconvert_exporter": "python",
   "pygments_lexer": "ipython3",
   "version": "3.6.10"
  }
 },
 "nbformat": 4,
 "nbformat_minor": 4
}
