{
 "cells": [
  {
   "cell_type": "code",
   "execution_count": 1,
   "metadata": {
    "collapsed": true
   },
   "outputs": [],
   "source": [
    "# DataCamp Lyric Analysis of Prince Songs tutorial by Debbie Liske in R\n",
    "# adapted for Python, Thanks Debbie!\n",
    "# https://www.datacamp.com/community/tutorials/R-nlp-machine-learning\n",
    "import re\n",
    "import nltk\n",
    "from nltk.corpus import stopwords\n",
    "import numpy as np\n",
    "import pandas as pd\n",
    "import seaborn as sns\n",
    "import matplotlib.pyplot as plt\n",
    "from sklearn import svm\n",
    "from sklearn.preprocessing import StandardScaler\n",
    "from sklearn.model_selection import train_test_split, GridSearchCV\n",
    "from sklearn.linear_model import LogisticRegression\n",
    "from sklearn.neighbors import KNeighborsClassifier\n",
    "from sklearn.ensemble import RandomForestClassifier\n",
    "from sklearn.model_selection import cross_val_score, cross_val_predict\n",
    "from sklearn.svm import SVC\n",
    "from sklearn.metrics import classification_report, confusion_matrix\n",
    "from sklearn import svm, datasets\n",
    "from sklearn.tree import DecisionTreeClassifier\n",
    "from sklearn.naive_bayes import GaussianNB\n",
    "from sklearn import metrics"
   ]
  },
  {
   "cell_type": "code",
   "execution_count": 2,
   "metadata": {},
   "outputs": [
    {
     "data": {
      "text/html": [
       "<div>\n",
       "<style>\n",
       "    .dataframe thead tr:only-child th {\n",
       "        text-align: right;\n",
       "    }\n",
       "\n",
       "    .dataframe thead th {\n",
       "        text-align: left;\n",
       "    }\n",
       "\n",
       "    .dataframe tbody tr th {\n",
       "        vertical-align: top;\n",
       "    }\n",
       "</style>\n",
       "<table border=\"1\" class=\"dataframe\">\n",
       "  <thead>\n",
       "    <tr style=\"text-align: right;\">\n",
       "      <th></th>\n",
       "      <th>X</th>\n",
       "      <th>text</th>\n",
       "      <th>artist</th>\n",
       "      <th>song</th>\n",
       "      <th>year</th>\n",
       "      <th>album</th>\n",
       "      <th>Release.Date</th>\n",
       "      <th>US.Pop</th>\n",
       "      <th>US.R.B</th>\n",
       "      <th>CA</th>\n",
       "      <th>UK</th>\n",
       "      <th>IR</th>\n",
       "      <th>NL</th>\n",
       "      <th>DE</th>\n",
       "      <th>AT</th>\n",
       "      <th>FR</th>\n",
       "      <th>JP</th>\n",
       "      <th>AU</th>\n",
       "      <th>NZ</th>\n",
       "      <th>peak</th>\n",
       "    </tr>\n",
       "  </thead>\n",
       "  <tbody>\n",
       "    <tr>\n",
       "      <th>0</th>\n",
       "      <td>49</td>\n",
       "      <td>All 7 and we'll watch them fall\\nThey stand in...</td>\n",
       "      <td>prince</td>\n",
       "      <td>7</td>\n",
       "      <td>1992.0</td>\n",
       "      <td>Symbol</td>\n",
       "      <td>17 Nov. 1992</td>\n",
       "      <td>7</td>\n",
       "      <td>61</td>\n",
       "      <td>3</td>\n",
       "      <td>27</td>\n",
       "      <td>-</td>\n",
       "      <td>28</td>\n",
       "      <td>77</td>\n",
       "      <td>-</td>\n",
       "      <td>53</td>\n",
       "      <td>-</td>\n",
       "      <td>25</td>\n",
       "      <td>12</td>\n",
       "      <td>3.0</td>\n",
       "    </tr>\n",
       "    <tr>\n",
       "      <th>1</th>\n",
       "      <td>669</td>\n",
       "      <td>319, 'bout time, come in, ow, 319\\nTake off yo...</td>\n",
       "      <td>prince</td>\n",
       "      <td>319</td>\n",
       "      <td>NaN</td>\n",
       "      <td>NaN</td>\n",
       "      <td>NaN</td>\n",
       "      <td>NaN</td>\n",
       "      <td>NaN</td>\n",
       "      <td>NaN</td>\n",
       "      <td>NaN</td>\n",
       "      <td>NaN</td>\n",
       "      <td>NaN</td>\n",
       "      <td>NaN</td>\n",
       "      <td>NaN</td>\n",
       "      <td>NaN</td>\n",
       "      <td>NaN</td>\n",
       "      <td>NaN</td>\n",
       "      <td>NaN</td>\n",
       "      <td>NaN</td>\n",
       "    </tr>\n",
       "    <tr>\n",
       "      <th>2</th>\n",
       "      <td>78</td>\n",
       "      <td>Don't worry, I won't hurt you\\nI only want you...</td>\n",
       "      <td>prince</td>\n",
       "      <td>1999</td>\n",
       "      <td>1982.0</td>\n",
       "      <td>1999</td>\n",
       "      <td>24 Sep. 1982</td>\n",
       "      <td>12</td>\n",
       "      <td>4</td>\n",
       "      <td>6</td>\n",
       "      <td>25</td>\n",
       "      <td>21</td>\n",
       "      <td>13</td>\n",
       "      <td>86</td>\n",
       "      <td>-</td>\n",
       "      <td>-</td>\n",
       "      <td>-</td>\n",
       "      <td>2</td>\n",
       "      <td>4</td>\n",
       "      <td>2.0</td>\n",
       "    </tr>\n",
       "    <tr>\n",
       "      <th>3</th>\n",
       "      <td>475</td>\n",
       "      <td>Prince\\nMiscellaneous\\n2020\\nThe year is 2020 ...</td>\n",
       "      <td>prince</td>\n",
       "      <td>2020</td>\n",
       "      <td>NaN</td>\n",
       "      <td>Other Songs</td>\n",
       "      <td>NaN</td>\n",
       "      <td>NaN</td>\n",
       "      <td>NaN</td>\n",
       "      <td>NaN</td>\n",
       "      <td>NaN</td>\n",
       "      <td>NaN</td>\n",
       "      <td>NaN</td>\n",
       "      <td>NaN</td>\n",
       "      <td>NaN</td>\n",
       "      <td>NaN</td>\n",
       "      <td>NaN</td>\n",
       "      <td>NaN</td>\n",
       "      <td>NaN</td>\n",
       "      <td>NaN</td>\n",
       "    </tr>\n",
       "    <tr>\n",
       "      <th>4</th>\n",
       "      <td>811</td>\n",
       "      <td>One mix, one mix, one mix, one mix\\nOne mix, o...</td>\n",
       "      <td>prince</td>\n",
       "      <td>3121</td>\n",
       "      <td>2006.0</td>\n",
       "      <td>3121</td>\n",
       "      <td>21 Mar. 2006</td>\n",
       "      <td>1</td>\n",
       "      <td>1</td>\n",
       "      <td>5</td>\n",
       "      <td>9</td>\n",
       "      <td>23</td>\n",
       "      <td>3</td>\n",
       "      <td>4</td>\n",
       "      <td>15</td>\n",
       "      <td>8</td>\n",
       "      <td>?</td>\n",
       "      <td>18</td>\n",
       "      <td>-</td>\n",
       "      <td>1.0</td>\n",
       "    </tr>\n",
       "    <tr>\n",
       "      <th>5</th>\n",
       "      <td>478</td>\n",
       "      <td>Prince\\nMiscellaneous\\n777-9311\\nBaby, what's ...</td>\n",
       "      <td>prince</td>\n",
       "      <td>7779311</td>\n",
       "      <td>NaN</td>\n",
       "      <td>NaN</td>\n",
       "      <td>NaN</td>\n",
       "      <td>NaN</td>\n",
       "      <td>NaN</td>\n",
       "      <td>NaN</td>\n",
       "      <td>NaN</td>\n",
       "      <td>NaN</td>\n",
       "      <td>NaN</td>\n",
       "      <td>NaN</td>\n",
       "      <td>NaN</td>\n",
       "      <td>NaN</td>\n",
       "      <td>NaN</td>\n",
       "      <td>NaN</td>\n",
       "      <td>NaN</td>\n",
       "      <td>NaN</td>\n",
       "    </tr>\n",
       "  </tbody>\n",
       "</table>\n",
       "</div>"
      ],
      "text/plain": [
       "     X                                               text  artist     song  \\\n",
       "0   49  All 7 and we'll watch them fall\\nThey stand in...  prince        7   \n",
       "1  669  319, 'bout time, come in, ow, 319\\nTake off yo...  prince      319   \n",
       "2   78  Don't worry, I won't hurt you\\nI only want you...  prince     1999   \n",
       "3  475  Prince\\nMiscellaneous\\n2020\\nThe year is 2020 ...  prince     2020   \n",
       "4  811  One mix, one mix, one mix, one mix\\nOne mix, o...  prince     3121   \n",
       "5  478  Prince\\nMiscellaneous\\n777-9311\\nBaby, what's ...  prince  7779311   \n",
       "\n",
       "     year        album  Release.Date US.Pop US.R.B   CA   UK   IR   NL   DE  \\\n",
       "0  1992.0       Symbol  17 Nov. 1992      7     61    3   27    -   28   77   \n",
       "1     NaN          NaN           NaN    NaN    NaN  NaN  NaN  NaN  NaN  NaN   \n",
       "2  1982.0         1999  24 Sep. 1982     12      4    6   25   21   13   86   \n",
       "3     NaN  Other Songs           NaN    NaN    NaN  NaN  NaN  NaN  NaN  NaN   \n",
       "4  2006.0         3121  21 Mar. 2006      1      1    5    9   23    3    4   \n",
       "5     NaN          NaN           NaN    NaN    NaN  NaN  NaN  NaN  NaN  NaN   \n",
       "\n",
       "    AT   FR   JP   AU   NZ  peak  \n",
       "0    -   53    -   25   12   3.0  \n",
       "1  NaN  NaN  NaN  NaN  NaN   NaN  \n",
       "2    -    -    -    2    4   2.0  \n",
       "3  NaN  NaN  NaN  NaN  NaN   NaN  \n",
       "4   15    8    ?   18    -   1.0  \n",
       "5  NaN  NaN  NaN  NaN  NaN   NaN  "
      ]
     },
     "execution_count": 2,
     "metadata": {},
     "output_type": "execute_result"
    }
   ],
   "source": [
    "prince_orig = pd.read_csv('prince_raw_data.csv',header = 0)\n",
    "prince_orig.head(6)\n",
    "#prince.tail(6)"
   ]
  },
  {
   "cell_type": "code",
   "execution_count": 3,
   "metadata": {},
   "outputs": [
    {
     "data": {
      "text/html": [
       "<div>\n",
       "<style>\n",
       "    .dataframe thead tr:only-child th {\n",
       "        text-align: right;\n",
       "    }\n",
       "\n",
       "    .dataframe thead th {\n",
       "        text-align: left;\n",
       "    }\n",
       "\n",
       "    .dataframe tbody tr th {\n",
       "        vertical-align: top;\n",
       "    }\n",
       "</style>\n",
       "<table border=\"1\" class=\"dataframe\">\n",
       "  <thead>\n",
       "    <tr style=\"text-align: right;\">\n",
       "      <th></th>\n",
       "      <th>X</th>\n",
       "      <th>lyric</th>\n",
       "      <th>artist</th>\n",
       "      <th>song</th>\n",
       "      <th>year</th>\n",
       "      <th>album</th>\n",
       "      <th>Release.Date</th>\n",
       "      <th>us_pop</th>\n",
       "      <th>us_rnb</th>\n",
       "      <th>CA</th>\n",
       "      <th>UK</th>\n",
       "      <th>IR</th>\n",
       "      <th>NL</th>\n",
       "      <th>DE</th>\n",
       "      <th>AT</th>\n",
       "      <th>FR</th>\n",
       "      <th>JP</th>\n",
       "      <th>AU</th>\n",
       "      <th>NZ</th>\n",
       "      <th>peak</th>\n",
       "    </tr>\n",
       "  </thead>\n",
       "  <tbody>\n",
       "    <tr>\n",
       "      <th>0</th>\n",
       "      <td>49</td>\n",
       "      <td>All 7 and we'll watch them fall\\nThey stand in...</td>\n",
       "      <td>prince</td>\n",
       "      <td>7</td>\n",
       "      <td>1992.0</td>\n",
       "      <td>Symbol</td>\n",
       "      <td>17 Nov. 1992</td>\n",
       "      <td>7</td>\n",
       "      <td>61</td>\n",
       "      <td>3</td>\n",
       "      <td>27</td>\n",
       "      <td>-</td>\n",
       "      <td>28</td>\n",
       "      <td>77</td>\n",
       "      <td>-</td>\n",
       "      <td>53</td>\n",
       "      <td>-</td>\n",
       "      <td>25</td>\n",
       "      <td>12</td>\n",
       "      <td>3.0</td>\n",
       "    </tr>\n",
       "    <tr>\n",
       "      <th>1</th>\n",
       "      <td>669</td>\n",
       "      <td>319, 'bout time, come in, ow, 319\\nTake off yo...</td>\n",
       "      <td>prince</td>\n",
       "      <td>319</td>\n",
       "      <td>NaN</td>\n",
       "      <td>NaN</td>\n",
       "      <td>NaN</td>\n",
       "      <td>NaN</td>\n",
       "      <td>NaN</td>\n",
       "      <td>NaN</td>\n",
       "      <td>NaN</td>\n",
       "      <td>NaN</td>\n",
       "      <td>NaN</td>\n",
       "      <td>NaN</td>\n",
       "      <td>NaN</td>\n",
       "      <td>NaN</td>\n",
       "      <td>NaN</td>\n",
       "      <td>NaN</td>\n",
       "      <td>NaN</td>\n",
       "      <td>NaN</td>\n",
       "    </tr>\n",
       "    <tr>\n",
       "      <th>2</th>\n",
       "      <td>78</td>\n",
       "      <td>Don't worry, I won't hurt you\\nI only want you...</td>\n",
       "      <td>prince</td>\n",
       "      <td>1999</td>\n",
       "      <td>1982.0</td>\n",
       "      <td>1999</td>\n",
       "      <td>24 Sep. 1982</td>\n",
       "      <td>12</td>\n",
       "      <td>4</td>\n",
       "      <td>6</td>\n",
       "      <td>25</td>\n",
       "      <td>21</td>\n",
       "      <td>13</td>\n",
       "      <td>86</td>\n",
       "      <td>-</td>\n",
       "      <td>-</td>\n",
       "      <td>-</td>\n",
       "      <td>2</td>\n",
       "      <td>4</td>\n",
       "      <td>2.0</td>\n",
       "    </tr>\n",
       "    <tr>\n",
       "      <th>3</th>\n",
       "      <td>475</td>\n",
       "      <td>Prince\\nMiscellaneous\\n2020\\nThe year is 2020 ...</td>\n",
       "      <td>prince</td>\n",
       "      <td>2020</td>\n",
       "      <td>NaN</td>\n",
       "      <td>Other Songs</td>\n",
       "      <td>NaN</td>\n",
       "      <td>NaN</td>\n",
       "      <td>NaN</td>\n",
       "      <td>NaN</td>\n",
       "      <td>NaN</td>\n",
       "      <td>NaN</td>\n",
       "      <td>NaN</td>\n",
       "      <td>NaN</td>\n",
       "      <td>NaN</td>\n",
       "      <td>NaN</td>\n",
       "      <td>NaN</td>\n",
       "      <td>NaN</td>\n",
       "      <td>NaN</td>\n",
       "      <td>NaN</td>\n",
       "    </tr>\n",
       "    <tr>\n",
       "      <th>4</th>\n",
       "      <td>811</td>\n",
       "      <td>One mix, one mix, one mix, one mix\\nOne mix, o...</td>\n",
       "      <td>prince</td>\n",
       "      <td>3121</td>\n",
       "      <td>2006.0</td>\n",
       "      <td>3121</td>\n",
       "      <td>21 Mar. 2006</td>\n",
       "      <td>1</td>\n",
       "      <td>1</td>\n",
       "      <td>5</td>\n",
       "      <td>9</td>\n",
       "      <td>23</td>\n",
       "      <td>3</td>\n",
       "      <td>4</td>\n",
       "      <td>15</td>\n",
       "      <td>8</td>\n",
       "      <td>?</td>\n",
       "      <td>18</td>\n",
       "      <td>-</td>\n",
       "      <td>1.0</td>\n",
       "    </tr>\n",
       "    <tr>\n",
       "      <th>5</th>\n",
       "      <td>478</td>\n",
       "      <td>Prince\\nMiscellaneous\\n777-9311\\nBaby, what's ...</td>\n",
       "      <td>prince</td>\n",
       "      <td>7779311</td>\n",
       "      <td>NaN</td>\n",
       "      <td>NaN</td>\n",
       "      <td>NaN</td>\n",
       "      <td>NaN</td>\n",
       "      <td>NaN</td>\n",
       "      <td>NaN</td>\n",
       "      <td>NaN</td>\n",
       "      <td>NaN</td>\n",
       "      <td>NaN</td>\n",
       "      <td>NaN</td>\n",
       "      <td>NaN</td>\n",
       "      <td>NaN</td>\n",
       "      <td>NaN</td>\n",
       "      <td>NaN</td>\n",
       "      <td>NaN</td>\n",
       "      <td>NaN</td>\n",
       "    </tr>\n",
       "  </tbody>\n",
       "</table>\n",
       "</div>"
      ],
      "text/plain": [
       "     X                                              lyric  artist     song  \\\n",
       "0   49  All 7 and we'll watch them fall\\nThey stand in...  prince        7   \n",
       "1  669  319, 'bout time, come in, ow, 319\\nTake off yo...  prince      319   \n",
       "2   78  Don't worry, I won't hurt you\\nI only want you...  prince     1999   \n",
       "3  475  Prince\\nMiscellaneous\\n2020\\nThe year is 2020 ...  prince     2020   \n",
       "4  811  One mix, one mix, one mix, one mix\\nOne mix, o...  prince     3121   \n",
       "5  478  Prince\\nMiscellaneous\\n777-9311\\nBaby, what's ...  prince  7779311   \n",
       "\n",
       "     year        album  Release.Date us_pop us_rnb   CA   UK   IR   NL   DE  \\\n",
       "0  1992.0       Symbol  17 Nov. 1992      7     61    3   27    -   28   77   \n",
       "1     NaN          NaN           NaN    NaN    NaN  NaN  NaN  NaN  NaN  NaN   \n",
       "2  1982.0         1999  24 Sep. 1982     12      4    6   25   21   13   86   \n",
       "3     NaN  Other Songs           NaN    NaN    NaN  NaN  NaN  NaN  NaN  NaN   \n",
       "4  2006.0         3121  21 Mar. 2006      1      1    5    9   23    3    4   \n",
       "5     NaN          NaN           NaN    NaN    NaN  NaN  NaN  NaN  NaN  NaN   \n",
       "\n",
       "    AT   FR   JP   AU   NZ  peak  \n",
       "0    -   53    -   25   12   3.0  \n",
       "1  NaN  NaN  NaN  NaN  NaN   NaN  \n",
       "2    -    -    -    2    4   2.0  \n",
       "3  NaN  NaN  NaN  NaN  NaN   NaN  \n",
       "4   15    8    ?   18    -   1.0  \n",
       "5  NaN  NaN  NaN  NaN  NaN   NaN  "
      ]
     },
     "execution_count": 3,
     "metadata": {},
     "output_type": "execute_result"
    }
   ],
   "source": [
    "# change the column name 'text' to 'lyric'\n",
    "prince_orig.rename(columns={'text':'lyric'}, inplace=True)\n",
    "prince_orig.rename(columns={'US.Pop':'us_pop'}, inplace=True)\n",
    "prince_orig.rename(columns={'US.R.B':'us_rnb'}, inplace=True)\n",
    "prince_orig.head(6)"
   ]
  },
  {
   "cell_type": "code",
   "execution_count": 4,
   "metadata": {},
   "outputs": [
    {
     "data": {
      "text/html": [
       "<div>\n",
       "<style>\n",
       "    .dataframe thead tr:only-child th {\n",
       "        text-align: right;\n",
       "    }\n",
       "\n",
       "    .dataframe thead th {\n",
       "        text-align: left;\n",
       "    }\n",
       "\n",
       "    .dataframe tbody tr th {\n",
       "        vertical-align: top;\n",
       "    }\n",
       "</style>\n",
       "<table border=\"1\" class=\"dataframe\">\n",
       "  <thead>\n",
       "    <tr style=\"text-align: right;\">\n",
       "      <th></th>\n",
       "      <th>lyric</th>\n",
       "      <th>song</th>\n",
       "      <th>year</th>\n",
       "      <th>album</th>\n",
       "      <th>peak</th>\n",
       "      <th>us_pop</th>\n",
       "      <th>us_rnb</th>\n",
       "    </tr>\n",
       "  </thead>\n",
       "  <tbody>\n",
       "    <tr>\n",
       "      <th>0</th>\n",
       "      <td>All 7 and we'll watch them fall\\nThey stand in...</td>\n",
       "      <td>7</td>\n",
       "      <td>1992.0</td>\n",
       "      <td>Symbol</td>\n",
       "      <td>3.0</td>\n",
       "      <td>7</td>\n",
       "      <td>61</td>\n",
       "    </tr>\n",
       "    <tr>\n",
       "      <th>1</th>\n",
       "      <td>319, 'bout time, come in, ow, 319\\nTake off yo...</td>\n",
       "      <td>319</td>\n",
       "      <td>NaN</td>\n",
       "      <td>NaN</td>\n",
       "      <td>NaN</td>\n",
       "      <td>NaN</td>\n",
       "      <td>NaN</td>\n",
       "    </tr>\n",
       "    <tr>\n",
       "      <th>2</th>\n",
       "      <td>Don't worry, I won't hurt you\\nI only want you...</td>\n",
       "      <td>1999</td>\n",
       "      <td>1982.0</td>\n",
       "      <td>1999</td>\n",
       "      <td>2.0</td>\n",
       "      <td>12</td>\n",
       "      <td>4</td>\n",
       "    </tr>\n",
       "    <tr>\n",
       "      <th>3</th>\n",
       "      <td>Prince\\nMiscellaneous\\n2020\\nThe year is 2020 ...</td>\n",
       "      <td>2020</td>\n",
       "      <td>NaN</td>\n",
       "      <td>Other Songs</td>\n",
       "      <td>NaN</td>\n",
       "      <td>NaN</td>\n",
       "      <td>NaN</td>\n",
       "    </tr>\n",
       "    <tr>\n",
       "      <th>4</th>\n",
       "      <td>One mix, one mix, one mix, one mix\\nOne mix, o...</td>\n",
       "      <td>3121</td>\n",
       "      <td>2006.0</td>\n",
       "      <td>3121</td>\n",
       "      <td>1.0</td>\n",
       "      <td>1</td>\n",
       "      <td>1</td>\n",
       "    </tr>\n",
       "    <tr>\n",
       "      <th>5</th>\n",
       "      <td>Prince\\nMiscellaneous\\n777-9311\\nBaby, what's ...</td>\n",
       "      <td>7779311</td>\n",
       "      <td>NaN</td>\n",
       "      <td>NaN</td>\n",
       "      <td>NaN</td>\n",
       "      <td>NaN</td>\n",
       "      <td>NaN</td>\n",
       "    </tr>\n",
       "  </tbody>\n",
       "</table>\n",
       "</div>"
      ],
      "text/plain": [
       "                                               lyric     song    year  \\\n",
       "0  All 7 and we'll watch them fall\\nThey stand in...        7  1992.0   \n",
       "1  319, 'bout time, come in, ow, 319\\nTake off yo...      319     NaN   \n",
       "2  Don't worry, I won't hurt you\\nI only want you...     1999  1982.0   \n",
       "3  Prince\\nMiscellaneous\\n2020\\nThe year is 2020 ...     2020     NaN   \n",
       "4  One mix, one mix, one mix, one mix\\nOne mix, o...     3121  2006.0   \n",
       "5  Prince\\nMiscellaneous\\n777-9311\\nBaby, what's ...  7779311     NaN   \n",
       "\n",
       "         album  peak us_pop us_rnb  \n",
       "0       Symbol   3.0      7     61  \n",
       "1          NaN   NaN    NaN    NaN  \n",
       "2         1999   2.0     12      4  \n",
       "3  Other Songs   NaN    NaN    NaN  \n",
       "4         3121   1.0      1      1  \n",
       "5          NaN   NaN    NaN    NaN  "
      ]
     },
     "execution_count": 4,
     "metadata": {},
     "output_type": "execute_result"
    }
   ],
   "source": [
    "# create a smaller dataframe using loc function to select 'lyric','song','year','album','peak','us_pop','us_rnb'\n",
    "prince = prince_orig.loc[:,['lyric','song','year','album','peak','us_pop','us_rnb',]]\n",
    "prince.head(6)"
   ]
  },
  {
   "cell_type": "code",
   "execution_count": 5,
   "metadata": {},
   "outputs": [
    {
     "data": {
      "text/plain": [
       "lyric      object\n",
       "song       object\n",
       "year      float64\n",
       "album      object\n",
       "peak      float64\n",
       "us_pop     object\n",
       "us_rnb     object\n",
       "dtype: object"
      ]
     },
     "execution_count": 5,
     "metadata": {},
     "output_type": "execute_result"
    }
   ],
   "source": [
    "prince.dtypes"
   ]
  },
  {
   "cell_type": "code",
   "execution_count": 6,
   "metadata": {
    "collapsed": true
   },
   "outputs": [],
   "source": [
    "# replace Nan's in 'year' column with a 0\n",
    "prince['year'] = prince['year'].fillna(0)"
   ]
  },
  {
   "cell_type": "code",
   "execution_count": 7,
   "metadata": {
    "collapsed": true
   },
   "outputs": [],
   "source": [
    "def decades(year):\n",
    "    decade = '1970s'\n",
    "    if year == 0:\n",
    "        decade = 'unknown'\n",
    "    elif (1969 <year < 1980):\n",
    "        pass\n",
    "    elif (1979 <year < 1990):\n",
    "        decade  ='1980s'\n",
    "    elif(1989 <year < 2000):\n",
    "        decade = '1990s'\n",
    "    elif(2000 <=year < 2010):\n",
    "        decade = '2000s'\n",
    "    else:\n",
    "        decade = '2010s'\n",
    "    return decade\n",
    "    "
   ]
  },
  {
   "cell_type": "code",
   "execution_count": 8,
   "metadata": {
    "collapsed": true
   },
   "outputs": [],
   "source": [
    "#prince['decades'] =  prince.apply(decades, prince['year'])\n",
    "prince['decades'] = prince['year'].apply(decades)"
   ]
  },
  {
   "cell_type": "code",
   "execution_count": 9,
   "metadata": {
    "collapsed": true
   },
   "outputs": [],
   "source": [
    "def chart_level(peak):\n",
    "    level = 'Uncharted'\n",
    "    if (0 <peak < 11):\n",
    "        level = 'Top 10'\n",
    "    elif(10 < peak < 101):\n",
    "        level = 'Top 100'\n",
    "    return level\n",
    "\n",
    "def charted(peak):\n",
    "    status = 'Uncharted'\n",
    "    if (0 <peak < 101):\n",
    "        status = 'Charted'\n",
    "    return status\n"
   ]
  },
  {
   "cell_type": "code",
   "execution_count": 10,
   "metadata": {
    "collapsed": true
   },
   "outputs": [],
   "source": [
    "prince['chart_level'] = prince['peak'].apply(chart_level)\n",
    "prince['charted'] = prince['peak'].apply(charted)"
   ]
  },
  {
   "cell_type": "code",
   "execution_count": 11,
   "metadata": {},
   "outputs": [
    {
     "data": {
      "text/html": [
       "<div>\n",
       "<style>\n",
       "    .dataframe thead tr:only-child th {\n",
       "        text-align: right;\n",
       "    }\n",
       "\n",
       "    .dataframe thead th {\n",
       "        text-align: left;\n",
       "    }\n",
       "\n",
       "    .dataframe tbody tr th {\n",
       "        vertical-align: top;\n",
       "    }\n",
       "</style>\n",
       "<table border=\"1\" class=\"dataframe\">\n",
       "  <thead>\n",
       "    <tr style=\"text-align: right;\">\n",
       "      <th></th>\n",
       "      <th>lyric</th>\n",
       "      <th>song</th>\n",
       "      <th>year</th>\n",
       "      <th>album</th>\n",
       "      <th>peak</th>\n",
       "      <th>us_pop</th>\n",
       "      <th>us_rnb</th>\n",
       "      <th>decades</th>\n",
       "      <th>chart_level</th>\n",
       "      <th>charted</th>\n",
       "    </tr>\n",
       "  </thead>\n",
       "  <tbody>\n",
       "    <tr>\n",
       "      <th>0</th>\n",
       "      <td>All 7 and we'll watch them fall\\nThey stand in...</td>\n",
       "      <td>7</td>\n",
       "      <td>1992.0</td>\n",
       "      <td>Symbol</td>\n",
       "      <td>3.0</td>\n",
       "      <td>7</td>\n",
       "      <td>61</td>\n",
       "      <td>1990s</td>\n",
       "      <td>Top 10</td>\n",
       "      <td>Charted</td>\n",
       "    </tr>\n",
       "    <tr>\n",
       "      <th>1</th>\n",
       "      <td>319, 'bout time, come in, ow, 319\\nTake off yo...</td>\n",
       "      <td>319</td>\n",
       "      <td>0.0</td>\n",
       "      <td>NaN</td>\n",
       "      <td>NaN</td>\n",
       "      <td>NaN</td>\n",
       "      <td>NaN</td>\n",
       "      <td>unknown</td>\n",
       "      <td>Uncharted</td>\n",
       "      <td>Uncharted</td>\n",
       "    </tr>\n",
       "    <tr>\n",
       "      <th>2</th>\n",
       "      <td>Don't worry, I won't hurt you\\nI only want you...</td>\n",
       "      <td>1999</td>\n",
       "      <td>1982.0</td>\n",
       "      <td>1999</td>\n",
       "      <td>2.0</td>\n",
       "      <td>12</td>\n",
       "      <td>4</td>\n",
       "      <td>1980s</td>\n",
       "      <td>Top 10</td>\n",
       "      <td>Charted</td>\n",
       "    </tr>\n",
       "    <tr>\n",
       "      <th>3</th>\n",
       "      <td>Prince\\nMiscellaneous\\n2020\\nThe year is 2020 ...</td>\n",
       "      <td>2020</td>\n",
       "      <td>0.0</td>\n",
       "      <td>Other Songs</td>\n",
       "      <td>NaN</td>\n",
       "      <td>NaN</td>\n",
       "      <td>NaN</td>\n",
       "      <td>unknown</td>\n",
       "      <td>Uncharted</td>\n",
       "      <td>Uncharted</td>\n",
       "    </tr>\n",
       "    <tr>\n",
       "      <th>4</th>\n",
       "      <td>One mix, one mix, one mix, one mix\\nOne mix, o...</td>\n",
       "      <td>3121</td>\n",
       "      <td>2006.0</td>\n",
       "      <td>3121</td>\n",
       "      <td>1.0</td>\n",
       "      <td>1</td>\n",
       "      <td>1</td>\n",
       "      <td>2000s</td>\n",
       "      <td>Top 10</td>\n",
       "      <td>Charted</td>\n",
       "    </tr>\n",
       "    <tr>\n",
       "      <th>5</th>\n",
       "      <td>Prince\\nMiscellaneous\\n777-9311\\nBaby, what's ...</td>\n",
       "      <td>7779311</td>\n",
       "      <td>0.0</td>\n",
       "      <td>NaN</td>\n",
       "      <td>NaN</td>\n",
       "      <td>NaN</td>\n",
       "      <td>NaN</td>\n",
       "      <td>unknown</td>\n",
       "      <td>Uncharted</td>\n",
       "      <td>Uncharted</td>\n",
       "    </tr>\n",
       "    <tr>\n",
       "      <th>6</th>\n",
       "      <td>u, you're so fine\\nSeems to happen to me eac...</td>\n",
       "      <td>u</td>\n",
       "      <td>0.0</td>\n",
       "      <td>NaN</td>\n",
       "      <td>NaN</td>\n",
       "      <td>NaN</td>\n",
       "      <td>NaN</td>\n",
       "      <td>unknown</td>\n",
       "      <td>Uncharted</td>\n",
       "      <td>Uncharted</td>\n",
       "    </tr>\n",
       "    <tr>\n",
       "      <th>7</th>\n",
       "      <td>ed if I do\\nTell me what's up with the teenag...</td>\n",
       "      <td>ed if i do</td>\n",
       "      <td>0.0</td>\n",
       "      <td>NaN</td>\n",
       "      <td>NaN</td>\n",
       "      <td>NaN</td>\n",
       "      <td>NaN</td>\n",
       "      <td>unknown</td>\n",
       "      <td>Uncharted</td>\n",
       "      <td>Uncharted</td>\n",
       "    </tr>\n",
       "    <tr>\n",
       "      <th>8</th>\n",
       "      <td>Nuestra presentacion especial comenzara en bre...</td>\n",
       "      <td>control</td>\n",
       "      <td>0.0</td>\n",
       "      <td>NaN</td>\n",
       "      <td>NaN</td>\n",
       "      <td>NaN</td>\n",
       "      <td>NaN</td>\n",
       "      <td>unknown</td>\n",
       "      <td>Uncharted</td>\n",
       "      <td>Uncharted</td>\n",
       "    </tr>\n",
       "    <tr>\n",
       "      <th>9</th>\n",
       "      <td>Ohh, ah, yeah\\nU work so hard, U really do\\nI ...</td>\n",
       "      <td>1000 xs  os</td>\n",
       "      <td>0.0</td>\n",
       "      <td>NaN</td>\n",
       "      <td>NaN</td>\n",
       "      <td>NaN</td>\n",
       "      <td>NaN</td>\n",
       "      <td>unknown</td>\n",
       "      <td>Uncharted</td>\n",
       "      <td>Uncharted</td>\n",
       "    </tr>\n",
       "  </tbody>\n",
       "</table>\n",
       "</div>"
      ],
      "text/plain": [
       "                                               lyric         song    year  \\\n",
       "0  All 7 and we'll watch them fall\\nThey stand in...            7  1992.0   \n",
       "1  319, 'bout time, come in, ow, 319\\nTake off yo...          319     0.0   \n",
       "2  Don't worry, I won't hurt you\\nI only want you...         1999  1982.0   \n",
       "3  Prince\\nMiscellaneous\\n2020\\nThe year is 2020 ...         2020     0.0   \n",
       "4  One mix, one mix, one mix, one mix\\nOne mix, o...         3121  2006.0   \n",
       "5  Prince\\nMiscellaneous\\n777-9311\\nBaby, what's ...      7779311     0.0   \n",
       "6    u, you're so fine\\nSeems to happen to me eac...            u     0.0   \n",
       "7   ed if I do\\nTell me what's up with the teenag...   ed if i do     0.0   \n",
       "8  Nuestra presentacion especial comenzara en bre...      control     0.0   \n",
       "9  Ohh, ah, yeah\\nU work so hard, U really do\\nI ...  1000 xs  os     0.0   \n",
       "\n",
       "         album  peak us_pop us_rnb  decades chart_level    charted  \n",
       "0       Symbol   3.0      7     61    1990s      Top 10    Charted  \n",
       "1          NaN   NaN    NaN    NaN  unknown   Uncharted  Uncharted  \n",
       "2         1999   2.0     12      4    1980s      Top 10    Charted  \n",
       "3  Other Songs   NaN    NaN    NaN  unknown   Uncharted  Uncharted  \n",
       "4         3121   1.0      1      1    2000s      Top 10    Charted  \n",
       "5          NaN   NaN    NaN    NaN  unknown   Uncharted  Uncharted  \n",
       "6          NaN   NaN    NaN    NaN  unknown   Uncharted  Uncharted  \n",
       "7          NaN   NaN    NaN    NaN  unknown   Uncharted  Uncharted  \n",
       "8          NaN   NaN    NaN    NaN  unknown   Uncharted  Uncharted  \n",
       "9          NaN   NaN    NaN    NaN  unknown   Uncharted  Uncharted  "
      ]
     },
     "execution_count": 11,
     "metadata": {},
     "output_type": "execute_result"
    }
   ],
   "source": [
    "#prince.tail(16)\n",
    "prince.head(10)"
   ]
  },
  {
   "cell_type": "code",
   "execution_count": 12,
   "metadata": {
    "collapsed": true
   },
   "outputs": [],
   "source": [
    "def lower_case(phrase):\n",
    "    return phrase.lower()\n",
    "\n",
    "prince['lyric'] = prince['lyric'].apply(lower_case)"
   ]
  },
  {
   "cell_type": "code",
   "execution_count": 13,
   "metadata": {},
   "outputs": [
    {
     "name": "stdout",
     "output_type": "stream",
     "text": [
      "I can not do that! In fact, I will not do that! Just will not do it!\n"
     ]
    }
   ],
   "source": [
    "# Borrowed this function from Yann Dubois on stackoverflow \n",
    "\n",
    "def decontracted(phrase):\n",
    "    # specific\n",
    "    phrase = re.sub(r\"won't\", \"will not\", phrase)\n",
    "    phrase = re.sub(r\"can\\'t\", \"can not\", phrase)\n",
    "\n",
    "    # general\n",
    "    phrase = re.sub(r\"n\\'t\", \" not\", phrase)\n",
    "    phrase = re.sub(r\"\\'re\", \" are\", phrase)\n",
    "    phrase = re.sub(r\"\\'s\", \" is\", phrase)\n",
    "    phrase = re.sub(r\"\\'d\", \" would\", phrase)\n",
    "    phrase = re.sub(r\"\\'ll\", \" will\", phrase)\n",
    "    phrase = re.sub(r\"\\'t\", \" not\", phrase)\n",
    "    phrase = re.sub(r\"\\'ve\", \" have\", phrase)\n",
    "    phrase = re.sub(r\"\\'m\", \" am\", phrase)\n",
    "    phrase = re.sub(r\"\\n\", \" \", phrase)\n",
    "    return phrase\n",
    "\n",
    "\n",
    "my_str = \"I can't do that! In fact, I won't do that! Just won't do it!\"\n",
    "#print(my_str)\n",
    "str2 = decontracted(my_str)\n",
    "#print\n",
    "print(str2)"
   ]
  },
  {
   "cell_type": "code",
   "execution_count": 14,
   "metadata": {},
   "outputs": [
    {
     "data": {
      "text/html": [
       "<div>\n",
       "<style>\n",
       "    .dataframe thead tr:only-child th {\n",
       "        text-align: right;\n",
       "    }\n",
       "\n",
       "    .dataframe thead th {\n",
       "        text-align: left;\n",
       "    }\n",
       "\n",
       "    .dataframe tbody tr th {\n",
       "        vertical-align: top;\n",
       "    }\n",
       "</style>\n",
       "<table border=\"1\" class=\"dataframe\">\n",
       "  <thead>\n",
       "    <tr style=\"text-align: right;\">\n",
       "      <th></th>\n",
       "      <th>lyric</th>\n",
       "      <th>song</th>\n",
       "      <th>year</th>\n",
       "      <th>album</th>\n",
       "      <th>peak</th>\n",
       "      <th>us_pop</th>\n",
       "      <th>us_rnb</th>\n",
       "      <th>decades</th>\n",
       "      <th>chart_level</th>\n",
       "      <th>charted</th>\n",
       "    </tr>\n",
       "  </thead>\n",
       "  <tbody>\n",
       "    <tr>\n",
       "      <th>0</th>\n",
       "      <td>all 7 and we will watch them fall they stand i...</td>\n",
       "      <td>7</td>\n",
       "      <td>1992.0</td>\n",
       "      <td>Symbol</td>\n",
       "      <td>3.0</td>\n",
       "      <td>7</td>\n",
       "      <td>61</td>\n",
       "      <td>1990s</td>\n",
       "      <td>Top 10</td>\n",
       "      <td>Charted</td>\n",
       "    </tr>\n",
       "    <tr>\n",
       "      <th>1</th>\n",
       "      <td>319, 'bout time, come in, ow, 319 take off you...</td>\n",
       "      <td>319</td>\n",
       "      <td>0.0</td>\n",
       "      <td>NaN</td>\n",
       "      <td>NaN</td>\n",
       "      <td>NaN</td>\n",
       "      <td>NaN</td>\n",
       "      <td>unknown</td>\n",
       "      <td>Uncharted</td>\n",
       "      <td>Uncharted</td>\n",
       "    </tr>\n",
       "    <tr>\n",
       "      <th>2</th>\n",
       "      <td>do not worry, i will not hurt you i only want ...</td>\n",
       "      <td>1999</td>\n",
       "      <td>1982.0</td>\n",
       "      <td>1999</td>\n",
       "      <td>2.0</td>\n",
       "      <td>12</td>\n",
       "      <td>4</td>\n",
       "      <td>1980s</td>\n",
       "      <td>Top 10</td>\n",
       "      <td>Charted</td>\n",
       "    </tr>\n",
       "    <tr>\n",
       "      <th>3</th>\n",
       "      <td>prince miscellaneous 2020 the year is 2020  an...</td>\n",
       "      <td>2020</td>\n",
       "      <td>0.0</td>\n",
       "      <td>Other Songs</td>\n",
       "      <td>NaN</td>\n",
       "      <td>NaN</td>\n",
       "      <td>NaN</td>\n",
       "      <td>unknown</td>\n",
       "      <td>Uncharted</td>\n",
       "      <td>Uncharted</td>\n",
       "    </tr>\n",
       "    <tr>\n",
       "      <th>4</th>\n",
       "      <td>one mix, one mix, one mix, one mix one mix, on...</td>\n",
       "      <td>3121</td>\n",
       "      <td>2006.0</td>\n",
       "      <td>3121</td>\n",
       "      <td>1.0</td>\n",
       "      <td>1</td>\n",
       "      <td>1</td>\n",
       "      <td>2000s</td>\n",
       "      <td>Top 10</td>\n",
       "      <td>Charted</td>\n",
       "    </tr>\n",
       "    <tr>\n",
       "      <th>5</th>\n",
       "      <td>prince miscellaneous 777-9311 baby, what is yo...</td>\n",
       "      <td>7779311</td>\n",
       "      <td>0.0</td>\n",
       "      <td>NaN</td>\n",
       "      <td>NaN</td>\n",
       "      <td>NaN</td>\n",
       "      <td>NaN</td>\n",
       "      <td>unknown</td>\n",
       "      <td>Uncharted</td>\n",
       "      <td>Uncharted</td>\n",
       "    </tr>\n",
       "    <tr>\n",
       "      <th>6</th>\n",
       "      <td>u, you are so fine seems to happen to me eac...</td>\n",
       "      <td>u</td>\n",
       "      <td>0.0</td>\n",
       "      <td>NaN</td>\n",
       "      <td>NaN</td>\n",
       "      <td>NaN</td>\n",
       "      <td>NaN</td>\n",
       "      <td>unknown</td>\n",
       "      <td>Uncharted</td>\n",
       "      <td>Uncharted</td>\n",
       "    </tr>\n",
       "    <tr>\n",
       "      <th>7</th>\n",
       "      <td>ed if i do tell me what is up with the teenag...</td>\n",
       "      <td>ed if i do</td>\n",
       "      <td>0.0</td>\n",
       "      <td>NaN</td>\n",
       "      <td>NaN</td>\n",
       "      <td>NaN</td>\n",
       "      <td>NaN</td>\n",
       "      <td>unknown</td>\n",
       "      <td>Uncharted</td>\n",
       "      <td>Uncharted</td>\n",
       "    </tr>\n",
       "    <tr>\n",
       "      <th>8</th>\n",
       "      <td>nuestra presentacion especial comenzara en bre...</td>\n",
       "      <td>control</td>\n",
       "      <td>0.0</td>\n",
       "      <td>NaN</td>\n",
       "      <td>NaN</td>\n",
       "      <td>NaN</td>\n",
       "      <td>NaN</td>\n",
       "      <td>unknown</td>\n",
       "      <td>Uncharted</td>\n",
       "      <td>Uncharted</td>\n",
       "    </tr>\n",
       "    <tr>\n",
       "      <th>9</th>\n",
       "      <td>ohh, ah, yeah u work so hard, u really do i do...</td>\n",
       "      <td>1000 xs  os</td>\n",
       "      <td>0.0</td>\n",
       "      <td>NaN</td>\n",
       "      <td>NaN</td>\n",
       "      <td>NaN</td>\n",
       "      <td>NaN</td>\n",
       "      <td>unknown</td>\n",
       "      <td>Uncharted</td>\n",
       "      <td>Uncharted</td>\n",
       "    </tr>\n",
       "    <tr>\n",
       "      <th>10</th>\n",
       "      <td>prince the rainbow children 1+1+1 is 3 if u ai...</td>\n",
       "      <td>111 is 3</td>\n",
       "      <td>0.0</td>\n",
       "      <td>NaN</td>\n",
       "      <td>NaN</td>\n",
       "      <td>NaN</td>\n",
       "      <td>NaN</td>\n",
       "      <td>unknown</td>\n",
       "      <td>Uncharted</td>\n",
       "      <td>Uncharted</td>\n",
       "    </tr>\n",
       "    <tr>\n",
       "      <th>11</th>\n",
       "      <td>called you yesterday you did not answer your p...</td>\n",
       "      <td>17 days</td>\n",
       "      <td>0.0</td>\n",
       "      <td>NaN</td>\n",
       "      <td>NaN</td>\n",
       "      <td>NaN</td>\n",
       "      <td>NaN</td>\n",
       "      <td>unknown</td>\n",
       "      <td>Uncharted</td>\n",
       "      <td>Uncharted</td>\n",
       "    </tr>\n",
       "    <tr>\n",
       "      <th>12</th>\n",
       "      <td>prince miscellaneous 1-800-new funk ad welcome...</td>\n",
       "      <td>1800new funk ad</td>\n",
       "      <td>0.0</td>\n",
       "      <td>NaN</td>\n",
       "      <td>NaN</td>\n",
       "      <td>NaN</td>\n",
       "      <td>NaN</td>\n",
       "      <td>unknown</td>\n",
       "      <td>Uncharted</td>\n",
       "      <td>Uncharted</td>\n",
       "    </tr>\n",
       "    <tr>\n",
       "      <th>13</th>\n",
       "      <td>serve it up, frankie this is precisely what i ...</td>\n",
       "      <td>2 nigs united 4 west compton</td>\n",
       "      <td>1994.0</td>\n",
       "      <td>Black Album</td>\n",
       "      <td>NaN</td>\n",
       "      <td>NaN</td>\n",
       "      <td>NaN</td>\n",
       "      <td>1990s</td>\n",
       "      <td>Uncharted</td>\n",
       "      <td>Uncharted</td>\n",
       "    </tr>\n",
       "    <tr>\n",
       "      <th>14</th>\n",
       "      <td>2 whomever it may concern you must come to you...</td>\n",
       "      <td>2 whom it may concern</td>\n",
       "      <td>0.0</td>\n",
       "      <td>NaN</td>\n",
       "      <td>NaN</td>\n",
       "      <td>NaN</td>\n",
       "      <td>NaN</td>\n",
       "      <td>unknown</td>\n",
       "      <td>Uncharted</td>\n",
       "      <td>Uncharted</td>\n",
       "    </tr>\n",
       "    <tr>\n",
       "      <th>15</th>\n",
       "      <td>every man that meets her wants 2 give her his ...</td>\n",
       "      <td>2 y 2 d</td>\n",
       "      <td>0.0</td>\n",
       "      <td>NaN</td>\n",
       "      <td>NaN</td>\n",
       "      <td>NaN</td>\n",
       "      <td>NaN</td>\n",
       "      <td>unknown</td>\n",
       "      <td>Uncharted</td>\n",
       "      <td>Uncharted</td>\n",
       "    </tr>\n",
       "    <tr>\n",
       "      <th>16</th>\n",
       "      <td>prince batman 200 balloons 200 balloons\\t[cont...</td>\n",
       "      <td>200 balloons</td>\n",
       "      <td>0.0</td>\n",
       "      <td>NaN</td>\n",
       "      <td>NaN</td>\n",
       "      <td>NaN</td>\n",
       "      <td>NaN</td>\n",
       "      <td>unknown</td>\n",
       "      <td>Uncharted</td>\n",
       "      <td>Uncharted</td>\n",
       "    </tr>\n",
       "    <tr>\n",
       "      <th>17</th>\n",
       "      <td>how can a non-musician discuss the future of m...</td>\n",
       "      <td>2045 radical man</td>\n",
       "      <td>0.0</td>\n",
       "      <td>Other Songs</td>\n",
       "      <td>NaN</td>\n",
       "      <td>NaN</td>\n",
       "      <td>NaN</td>\n",
       "      <td>unknown</td>\n",
       "      <td>Uncharted</td>\n",
       "      <td>Uncharted</td>\n",
       "    </tr>\n",
       "    <tr>\n",
       "      <th>18</th>\n",
       "      <td>prince miscellaneous 20th century express s s ...</td>\n",
       "      <td>20th century express</td>\n",
       "      <td>0.0</td>\n",
       "      <td>NaN</td>\n",
       "      <td>NaN</td>\n",
       "      <td>NaN</td>\n",
       "      <td>NaN</td>\n",
       "      <td>unknown</td>\n",
       "      <td>Uncharted</td>\n",
       "      <td>Uncharted</td>\n",
       "    </tr>\n",
       "    <tr>\n",
       "      <th>19</th>\n",
       "      <td>yeah, 2gether your boy got popped in a drive-b...</td>\n",
       "      <td>2gether</td>\n",
       "      <td>0.0</td>\n",
       "      <td>NaN</td>\n",
       "      <td>NaN</td>\n",
       "      <td>NaN</td>\n",
       "      <td>NaN</td>\n",
       "      <td>unknown</td>\n",
       "      <td>Uncharted</td>\n",
       "      <td>Uncharted</td>\n",
       "    </tr>\n",
       "    <tr>\n",
       "      <th>20</th>\n",
       "      <td>well, well, well maybe, i will wantcha 2morrow...</td>\n",
       "      <td>2morrow</td>\n",
       "      <td>1998.0</td>\n",
       "      <td>Crystal Ball</td>\n",
       "      <td>NaN</td>\n",
       "      <td>NaN</td>\n",
       "      <td>NaN</td>\n",
       "      <td>1990s</td>\n",
       "      <td>Uncharted</td>\n",
       "      <td>Uncharted</td>\n",
       "    </tr>\n",
       "    <tr>\n",
       "      <th>21</th>\n",
       "      <td>2nite happy people in the disco light dancin' ...</td>\n",
       "      <td>2nite</td>\n",
       "      <td>0.0</td>\n",
       "      <td>Other Songs</td>\n",
       "      <td>NaN</td>\n",
       "      <td>NaN</td>\n",
       "      <td>NaN</td>\n",
       "      <td>unknown</td>\n",
       "      <td>Uncharted</td>\n",
       "      <td>Uncharted</td>\n",
       "    </tr>\n",
       "    <tr>\n",
       "      <th>22</th>\n",
       "      <td>if i do not think about the fact that she left...</td>\n",
       "      <td>3 chains o gold</td>\n",
       "      <td>0.0</td>\n",
       "      <td>NaN</td>\n",
       "      <td>NaN</td>\n",
       "      <td>NaN</td>\n",
       "      <td>NaN</td>\n",
       "      <td>unknown</td>\n",
       "      <td>Uncharted</td>\n",
       "      <td>Uncharted</td>\n",
       "    </tr>\n",
       "    <tr>\n",
       "      <th>23</th>\n",
       "      <td>using a special code, he accessed his mind in ...</td>\n",
       "      <td>3rd eye</td>\n",
       "      <td>1998.0</td>\n",
       "      <td>The Truth</td>\n",
       "      <td>NaN</td>\n",
       "      <td>NaN</td>\n",
       "      <td>NaN</td>\n",
       "      <td>1990s</td>\n",
       "      <td>Uncharted</td>\n",
       "      <td>Uncharted</td>\n",
       "    </tr>\n",
       "    <tr>\n",
       "      <th>24</th>\n",
       "      <td>long ago there was a man change stone to bread...</td>\n",
       "      <td>4 the tears in your eyes live</td>\n",
       "      <td>0.0</td>\n",
       "      <td>NaN</td>\n",
       "      <td>NaN</td>\n",
       "      <td>NaN</td>\n",
       "      <td>NaN</td>\n",
       "      <td>unknown</td>\n",
       "      <td>Uncharted</td>\n",
       "      <td>Uncharted</td>\n",
       "    </tr>\n",
       "    <tr>\n",
       "      <th>25</th>\n",
       "      <td>if i never get to hold your hand if i never ge...</td>\n",
       "      <td>4ever</td>\n",
       "      <td>2009.0</td>\n",
       "      <td>LotusFlow3r</td>\n",
       "      <td>4.0</td>\n",
       "      <td>35</td>\n",
       "      <td>4</td>\n",
       "      <td>2000s</td>\n",
       "      <td>Top 10</td>\n",
       "      <td>Charted</td>\n",
       "    </tr>\n",
       "    <tr>\n",
       "      <th>26</th>\n",
       "      <td>it took 5 women to getcha off of my mind it to...</td>\n",
       "      <td>5 women</td>\n",
       "      <td>1999.0</td>\n",
       "      <td>The Vaule … Old Friends 4 Sale</td>\n",
       "      <td>NaN</td>\n",
       "      <td>NaN</td>\n",
       "      <td>NaN</td>\n",
       "      <td>1990s</td>\n",
       "      <td>Uncharted</td>\n",
       "      <td>Uncharted</td>\n",
       "    </tr>\n",
       "    <tr>\n",
       "      <th>27</th>\n",
       "      <td>prince miscellaneous 9 lives 9 - 9 - 9 - 9 - 9...</td>\n",
       "      <td>9 lives</td>\n",
       "      <td>0.0</td>\n",
       "      <td>Other Songs</td>\n",
       "      <td>NaN</td>\n",
       "      <td>NaN</td>\n",
       "      <td>NaN</td>\n",
       "      <td>unknown</td>\n",
       "      <td>Uncharted</td>\n",
       "      <td>Uncharted</td>\n",
       "    </tr>\n",
       "    <tr>\n",
       "      <th>28</th>\n",
       "      <td>i am a lonely painter, i live in a box of pain...</td>\n",
       "      <td>a case of u</td>\n",
       "      <td>2002.0</td>\n",
       "      <td>One Nite Alone</td>\n",
       "      <td>NaN</td>\n",
       "      <td>NaN</td>\n",
       "      <td>NaN</td>\n",
       "      <td>2000s</td>\n",
       "      <td>Uncharted</td>\n",
       "      <td>Uncharted</td>\n",
       "    </tr>\n",
       "    <tr>\n",
       "      <th>29</th>\n",
       "      <td>prince miscellaneous a love bizarre a b, a b c...</td>\n",
       "      <td>a love bizarre</td>\n",
       "      <td>0.0</td>\n",
       "      <td>Other Songs</td>\n",
       "      <td>NaN</td>\n",
       "      <td>NaN</td>\n",
       "      <td>NaN</td>\n",
       "      <td>unknown</td>\n",
       "      <td>Uncharted</td>\n",
       "      <td>Uncharted</td>\n",
       "    </tr>\n",
       "    <tr>\n",
       "      <th>30</th>\n",
       "      <td>prince miscellaneous a man called jesus jesus ...</td>\n",
       "      <td>a man called jesus</td>\n",
       "      <td>0.0</td>\n",
       "      <td>NaN</td>\n",
       "      <td>NaN</td>\n",
       "      <td>NaN</td>\n",
       "      <td>NaN</td>\n",
       "      <td>unknown</td>\n",
       "      <td>Uncharted</td>\n",
       "      <td>Uncharted</td>\n",
       "    </tr>\n",
       "    <tr>\n",
       "      <th>31</th>\n",
       "      <td>it is only been a hour since you left me but i...</td>\n",
       "      <td>a million days</td>\n",
       "      <td>2004.0</td>\n",
       "      <td>Musicology</td>\n",
       "      <td>NaN</td>\n",
       "      <td>NaN</td>\n",
       "      <td>NaN</td>\n",
       "      <td>2000s</td>\n",
       "      <td>Uncharted</td>\n",
       "      <td>Uncharted</td>\n",
       "    </tr>\n",
       "    <tr>\n",
       "      <th>32</th>\n",
       "      <td>prince miscellaneous a million miles (i love y...</td>\n",
       "      <td>a million miles i love you</td>\n",
       "      <td>0.0</td>\n",
       "      <td>NaN</td>\n",
       "      <td>NaN</td>\n",
       "      <td>NaN</td>\n",
       "      <td>NaN</td>\n",
       "      <td>unknown</td>\n",
       "      <td>Uncharted</td>\n",
       "      <td>Uncharted</td>\n",
       "    </tr>\n",
       "    <tr>\n",
       "      <th>33</th>\n",
       "      <td>prince miscellaneous a place in heaven she wan...</td>\n",
       "      <td>a place in heaven</td>\n",
       "      <td>0.0</td>\n",
       "      <td>Other Songs</td>\n",
       "      <td>NaN</td>\n",
       "      <td>NaN</td>\n",
       "      <td>NaN</td>\n",
       "      <td>unknown</td>\n",
       "      <td>Uncharted</td>\n",
       "      <td>Uncharted</td>\n",
       "    </tr>\n",
       "    <tr>\n",
       "      <th>34</th>\n",
       "      <td>oh oh oh (a woman is gotta have it) (a woman i...</td>\n",
       "      <td>a womans gotta have it</td>\n",
       "      <td>0.0</td>\n",
       "      <td>NaN</td>\n",
       "      <td>NaN</td>\n",
       "      <td>NaN</td>\n",
       "      <td>NaN</td>\n",
       "      <td>unknown</td>\n",
       "      <td>Uncharted</td>\n",
       "      <td>Uncharted</td>\n",
       "    </tr>\n",
       "    <tr>\n",
       "      <th>35</th>\n",
       "      <td>prince batman about prince - batman prince lyr...</td>\n",
       "      <td>about prince  batman</td>\n",
       "      <td>0.0</td>\n",
       "      <td>NaN</td>\n",
       "      <td>NaN</td>\n",
       "      <td>NaN</td>\n",
       "      <td>NaN</td>\n",
       "      <td>unknown</td>\n",
       "      <td>Uncharted</td>\n",
       "      <td>Uncharted</td>\n",
       "    </tr>\n",
       "  </tbody>\n",
       "</table>\n",
       "</div>"
      ],
      "text/plain": [
       "                                                lyric  \\\n",
       "0   all 7 and we will watch them fall they stand i...   \n",
       "1   319, 'bout time, come in, ow, 319 take off you...   \n",
       "2   do not worry, i will not hurt you i only want ...   \n",
       "3   prince miscellaneous 2020 the year is 2020  an...   \n",
       "4   one mix, one mix, one mix, one mix one mix, on...   \n",
       "5   prince miscellaneous 777-9311 baby, what is yo...   \n",
       "6     u, you are so fine seems to happen to me eac...   \n",
       "7    ed if i do tell me what is up with the teenag...   \n",
       "8   nuestra presentacion especial comenzara en bre...   \n",
       "9   ohh, ah, yeah u work so hard, u really do i do...   \n",
       "10  prince the rainbow children 1+1+1 is 3 if u ai...   \n",
       "11  called you yesterday you did not answer your p...   \n",
       "12  prince miscellaneous 1-800-new funk ad welcome...   \n",
       "13  serve it up, frankie this is precisely what i ...   \n",
       "14  2 whomever it may concern you must come to you...   \n",
       "15  every man that meets her wants 2 give her his ...   \n",
       "16  prince batman 200 balloons 200 balloons\\t[cont...   \n",
       "17  how can a non-musician discuss the future of m...   \n",
       "18  prince miscellaneous 20th century express s s ...   \n",
       "19  yeah, 2gether your boy got popped in a drive-b...   \n",
       "20  well, well, well maybe, i will wantcha 2morrow...   \n",
       "21  2nite happy people in the disco light dancin' ...   \n",
       "22  if i do not think about the fact that she left...   \n",
       "23  using a special code, he accessed his mind in ...   \n",
       "24  long ago there was a man change stone to bread...   \n",
       "25  if i never get to hold your hand if i never ge...   \n",
       "26  it took 5 women to getcha off of my mind it to...   \n",
       "27  prince miscellaneous 9 lives 9 - 9 - 9 - 9 - 9...   \n",
       "28  i am a lonely painter, i live in a box of pain...   \n",
       "29  prince miscellaneous a love bizarre a b, a b c...   \n",
       "30  prince miscellaneous a man called jesus jesus ...   \n",
       "31  it is only been a hour since you left me but i...   \n",
       "32  prince miscellaneous a million miles (i love y...   \n",
       "33  prince miscellaneous a place in heaven she wan...   \n",
       "34  oh oh oh (a woman is gotta have it) (a woman i...   \n",
       "35  prince batman about prince - batman prince lyr...   \n",
       "\n",
       "                             song    year                           album  \\\n",
       "0                               7  1992.0                          Symbol   \n",
       "1                             319     0.0                             NaN   \n",
       "2                            1999  1982.0                            1999   \n",
       "3                            2020     0.0                     Other Songs   \n",
       "4                            3121  2006.0                            3121   \n",
       "5                         7779311     0.0                             NaN   \n",
       "6                               u     0.0                             NaN   \n",
       "7                      ed if i do     0.0                             NaN   \n",
       "8                         control     0.0                             NaN   \n",
       "9                     1000 xs  os     0.0                             NaN   \n",
       "10                       111 is 3     0.0                             NaN   \n",
       "11                        17 days     0.0                             NaN   \n",
       "12                1800new funk ad     0.0                             NaN   \n",
       "13   2 nigs united 4 west compton  1994.0                     Black Album   \n",
       "14          2 whom it may concern     0.0                             NaN   \n",
       "15                        2 y 2 d     0.0                             NaN   \n",
       "16                   200 balloons     0.0                             NaN   \n",
       "17               2045 radical man     0.0                     Other Songs   \n",
       "18           20th century express     0.0                             NaN   \n",
       "19                        2gether     0.0                             NaN   \n",
       "20                        2morrow  1998.0                    Crystal Ball   \n",
       "21                          2nite     0.0                     Other Songs   \n",
       "22                3 chains o gold     0.0                             NaN   \n",
       "23                        3rd eye  1998.0                       The Truth   \n",
       "24  4 the tears in your eyes live     0.0                             NaN   \n",
       "25                          4ever  2009.0                     LotusFlow3r   \n",
       "26                        5 women  1999.0  The Vaule … Old Friends 4 Sale   \n",
       "27                        9 lives     0.0                     Other Songs   \n",
       "28                    a case of u  2002.0                  One Nite Alone   \n",
       "29                 a love bizarre     0.0                     Other Songs   \n",
       "30             a man called jesus     0.0                             NaN   \n",
       "31                 a million days  2004.0                      Musicology   \n",
       "32     a million miles i love you     0.0                             NaN   \n",
       "33              a place in heaven     0.0                     Other Songs   \n",
       "34         a womans gotta have it     0.0                             NaN   \n",
       "35           about prince  batman     0.0                             NaN   \n",
       "\n",
       "    peak us_pop us_rnb  decades chart_level    charted  \n",
       "0    3.0      7     61    1990s      Top 10    Charted  \n",
       "1    NaN    NaN    NaN  unknown   Uncharted  Uncharted  \n",
       "2    2.0     12      4    1980s      Top 10    Charted  \n",
       "3    NaN    NaN    NaN  unknown   Uncharted  Uncharted  \n",
       "4    1.0      1      1    2000s      Top 10    Charted  \n",
       "5    NaN    NaN    NaN  unknown   Uncharted  Uncharted  \n",
       "6    NaN    NaN    NaN  unknown   Uncharted  Uncharted  \n",
       "7    NaN    NaN    NaN  unknown   Uncharted  Uncharted  \n",
       "8    NaN    NaN    NaN  unknown   Uncharted  Uncharted  \n",
       "9    NaN    NaN    NaN  unknown   Uncharted  Uncharted  \n",
       "10   NaN    NaN    NaN  unknown   Uncharted  Uncharted  \n",
       "11   NaN    NaN    NaN  unknown   Uncharted  Uncharted  \n",
       "12   NaN    NaN    NaN  unknown   Uncharted  Uncharted  \n",
       "13   NaN    NaN    NaN    1990s   Uncharted  Uncharted  \n",
       "14   NaN    NaN    NaN  unknown   Uncharted  Uncharted  \n",
       "15   NaN    NaN    NaN  unknown   Uncharted  Uncharted  \n",
       "16   NaN    NaN    NaN  unknown   Uncharted  Uncharted  \n",
       "17   NaN    NaN    NaN  unknown   Uncharted  Uncharted  \n",
       "18   NaN    NaN    NaN  unknown   Uncharted  Uncharted  \n",
       "19   NaN    NaN    NaN  unknown   Uncharted  Uncharted  \n",
       "20   NaN    NaN    NaN    1990s   Uncharted  Uncharted  \n",
       "21   NaN    NaN    NaN  unknown   Uncharted  Uncharted  \n",
       "22   NaN    NaN    NaN  unknown   Uncharted  Uncharted  \n",
       "23   NaN    NaN    NaN    1990s   Uncharted  Uncharted  \n",
       "24   NaN    NaN    NaN  unknown   Uncharted  Uncharted  \n",
       "25   4.0     35      4    2000s      Top 10    Charted  \n",
       "26   NaN    NaN    NaN    1990s   Uncharted  Uncharted  \n",
       "27   NaN    NaN    NaN  unknown   Uncharted  Uncharted  \n",
       "28   NaN    NaN    NaN    2000s   Uncharted  Uncharted  \n",
       "29   NaN    NaN    NaN  unknown   Uncharted  Uncharted  \n",
       "30   NaN    NaN    NaN  unknown   Uncharted  Uncharted  \n",
       "31   NaN    NaN    NaN    2000s   Uncharted  Uncharted  \n",
       "32   NaN    NaN    NaN  unknown   Uncharted  Uncharted  \n",
       "33   NaN    NaN    NaN  unknown   Uncharted  Uncharted  \n",
       "34   NaN    NaN    NaN  unknown   Uncharted  Uncharted  \n",
       "35   NaN    NaN    NaN  unknown   Uncharted  Uncharted  "
      ]
     },
     "execution_count": 14,
     "metadata": {},
     "output_type": "execute_result"
    }
   ],
   "source": [
    "# clean up lyrics by removing contractions\n",
    "prince['lyric'] = prince['lyric'].apply(decontracted)\n",
    "#prince['lyric'] = prince['lyric'].apply(replace('\\n',''))\n",
    "prince.head(36)"
   ]
  },
  {
   "cell_type": "code",
   "execution_count": 15,
   "metadata": {},
   "outputs": [
    {
     "data": {
      "text/plain": [
       "<matplotlib.axes._subplots.AxesSubplot at 0x11b60b2b0>"
      ]
     },
     "execution_count": 15,
     "metadata": {},
     "output_type": "execute_result"
    },
    {
     "data": {
      "image/png": "[encoded data removed]",
      "text/plain": [
       "<matplotlib.figure.Figure at 0x11b5ea240>"
      ]
     },
     "metadata": {},
     "output_type": "display_data"
    }
   ],
   "source": [
    "%matplotlib inline\n",
    "prince['chart_level'].value_counts()[:20].plot(kind='barh')"
   ]
  },
  {
   "cell_type": "code",
   "execution_count": 16,
   "metadata": {},
   "outputs": [
    {
     "data": {
      "image/png": "[encoded data removed]",
      "text/plain": [
       "<matplotlib.figure.Figure at 0x11b18bc50>"
      ]
     },
     "metadata": {},
     "output_type": "display_data"
    }
   ],
   "source": [
    "ax = sns.countplot(x=\"charted\", data=prince)"
   ]
  },
  {
   "cell_type": "code",
   "execution_count": 17,
   "metadata": {},
   "outputs": [
    {
     "data": {
      "image/png": "[encoded data removed]",
      "text/plain": [
       "<matplotlib.figure.Figure at 0x11b2333c8>"
      ]
     },
     "metadata": {},
     "output_type": "display_data"
    }
   ],
   "source": [
    "ax = sns.countplot(x=\"chart_level\", data=prince)"
   ]
  },
  {
   "cell_type": "code",
   "execution_count": 18,
   "metadata": {},
   "outputs": [
    {
     "name": "stdout",
     "output_type": "stream",
     "text": [
      "['Top 10', 'Top 10', 'Top 10', 'Top 10', 'Top 10', 'Top 10', 'Top 10', 'Top 10', 'Top 10', 'Top 10', 'Top 10', 'Top 10', 'Top 10', 'Top 10', 'Top 10', 'Top 10', 'Top 10', 'Top 10', 'Top 10', 'Top 10', 'Top 10', 'Top 10', 'Top 10', 'Top 10', 'Top 10', 'Top 10', 'Top 10', 'Top 10', 'Top 10', 'Top 10', 'Top 10', 'Top 10', 'Top 10', 'Top 10', 'Top 10', 'Top 10', 'Top 10', 'Top 10', 'Top 10', 'Top 10', 'Top 10', 'Top 10', 'Top 10']\n",
      "43\n",
      "['Top 100', 'Top 100', 'Top 100', 'Top 100', 'Top 100', 'Top 100', 'Top 100', 'Top 100', 'Top 100', 'Top 100', 'Top 100', 'Top 100', 'Top 100', 'Top 100', 'Top 100', 'Top 100', 'Top 100', 'Top 100', 'Top 100', 'Top 100', 'Top 100', 'Top 100', 'Top 100', 'Top 100', 'Top 100']\n",
      "25\n"
     ]
    },
    {
     "data": {
      "text/plain": [
       "<function print>"
      ]
     },
     "execution_count": 18,
     "metadata": {},
     "output_type": "execute_result"
    }
   ],
   "source": [
    "#filter out uncharted data and plot value count for Top 10 & Top 100 Prince songs\n",
    "songs = prince['chart_level']\n",
    "chart_data = prince.loc[prince['chart_level'].isin(['Top 10', 'Top 100'])] \n",
    "#top_songs = chart_data['chart_level']\n",
    "#print(chart_data)\n",
    "top_10 = [x for x in songs if x == 'Top 10']\n",
    "top_100 = [x for x in songs if x == 'Top 100']\n",
    "print\n",
    "print(top_10)\n",
    "print(len(top_10))\n",
    "print\n",
    "print(top_100)\n",
    "print(len(top_100))\n",
    "print\n"
   ]
  },
  {
   "cell_type": "code",
   "execution_count": 19,
   "metadata": {},
   "outputs": [
    {
     "data": {
      "text/html": [
       "<div>\n",
       "<style>\n",
       "    .dataframe thead tr:only-child th {\n",
       "        text-align: right;\n",
       "    }\n",
       "\n",
       "    .dataframe thead th {\n",
       "        text-align: left;\n",
       "    }\n",
       "\n",
       "    .dataframe tbody tr th {\n",
       "        vertical-align: top;\n",
       "    }\n",
       "</style>\n",
       "<table border=\"1\" class=\"dataframe\">\n",
       "  <thead>\n",
       "    <tr style=\"text-align: right;\">\n",
       "      <th></th>\n",
       "      <th>lyric</th>\n",
       "      <th>song</th>\n",
       "      <th>year</th>\n",
       "      <th>album</th>\n",
       "      <th>peak</th>\n",
       "      <th>us_pop</th>\n",
       "      <th>us_rnb</th>\n",
       "      <th>decades</th>\n",
       "      <th>chart_level</th>\n",
       "      <th>charted</th>\n",
       "    </tr>\n",
       "  </thead>\n",
       "  <tbody>\n",
       "    <tr>\n",
       "      <th>0</th>\n",
       "      <td>all 7 and we will watch them fall they stand i...</td>\n",
       "      <td>7</td>\n",
       "      <td>1992.0</td>\n",
       "      <td>Symbol</td>\n",
       "      <td>3.0</td>\n",
       "      <td>7</td>\n",
       "      <td>61</td>\n",
       "      <td>1990s</td>\n",
       "      <td>Top 10</td>\n",
       "      <td>Charted</td>\n",
       "    </tr>\n",
       "    <tr>\n",
       "      <th>2</th>\n",
       "      <td>do not worry, i will not hurt you i only want ...</td>\n",
       "      <td>1999</td>\n",
       "      <td>1982.0</td>\n",
       "      <td>1999</td>\n",
       "      <td>2.0</td>\n",
       "      <td>12</td>\n",
       "      <td>4</td>\n",
       "      <td>1980s</td>\n",
       "      <td>Top 10</td>\n",
       "      <td>Charted</td>\n",
       "    </tr>\n",
       "    <tr>\n",
       "      <th>4</th>\n",
       "      <td>one mix, one mix, one mix, one mix one mix, on...</td>\n",
       "      <td>3121</td>\n",
       "      <td>2006.0</td>\n",
       "      <td>3121</td>\n",
       "      <td>1.0</td>\n",
       "      <td>1</td>\n",
       "      <td>1</td>\n",
       "      <td>2000s</td>\n",
       "      <td>Top 10</td>\n",
       "      <td>Charted</td>\n",
       "    </tr>\n",
       "    <tr>\n",
       "      <th>25</th>\n",
       "      <td>if i never get to hold your hand if i never ge...</td>\n",
       "      <td>4ever</td>\n",
       "      <td>2009.0</td>\n",
       "      <td>LotusFlow3r</td>\n",
       "      <td>4.0</td>\n",
       "      <td>35</td>\n",
       "      <td>4</td>\n",
       "      <td>2000s</td>\n",
       "      <td>Top 10</td>\n",
       "      <td>Charted</td>\n",
       "    </tr>\n",
       "    <tr>\n",
       "      <th>62</th>\n",
       "      <td>yeah (shotgun) peace eh, yeah, eh, eh, yeah, e...</td>\n",
       "      <td>america</td>\n",
       "      <td>1985.0</td>\n",
       "      <td>Around the World in a Day</td>\n",
       "      <td>35.0</td>\n",
       "      <td>47</td>\n",
       "      <td>35</td>\n",
       "      <td>1980s</td>\n",
       "      <td>Top 100</td>\n",
       "      <td>Charted</td>\n",
       "    </tr>\n",
       "    <tr>\n",
       "      <th>71</th>\n",
       "      <td>i gave my love, i gave my life i gave my body ...</td>\n",
       "      <td>anotherloverholenyohead</td>\n",
       "      <td>1986.0</td>\n",
       "      <td>Parade</td>\n",
       "      <td>15.0</td>\n",
       "      <td>63</td>\n",
       "      <td>18</td>\n",
       "      <td>1980s</td>\n",
       "      <td>Top 100</td>\n",
       "      <td>Charted</td>\n",
       "    </tr>\n",
       "    <tr>\n",
       "      <th>72</th>\n",
       "      <td>prince around the world in a day around the wo...</td>\n",
       "      <td>around the world in a day</td>\n",
       "      <td>1985.0</td>\n",
       "      <td>Around the World in a Day</td>\n",
       "      <td>1.0</td>\n",
       "      <td>1</td>\n",
       "      <td>4</td>\n",
       "      <td>1980s</td>\n",
       "      <td>Top 10</td>\n",
       "      <td>Charted</td>\n",
       "    </tr>\n",
       "    <tr>\n",
       "      <th>86</th>\n",
       "      <td>prince batman batdance oh, i got a live one he...</td>\n",
       "      <td>batdance</td>\n",
       "      <td>1989.0</td>\n",
       "      <td>Batman</td>\n",
       "      <td>1.0</td>\n",
       "      <td>1</td>\n",
       "      <td>1</td>\n",
       "      <td>1980s</td>\n",
       "      <td>Top 10</td>\n",
       "      <td>Charted</td>\n",
       "    </tr>\n",
       "    <tr>\n",
       "      <th>93</th>\n",
       "      <td>this might seem strange since so much time has...</td>\n",
       "      <td>better with time</td>\n",
       "      <td>2009.0</td>\n",
       "      <td>MPLSoUND</td>\n",
       "      <td>78.0</td>\n",
       "      <td>-</td>\n",
       "      <td>78</td>\n",
       "      <td>2000s</td>\n",
       "      <td>Top 100</td>\n",
       "      <td>Charted</td>\n",
       "    </tr>\n",
       "    <tr>\n",
       "      <th>100</th>\n",
       "      <td>i do not want to take my clothes off but i do ...</td>\n",
       "      <td>black sweat</td>\n",
       "      <td>2006.0</td>\n",
       "      <td>3121</td>\n",
       "      <td>43.0</td>\n",
       "      <td>60</td>\n",
       "      <td>82</td>\n",
       "      <td>2000s</td>\n",
       "      <td>Top 100</td>\n",
       "      <td>Charted</td>\n",
       "    </tr>\n",
       "  </tbody>\n",
       "</table>\n",
       "</div>"
      ],
      "text/plain": [
       "                                                 lyric  \\\n",
       "0    all 7 and we will watch them fall they stand i...   \n",
       "2    do not worry, i will not hurt you i only want ...   \n",
       "4    one mix, one mix, one mix, one mix one mix, on...   \n",
       "25   if i never get to hold your hand if i never ge...   \n",
       "62   yeah (shotgun) peace eh, yeah, eh, eh, yeah, e...   \n",
       "71   i gave my love, i gave my life i gave my body ...   \n",
       "72   prince around the world in a day around the wo...   \n",
       "86   prince batman batdance oh, i got a live one he...   \n",
       "93   this might seem strange since so much time has...   \n",
       "100  i do not want to take my clothes off but i do ...   \n",
       "\n",
       "                          song    year                      album  peak  \\\n",
       "0                            7  1992.0                     Symbol   3.0   \n",
       "2                         1999  1982.0                       1999   2.0   \n",
       "4                         3121  2006.0                       3121   1.0   \n",
       "25                       4ever  2009.0                LotusFlow3r   4.0   \n",
       "62                     america  1985.0  Around the World in a Day  35.0   \n",
       "71     anotherloverholenyohead  1986.0                     Parade  15.0   \n",
       "72   around the world in a day  1985.0  Around the World in a Day   1.0   \n",
       "86                    batdance  1989.0                     Batman   1.0   \n",
       "93            better with time  2009.0                   MPLSoUND  78.0   \n",
       "100                black sweat  2006.0                       3121  43.0   \n",
       "\n",
       "    us_pop us_rnb decades chart_level  charted  \n",
       "0        7     61   1990s      Top 10  Charted  \n",
       "2       12      4   1980s      Top 10  Charted  \n",
       "4        1      1   2000s      Top 10  Charted  \n",
       "25      35      4   2000s      Top 10  Charted  \n",
       "62      47     35   1980s     Top 100  Charted  \n",
       "71      63     18   1980s     Top 100  Charted  \n",
       "72       1      4   1980s      Top 10  Charted  \n",
       "86       1      1   1980s      Top 10  Charted  \n",
       "93       -     78   2000s     Top 100  Charted  \n",
       "100     60     82   2000s     Top 100  Charted  "
      ]
     },
     "execution_count": 19,
     "metadata": {},
     "output_type": "execute_result"
    }
   ],
   "source": [
    "chart_data.head(10)"
   ]
  },
  {
   "cell_type": "code",
   "execution_count": 20,
   "metadata": {},
   "outputs": [
    {
     "data": {
      "image/png": "[encoded data removed]",
      "text/plain": [
       "<matplotlib.figure.Figure at 0x11e7b6278>"
      ]
     },
     "metadata": {},
     "output_type": "display_data"
    }
   ],
   "source": [
    "ax = sns.countplot(x=\"chart_level\", data=chart_data)"
   ]
  },
  {
   "cell_type": "code",
   "execution_count": 21,
   "metadata": {},
   "outputs": [
    {
     "name": "stdout",
     "output_type": "stream",
     "text": [
      "decades  chart_level\n",
      "1970s    Top 10          1\n",
      "         Top 100         3\n",
      "1980s    Top 10         24\n",
      "         Top 100         7\n",
      "1990s    Top 10         14\n",
      "         Top 100         9\n",
      "2000s    Top 10          4\n",
      "         Top 100         6\n",
      "dtype: int64\n"
     ]
    }
   ],
   "source": [
    "#Group By decades\n",
    "#groupbydecades = prince.groupby(['decades']).size()\n",
    "groupbydecades = chart_data.groupby(['decades', 'chart_level']).size()\n",
    "#prince.groupby([‘decades’])\n",
    "print(groupbydecades)"
   ]
  },
  {
   "cell_type": "code",
   "execution_count": 22,
   "metadata": {},
   "outputs": [
    {
     "data": {
      "text/html": [
       "<div>\n",
       "<style>\n",
       "    .dataframe thead tr:only-child th {\n",
       "        text-align: right;\n",
       "    }\n",
       "\n",
       "    .dataframe thead th {\n",
       "        text-align: left;\n",
       "    }\n",
       "\n",
       "    .dataframe tbody tr th {\n",
       "        vertical-align: top;\n",
       "    }\n",
       "</style>\n",
       "<table border=\"1\" class=\"dataframe\">\n",
       "  <thead>\n",
       "    <tr style=\"text-align: right;\">\n",
       "      <th>chart_level</th>\n",
       "      <th>Top 10</th>\n",
       "      <th>Top 100</th>\n",
       "      <th>Uncharted</th>\n",
       "    </tr>\n",
       "  </thead>\n",
       "  <tbody>\n",
       "    <tr>\n",
       "      <th>1970s</th>\n",
       "      <td>1</td>\n",
       "      <td>3</td>\n",
       "      <td>10</td>\n",
       "    </tr>\n",
       "    <tr>\n",
       "      <th>1980s</th>\n",
       "      <td>24</td>\n",
       "      <td>7</td>\n",
       "      <td>46</td>\n",
       "    </tr>\n",
       "    <tr>\n",
       "      <th>1990s</th>\n",
       "      <td>14</td>\n",
       "      <td>9</td>\n",
       "      <td>137</td>\n",
       "    </tr>\n",
       "    <tr>\n",
       "      <th>2000s</th>\n",
       "      <td>4</td>\n",
       "      <td>6</td>\n",
       "      <td>48</td>\n",
       "    </tr>\n",
       "    <tr>\n",
       "      <th>2010s</th>\n",
       "      <td>0</td>\n",
       "      <td>0</td>\n",
       "      <td>20</td>\n",
       "    </tr>\n",
       "    <tr>\n",
       "      <th>unknown</th>\n",
       "      <td>0</td>\n",
       "      <td>0</td>\n",
       "      <td>495</td>\n",
       "    </tr>\n",
       "  </tbody>\n",
       "</table>\n",
       "</div>"
      ],
      "text/plain": [
       "chart_level  Top 10  Top 100  Uncharted\n",
       "1970s             1        3         10\n",
       "1980s            24        7         46\n",
       "1990s            14        9        137\n",
       "2000s             4        6         48\n",
       "2010s             0        0         20\n",
       "unknown           0        0        495"
      ]
     },
     "execution_count": 22,
     "metadata": {},
     "output_type": "execute_result"
    }
   ],
   "source": [
    "# Finally figured out how to create stacked barplot with pandas after many hours\n",
    "# pd.crosstab is the key \n",
    "# compare with above graph with unstacked bars\n",
    "decade_chart = pd.crosstab(index=prince[\"decades\"], \n",
    "                           columns=prince[\"chart_level\"])\n",
    "#decade_chart = pd.crosstab(index=chart_data[\"decades\"], \n",
    "                           #columns=chart_data[\"chart_level\"])\n",
    "decade_chart.index= [\"1970s\",\"1980s\",\"1990s\",\"2000s\",\"2010s\",\"unknown\"]\n",
    "\n",
    "decade_chart\n"
   ]
  },
  {
   "cell_type": "code",
   "execution_count": 23,
   "metadata": {},
   "outputs": [
    {
     "data": {
      "text/html": [
       "<div>\n",
       "<style>\n",
       "    .dataframe thead tr:only-child th {\n",
       "        text-align: right;\n",
       "    }\n",
       "\n",
       "    .dataframe thead th {\n",
       "        text-align: left;\n",
       "    }\n",
       "\n",
       "    .dataframe tbody tr th {\n",
       "        vertical-align: top;\n",
       "    }\n",
       "</style>\n",
       "<table border=\"1\" class=\"dataframe\">\n",
       "  <thead>\n",
       "    <tr style=\"text-align: right;\">\n",
       "      <th>chart_level</th>\n",
       "      <th>Top 10</th>\n",
       "      <th>Top 100</th>\n",
       "    </tr>\n",
       "  </thead>\n",
       "  <tbody>\n",
       "    <tr>\n",
       "      <th>1970s</th>\n",
       "      <td>1</td>\n",
       "      <td>3</td>\n",
       "    </tr>\n",
       "    <tr>\n",
       "      <th>1980s</th>\n",
       "      <td>24</td>\n",
       "      <td>7</td>\n",
       "    </tr>\n",
       "    <tr>\n",
       "      <th>1990s</th>\n",
       "      <td>14</td>\n",
       "      <td>9</td>\n",
       "    </tr>\n",
       "    <tr>\n",
       "      <th>2000s</th>\n",
       "      <td>4</td>\n",
       "      <td>6</td>\n",
       "    </tr>\n",
       "    <tr>\n",
       "      <th>2010s</th>\n",
       "      <td>0</td>\n",
       "      <td>0</td>\n",
       "    </tr>\n",
       "  </tbody>\n",
       "</table>\n",
       "</div>"
      ],
      "text/plain": [
       "chart_level  Top 10  Top 100\n",
       "1970s             1        3\n",
       "1980s            24        7\n",
       "1990s            14        9\n",
       "2000s             4        6\n",
       "2010s             0        0"
      ]
     },
     "execution_count": 23,
     "metadata": {},
     "output_type": "execute_result"
    }
   ],
   "source": [
    "# Drop Uncharted column from decade_chart dataframe\n",
    "# Drop the unknown row from decade_chart dataframe\n",
    "decade_chart = decade_chart.drop(['Uncharted'], axis=1)\n",
    "decade_chart = decade_chart.drop(['unknown'], axis=0)\n",
    "decade_chart"
   ]
  },
  {
   "cell_type": "code",
   "execution_count": 24,
   "metadata": {},
   "outputs": [
    {
     "data": {
      "text/plain": [
       "<matplotlib.axes._subplots.AxesSubplot at 0x11e980b00>"
      ]
     },
     "execution_count": 24,
     "metadata": {},
     "output_type": "execute_result"
    },
    {
     "data": {
      "image/png": "[encoded data removed]",
      "text/plain": [
       "<matplotlib.figure.Figure at 0x11e98a7b8>"
      ]
     },
     "metadata": {},
     "output_type": "display_data"
    }
   ],
   "source": [
    "decade_chart.plot(kind='bar',stacked=True)"
   ]
  },
  {
   "cell_type": "code",
   "execution_count": 25,
   "metadata": {
    "collapsed": true
   },
   "outputs": [],
   "source": [
    "lyric1 = prince['lyric'][0]\n",
    "#print(lyric1)\n",
    "words1 = lyric1.split(\" \")\n",
    "#print(words)"
   ]
  },
  {
   "cell_type": "code",
   "execution_count": 26,
   "metadata": {
    "collapsed": true
   },
   "outputs": [],
   "source": [
    "# Use the nltk(Natural Langauge Tool Kit) module for counting frequency of words in lyrics\n",
    "fdist = nltk.FreqDist(words1)\n"
   ]
  },
  {
   "cell_type": "code",
   "execution_count": 27,
   "metadata": {},
   "outputs": [
    {
     "name": "stdout",
     "output_type": "stream",
     "text": [
      "and:35\n",
      "will:30\n",
      "we:18\n",
      "all:16\n",
      "the:16\n",
      "in:13\n",
      "of:12\n",
      "them:11\n",
      "7:9\n",
      "love:9\n"
     ]
    }
   ],
   "source": [
    "for word, frequency in fdist.most_common(10):\n",
    "    print(u'{}:{}'.format(word, frequency))"
   ]
  },
  {
   "cell_type": "code",
   "execution_count": 28,
   "metadata": {
    "collapsed": true
   },
   "outputs": [],
   "source": [
    "undesirable_words = [\"prince\",\"chorus\",\"repeat\",\"lyrics\",\"themes\",\"bridge\",\"fe0f\",\"yeah\",\"baby\",\\\n",
    "                    \"alright\",\"wanna\",\"gonna\",\"chorus\",\"verse\",\\\n",
    "                    \"whoa\",\"gotta\",\"make\", \"miscellaneous\", \"2\"\\\n",
    "                    \"4\",\"ooh\", \"uurh\", \"pheromone\", \"poompoom\", \"3121\",\\\n",
    "                    \"matic\", \" ai \", \" ca \", \" la \", \"hey\", \" na \",\\\n",
    "                    \" da \", \" uh \", \" tin \", \"  ll\", \"transcription\",\\\n",
    "                    \"repeats\",\"the\",\",\"]\n",
    "\n"
   ]
  },
  {
   "cell_type": "code",
   "execution_count": 29,
   "metadata": {
    "collapsed": true
   },
   "outputs": [],
   "source": [
    "def filtered(wrds):\n",
    "    #This function returns a filtered list\n",
    "    # by removing stopwords and other undesirable words\n",
    "    undesirable_words = [\"prince\",\"chorus\",\"repeat\",\"lyrics\",\"themes\",\"bridge\",\"fe0f\",\"yeah\",\"baby\",\\\n",
    "                    \"alright\",\"wanna\",\"gonna\",\"chorus\",\"verse\",\\\n",
    "                    \"whoa\",\"gotta\",\"make\", \"miscellaneous\", \"2\"\\\n",
    "                    \"4\",\"ooh\", \"uurh\", \"you\",\"yes\",\"yet\",\"pheromone\", \"poompoom\", \"3121\",\\\n",
    "                    \"matic\", \" ai \", \" ca \",\"know\",\"ai\",\"la \",\"like\", \"hey\", \" na \",\\\n",
    "                    \" da \", \"their\",\"one\",\"got\",\" uh \",\"u\",\" tin \", \"  ll\", \"transcription\",\\\n",
    "                    \"repeats\",\"ever\",\"every\",\"everybody\",\"get\",\"come\",\"the\",\"them\",\",\",\")\",\"(\",\".\",\"-\"]\n",
    "    \n",
    "    stopWords = set(stopwords.words('english'))\n",
    "    wordsFiltered = []\n",
    "    for w in wrds:\n",
    "        if (w not in stopWords) and (w not in undesirable_words):\n",
    "            if len(w) > 0:\n",
    "                wordsFiltered.append(w)\n",
    "            \n",
    "    return wordsFiltered"
   ]
  },
  {
   "cell_type": "code",
   "execution_count": 30,
   "metadata": {
    "collapsed": true
   },
   "outputs": [],
   "source": [
    "def top_words(wrds,top_num = 10):\n",
    "    #This function returns the words that appeared most often using NLTK.freqdist\n",
    "    # by removing stopwords and other undesirable words\n",
    "    fdist = nltk.FreqDist(wrds)\n",
    "    \n",
    "    the_top = fdist.most_common(top_num)\n",
    "    #print(the_top)\n",
    "    top_words = []\n",
    "    for item in the_top:\n",
    "        top_words.append(item[:][0])\n",
    "            \n",
    "    return top_words"
   ]
  },
  {
   "cell_type": "code",
   "execution_count": 31,
   "metadata": {
    "collapsed": true
   },
   "outputs": [],
   "source": [
    "decades = prince['lyric'].groupby(prince['decades'])"
   ]
  },
  {
   "cell_type": "code",
   "execution_count": 32,
   "metadata": {
    "collapsed": true
   },
   "outputs": [],
   "source": [
    "prince['lyric_length'] = prince.lyric.apply(len)"
   ]
  },
  {
   "cell_type": "code",
   "execution_count": 33,
   "metadata": {
    "collapsed": true
   },
   "outputs": [],
   "source": [
    "\n",
    "prince['lyric_words'] = prince['lyric'].str.split(\" \")"
   ]
  },
  {
   "cell_type": "code",
   "execution_count": 34,
   "metadata": {
    "collapsed": true
   },
   "outputs": [],
   "source": [
    "word_list_70s = []\n",
    "for item in (prince[prince.decades=='1970s'].lyric_words):\n",
    "    word_list_70s.extend(item)\n",
    "\n",
    "filter_70s = filtered(word_list_70s)"
   ]
  },
  {
   "cell_type": "code",
   "execution_count": 35,
   "metadata": {},
   "outputs": [
    {
     "name": "stdout",
     "output_type": "stream",
     "text": [
      "[('love', 56), ('baby,', 35), ('you,', 26), ('sexy', 25), (\"waitin'\", 20), ('dancer,', 18), ('still', 17), ('feel', 16), ('want', 15), ('oh', 13)]\n"
     ]
    }
   ],
   "source": [
    "fdist_70s = nltk.FreqDist(filter_70s)\n",
    "fdist_70s.most_common(10)\n",
    "top_ten_70s = fdist_70s.most_common(10)\n",
    "print(top_ten_70s)"
   ]
  },
  {
   "cell_type": "code",
   "execution_count": 36,
   "metadata": {},
   "outputs": [
    {
     "name": "stdout",
     "output_type": "stream",
     "text": [
      "\n",
      "\n"
     ]
    },
    {
     "data": {
      "image/png": "[encoded data removed]",
      "text/plain": [
       "<matplotlib.figure.Figure at 0x11f813748>"
      ]
     },
     "metadata": {},
     "output_type": "display_data"
    }
   ],
   "source": [
    "names = []\n",
    "values = []\n",
    "for item in top_ten_70s:\n",
    "    names.append(item[0])\n",
    "    values.append(item[1])\n",
    "print()\n",
    "#print(names)\n",
    "#print()\n",
    "#print(values)\n",
    "print()\n",
    "#plt.bar(range(len(names)),values,tick_label=names)\n",
    "plt.barh(range(len(names)),values,tick_label=names)\n",
    "#plt.barh(range(values,len(names)),tick_label=names)\n",
    "plt.title(\"Top 10 words in Prince's 70s Songs\")\n",
    "#plt.savefig('bar.png')\n",
    "plt.show()"
   ]
  },
  {
   "cell_type": "code",
   "execution_count": 37,
   "metadata": {},
   "outputs": [
    {
     "data": {
      "text/plain": [
       "<matplotlib.text.Text at 0x11f8fdf98>"
      ]
     },
     "execution_count": 37,
     "metadata": {},
     "output_type": "execute_result"
    },
    {
     "data": {
      "image/png": "[encoded data removed]",
      "text/plain": [
       "<matplotlib.figure.Figure at 0x11f813208>"
      ]
     },
     "metadata": {},
     "output_type": "display_data"
    }
   ],
   "source": [
    "g = sns.barplot(x =values, y = names )\n",
    "g.axes.set_title('Top 10 Words in Prince 70s Songs', fontsize=20,color=\"b\",alpha=0.9)"
   ]
  },
  {
   "cell_type": "code",
   "execution_count": 38,
   "metadata": {
    "collapsed": true
   },
   "outputs": [],
   "source": [
    "word_list_80s = []\n",
    "for item in (prince[prince.decades=='1980s'].lyric_words):\n",
    "    word_list_80s.extend(item)\n",
    "#print(type(word_list_80s))\n",
    "#print(len(word_list_80s))"
   ]
  },
  {
   "cell_type": "code",
   "execution_count": 39,
   "metadata": {},
   "outputs": [
    {
     "name": "stdout",
     "output_type": "stream",
     "text": [
      "\n",
      "23917\n",
      "\n",
      "10646\n"
     ]
    }
   ],
   "source": [
    "filter_80s = filtered(word_list_80s)\n",
    "print()\n",
    "print(len(word_list_80s))\n",
    "print()\n",
    "print(len(filter_80s))"
   ]
  },
  {
   "cell_type": "code",
   "execution_count": 40,
   "metadata": {},
   "outputs": [
    {
     "name": "stdout",
     "output_type": "stream",
     "text": [
      "[('love', 206), ('want', 103), ('yeah,', 95), ('time', 89), ('say', 82), ('let', 78), ('baby,', 77), ('2', 71), ('party', 68), ('would', 65)]\n",
      "\n"
     ]
    },
    {
     "data": {
      "image/png": "[encoded data removed]",
      "text/plain": [
       "<matplotlib.figure.Figure at 0x11fadb780>"
      ]
     },
     "metadata": {},
     "output_type": "display_data"
    }
   ],
   "source": [
    "fdist_80s = nltk.FreqDist(filter_80s)\n",
    "fdist_80s.most_common(10)\n",
    "top_ten_80s = fdist_80s.most_common(10)\n",
    "print(top_ten_80s)\n",
    "#top_ten_80s.plot(30,cumulative=False)\n",
    "names = []\n",
    "values = []\n",
    "for item in top_ten_80s:\n",
    "    names.append(item[0])\n",
    "    values.append(item[1])\n",
    "#print()\n",
    "#print(names)\n",
    "#print()\n",
    "#print(values)\n",
    "print()\n",
    "#plt.bar(range(len(names)),values,tick_label=names)\n",
    "plt.barh(range(len(names)),values,tick_label=names)\n",
    "plt.title(\"Top 10 words in Prince's 80s Songs\")\n",
    "#plt.savefig('bar.png')\n",
    "plt.show()"
   ]
  },
  {
   "cell_type": "code",
   "execution_count": 41,
   "metadata": {},
   "outputs": [
    {
     "data": {
      "text/plain": [
       "<matplotlib.text.Text at 0x11fbf6668>"
      ]
     },
     "execution_count": 41,
     "metadata": {},
     "output_type": "execute_result"
    },
    {
     "data": {
      "image/png": "[encoded data removed]",
      "text/plain": [
       "<matplotlib.figure.Figure at 0x11f88beb8>"
      ]
     },
     "metadata": {},
     "output_type": "display_data"
    }
   ],
   "source": [
    "g = sns.barplot(x =values, y = names )\n",
    "g.axes.set_title('Top 10 Words in Prince 80s Songs', fontsize=20,color=\"b\",alpha= 1.0)"
   ]
  },
  {
   "cell_type": "code",
   "execution_count": 42,
   "metadata": {},
   "outputs": [
    {
     "name": "stdout",
     "output_type": "stream",
     "text": [
      "[('love', 277), ('2', 252), ('yeah,', 226), ('baby,', 224), ('would', 217), ('let', 201), ('oh', 175), ('see', 166), ('go', 156), ('want', 155)]\n"
     ]
    }
   ],
   "source": [
    "word_list_90s = []\n",
    "for item in (prince[prince.decades=='1990s'].lyric_words):\n",
    "    word_list_90s.extend(item)\n",
    "    \n",
    "filter_90s = filtered(word_list_90s)\n",
    "\n",
    "fdist_90s = nltk.FreqDist(filter_90s)\n",
    "fdist_90s.most_common(10)\n",
    "top_ten_90s = fdist_90s.most_common(10)\n",
    "print(top_ten_90s)"
   ]
  },
  {
   "cell_type": "code",
   "execution_count": 43,
   "metadata": {},
   "outputs": [
    {
     "name": "stdout",
     "output_type": "stream",
     "text": [
      "\n",
      "['love', '2', 'yeah,', 'baby,', 'would', 'let', 'oh', 'see', 'go', 'want']\n",
      "\n",
      "[277, 252, 226, 224, 217, 201, 175, 166, 156, 155]\n",
      "\n"
     ]
    },
    {
     "data": {
      "image/png": "[encoded data removed]",
      "text/plain": [
       "<matplotlib.figure.Figure at 0x11fdd7cf8>"
      ]
     },
     "metadata": {},
     "output_type": "display_data"
    }
   ],
   "source": [
    "names = []\n",
    "values = []\n",
    "for item in top_ten_90s:\n",
    "    names.append(item[0])\n",
    "    values.append(item[1])\n",
    "print()\n",
    "print(names)\n",
    "print()\n",
    "print(values)\n",
    "print()\n",
    "#plt.bar(range(len(names)),values,tick_label=names)\n",
    "plt.barh(range(len(names)),values,tick_label=names)\n",
    "#plt.savefig('bar.png')\n",
    "plt.title(\"Top 10 words in Prince's 90s Songs\")\n",
    "plt.show()"
   ]
  },
  {
   "cell_type": "code",
   "execution_count": 44,
   "metadata": {},
   "outputs": [
    {
     "data": {
      "text/plain": [
       "<matplotlib.text.Text at 0x1200175c0>"
      ]
     },
     "execution_count": 44,
     "metadata": {},
     "output_type": "execute_result"
    },
    {
     "data": {
      "image/png": "[encoded data removed]",
      "text/plain": [
       "<matplotlib.figure.Figure at 0x11fd273c8>"
      ]
     },
     "metadata": {},
     "output_type": "display_data"
    }
   ],
   "source": [
    "g = sns.barplot(x =values, y = names )\n",
    "# Set the Title of the graph from here\n",
    "g.axes.set_title('Top 10 Words in Prince 90s Songs', fontsize=20,color=\"b\",alpha=0.88)"
   ]
  },
  {
   "cell_type": "code",
   "execution_count": 45,
   "metadata": {},
   "outputs": [
    {
     "name": "stdout",
     "output_type": "stream",
     "text": [
      "[('eye', 103), ('love', 76), ('want', 59), ('let', 58), ('would', 57), ('never', 56), ('see', 48), ('tell', 37), ('go', 34), ('time', 34)]\n"
     ]
    }
   ],
   "source": [
    "word_list_2000s = []\n",
    "for item in (prince[prince.decades=='2000s'].lyric_words):\n",
    "    word_list_2000s.extend(item)\n",
    "    \n",
    "filter_2000s = filtered(word_list_2000s)\n",
    "\n",
    "fdist_2000s = nltk.FreqDist(filter_2000s)\n",
    "fdist_2000s.most_common(10)\n",
    "top_ten_2000s = fdist_2000s.most_common(10)\n",
    "print(top_ten_2000s)"
   ]
  },
  {
   "cell_type": "code",
   "execution_count": 46,
   "metadata": {},
   "outputs": [
    {
     "name": "stdout",
     "output_type": "stream",
     "text": [
      "\n",
      "['eye', 'love', 'want', 'let', 'would', 'never', 'see', 'tell', 'go', 'time']\n",
      "\n",
      "[103, 76, 59, 58, 57, 56, 48, 37, 34, 34]\n",
      "\n"
     ]
    },
    {
     "data": {
      "image/png": "[encoded data removed]",
      "text/plain": [
       "<matplotlib.figure.Figure at 0x12000a5c0>"
      ]
     },
     "metadata": {},
     "output_type": "display_data"
    }
   ],
   "source": [
    "names = []\n",
    "values = []\n",
    "for item in top_ten_2000s:\n",
    "    names.append(item[0])\n",
    "    values.append(item[1])\n",
    "print()\n",
    "print(names)\n",
    "print()\n",
    "print(values)\n",
    "print()\n",
    "#plt.bar(range(len(names)),values,tick_label=names)\n",
    "plt.barh(range(len(names)),values,tick_label=names)\n",
    "plt.title(\"Top 10 words in Prince's 2000s Songs\")\n",
    "#plt.savefig('bar.png')\n",
    "plt.show()"
   ]
  },
  {
   "cell_type": "code",
   "execution_count": 47,
   "metadata": {},
   "outputs": [
    {
     "data": {
      "text/plain": [
       "<matplotlib.text.Text at 0x11fa84c50>"
      ]
     },
     "execution_count": 47,
     "metadata": {},
     "output_type": "execute_result"
    },
    {
     "data": {
      "image/png": "[encoded data removed]",
      "text/plain": [
       "<matplotlib.figure.Figure at 0x11fa2a048>"
      ]
     },
     "metadata": {},
     "output_type": "display_data"
    }
   ],
   "source": [
    "g = sns.barplot(y = names, x =values )\n",
    "g.axes.set_title('Top 10 Words in Prince 2000s Songs', fontsize=20,color=\"b\",alpha=0.9)"
   ]
  },
  {
   "cell_type": "code",
   "execution_count": 48,
   "metadata": {
    "collapsed": true
   },
   "outputs": [],
   "source": [
    "word_list_2010s = []\n",
    "for item in (prince[prince.decades=='2010s'].lyric_words):\n",
    "    word_list_2010s.extend(item)\n",
    "    \n",
    "filter_2010s = filtered(word_list_2010s)\n",
    "\n",
    "fdist_2010s = nltk.FreqDist(filter_2010s)\n",
    "fdist_2010s.most_common(10)\n",
    "top_ten_2010s = fdist_2010s.most_common(10)\n",
    "#print(top_ten_2010s)"
   ]
  },
  {
   "cell_type": "code",
   "execution_count": 49,
   "metadata": {},
   "outputs": [
    {
     "name": "stdout",
     "output_type": "stream",
     "text": [
      "\n",
      "['could', 'need', 'la', 'us', 'let', 'better', 'nothing', 'hand', 'big', 'love']\n",
      "\n",
      "[35, 33, 32, 30, 30, 25, 24, 24, 23, 21]\n",
      "\n"
     ]
    },
    {
     "data": {
      "image/png": "[encoded data removed]",
      "text/plain": [
       "<matplotlib.figure.Figure at 0x11fafd0f0>"
      ]
     },
     "metadata": {},
     "output_type": "display_data"
    }
   ],
   "source": [
    "names = []\n",
    "values = []\n",
    "for item in top_ten_2010s:\n",
    "    names.append(item[0])\n",
    "    values.append(item[1])\n",
    "print()\n",
    "print(names)\n",
    "print()\n",
    "print(values)\n",
    "print()\n",
    "#plt.bar(range(len(names)),values,tick_label=names)\n",
    "plt.barh(range(len(names)),values,tick_label=names)\n",
    "plt.title(\"Top 10 words in Prince's 2010s Songs\")\n",
    "#plt.savefig('bar.png')\n",
    "plt.show()"
   ]
  },
  {
   "cell_type": "code",
   "execution_count": 50,
   "metadata": {},
   "outputs": [
    {
     "data": {
      "text/plain": [
       "<matplotlib.text.Text at 0x11fc9e2e8>"
      ]
     },
     "execution_count": 50,
     "metadata": {},
     "output_type": "execute_result"
    },
    {
     "data": {
      "image/png": "[encoded data removed]",
      "text/plain": [
       "<matplotlib.figure.Figure at 0x11fee3ba8>"
      ]
     },
     "metadata": {},
     "output_type": "display_data"
    }
   ],
   "source": [
    "#g = sns.barplot(x = names, y =values )\n",
    "g = sns.barplot( x =values ,y = names)\n",
    "g.axes.set_title('Top 10 Words in Prince 2010s Songs', fontsize=20,color=\"b\",alpha=0.9)"
   ]
  },
  {
   "cell_type": "code",
   "execution_count": 51,
   "metadata": {},
   "outputs": [
    {
     "name": "stdout",
     "output_type": "stream",
     "text": [
      "\n",
      "[('love', 56), ('baby,', 35), ('you,', 26), ('sexy', 25), (\"waitin'\", 20), ('dancer,', 18), ('still', 17), ('feel', 16), ('want', 15), ('oh', 13)]\n",
      "\n",
      "[('love', 206), ('want', 103), ('yeah,', 95), ('time', 89), ('say', 82), ('let', 78), ('baby,', 77), ('2', 71), ('party', 68), ('would', 65)]\n",
      "\n",
      "[('love', 277), ('2', 252), ('yeah,', 226), ('baby,', 224), ('would', 217), ('let', 201), ('oh', 175), ('see', 166), ('go', 156), ('want', 155)]\n",
      "\n",
      "[('eye', 103), ('love', 76), ('want', 59), ('let', 58), ('would', 57), ('never', 56), ('see', 48), ('tell', 37), ('go', 34), ('time', 34)]\n",
      "\n",
      "[('could', 35), ('need', 33), ('la', 32), ('us', 30), ('let', 30), ('better', 25), ('nothing', 24), ('hand', 24), ('big', 23), ('love', 21)]\n",
      "\n"
     ]
    }
   ],
   "source": [
    "print()\n",
    "print(top_ten_70s)\n",
    "print()\n",
    "print(top_ten_80s)\n",
    "print()\n",
    "print(top_ten_90s)\n",
    "print()\n",
    "print(top_ten_2000s)\n",
    "print()\n",
    "print(top_ten_2010s)\n",
    "print()"
   ]
  },
  {
   "cell_type": "code",
   "execution_count": 52,
   "metadata": {},
   "outputs": [
    {
     "data": {
      "text/plain": [
       "Index(['lyric', 'song', 'year', 'album', 'peak', 'us_pop', 'us_rnb', 'decades',\n",
       "       'chart_level', 'charted', 'lyric_length', 'lyric_words'],\n",
       "      dtype='object')"
      ]
     },
     "execution_count": 52,
     "metadata": {},
     "output_type": "execute_result"
    }
   ],
   "source": [
    "prince.columns"
   ]
  },
  {
   "cell_type": "code",
   "execution_count": 53,
   "metadata": {
    "collapsed": true
   },
   "outputs": [],
   "source": [
    "#prince.index"
   ]
  },
  {
   "cell_type": "code",
   "execution_count": 54,
   "metadata": {
    "collapsed": true
   },
   "outputs": [],
   "source": [
    "def top_lyric_words(lyric_wrds):\n",
    "    word_list = []\n",
    "    for item in (lyric_wrds):\n",
    "        word_list.extend(item)\n",
    "        #word_list.append(item)\n",
    "    \n",
    "    filter_list = filtered(word_list)\n",
    "    fdist_new = nltk.FreqDist(filter_list)\n",
    "    fdist_new.most_common(10)\n",
    "    top_ten = fdist_new.most_common(10)\n",
    "    return top_ten"
   ]
  },
  {
   "cell_type": "code",
   "execution_count": 55,
   "metadata": {
    "collapsed": true
   },
   "outputs": [],
   "source": [
    "def top_guns(lyric_wrds):\n",
    "    \n",
    "    filter_list = filtered(lyric_wrds)\n",
    "    fdist_new = nltk.FreqDist(filter_list)\n",
    "    fdist_new.most_common(10)\n",
    "    top_ten = fdist_new.most_common(10)\n",
    "    return top_ten"
   ]
  },
  {
   "cell_type": "code",
   "execution_count": 56,
   "metadata": {
    "collapsed": true
   },
   "outputs": [],
   "source": [
    "#prince['most_common_words'] = prince.lyric_words.apply(top_lyric_words)"
   ]
  },
  {
   "cell_type": "code",
   "execution_count": 57,
   "metadata": {
    "collapsed": true
   },
   "outputs": [],
   "source": [
    "#prince.head(200)"
   ]
  },
  {
   "cell_type": "code",
   "execution_count": 58,
   "metadata": {},
   "outputs": [
    {
     "data": {
      "text/plain": [
       "decades\n",
       "1970s      [(love, 56), (baby,, 35), (you,, 26), (sexy, 2...\n",
       "1980s      [(love, 206), (want, 103), (yeah,, 95), (time,...\n",
       "1990s      [(love, 277), (2, 252), (yeah,, 226), (baby,, ...\n",
       "2000s      [(eye, 103), (love, 76), (want, 59), (let, 58)...\n",
       "2010s      [(could, 35), (need, 33), (la, 32), (us, 30), ...\n",
       "unknown    [(2, 2122), (love, 1009), (baby,, 639), (let, ...\n",
       "Name: lyric_words, dtype: object"
      ]
     },
     "execution_count": 58,
     "metadata": {},
     "output_type": "execute_result"
    }
   ],
   "source": [
    "prince.groupby('decades').lyric_words.agg(top_lyric_words)"
   ]
  },
  {
   "cell_type": "code",
   "execution_count": 59,
   "metadata": {},
   "outputs": [
    {
     "name": "stdout",
     "output_type": "stream",
     "text": [
      "\n",
      "292687\n",
      "\n",
      "140390\n",
      "\n"
     ]
    },
    {
     "data": {
      "text/plain": [
       "[('love', 1645),\n",
       " ('baby,', 995),\n",
       " ('want', 810),\n",
       " ('would', 801),\n",
       " ('time', 735),\n",
       " ('yeah,', 679),\n",
       " ('could', 579),\n",
       " ('tell', 577),\n",
       " ('never', 563),\n",
       " ('take', 484)]"
      ]
     },
     "execution_count": 59,
     "metadata": {},
     "output_type": "execute_result"
    }
   ],
   "source": [
    "# Determine the 10 most common words found in all of Prince's songs/lyrics\n",
    "all_lyric_wrds = []\n",
    "for item in (prince.lyric_words):\n",
    "    all_lyric_wrds.extend(item)\n",
    "    \n",
    "all_wrds = []\n",
    "for item in all_lyric_wrds:\n",
    "    #print(len(item))\n",
    "    if len(item)> 2:\n",
    "        all_wrds.append(item)\n",
    "catbert = [wrd for wrd in all_lyric_wrds if len(wrd) > 3]        \n",
    "print()        \n",
    "print(len(all_lyric_wrds))\n",
    "print()\n",
    "print(len(catbert))\n",
    "print()\n",
    "top_guns(catbert)\n",
    "\n"
   ]
  },
  {
   "cell_type": "code",
   "execution_count": 60,
   "metadata": {},
   "outputs": [
    {
     "data": {
      "text/plain": [
       "lyric_length    1557.046512\n",
       "dtype: float64"
      ]
     },
     "execution_count": 60,
     "metadata": {},
     "output_type": "execute_result"
    }
   ],
   "source": [
    "\n",
    "prince.loc[prince['chart_level']== 'Top 10',['lyric_length']].mean()"
   ]
  },
  {
   "cell_type": "code",
   "execution_count": 61,
   "metadata": {},
   "outputs": [
    {
     "data": {
      "text/plain": [
       "lyric_length    1393.64\n",
       "dtype: float64"
      ]
     },
     "execution_count": 61,
     "metadata": {},
     "output_type": "execute_result"
    }
   ],
   "source": [
    "prince.loc[prince['chart_level']== 'Top 100',['lyric_length']].mean()"
   ]
  },
  {
   "cell_type": "code",
   "execution_count": 62,
   "metadata": {},
   "outputs": [
    {
     "data": {
      "text/plain": [
       "<matplotlib.axes._subplots.AxesSubplot at 0x11fff6eb8>"
      ]
     },
     "execution_count": 62,
     "metadata": {},
     "output_type": "execute_result"
    },
    {
     "data": {
      "image/png": "[encoded data removed]",
      "text/plain": [
       "<matplotlib.figure.Figure at 0x1202c0128>"
      ]
     },
     "metadata": {},
     "output_type": "display_data"
    }
   ],
   "source": [
    "prince.boxplot(column='lyric_length', by=['chart_level'])"
   ]
  },
  {
   "cell_type": "code",
   "execution_count": 63,
   "metadata": {
    "collapsed": true
   },
   "outputs": [],
   "source": [
    "#prince['lyric_words_num'] = len(prince['lyric_words'])\n",
    "prince['lyric_words_num'] = prince['lyric_words'].apply(len)"
   ]
  },
  {
   "cell_type": "code",
   "execution_count": 64,
   "metadata": {},
   "outputs": [
    {
     "data": {
      "text/html": [
       "<div>\n",
       "<style>\n",
       "    .dataframe thead tr:only-child th {\n",
       "        text-align: right;\n",
       "    }\n",
       "\n",
       "    .dataframe thead th {\n",
       "        text-align: left;\n",
       "    }\n",
       "\n",
       "    .dataframe tbody tr th {\n",
       "        vertical-align: top;\n",
       "    }\n",
       "</style>\n",
       "<table border=\"1\" class=\"dataframe\">\n",
       "  <thead>\n",
       "    <tr style=\"text-align: right;\">\n",
       "      <th></th>\n",
       "      <th>lyric</th>\n",
       "      <th>song</th>\n",
       "      <th>year</th>\n",
       "      <th>album</th>\n",
       "      <th>peak</th>\n",
       "      <th>us_pop</th>\n",
       "      <th>us_rnb</th>\n",
       "      <th>decades</th>\n",
       "      <th>chart_level</th>\n",
       "      <th>charted</th>\n",
       "      <th>lyric_length</th>\n",
       "      <th>lyric_words</th>\n",
       "      <th>lyric_words_num</th>\n",
       "    </tr>\n",
       "  </thead>\n",
       "  <tbody>\n",
       "    <tr>\n",
       "      <th>0</th>\n",
       "      <td>all 7 and we will watch them fall they stand i...</td>\n",
       "      <td>7</td>\n",
       "      <td>1992.0</td>\n",
       "      <td>Symbol</td>\n",
       "      <td>3.0</td>\n",
       "      <td>7</td>\n",
       "      <td>61</td>\n",
       "      <td>1990s</td>\n",
       "      <td>Top 10</td>\n",
       "      <td>Charted</td>\n",
       "      <td>2146</td>\n",
       "      <td>[all, 7, and, we, will, watch, them, fall, the...</td>\n",
       "      <td>469</td>\n",
       "    </tr>\n",
       "    <tr>\n",
       "      <th>1</th>\n",
       "      <td>319, 'bout time, come in, ow, 319 take off you...</td>\n",
       "      <td>319</td>\n",
       "      <td>0.0</td>\n",
       "      <td>NaN</td>\n",
       "      <td>NaN</td>\n",
       "      <td>NaN</td>\n",
       "      <td>NaN</td>\n",
       "      <td>unknown</td>\n",
       "      <td>Uncharted</td>\n",
       "      <td>Uncharted</td>\n",
       "      <td>1075</td>\n",
       "      <td>[319,, 'bout, time,, come, in,, ow,, 319, take...</td>\n",
       "      <td>233</td>\n",
       "    </tr>\n",
       "    <tr>\n",
       "      <th>2</th>\n",
       "      <td>do not worry, i will not hurt you i only want ...</td>\n",
       "      <td>1999</td>\n",
       "      <td>1982.0</td>\n",
       "      <td>1999</td>\n",
       "      <td>2.0</td>\n",
       "      <td>12</td>\n",
       "      <td>4</td>\n",
       "      <td>1980s</td>\n",
       "      <td>Top 10</td>\n",
       "      <td>Charted</td>\n",
       "      <td>2380</td>\n",
       "      <td>[do, not, worry,, i, will, not, hurt, you, i, ...</td>\n",
       "      <td>488</td>\n",
       "    </tr>\n",
       "    <tr>\n",
       "      <th>3</th>\n",
       "      <td>prince miscellaneous 2020 the year is 2020  an...</td>\n",
       "      <td>2020</td>\n",
       "      <td>0.0</td>\n",
       "      <td>Other Songs</td>\n",
       "      <td>NaN</td>\n",
       "      <td>NaN</td>\n",
       "      <td>NaN</td>\n",
       "      <td>unknown</td>\n",
       "      <td>Uncharted</td>\n",
       "      <td>Uncharted</td>\n",
       "      <td>410</td>\n",
       "      <td>[prince, miscellaneous, 2020, the, year, is, 2...</td>\n",
       "      <td>88</td>\n",
       "    </tr>\n",
       "    <tr>\n",
       "      <th>4</th>\n",
       "      <td>one mix, one mix, one mix, one mix one mix, on...</td>\n",
       "      <td>3121</td>\n",
       "      <td>2006.0</td>\n",
       "      <td>3121</td>\n",
       "      <td>1.0</td>\n",
       "      <td>1</td>\n",
       "      <td>1</td>\n",
       "      <td>2000s</td>\n",
       "      <td>Top 10</td>\n",
       "      <td>Charted</td>\n",
       "      <td>1408</td>\n",
       "      <td>[one, mix,, one, mix,, one, mix,, one, mix, on...</td>\n",
       "      <td>286</td>\n",
       "    </tr>\n",
       "  </tbody>\n",
       "</table>\n",
       "</div>"
      ],
      "text/plain": [
       "                                               lyric  song    year  \\\n",
       "0  all 7 and we will watch them fall they stand i...     7  1992.0   \n",
       "1  319, 'bout time, come in, ow, 319 take off you...   319     0.0   \n",
       "2  do not worry, i will not hurt you i only want ...  1999  1982.0   \n",
       "3  prince miscellaneous 2020 the year is 2020  an...  2020     0.0   \n",
       "4  one mix, one mix, one mix, one mix one mix, on...  3121  2006.0   \n",
       "\n",
       "         album  peak us_pop us_rnb  decades chart_level    charted  \\\n",
       "0       Symbol   3.0      7     61    1990s      Top 10    Charted   \n",
       "1          NaN   NaN    NaN    NaN  unknown   Uncharted  Uncharted   \n",
       "2         1999   2.0     12      4    1980s      Top 10    Charted   \n",
       "3  Other Songs   NaN    NaN    NaN  unknown   Uncharted  Uncharted   \n",
       "4         3121   1.0      1      1    2000s      Top 10    Charted   \n",
       "\n",
       "   lyric_length                                        lyric_words  \\\n",
       "0          2146  [all, 7, and, we, will, watch, them, fall, the...   \n",
       "1          1075  [319,, 'bout, time,, come, in,, ow,, 319, take...   \n",
       "2          2380  [do, not, worry,, i, will, not, hurt, you, i, ...   \n",
       "3           410  [prince, miscellaneous, 2020, the, year, is, 2...   \n",
       "4          1408  [one, mix,, one, mix,, one, mix,, one, mix, on...   \n",
       "\n",
       "   lyric_words_num  \n",
       "0              469  \n",
       "1              233  \n",
       "2              488  \n",
       "3               88  \n",
       "4              286  "
      ]
     },
     "execution_count": 64,
     "metadata": {},
     "output_type": "execute_result"
    }
   ],
   "source": [
    "prince.head()"
   ]
  },
  {
   "cell_type": "code",
   "execution_count": 65,
   "metadata": {},
   "outputs": [
    {
     "data": {
      "text/plain": [
       "<matplotlib.axes._subplots.AxesSubplot at 0x11f85d470>"
      ]
     },
     "execution_count": 65,
     "metadata": {},
     "output_type": "execute_result"
    },
    {
     "data": {
      "image/png": "[encoded data removed]",
      "text/plain": [
       "<matplotlib.figure.Figure at 0x11ac08128>"
      ]
     },
     "metadata": {},
     "output_type": "display_data"
    }
   ],
   "source": [
    "prince.boxplot(column='lyric_words_num', by=['chart_level'])"
   ]
  },
  {
   "cell_type": "code",
   "execution_count": 66,
   "metadata": {
    "collapsed": true
   },
   "outputs": [],
   "source": [
    "df_3 = prince[['chart_level','lyric_words_num']]"
   ]
  },
  {
   "cell_type": "code",
   "execution_count": 67,
   "metadata": {},
   "outputs": [
    {
     "data": {
      "text/plain": [
       "chart_level\n",
       "Top 10       333.302326\n",
       "Top 100      290.760000\n",
       "Uncharted    358.579365\n",
       "Name: lyric_words_num, dtype: float64"
      ]
     },
     "execution_count": 67,
     "metadata": {},
     "output_type": "execute_result"
    }
   ],
   "source": [
    "#df_3\n",
    "df_3['lyric_words_num'].groupby(prince['chart_level']).mean()"
   ]
  },
  {
   "cell_type": "code",
   "execution_count": 68,
   "metadata": {},
   "outputs": [
    {
     "data": {
      "text/html": [
       "<div>\n",
       "<style>\n",
       "    .dataframe thead tr:only-child th {\n",
       "        text-align: right;\n",
       "    }\n",
       "\n",
       "    .dataframe thead th {\n",
       "        text-align: left;\n",
       "    }\n",
       "\n",
       "    .dataframe tbody tr th {\n",
       "        vertical-align: top;\n",
       "    }\n",
       "</style>\n",
       "<table border=\"1\" class=\"dataframe\">\n",
       "  <thead>\n",
       "    <tr style=\"text-align: right;\">\n",
       "      <th></th>\n",
       "      <th>chart_level</th>\n",
       "      <th>lyric_words_num</th>\n",
       "    </tr>\n",
       "  </thead>\n",
       "  <tbody>\n",
       "    <tr>\n",
       "      <th>0</th>\n",
       "      <td>Top 10</td>\n",
       "      <td>469</td>\n",
       "    </tr>\n",
       "    <tr>\n",
       "      <th>1</th>\n",
       "      <td>Uncharted</td>\n",
       "      <td>233</td>\n",
       "    </tr>\n",
       "    <tr>\n",
       "      <th>2</th>\n",
       "      <td>Top 10</td>\n",
       "      <td>488</td>\n",
       "    </tr>\n",
       "    <tr>\n",
       "      <th>3</th>\n",
       "      <td>Uncharted</td>\n",
       "      <td>88</td>\n",
       "    </tr>\n",
       "    <tr>\n",
       "      <th>4</th>\n",
       "      <td>Top 10</td>\n",
       "      <td>286</td>\n",
       "    </tr>\n",
       "    <tr>\n",
       "      <th>5</th>\n",
       "      <td>Uncharted</td>\n",
       "      <td>324</td>\n",
       "    </tr>\n",
       "    <tr>\n",
       "      <th>6</th>\n",
       "      <td>Uncharted</td>\n",
       "      <td>246</td>\n",
       "    </tr>\n",
       "    <tr>\n",
       "      <th>7</th>\n",
       "      <td>Uncharted</td>\n",
       "      <td>257</td>\n",
       "    </tr>\n",
       "    <tr>\n",
       "      <th>8</th>\n",
       "      <td>Uncharted</td>\n",
       "      <td>685</td>\n",
       "    </tr>\n",
       "    <tr>\n",
       "      <th>9</th>\n",
       "      <td>Uncharted</td>\n",
       "      <td>379</td>\n",
       "    </tr>\n",
       "    <tr>\n",
       "      <th>10</th>\n",
       "      <td>Uncharted</td>\n",
       "      <td>315</td>\n",
       "    </tr>\n",
       "    <tr>\n",
       "      <th>11</th>\n",
       "      <td>Uncharted</td>\n",
       "      <td>320</td>\n",
       "    </tr>\n",
       "    <tr>\n",
       "      <th>12</th>\n",
       "      <td>Uncharted</td>\n",
       "      <td>59</td>\n",
       "    </tr>\n",
       "    <tr>\n",
       "      <th>13</th>\n",
       "      <td>Uncharted</td>\n",
       "      <td>249</td>\n",
       "    </tr>\n",
       "    <tr>\n",
       "      <th>14</th>\n",
       "      <td>Uncharted</td>\n",
       "      <td>283</td>\n",
       "    </tr>\n",
       "    <tr>\n",
       "      <th>15</th>\n",
       "      <td>Uncharted</td>\n",
       "      <td>193</td>\n",
       "    </tr>\n",
       "    <tr>\n",
       "      <th>16</th>\n",
       "      <td>Uncharted</td>\n",
       "      <td>595</td>\n",
       "    </tr>\n",
       "    <tr>\n",
       "      <th>17</th>\n",
       "      <td>Uncharted</td>\n",
       "      <td>611</td>\n",
       "    </tr>\n",
       "    <tr>\n",
       "      <th>18</th>\n",
       "      <td>Uncharted</td>\n",
       "      <td>320</td>\n",
       "    </tr>\n",
       "    <tr>\n",
       "      <th>19</th>\n",
       "      <td>Uncharted</td>\n",
       "      <td>424</td>\n",
       "    </tr>\n",
       "  </tbody>\n",
       "</table>\n",
       "</div>"
      ],
      "text/plain": [
       "   chart_level  lyric_words_num\n",
       "0       Top 10              469\n",
       "1    Uncharted              233\n",
       "2       Top 10              488\n",
       "3    Uncharted               88\n",
       "4       Top 10              286\n",
       "5    Uncharted              324\n",
       "6    Uncharted              246\n",
       "7    Uncharted              257\n",
       "8    Uncharted              685\n",
       "9    Uncharted              379\n",
       "10   Uncharted              315\n",
       "11   Uncharted              320\n",
       "12   Uncharted               59\n",
       "13   Uncharted              249\n",
       "14   Uncharted              283\n",
       "15   Uncharted              193\n",
       "16   Uncharted              595\n",
       "17   Uncharted              611\n",
       "18   Uncharted              320\n",
       "19   Uncharted              424"
      ]
     },
     "execution_count": 68,
     "metadata": {},
     "output_type": "execute_result"
    }
   ],
   "source": [
    "df_3.head(20)"
   ]
  },
  {
   "cell_type": "code",
   "execution_count": null,
   "metadata": {
    "collapsed": true
   },
   "outputs": [],
   "source": []
  }
 ],
 "metadata": {
  "kernelspec": {
   "display_name": "Python 3",
   "language": "python",
   "name": "python3"
  },
  "language_info": {
   "codemirror_mode": {
    "name": "ipython",
    "version": 3
   },
   "file_extension": ".py",
   "mimetype": "text/x-python",
   "name": "python",
   "nbconvert_exporter": "python",
   "pygments_lexer": "ipython3",
   "version": "3.6.0"
  }
 },
 "nbformat": 4,
 "nbformat_minor": 2
}
