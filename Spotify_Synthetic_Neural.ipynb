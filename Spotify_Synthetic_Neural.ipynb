{
 "cells": [
  {
   "cell_type": "code",
   "execution_count": 1,
   "metadata": {
    "collapsed": true
   },
   "outputs": [],
   "source": [
    "import pandas as pd\n",
    "import seaborn as sns\n",
    "import numpy as np\n",
    "import time\n",
    "import re\n",
    "import nltk\n",
    "import math\n",
    "import os\n",
    "import matplotlib.pyplot as plt\n",
    "import sklearn.metrics\n",
    "from sklearn.metrics import confusion_matrix\n",
    "from sklearn import svm\n",
    "from sklearn.ensemble import GradientBoostingClassifier, VotingClassifier\n",
    "from sklearn.tree import DecisionTreeClassifier\n",
    "from sklearn.preprocessing import StandardScaler\n",
    "from sklearn.model_selection import train_test_split, GridSearchCV\n",
    "from sklearn.linear_model import LogisticRegression\n",
    "from sklearn.neighbors import KNeighborsClassifier\n",
    "from sklearn.ensemble import RandomForestClassifier\n",
    "from sklearn.naive_bayes import MultinomialNB\n",
    "from sklearn.svm import SVC\n",
    "from nltk.corpus import stopwords\n",
    "from sklearn.feature_extraction.text import TfidfVectorizer\n",
    "from sklearn.feature_extraction.text import CountVectorizer\n",
    "from sklearn.metrics import roc_auc_score\n",
    "\n",
    "%matplotlib inline"
   ]
  },
  {
   "cell_type": "code",
   "execution_count": 2,
   "metadata": {
    "collapsed": true
   },
   "outputs": [],
   "source": [
    "from imblearn.over_sampling import SMOTE"
   ]
  },
  {
   "cell_type": "code",
   "execution_count": 3,
   "metadata": {
    "collapsed": true
   },
   "outputs": [],
   "source": [
    "# follow the link below for a very useful tutorial on SMOTE\n",
    "# https://medium.com/@saeedAR/smote-and-near-miss-in-python-machine-learning-in-imbalanced-datasets-b7976d9a7a79"
   ]
  },
  {
   "cell_type": "code",
   "execution_count": 4,
   "metadata": {
    "collapsed": true
   },
   "outputs": [],
   "source": [
    "## data from R library 'billboard'"
   ]
  },
  {
   "cell_type": "code",
   "execution_count": 5,
   "metadata": {},
   "outputs": [
    {
     "data": {
      "text/html": [
       "<div>\n",
       "<style scoped>\n",
       "    .dataframe tbody tr th:only-of-type {\n",
       "        vertical-align: middle;\n",
       "    }\n",
       "\n",
       "    .dataframe tbody tr th {\n",
       "        vertical-align: top;\n",
       "    }\n",
       "\n",
       "    .dataframe thead th {\n",
       "        text-align: right;\n",
       "    }\n",
       "</style>\n",
       "<table border=\"1\" class=\"dataframe\">\n",
       "  <thead>\n",
       "    <tr style=\"text-align: right;\">\n",
       "      <th></th>\n",
       "      <th>no</th>\n",
       "      <th>title</th>\n",
       "      <th>artist</th>\n",
       "      <th>year</th>\n",
       "    </tr>\n",
       "  </thead>\n",
       "  <tbody>\n",
       "    <tr>\n",
       "      <th>1</th>\n",
       "      <td>1</td>\n",
       "      <td>Theme from A Summer Place</td>\n",
       "      <td>Percy Faith</td>\n",
       "      <td>1960</td>\n",
       "    </tr>\n",
       "    <tr>\n",
       "      <th>2</th>\n",
       "      <td>2</td>\n",
       "      <td>He'll Have to Go</td>\n",
       "      <td>Jim Reeves</td>\n",
       "      <td>1960</td>\n",
       "    </tr>\n",
       "    <tr>\n",
       "      <th>3</th>\n",
       "      <td>3</td>\n",
       "      <td>Cathy's Clown</td>\n",
       "      <td>The Everly Brothers</td>\n",
       "      <td>1960</td>\n",
       "    </tr>\n",
       "    <tr>\n",
       "      <th>4</th>\n",
       "      <td>4</td>\n",
       "      <td>Running Bear</td>\n",
       "      <td>Johnny Preston</td>\n",
       "      <td>1960</td>\n",
       "    </tr>\n",
       "    <tr>\n",
       "      <th>5</th>\n",
       "      <td>5</td>\n",
       "      <td>Teen Angel</td>\n",
       "      <td>Mark Dinning</td>\n",
       "      <td>1960</td>\n",
       "    </tr>\n",
       "    <tr>\n",
       "      <th>6</th>\n",
       "      <td>6</td>\n",
       "      <td>I'm Sorry</td>\n",
       "      <td>Brenda Lee</td>\n",
       "      <td>1960</td>\n",
       "    </tr>\n",
       "    <tr>\n",
       "      <th>7</th>\n",
       "      <td>7</td>\n",
       "      <td>It's Now or Never</td>\n",
       "      <td>Elvis Presley</td>\n",
       "      <td>1960</td>\n",
       "    </tr>\n",
       "    <tr>\n",
       "      <th>8</th>\n",
       "      <td>8</td>\n",
       "      <td>Handy Man</td>\n",
       "      <td>Jimmy Jones</td>\n",
       "      <td>1960</td>\n",
       "    </tr>\n",
       "    <tr>\n",
       "      <th>9</th>\n",
       "      <td>9</td>\n",
       "      <td>Stuck on You</td>\n",
       "      <td>Elvis Presley</td>\n",
       "      <td>1960</td>\n",
       "    </tr>\n",
       "    <tr>\n",
       "      <th>10</th>\n",
       "      <td>10</td>\n",
       "      <td>The Twist</td>\n",
       "      <td>Chubby Checker</td>\n",
       "      <td>1960</td>\n",
       "    </tr>\n",
       "    <tr>\n",
       "      <th>11</th>\n",
       "      <td>11</td>\n",
       "      <td>Everybody's Somebody's Fool</td>\n",
       "      <td>Connie Francis</td>\n",
       "      <td>1960</td>\n",
       "    </tr>\n",
       "    <tr>\n",
       "      <th>12</th>\n",
       "      <td>12</td>\n",
       "      <td>Wild One</td>\n",
       "      <td>Bobby Rydell</td>\n",
       "      <td>1960</td>\n",
       "    </tr>\n",
       "    <tr>\n",
       "      <th>13</th>\n",
       "      <td>13</td>\n",
       "      <td>Greenfields</td>\n",
       "      <td>The Brothers Four</td>\n",
       "      <td>1960</td>\n",
       "    </tr>\n",
       "    <tr>\n",
       "      <th>14</th>\n",
       "      <td>14</td>\n",
       "      <td>What in the World's Come Over You</td>\n",
       "      <td>Jack Scott</td>\n",
       "      <td>1960</td>\n",
       "    </tr>\n",
       "    <tr>\n",
       "      <th>15</th>\n",
       "      <td>15</td>\n",
       "      <td>El Paso</td>\n",
       "      <td>Marty Robbins</td>\n",
       "      <td>1960</td>\n",
       "    </tr>\n",
       "    <tr>\n",
       "      <th>16</th>\n",
       "      <td>16</td>\n",
       "      <td>Alley Oop</td>\n",
       "      <td>The Hollywood Argyles</td>\n",
       "      <td>1960</td>\n",
       "    </tr>\n",
       "    <tr>\n",
       "      <th>17</th>\n",
       "      <td>17</td>\n",
       "      <td>My Heart Has a Mind of Its Own</td>\n",
       "      <td>Connie Francis</td>\n",
       "      <td>1960</td>\n",
       "    </tr>\n",
       "    <tr>\n",
       "      <th>18</th>\n",
       "      <td>18</td>\n",
       "      <td>Sweet Nothin's</td>\n",
       "      <td>Brenda Lee</td>\n",
       "      <td>1960</td>\n",
       "    </tr>\n",
       "    <tr>\n",
       "      <th>19</th>\n",
       "      <td>19</td>\n",
       "      <td>Itsy Bitsy Teenie Weenie Yellow Polka Dot Bikini</td>\n",
       "      <td>Brian Hyland</td>\n",
       "      <td>1960</td>\n",
       "    </tr>\n",
       "    <tr>\n",
       "      <th>20</th>\n",
       "      <td>20</td>\n",
       "      <td>Only the Lonely</td>\n",
       "      <td>Roy Orbison</td>\n",
       "      <td>1960</td>\n",
       "    </tr>\n",
       "    <tr>\n",
       "      <th>21</th>\n",
       "      <td>21</td>\n",
       "      <td>Where or When</td>\n",
       "      <td>Dion and the Belmonts</td>\n",
       "      <td>1960</td>\n",
       "    </tr>\n",
       "    <tr>\n",
       "      <th>22</th>\n",
       "      <td>22</td>\n",
       "      <td>Sixteen Reasons</td>\n",
       "      <td>Connie Stevens</td>\n",
       "      <td>1960</td>\n",
       "    </tr>\n",
       "    <tr>\n",
       "      <th>23</th>\n",
       "      <td>23</td>\n",
       "      <td>Puppy Love</td>\n",
       "      <td>Paul Anka</td>\n",
       "      <td>1960</td>\n",
       "    </tr>\n",
       "    <tr>\n",
       "      <th>24</th>\n",
       "      <td>24</td>\n",
       "      <td>Why</td>\n",
       "      <td>Frankie Avalon</td>\n",
       "      <td>1960</td>\n",
       "    </tr>\n",
       "    <tr>\n",
       "      <th>25</th>\n",
       "      <td>25</td>\n",
       "      <td>Walk, Don't Run</td>\n",
       "      <td>The Ventures</td>\n",
       "      <td>1960</td>\n",
       "    </tr>\n",
       "    <tr>\n",
       "      <th>26</th>\n",
       "      <td>26</td>\n",
       "      <td>Save the Last Dance for Me</td>\n",
       "      <td>The Drifters</td>\n",
       "      <td>1960</td>\n",
       "    </tr>\n",
       "    <tr>\n",
       "      <th>27</th>\n",
       "      <td>27</td>\n",
       "      <td>Baby (You've Got What It Takes)</td>\n",
       "      <td>Dinah Washington &amp; Brook Benton</td>\n",
       "      <td>1960</td>\n",
       "    </tr>\n",
       "    <tr>\n",
       "      <th>28</th>\n",
       "      <td>28</td>\n",
       "      <td>Sink the Bismarck</td>\n",
       "      <td>Johnny Horton</td>\n",
       "      <td>1960</td>\n",
       "    </tr>\n",
       "    <tr>\n",
       "      <th>29</th>\n",
       "      <td>29</td>\n",
       "      <td>Chain Gang</td>\n",
       "      <td>Sam Cooke</td>\n",
       "      <td>1960</td>\n",
       "    </tr>\n",
       "    <tr>\n",
       "      <th>30</th>\n",
       "      <td>30</td>\n",
       "      <td>Let It Be Me</td>\n",
       "      <td>The Everly Brothers</td>\n",
       "      <td>1960</td>\n",
       "    </tr>\n",
       "    <tr>\n",
       "      <th>...</th>\n",
       "      <td>...</td>\n",
       "      <td>...</td>\n",
       "      <td>...</td>\n",
       "      <td>...</td>\n",
       "    </tr>\n",
       "    <tr>\n",
       "      <th>121</th>\n",
       "      <td>21</td>\n",
       "      <td>Mother-in-Law</td>\n",
       "      <td>Ernie K-Doe</td>\n",
       "      <td>1961</td>\n",
       "    </tr>\n",
       "    <tr>\n",
       "      <th>122</th>\n",
       "      <td>22</td>\n",
       "      <td>Bristol Stomp</td>\n",
       "      <td>The Dovells</td>\n",
       "      <td>1961</td>\n",
       "    </tr>\n",
       "    <tr>\n",
       "      <th>123</th>\n",
       "      <td>23</td>\n",
       "      <td>Travelin' Man</td>\n",
       "      <td>Ricky Nelson</td>\n",
       "      <td>1961</td>\n",
       "    </tr>\n",
       "    <tr>\n",
       "      <th>124</th>\n",
       "      <td>24</td>\n",
       "      <td>Shop Around</td>\n",
       "      <td>The Miracles</td>\n",
       "      <td>1961</td>\n",
       "    </tr>\n",
       "    <tr>\n",
       "      <th>125</th>\n",
       "      <td>25</td>\n",
       "      <td>The Boll Weevil Song</td>\n",
       "      <td>Brook Benton</td>\n",
       "      <td>1961</td>\n",
       "    </tr>\n",
       "    <tr>\n",
       "      <th>126</th>\n",
       "      <td>26</td>\n",
       "      <td>A Hundred Pounds of Clay</td>\n",
       "      <td>Gene McDaniels</td>\n",
       "      <td>1961</td>\n",
       "    </tr>\n",
       "    <tr>\n",
       "      <th>127</th>\n",
       "      <td>27</td>\n",
       "      <td>The Mountain's High</td>\n",
       "      <td>Dick and Dee Dee</td>\n",
       "      <td>1961</td>\n",
       "    </tr>\n",
       "    <tr>\n",
       "      <th>128</th>\n",
       "      <td>28</td>\n",
       "      <td>Don't Worry</td>\n",
       "      <td>Marty Robbins</td>\n",
       "      <td>1961</td>\n",
       "    </tr>\n",
       "    <tr>\n",
       "      <th>129</th>\n",
       "      <td>29</td>\n",
       "      <td>On the Rebound</td>\n",
       "      <td>Floyd Cramer</td>\n",
       "      <td>1961</td>\n",
       "    </tr>\n",
       "    <tr>\n",
       "      <th>130</th>\n",
       "      <td>30</td>\n",
       "      <td>Portrait of My Love</td>\n",
       "      <td>Steve Lawrence</td>\n",
       "      <td>1961</td>\n",
       "    </tr>\n",
       "    <tr>\n",
       "      <th>131</th>\n",
       "      <td>31</td>\n",
       "      <td>Quarter to Three</td>\n",
       "      <td>Gary U.S. Bonds</td>\n",
       "      <td>1961</td>\n",
       "    </tr>\n",
       "    <tr>\n",
       "      <th>132</th>\n",
       "      <td>32</td>\n",
       "      <td>Who Put the Bomp (in the Bomp, Bomp, Bomp)</td>\n",
       "      <td>Barry Mann</td>\n",
       "      <td>1961</td>\n",
       "    </tr>\n",
       "    <tr>\n",
       "      <th>133</th>\n",
       "      <td>33</td>\n",
       "      <td>Calendar Girl</td>\n",
       "      <td>Neil Sedaka</td>\n",
       "      <td>1961</td>\n",
       "    </tr>\n",
       "    <tr>\n",
       "      <th>134</th>\n",
       "      <td>34</td>\n",
       "      <td>I Like It Like That</td>\n",
       "      <td>Chris Kenner</td>\n",
       "      <td>1961</td>\n",
       "    </tr>\n",
       "    <tr>\n",
       "      <th>135</th>\n",
       "      <td>35</td>\n",
       "      <td>Apache</td>\n",
       "      <td>Jørgen Ingmann</td>\n",
       "      <td>1961</td>\n",
       "    </tr>\n",
       "    <tr>\n",
       "      <th>136</th>\n",
       "      <td>36</td>\n",
       "      <td>Don't Bet Money Honey</td>\n",
       "      <td>Linda Scott</td>\n",
       "      <td>1961</td>\n",
       "    </tr>\n",
       "    <tr>\n",
       "      <th>137</th>\n",
       "      <td>37</td>\n",
       "      <td>Without You</td>\n",
       "      <td>Johnny Tillotson</td>\n",
       "      <td>1961</td>\n",
       "    </tr>\n",
       "    <tr>\n",
       "      <th>138</th>\n",
       "      <td>38</td>\n",
       "      <td>Goodbye Cruel World</td>\n",
       "      <td>James Darren</td>\n",
       "      <td>1961</td>\n",
       "    </tr>\n",
       "    <tr>\n",
       "      <th>139</th>\n",
       "      <td>39</td>\n",
       "      <td>Little Sister</td>\n",
       "      <td>Elvis Presley</td>\n",
       "      <td>1961</td>\n",
       "    </tr>\n",
       "    <tr>\n",
       "      <th>140</th>\n",
       "      <td>40</td>\n",
       "      <td>Blue Moon</td>\n",
       "      <td>The Marcels</td>\n",
       "      <td>1961</td>\n",
       "    </tr>\n",
       "    <tr>\n",
       "      <th>141</th>\n",
       "      <td>41</td>\n",
       "      <td>Daddy's Home</td>\n",
       "      <td>Shep and the Limelites</td>\n",
       "      <td>1961</td>\n",
       "    </tr>\n",
       "    <tr>\n",
       "      <th>142</th>\n",
       "      <td>42</td>\n",
       "      <td>This Time</td>\n",
       "      <td>Troy Shondell</td>\n",
       "      <td>1961</td>\n",
       "    </tr>\n",
       "    <tr>\n",
       "      <th>143</th>\n",
       "      <td>43</td>\n",
       "      <td>(I Don't Know Why) But I Do</td>\n",
       "      <td>Clarence \"Frogman\" Henry</td>\n",
       "      <td>1961</td>\n",
       "    </tr>\n",
       "    <tr>\n",
       "      <th>144</th>\n",
       "      <td>44</td>\n",
       "      <td>Asia Minor</td>\n",
       "      <td>Kokomo</td>\n",
       "      <td>1961</td>\n",
       "    </tr>\n",
       "    <tr>\n",
       "      <th>145</th>\n",
       "      <td>45</td>\n",
       "      <td>Hello Walls</td>\n",
       "      <td>Faron Young</td>\n",
       "      <td>1961</td>\n",
       "    </tr>\n",
       "    <tr>\n",
       "      <th>146</th>\n",
       "      <td>46</td>\n",
       "      <td>Runaround Sue</td>\n",
       "      <td>Dion</td>\n",
       "      <td>1961</td>\n",
       "    </tr>\n",
       "    <tr>\n",
       "      <th>147</th>\n",
       "      <td>47</td>\n",
       "      <td>Yellow Bird</td>\n",
       "      <td>Arthur Lyman</td>\n",
       "      <td>1961</td>\n",
       "    </tr>\n",
       "    <tr>\n",
       "      <th>148</th>\n",
       "      <td>48</td>\n",
       "      <td>Hurt</td>\n",
       "      <td>Timi Yuro</td>\n",
       "      <td>1961</td>\n",
       "    </tr>\n",
       "    <tr>\n",
       "      <th>149</th>\n",
       "      <td>49</td>\n",
       "      <td>Hello Mary Lou</td>\n",
       "      <td>Ricky Nelson</td>\n",
       "      <td>1961</td>\n",
       "    </tr>\n",
       "    <tr>\n",
       "      <th>150</th>\n",
       "      <td>50</td>\n",
       "      <td>There's a Moon Out Tonight</td>\n",
       "      <td>The Capris</td>\n",
       "      <td>1961</td>\n",
       "    </tr>\n",
       "  </tbody>\n",
       "</table>\n",
       "<p>150 rows × 4 columns</p>\n",
       "</div>"
      ],
      "text/plain": [
       "     no                       title               artist  year\n",
       "1     1   Theme from A Summer Place          Percy Faith  1960\n",
       "2     2            He'll Have to Go           Jim Reeves  1960\n",
       "3     3               Cathy's Clown  The Everly Brothers  1960\n",
       "4     4                Running Bear       Johnny Preston  1960\n",
       "5     5                  Teen Angel         Mark Dinning  1960\n",
       "..   ..                         ...                  ...   ...\n",
       "146  46               Runaround Sue                 Dion  1961\n",
       "147  47                 Yellow Bird         Arthur Lyman  1961\n",
       "148  48                        Hurt            Timi Yuro  1961\n",
       "149  49              Hello Mary Lou         Ricky Nelson  1961\n",
       "150  50  There's a Moon Out Tonight           The Capris  1961\n",
       "\n",
       "[150 rows x 4 columns]"
      ]
     },
     "execution_count": 5,
     "metadata": {},
     "output_type": "execute_result"
    }
   ],
   "source": [
    "# use index_col=[0] to avoid 'Unnamed: 0' column\n",
    "df1 = pd.read_csv('songs_wiki.csv',index_col=[0])\n",
    "df1.head(150)"
   ]
  },
  {
   "cell_type": "code",
   "execution_count": 6,
   "metadata": {},
   "outputs": [
    {
     "data": {
      "text/plain": [
       "Index(['no', 'title', 'artist', 'year'], dtype='object')"
      ]
     },
     "execution_count": 6,
     "metadata": {},
     "output_type": "execute_result"
    }
   ],
   "source": [
    "df1.columns"
   ]
  },
  {
   "cell_type": "code",
   "execution_count": 7,
   "metadata": {},
   "outputs": [
    {
     "data": {
      "text/plain": [
       "(5701, 4)"
      ]
     },
     "execution_count": 7,
     "metadata": {},
     "output_type": "execute_result"
    }
   ],
   "source": [
    "df1.shape"
   ]
  },
  {
   "cell_type": "code",
   "execution_count": 8,
   "metadata": {},
   "outputs": [
    {
     "data": {
      "text/html": [
       "<div>\n",
       "<style scoped>\n",
       "    .dataframe tbody tr th:only-of-type {\n",
       "        vertical-align: middle;\n",
       "    }\n",
       "\n",
       "    .dataframe tbody tr th {\n",
       "        vertical-align: top;\n",
       "    }\n",
       "\n",
       "    .dataframe thead th {\n",
       "        text-align: right;\n",
       "    }\n",
       "</style>\n",
       "<table border=\"1\" class=\"dataframe\">\n",
       "  <thead>\n",
       "    <tr style=\"text-align: right;\">\n",
       "      <th></th>\n",
       "      <th>year</th>\n",
       "      <th>artist_name</th>\n",
       "      <th>artist_id</th>\n",
       "      <th>explicit</th>\n",
       "      <th>track_name</th>\n",
       "      <th>track_id</th>\n",
       "      <th>danceability</th>\n",
       "      <th>energy</th>\n",
       "      <th>key</th>\n",
       "      <th>loudness</th>\n",
       "      <th>...</th>\n",
       "      <th>instrumentalness</th>\n",
       "      <th>liveness</th>\n",
       "      <th>valence</th>\n",
       "      <th>tempo</th>\n",
       "      <th>type</th>\n",
       "      <th>uri</th>\n",
       "      <th>track_href</th>\n",
       "      <th>analysis_url</th>\n",
       "      <th>duration_ms</th>\n",
       "      <th>time_signature</th>\n",
       "    </tr>\n",
       "  </thead>\n",
       "  <tbody>\n",
       "    <tr>\n",
       "      <th>1</th>\n",
       "      <td>1960</td>\n",
       "      <td>Percy Faith &amp; His Orchestra</td>\n",
       "      <td>24DQLSng7bKZD4GXLIaQbv</td>\n",
       "      <td>False</td>\n",
       "      <td>The Theme From \"A Summer Place\" - Single Version</td>\n",
       "      <td>2kKL5kk4On8YRSKWDgXWMX</td>\n",
       "      <td>0.466</td>\n",
       "      <td>0.389</td>\n",
       "      <td>5</td>\n",
       "      <td>-12.825</td>\n",
       "      <td>...</td>\n",
       "      <td>0.843000</td>\n",
       "      <td>0.2950</td>\n",
       "      <td>0.745</td>\n",
       "      <td>92.631</td>\n",
       "      <td>audio_features</td>\n",
       "      <td>spotify:track:2kKL5kk4On8YRSKWDgXWMX</td>\n",
       "      <td>https://api.spotify.com/v1/tracks/2kKL5kk4On8Y...</td>\n",
       "      <td>https://api.spotify.com/v1/audio-analysis/2kKL...</td>\n",
       "      <td>144893</td>\n",
       "      <td>4</td>\n",
       "    </tr>\n",
       "    <tr>\n",
       "      <th>2</th>\n",
       "      <td>1960</td>\n",
       "      <td>Jim Reeves</td>\n",
       "      <td>2Ev0e8GUIX4u7d9etNLTXg</td>\n",
       "      <td>False</td>\n",
       "      <td>He'll Have to Go</td>\n",
       "      <td>7DH5dXVuQaqcKf9oTy9oUN</td>\n",
       "      <td>0.554</td>\n",
       "      <td>0.186</td>\n",
       "      <td>1</td>\n",
       "      <td>-15.846</td>\n",
       "      <td>...</td>\n",
       "      <td>0.001440</td>\n",
       "      <td>0.1100</td>\n",
       "      <td>0.200</td>\n",
       "      <td>81.181</td>\n",
       "      <td>audio_features</td>\n",
       "      <td>spotify:track:7DH5dXVuQaqcKf9oTy9oUN</td>\n",
       "      <td>https://api.spotify.com/v1/tracks/7DH5dXVuQaqc...</td>\n",
       "      <td>https://api.spotify.com/v1/audio-analysis/7DH5...</td>\n",
       "      <td>138640</td>\n",
       "      <td>3</td>\n",
       "    </tr>\n",
       "    <tr>\n",
       "      <th>3</th>\n",
       "      <td>1960</td>\n",
       "      <td>Johnny Preston</td>\n",
       "      <td>1B8n8vtEeexQ5NKehHTkeo</td>\n",
       "      <td>False</td>\n",
       "      <td>Running Bear</td>\n",
       "      <td>60DbxCJXFG9ZryHHvUPTXG</td>\n",
       "      <td>0.758</td>\n",
       "      <td>0.462</td>\n",
       "      <td>5</td>\n",
       "      <td>-8.952</td>\n",
       "      <td>...</td>\n",
       "      <td>0.000013</td>\n",
       "      <td>0.1700</td>\n",
       "      <td>0.726</td>\n",
       "      <td>120.004</td>\n",
       "      <td>audio_features</td>\n",
       "      <td>spotify:track:60DbxCJXFG9ZryHHvUPTXG</td>\n",
       "      <td>https://api.spotify.com/v1/tracks/60DbxCJXFG9Z...</td>\n",
       "      <td>https://api.spotify.com/v1/audio-analysis/60Db...</td>\n",
       "      <td>160027</td>\n",
       "      <td>4</td>\n",
       "    </tr>\n",
       "    <tr>\n",
       "      <th>4</th>\n",
       "      <td>1960</td>\n",
       "      <td>Mark Dinning</td>\n",
       "      <td>55Rf9Kfqd30nmqaeEDMpic</td>\n",
       "      <td>False</td>\n",
       "      <td>Teen Angel</td>\n",
       "      <td>7GvhZ0F7cMBwpv7QzeGABf</td>\n",
       "      <td>0.583</td>\n",
       "      <td>0.168</td>\n",
       "      <td>0</td>\n",
       "      <td>-12.426</td>\n",
       "      <td>...</td>\n",
       "      <td>0.000000</td>\n",
       "      <td>0.1480</td>\n",
       "      <td>0.353</td>\n",
       "      <td>97.572</td>\n",
       "      <td>audio_features</td>\n",
       "      <td>spotify:track:7GvhZ0F7cMBwpv7QzeGABf</td>\n",
       "      <td>https://api.spotify.com/v1/tracks/7GvhZ0F7cMBw...</td>\n",
       "      <td>https://api.spotify.com/v1/audio-analysis/7Gvh...</td>\n",
       "      <td>157080</td>\n",
       "      <td>4</td>\n",
       "    </tr>\n",
       "    <tr>\n",
       "      <th>5</th>\n",
       "      <td>1960</td>\n",
       "      <td>Brenda Lee</td>\n",
       "      <td>4cPHsZM98sKzmV26wlwD2W</td>\n",
       "      <td>False</td>\n",
       "      <td>I'm Sorry - Single Version</td>\n",
       "      <td>5VyBNCSb8VXoSxD281PRod</td>\n",
       "      <td>0.567</td>\n",
       "      <td>0.141</td>\n",
       "      <td>10</td>\n",
       "      <td>-14.803</td>\n",
       "      <td>...</td>\n",
       "      <td>0.004650</td>\n",
       "      <td>0.1170</td>\n",
       "      <td>0.315</td>\n",
       "      <td>103.078</td>\n",
       "      <td>audio_features</td>\n",
       "      <td>spotify:track:5VyBNCSb8VXoSxD281PRod</td>\n",
       "      <td>https://api.spotify.com/v1/tracks/5VyBNCSb8VXo...</td>\n",
       "      <td>https://api.spotify.com/v1/audio-analysis/5VyB...</td>\n",
       "      <td>160067</td>\n",
       "      <td>3</td>\n",
       "    </tr>\n",
       "    <tr>\n",
       "      <th>6</th>\n",
       "      <td>1960</td>\n",
       "      <td>Elvis Presley</td>\n",
       "      <td>43ZHCT0cAZBISjO8DG9PnE</td>\n",
       "      <td>False</td>\n",
       "      <td>It's Now Or Never - 2003 Sony Remaster</td>\n",
       "      <td>2u8Lrq2TxwtEmCdr1idFOO</td>\n",
       "      <td>0.635</td>\n",
       "      <td>0.391</td>\n",
       "      <td>4</td>\n",
       "      <td>-14.140</td>\n",
       "      <td>...</td>\n",
       "      <td>0.002470</td>\n",
       "      <td>0.4930</td>\n",
       "      <td>0.713</td>\n",
       "      <td>126.267</td>\n",
       "      <td>audio_features</td>\n",
       "      <td>spotify:track:2u8Lrq2TxwtEmCdr1idFOO</td>\n",
       "      <td>https://api.spotify.com/v1/tracks/2u8Lrq2TxwtE...</td>\n",
       "      <td>https://api.spotify.com/v1/audio-analysis/2u8L...</td>\n",
       "      <td>195733</td>\n",
       "      <td>4</td>\n",
       "    </tr>\n",
       "    <tr>\n",
       "      <th>7</th>\n",
       "      <td>1960</td>\n",
       "      <td>Jimmy Jones</td>\n",
       "      <td>7ydcRbgt0yM9etADb1Ackp</td>\n",
       "      <td>False</td>\n",
       "      <td>Handy Man</td>\n",
       "      <td>0X6Nnkf4BL7rr1DRxFhcDz</td>\n",
       "      <td>0.534</td>\n",
       "      <td>0.720</td>\n",
       "      <td>10</td>\n",
       "      <td>-7.679</td>\n",
       "      <td>...</td>\n",
       "      <td>0.000000</td>\n",
       "      <td>0.2580</td>\n",
       "      <td>0.901</td>\n",
       "      <td>74.207</td>\n",
       "      <td>audio_features</td>\n",
       "      <td>spotify:track:0X6Nnkf4BL7rr1DRxFhcDz</td>\n",
       "      <td>https://api.spotify.com/v1/tracks/0X6Nnkf4BL7r...</td>\n",
       "      <td>https://api.spotify.com/v1/audio-analysis/0X6N...</td>\n",
       "      <td>120973</td>\n",
       "      <td>4</td>\n",
       "    </tr>\n",
       "    <tr>\n",
       "      <th>8</th>\n",
       "      <td>1960</td>\n",
       "      <td>Elvis Presley</td>\n",
       "      <td>43ZHCT0cAZBISjO8DG9PnE</td>\n",
       "      <td>False</td>\n",
       "      <td>Stuck on You</td>\n",
       "      <td>6RLOZGYi7gTZsxtn1wX2T2</td>\n",
       "      <td>0.664</td>\n",
       "      <td>0.539</td>\n",
       "      <td>7</td>\n",
       "      <td>-11.781</td>\n",
       "      <td>...</td>\n",
       "      <td>0.000691</td>\n",
       "      <td>0.1560</td>\n",
       "      <td>0.946</td>\n",
       "      <td>132.212</td>\n",
       "      <td>audio_features</td>\n",
       "      <td>spotify:track:6RLOZGYi7gTZsxtn1wX2T2</td>\n",
       "      <td>https://api.spotify.com/v1/tracks/6RLOZGYi7gTZ...</td>\n",
       "      <td>https://api.spotify.com/v1/audio-analysis/6RLO...</td>\n",
       "      <td>139293</td>\n",
       "      <td>4</td>\n",
       "    </tr>\n",
       "    <tr>\n",
       "      <th>9</th>\n",
       "      <td>1960</td>\n",
       "      <td>Chubby Checker</td>\n",
       "      <td>7qQJQ3YtcGlqaLg5tcypN2</td>\n",
       "      <td>False</td>\n",
       "      <td>The Twist - Re-Recording</td>\n",
       "      <td>0M5EaPIXN3FneJ7exwpYNM</td>\n",
       "      <td>0.524</td>\n",
       "      <td>0.713</td>\n",
       "      <td>4</td>\n",
       "      <td>-12.848</td>\n",
       "      <td>...</td>\n",
       "      <td>0.005800</td>\n",
       "      <td>0.0402</td>\n",
       "      <td>0.975</td>\n",
       "      <td>155.033</td>\n",
       "      <td>audio_features</td>\n",
       "      <td>spotify:track:0M5EaPIXN3FneJ7exwpYNM</td>\n",
       "      <td>https://api.spotify.com/v1/tracks/0M5EaPIXN3Fn...</td>\n",
       "      <td>https://api.spotify.com/v1/audio-analysis/0M5E...</td>\n",
       "      <td>158560</td>\n",
       "      <td>4</td>\n",
       "    </tr>\n",
       "    <tr>\n",
       "      <th>10</th>\n",
       "      <td>1960</td>\n",
       "      <td>Connie Francis</td>\n",
       "      <td>3EY5DxGdy7x4GelivOjS2Q</td>\n",
       "      <td>False</td>\n",
       "      <td>Everybody's Somebody's Fool</td>\n",
       "      <td>6jdONXtmF2ZmLyRgZfwDRj</td>\n",
       "      <td>0.587</td>\n",
       "      <td>0.720</td>\n",
       "      <td>1</td>\n",
       "      <td>-5.214</td>\n",
       "      <td>...</td>\n",
       "      <td>0.000015</td>\n",
       "      <td>0.2550</td>\n",
       "      <td>0.806</td>\n",
       "      <td>84.272</td>\n",
       "      <td>audio_features</td>\n",
       "      <td>spotify:track:6jdONXtmF2ZmLyRgZfwDRj</td>\n",
       "      <td>https://api.spotify.com/v1/tracks/6jdONXtmF2Zm...</td>\n",
       "      <td>https://api.spotify.com/v1/audio-analysis/6jdO...</td>\n",
       "      <td>160093</td>\n",
       "      <td>4</td>\n",
       "    </tr>\n",
       "  </tbody>\n",
       "</table>\n",
       "<p>10 rows × 23 columns</p>\n",
       "</div>"
      ],
      "text/plain": [
       "    year                  artist_name               artist_id  explicit  \\\n",
       "1   1960  Percy Faith & His Orchestra  24DQLSng7bKZD4GXLIaQbv     False   \n",
       "2   1960                   Jim Reeves  2Ev0e8GUIX4u7d9etNLTXg     False   \n",
       "3   1960               Johnny Preston  1B8n8vtEeexQ5NKehHTkeo     False   \n",
       "4   1960                 Mark Dinning  55Rf9Kfqd30nmqaeEDMpic     False   \n",
       "5   1960                   Brenda Lee  4cPHsZM98sKzmV26wlwD2W     False   \n",
       "6   1960                Elvis Presley  43ZHCT0cAZBISjO8DG9PnE     False   \n",
       "7   1960                  Jimmy Jones  7ydcRbgt0yM9etADb1Ackp     False   \n",
       "8   1960                Elvis Presley  43ZHCT0cAZBISjO8DG9PnE     False   \n",
       "9   1960               Chubby Checker  7qQJQ3YtcGlqaLg5tcypN2     False   \n",
       "10  1960               Connie Francis  3EY5DxGdy7x4GelivOjS2Q     False   \n",
       "\n",
       "                                          track_name                track_id  \\\n",
       "1   The Theme From \"A Summer Place\" - Single Version  2kKL5kk4On8YRSKWDgXWMX   \n",
       "2                                   He'll Have to Go  7DH5dXVuQaqcKf9oTy9oUN   \n",
       "3                                       Running Bear  60DbxCJXFG9ZryHHvUPTXG   \n",
       "4                                         Teen Angel  7GvhZ0F7cMBwpv7QzeGABf   \n",
       "5                         I'm Sorry - Single Version  5VyBNCSb8VXoSxD281PRod   \n",
       "6             It's Now Or Never - 2003 Sony Remaster  2u8Lrq2TxwtEmCdr1idFOO   \n",
       "7                                          Handy Man  0X6Nnkf4BL7rr1DRxFhcDz   \n",
       "8                                       Stuck on You  6RLOZGYi7gTZsxtn1wX2T2   \n",
       "9                           The Twist - Re-Recording  0M5EaPIXN3FneJ7exwpYNM   \n",
       "10                       Everybody's Somebody's Fool  6jdONXtmF2ZmLyRgZfwDRj   \n",
       "\n",
       "    danceability  energy  key  loudness  ...  instrumentalness  liveness  \\\n",
       "1          0.466   0.389    5   -12.825  ...          0.843000    0.2950   \n",
       "2          0.554   0.186    1   -15.846  ...          0.001440    0.1100   \n",
       "3          0.758   0.462    5    -8.952  ...          0.000013    0.1700   \n",
       "4          0.583   0.168    0   -12.426  ...          0.000000    0.1480   \n",
       "5          0.567   0.141   10   -14.803  ...          0.004650    0.1170   \n",
       "6          0.635   0.391    4   -14.140  ...          0.002470    0.4930   \n",
       "7          0.534   0.720   10    -7.679  ...          0.000000    0.2580   \n",
       "8          0.664   0.539    7   -11.781  ...          0.000691    0.1560   \n",
       "9          0.524   0.713    4   -12.848  ...          0.005800    0.0402   \n",
       "10         0.587   0.720    1    -5.214  ...          0.000015    0.2550   \n",
       "\n",
       "    valence    tempo            type                                   uri  \\\n",
       "1     0.745   92.631  audio_features  spotify:track:2kKL5kk4On8YRSKWDgXWMX   \n",
       "2     0.200   81.181  audio_features  spotify:track:7DH5dXVuQaqcKf9oTy9oUN   \n",
       "3     0.726  120.004  audio_features  spotify:track:60DbxCJXFG9ZryHHvUPTXG   \n",
       "4     0.353   97.572  audio_features  spotify:track:7GvhZ0F7cMBwpv7QzeGABf   \n",
       "5     0.315  103.078  audio_features  spotify:track:5VyBNCSb8VXoSxD281PRod   \n",
       "6     0.713  126.267  audio_features  spotify:track:2u8Lrq2TxwtEmCdr1idFOO   \n",
       "7     0.901   74.207  audio_features  spotify:track:0X6Nnkf4BL7rr1DRxFhcDz   \n",
       "8     0.946  132.212  audio_features  spotify:track:6RLOZGYi7gTZsxtn1wX2T2   \n",
       "9     0.975  155.033  audio_features  spotify:track:0M5EaPIXN3FneJ7exwpYNM   \n",
       "10    0.806   84.272  audio_features  spotify:track:6jdONXtmF2ZmLyRgZfwDRj   \n",
       "\n",
       "                                           track_href  \\\n",
       "1   https://api.spotify.com/v1/tracks/2kKL5kk4On8Y...   \n",
       "2   https://api.spotify.com/v1/tracks/7DH5dXVuQaqc...   \n",
       "3   https://api.spotify.com/v1/tracks/60DbxCJXFG9Z...   \n",
       "4   https://api.spotify.com/v1/tracks/7GvhZ0F7cMBw...   \n",
       "5   https://api.spotify.com/v1/tracks/5VyBNCSb8VXo...   \n",
       "6   https://api.spotify.com/v1/tracks/2u8Lrq2TxwtE...   \n",
       "7   https://api.spotify.com/v1/tracks/0X6Nnkf4BL7r...   \n",
       "8   https://api.spotify.com/v1/tracks/6RLOZGYi7gTZ...   \n",
       "9   https://api.spotify.com/v1/tracks/0M5EaPIXN3Fn...   \n",
       "10  https://api.spotify.com/v1/tracks/6jdONXtmF2Zm...   \n",
       "\n",
       "                                         analysis_url duration_ms  \\\n",
       "1   https://api.spotify.com/v1/audio-analysis/2kKL...      144893   \n",
       "2   https://api.spotify.com/v1/audio-analysis/7DH5...      138640   \n",
       "3   https://api.spotify.com/v1/audio-analysis/60Db...      160027   \n",
       "4   https://api.spotify.com/v1/audio-analysis/7Gvh...      157080   \n",
       "5   https://api.spotify.com/v1/audio-analysis/5VyB...      160067   \n",
       "6   https://api.spotify.com/v1/audio-analysis/2u8L...      195733   \n",
       "7   https://api.spotify.com/v1/audio-analysis/0X6N...      120973   \n",
       "8   https://api.spotify.com/v1/audio-analysis/6RLO...      139293   \n",
       "9   https://api.spotify.com/v1/audio-analysis/0M5E...      158560   \n",
       "10  https://api.spotify.com/v1/audio-analysis/6jdO...      160093   \n",
       "\n",
       "   time_signature  \n",
       "1               4  \n",
       "2               3  \n",
       "3               4  \n",
       "4               4  \n",
       "5               3  \n",
       "6               4  \n",
       "7               4  \n",
       "8               4  \n",
       "9               4  \n",
       "10              4  \n",
       "\n",
       "[10 rows x 23 columns]"
      ]
     },
     "execution_count": 8,
     "metadata": {},
     "output_type": "execute_result"
    }
   ],
   "source": [
    "df2 = pd.read_csv('songs_features.csv',index_col=[0])\n",
    "df2.head(10)"
   ]
  },
  {
   "cell_type": "code",
   "execution_count": 9,
   "metadata": {},
   "outputs": [
    {
     "data": {
      "text/plain": [
       "(5497, 23)"
      ]
     },
     "execution_count": 9,
     "metadata": {},
     "output_type": "execute_result"
    }
   ],
   "source": [
    "df2.shape"
   ]
  },
  {
   "cell_type": "code",
   "execution_count": 10,
   "metadata": {},
   "outputs": [
    {
     "data": {
      "text/plain": [
       "Index(['year', 'artist_name', 'artist_id', 'explicit', 'track_name',\n",
       "       'track_id', 'danceability', 'energy', 'key', 'loudness', 'mode',\n",
       "       'speechiness', 'acousticness', 'instrumentalness', 'liveness',\n",
       "       'valence', 'tempo', 'type', 'uri', 'track_href', 'analysis_url',\n",
       "       'duration_ms', 'time_signature'],\n",
       "      dtype='object')"
      ]
     },
     "execution_count": 10,
     "metadata": {},
     "output_type": "execute_result"
    }
   ],
   "source": [
    "df2.columns"
   ]
  },
  {
   "cell_type": "code",
   "execution_count": 11,
   "metadata": {
    "collapsed": true
   },
   "outputs": [],
   "source": [
    "df2.columns = ['year', 'artist', 'artist_id', 'explicit', 'title',\n",
    "       'track_id', 'danceability', 'energy', 'key', 'loudness', 'mode',\n",
    "       'speechiness', 'acousticness', 'instrumentalness', 'liveness',\n",
    "       'valence', 'tempo', 'type', 'uri', 'track_href', 'analysis_url',\n",
    "       'duration_ms', 'time_signature']"
   ]
  },
  {
   "cell_type": "code",
   "execution_count": 12,
   "metadata": {
    "collapsed": true
   },
   "outputs": [],
   "source": [
    "data = pd.merge(df1, df2, on=['artist','title','year'])"
   ]
  },
  {
   "cell_type": "code",
   "execution_count": 13,
   "metadata": {},
   "outputs": [
    {
     "data": {
      "text/html": [
       "<div>\n",
       "<style scoped>\n",
       "    .dataframe tbody tr th:only-of-type {\n",
       "        vertical-align: middle;\n",
       "    }\n",
       "\n",
       "    .dataframe tbody tr th {\n",
       "        vertical-align: top;\n",
       "    }\n",
       "\n",
       "    .dataframe thead th {\n",
       "        text-align: right;\n",
       "    }\n",
       "</style>\n",
       "<table border=\"1\" class=\"dataframe\">\n",
       "  <thead>\n",
       "    <tr style=\"text-align: right;\">\n",
       "      <th></th>\n",
       "      <th>no</th>\n",
       "      <th>title</th>\n",
       "      <th>artist</th>\n",
       "      <th>year</th>\n",
       "      <th>artist_id</th>\n",
       "      <th>explicit</th>\n",
       "      <th>track_id</th>\n",
       "      <th>danceability</th>\n",
       "      <th>energy</th>\n",
       "      <th>key</th>\n",
       "      <th>...</th>\n",
       "      <th>instrumentalness</th>\n",
       "      <th>liveness</th>\n",
       "      <th>valence</th>\n",
       "      <th>tempo</th>\n",
       "      <th>type</th>\n",
       "      <th>uri</th>\n",
       "      <th>track_href</th>\n",
       "      <th>analysis_url</th>\n",
       "      <th>duration_ms</th>\n",
       "      <th>time_signature</th>\n",
       "    </tr>\n",
       "  </thead>\n",
       "  <tbody>\n",
       "    <tr>\n",
       "      <th>0</th>\n",
       "      <td>2</td>\n",
       "      <td>He'll Have to Go</td>\n",
       "      <td>Jim Reeves</td>\n",
       "      <td>1960</td>\n",
       "      <td>2Ev0e8GUIX4u7d9etNLTXg</td>\n",
       "      <td>False</td>\n",
       "      <td>7DH5dXVuQaqcKf9oTy9oUN</td>\n",
       "      <td>0.554</td>\n",
       "      <td>0.186</td>\n",
       "      <td>1</td>\n",
       "      <td>...</td>\n",
       "      <td>0.001440</td>\n",
       "      <td>0.110</td>\n",
       "      <td>0.200</td>\n",
       "      <td>81.181</td>\n",
       "      <td>audio_features</td>\n",
       "      <td>spotify:track:7DH5dXVuQaqcKf9oTy9oUN</td>\n",
       "      <td>https://api.spotify.com/v1/tracks/7DH5dXVuQaqc...</td>\n",
       "      <td>https://api.spotify.com/v1/audio-analysis/7DH5...</td>\n",
       "      <td>138640</td>\n",
       "      <td>3</td>\n",
       "    </tr>\n",
       "    <tr>\n",
       "      <th>1</th>\n",
       "      <td>4</td>\n",
       "      <td>Running Bear</td>\n",
       "      <td>Johnny Preston</td>\n",
       "      <td>1960</td>\n",
       "      <td>1B8n8vtEeexQ5NKehHTkeo</td>\n",
       "      <td>False</td>\n",
       "      <td>60DbxCJXFG9ZryHHvUPTXG</td>\n",
       "      <td>0.758</td>\n",
       "      <td>0.462</td>\n",
       "      <td>5</td>\n",
       "      <td>...</td>\n",
       "      <td>0.000013</td>\n",
       "      <td>0.170</td>\n",
       "      <td>0.726</td>\n",
       "      <td>120.004</td>\n",
       "      <td>audio_features</td>\n",
       "      <td>spotify:track:60DbxCJXFG9ZryHHvUPTXG</td>\n",
       "      <td>https://api.spotify.com/v1/tracks/60DbxCJXFG9Z...</td>\n",
       "      <td>https://api.spotify.com/v1/audio-analysis/60Db...</td>\n",
       "      <td>160027</td>\n",
       "      <td>4</td>\n",
       "    </tr>\n",
       "    <tr>\n",
       "      <th>2</th>\n",
       "      <td>5</td>\n",
       "      <td>Teen Angel</td>\n",
       "      <td>Mark Dinning</td>\n",
       "      <td>1960</td>\n",
       "      <td>55Rf9Kfqd30nmqaeEDMpic</td>\n",
       "      <td>False</td>\n",
       "      <td>7GvhZ0F7cMBwpv7QzeGABf</td>\n",
       "      <td>0.583</td>\n",
       "      <td>0.168</td>\n",
       "      <td>0</td>\n",
       "      <td>...</td>\n",
       "      <td>0.000000</td>\n",
       "      <td>0.148</td>\n",
       "      <td>0.353</td>\n",
       "      <td>97.572</td>\n",
       "      <td>audio_features</td>\n",
       "      <td>spotify:track:7GvhZ0F7cMBwpv7QzeGABf</td>\n",
       "      <td>https://api.spotify.com/v1/tracks/7GvhZ0F7cMBw...</td>\n",
       "      <td>https://api.spotify.com/v1/audio-analysis/7Gvh...</td>\n",
       "      <td>157080</td>\n",
       "      <td>4</td>\n",
       "    </tr>\n",
       "    <tr>\n",
       "      <th>3</th>\n",
       "      <td>8</td>\n",
       "      <td>Handy Man</td>\n",
       "      <td>Jimmy Jones</td>\n",
       "      <td>1960</td>\n",
       "      <td>7ydcRbgt0yM9etADb1Ackp</td>\n",
       "      <td>False</td>\n",
       "      <td>0X6Nnkf4BL7rr1DRxFhcDz</td>\n",
       "      <td>0.534</td>\n",
       "      <td>0.720</td>\n",
       "      <td>10</td>\n",
       "      <td>...</td>\n",
       "      <td>0.000000</td>\n",
       "      <td>0.258</td>\n",
       "      <td>0.901</td>\n",
       "      <td>74.207</td>\n",
       "      <td>audio_features</td>\n",
       "      <td>spotify:track:0X6Nnkf4BL7rr1DRxFhcDz</td>\n",
       "      <td>https://api.spotify.com/v1/tracks/0X6Nnkf4BL7r...</td>\n",
       "      <td>https://api.spotify.com/v1/audio-analysis/0X6N...</td>\n",
       "      <td>120973</td>\n",
       "      <td>4</td>\n",
       "    </tr>\n",
       "    <tr>\n",
       "      <th>4</th>\n",
       "      <td>9</td>\n",
       "      <td>Stuck on You</td>\n",
       "      <td>Elvis Presley</td>\n",
       "      <td>1960</td>\n",
       "      <td>43ZHCT0cAZBISjO8DG9PnE</td>\n",
       "      <td>False</td>\n",
       "      <td>6RLOZGYi7gTZsxtn1wX2T2</td>\n",
       "      <td>0.664</td>\n",
       "      <td>0.539</td>\n",
       "      <td>7</td>\n",
       "      <td>...</td>\n",
       "      <td>0.000691</td>\n",
       "      <td>0.156</td>\n",
       "      <td>0.946</td>\n",
       "      <td>132.212</td>\n",
       "      <td>audio_features</td>\n",
       "      <td>spotify:track:6RLOZGYi7gTZsxtn1wX2T2</td>\n",
       "      <td>https://api.spotify.com/v1/tracks/6RLOZGYi7gTZ...</td>\n",
       "      <td>https://api.spotify.com/v1/audio-analysis/6RLO...</td>\n",
       "      <td>139293</td>\n",
       "      <td>4</td>\n",
       "    </tr>\n",
       "  </tbody>\n",
       "</table>\n",
       "<p>5 rows × 24 columns</p>\n",
       "</div>"
      ],
      "text/plain": [
       "  no             title          artist  year               artist_id  \\\n",
       "0  2  He'll Have to Go      Jim Reeves  1960  2Ev0e8GUIX4u7d9etNLTXg   \n",
       "1  4      Running Bear  Johnny Preston  1960  1B8n8vtEeexQ5NKehHTkeo   \n",
       "2  5        Teen Angel    Mark Dinning  1960  55Rf9Kfqd30nmqaeEDMpic   \n",
       "3  8         Handy Man     Jimmy Jones  1960  7ydcRbgt0yM9etADb1Ackp   \n",
       "4  9      Stuck on You   Elvis Presley  1960  43ZHCT0cAZBISjO8DG9PnE   \n",
       "\n",
       "   explicit                track_id  danceability  energy  key  ...  \\\n",
       "0     False  7DH5dXVuQaqcKf9oTy9oUN         0.554   0.186    1  ...   \n",
       "1     False  60DbxCJXFG9ZryHHvUPTXG         0.758   0.462    5  ...   \n",
       "2     False  7GvhZ0F7cMBwpv7QzeGABf         0.583   0.168    0  ...   \n",
       "3     False  0X6Nnkf4BL7rr1DRxFhcDz         0.534   0.720   10  ...   \n",
       "4     False  6RLOZGYi7gTZsxtn1wX2T2         0.664   0.539    7  ...   \n",
       "\n",
       "   instrumentalness  liveness  valence    tempo            type  \\\n",
       "0          0.001440     0.110    0.200   81.181  audio_features   \n",
       "1          0.000013     0.170    0.726  120.004  audio_features   \n",
       "2          0.000000     0.148    0.353   97.572  audio_features   \n",
       "3          0.000000     0.258    0.901   74.207  audio_features   \n",
       "4          0.000691     0.156    0.946  132.212  audio_features   \n",
       "\n",
       "                                    uri  \\\n",
       "0  spotify:track:7DH5dXVuQaqcKf9oTy9oUN   \n",
       "1  spotify:track:60DbxCJXFG9ZryHHvUPTXG   \n",
       "2  spotify:track:7GvhZ0F7cMBwpv7QzeGABf   \n",
       "3  spotify:track:0X6Nnkf4BL7rr1DRxFhcDz   \n",
       "4  spotify:track:6RLOZGYi7gTZsxtn1wX2T2   \n",
       "\n",
       "                                          track_href  \\\n",
       "0  https://api.spotify.com/v1/tracks/7DH5dXVuQaqc...   \n",
       "1  https://api.spotify.com/v1/tracks/60DbxCJXFG9Z...   \n",
       "2  https://api.spotify.com/v1/tracks/7GvhZ0F7cMBw...   \n",
       "3  https://api.spotify.com/v1/tracks/0X6Nnkf4BL7r...   \n",
       "4  https://api.spotify.com/v1/tracks/6RLOZGYi7gTZ...   \n",
       "\n",
       "                                        analysis_url duration_ms  \\\n",
       "0  https://api.spotify.com/v1/audio-analysis/7DH5...      138640   \n",
       "1  https://api.spotify.com/v1/audio-analysis/60Db...      160027   \n",
       "2  https://api.spotify.com/v1/audio-analysis/7Gvh...      157080   \n",
       "3  https://api.spotify.com/v1/audio-analysis/0X6N...      120973   \n",
       "4  https://api.spotify.com/v1/audio-analysis/6RLO...      139293   \n",
       "\n",
       "  time_signature  \n",
       "0              3  \n",
       "1              4  \n",
       "2              4  \n",
       "3              4  \n",
       "4              4  \n",
       "\n",
       "[5 rows x 24 columns]"
      ]
     },
     "execution_count": 13,
     "metadata": {},
     "output_type": "execute_result"
    }
   ],
   "source": [
    "data.head()"
   ]
  },
  {
   "cell_type": "code",
   "execution_count": 14,
   "metadata": {},
   "outputs": [
    {
     "data": {
      "text/plain": [
       "no                  0\n",
       "title               0\n",
       "artist              0\n",
       "year                0\n",
       "artist_id           0\n",
       "explicit            0\n",
       "track_id            0\n",
       "danceability        0\n",
       "energy              0\n",
       "key                 0\n",
       "loudness            0\n",
       "mode                0\n",
       "speechiness         0\n",
       "acousticness        0\n",
       "instrumentalness    0\n",
       "liveness            0\n",
       "valence             0\n",
       "tempo               0\n",
       "type                0\n",
       "uri                 0\n",
       "track_href          0\n",
       "analysis_url        0\n",
       "duration_ms         0\n",
       "time_signature      0\n",
       "dtype: int64"
      ]
     },
     "execution_count": 14,
     "metadata": {},
     "output_type": "execute_result"
    }
   ],
   "source": [
    "data.isnull().sum()"
   ]
  },
  {
   "cell_type": "code",
   "execution_count": 15,
   "metadata": {},
   "outputs": [
    {
     "data": {
      "text/plain": [
       "(2559, 24)"
      ]
     },
     "execution_count": 15,
     "metadata": {},
     "output_type": "execute_result"
    }
   ],
   "source": [
    "data.shape"
   ]
  },
  {
   "cell_type": "code",
   "execution_count": 16,
   "metadata": {},
   "outputs": [
    {
     "data": {
      "text/plain": [
       "Index(['no', 'title', 'artist', 'year', 'artist_id', 'explicit', 'track_id',\n",
       "       'danceability', 'energy', 'key', 'loudness', 'mode', 'speechiness',\n",
       "       'acousticness', 'instrumentalness', 'liveness', 'valence', 'tempo',\n",
       "       'type', 'uri', 'track_href', 'analysis_url', 'duration_ms',\n",
       "       'time_signature'],\n",
       "      dtype='object')"
      ]
     },
     "execution_count": 16,
     "metadata": {},
     "output_type": "execute_result"
    }
   ],
   "source": [
    "data.columns"
   ]
  },
  {
   "cell_type": "code",
   "execution_count": 17,
   "metadata": {},
   "outputs": [
    {
     "data": {
      "text/plain": [
       "no                   object\n",
       "title                object\n",
       "artist               object\n",
       "year                  int64\n",
       "artist_id            object\n",
       "explicit               bool\n",
       "track_id             object\n",
       "danceability        float64\n",
       "energy              float64\n",
       "key                   int64\n",
       "loudness            float64\n",
       "mode                  int64\n",
       "speechiness         float64\n",
       "acousticness        float64\n",
       "instrumentalness    float64\n",
       "liveness            float64\n",
       "valence             float64\n",
       "tempo               float64\n",
       "type                 object\n",
       "uri                  object\n",
       "track_href           object\n",
       "analysis_url         object\n",
       "duration_ms           int64\n",
       "time_signature        int64\n",
       "dtype: object"
      ]
     },
     "execution_count": 17,
     "metadata": {},
     "output_type": "execute_result"
    }
   ],
   "source": [
    "data.dtypes"
   ]
  },
  {
   "cell_type": "code",
   "execution_count": 18,
   "metadata": {},
   "outputs": [
    {
     "data": {
      "text/plain": [
       "array(['2', '4', '5', ..., '74', '77', '91'], dtype=object)"
      ]
     },
     "execution_count": 18,
     "metadata": {},
     "output_type": "execute_result"
    }
   ],
   "source": [
    "data.no.values"
   ]
  },
  {
   "cell_type": "code",
   "execution_count": 19,
   "metadata": {},
   "outputs": [
    {
     "data": {
      "text/html": [
       "<div>\n",
       "<style scoped>\n",
       "    .dataframe tbody tr th:only-of-type {\n",
       "        vertical-align: middle;\n",
       "    }\n",
       "\n",
       "    .dataframe tbody tr th {\n",
       "        vertical-align: top;\n",
       "    }\n",
       "\n",
       "    .dataframe thead th {\n",
       "        text-align: right;\n",
       "    }\n",
       "</style>\n",
       "<table border=\"1\" class=\"dataframe\">\n",
       "  <thead>\n",
       "    <tr style=\"text-align: right;\">\n",
       "      <th></th>\n",
       "      <th>no</th>\n",
       "      <th>title</th>\n",
       "      <th>artist</th>\n",
       "      <th>year</th>\n",
       "      <th>danceability</th>\n",
       "      <th>energy</th>\n",
       "      <th>key</th>\n",
       "      <th>loudness</th>\n",
       "      <th>mode</th>\n",
       "      <th>speechiness</th>\n",
       "      <th>acousticness</th>\n",
       "      <th>instrumentalness</th>\n",
       "      <th>liveness</th>\n",
       "      <th>valence</th>\n",
       "      <th>tempo</th>\n",
       "      <th>type</th>\n",
       "      <th>duration_ms</th>\n",
       "      <th>time_signature</th>\n",
       "    </tr>\n",
       "  </thead>\n",
       "  <tbody>\n",
       "    <tr>\n",
       "      <th>0</th>\n",
       "      <td>2</td>\n",
       "      <td>He'll Have to Go</td>\n",
       "      <td>Jim Reeves</td>\n",
       "      <td>1960</td>\n",
       "      <td>0.554</td>\n",
       "      <td>0.186</td>\n",
       "      <td>1</td>\n",
       "      <td>-15.846</td>\n",
       "      <td>1</td>\n",
       "      <td>0.0379</td>\n",
       "      <td>0.909</td>\n",
       "      <td>0.001440</td>\n",
       "      <td>0.110</td>\n",
       "      <td>0.200</td>\n",
       "      <td>81.181</td>\n",
       "      <td>audio_features</td>\n",
       "      <td>138640</td>\n",
       "      <td>3</td>\n",
       "    </tr>\n",
       "    <tr>\n",
       "      <th>1</th>\n",
       "      <td>4</td>\n",
       "      <td>Running Bear</td>\n",
       "      <td>Johnny Preston</td>\n",
       "      <td>1960</td>\n",
       "      <td>0.758</td>\n",
       "      <td>0.462</td>\n",
       "      <td>5</td>\n",
       "      <td>-8.952</td>\n",
       "      <td>0</td>\n",
       "      <td>0.0482</td>\n",
       "      <td>0.790</td>\n",
       "      <td>0.000013</td>\n",
       "      <td>0.170</td>\n",
       "      <td>0.726</td>\n",
       "      <td>120.004</td>\n",
       "      <td>audio_features</td>\n",
       "      <td>160027</td>\n",
       "      <td>4</td>\n",
       "    </tr>\n",
       "    <tr>\n",
       "      <th>2</th>\n",
       "      <td>5</td>\n",
       "      <td>Teen Angel</td>\n",
       "      <td>Mark Dinning</td>\n",
       "      <td>1960</td>\n",
       "      <td>0.583</td>\n",
       "      <td>0.168</td>\n",
       "      <td>0</td>\n",
       "      <td>-12.426</td>\n",
       "      <td>1</td>\n",
       "      <td>0.0350</td>\n",
       "      <td>0.869</td>\n",
       "      <td>0.000000</td>\n",
       "      <td>0.148</td>\n",
       "      <td>0.353</td>\n",
       "      <td>97.572</td>\n",
       "      <td>audio_features</td>\n",
       "      <td>157080</td>\n",
       "      <td>4</td>\n",
       "    </tr>\n",
       "    <tr>\n",
       "      <th>3</th>\n",
       "      <td>8</td>\n",
       "      <td>Handy Man</td>\n",
       "      <td>Jimmy Jones</td>\n",
       "      <td>1960</td>\n",
       "      <td>0.534</td>\n",
       "      <td>0.720</td>\n",
       "      <td>10</td>\n",
       "      <td>-7.679</td>\n",
       "      <td>1</td>\n",
       "      <td>0.0395</td>\n",
       "      <td>0.649</td>\n",
       "      <td>0.000000</td>\n",
       "      <td>0.258</td>\n",
       "      <td>0.901</td>\n",
       "      <td>74.207</td>\n",
       "      <td>audio_features</td>\n",
       "      <td>120973</td>\n",
       "      <td>4</td>\n",
       "    </tr>\n",
       "    <tr>\n",
       "      <th>4</th>\n",
       "      <td>9</td>\n",
       "      <td>Stuck on You</td>\n",
       "      <td>Elvis Presley</td>\n",
       "      <td>1960</td>\n",
       "      <td>0.664</td>\n",
       "      <td>0.539</td>\n",
       "      <td>7</td>\n",
       "      <td>-11.781</td>\n",
       "      <td>1</td>\n",
       "      <td>0.0408</td>\n",
       "      <td>0.811</td>\n",
       "      <td>0.000691</td>\n",
       "      <td>0.156</td>\n",
       "      <td>0.946</td>\n",
       "      <td>132.212</td>\n",
       "      <td>audio_features</td>\n",
       "      <td>139293</td>\n",
       "      <td>4</td>\n",
       "    </tr>\n",
       "  </tbody>\n",
       "</table>\n",
       "</div>"
      ],
      "text/plain": [
       "  no             title          artist  year  danceability  energy  key  \\\n",
       "0  2  He'll Have to Go      Jim Reeves  1960         0.554   0.186    1   \n",
       "1  4      Running Bear  Johnny Preston  1960         0.758   0.462    5   \n",
       "2  5        Teen Angel    Mark Dinning  1960         0.583   0.168    0   \n",
       "3  8         Handy Man     Jimmy Jones  1960         0.534   0.720   10   \n",
       "4  9      Stuck on You   Elvis Presley  1960         0.664   0.539    7   \n",
       "\n",
       "   loudness  mode  speechiness  acousticness  instrumentalness  liveness  \\\n",
       "0   -15.846     1       0.0379         0.909          0.001440     0.110   \n",
       "1    -8.952     0       0.0482         0.790          0.000013     0.170   \n",
       "2   -12.426     1       0.0350         0.869          0.000000     0.148   \n",
       "3    -7.679     1       0.0395         0.649          0.000000     0.258   \n",
       "4   -11.781     1       0.0408         0.811          0.000691     0.156   \n",
       "\n",
       "   valence    tempo            type  duration_ms  time_signature  \n",
       "0    0.200   81.181  audio_features       138640               3  \n",
       "1    0.726  120.004  audio_features       160027               4  \n",
       "2    0.353   97.572  audio_features       157080               4  \n",
       "3    0.901   74.207  audio_features       120973               4  \n",
       "4    0.946  132.212  audio_features       139293               4  "
      ]
     },
     "execution_count": 19,
     "metadata": {},
     "output_type": "execute_result"
    }
   ],
   "source": [
    "my_cols = ['no', 'title', 'artist', 'year', \n",
    "          'danceability', 'energy', 'key', 'loudness', 'mode', 'speechiness',\n",
    "          'acousticness', 'instrumentalness', 'liveness', 'valence', 'tempo',\n",
    "          'type', 'duration_ms', 'time_signature']\n",
    "\n",
    "songs = data[my_cols]\n",
    "songs.head()"
   ]
  },
  {
   "cell_type": "code",
   "execution_count": 20,
   "metadata": {},
   "outputs": [
    {
     "data": {
      "text/html": [
       "<div>\n",
       "<style scoped>\n",
       "    .dataframe tbody tr th:only-of-type {\n",
       "        vertical-align: middle;\n",
       "    }\n",
       "\n",
       "    .dataframe tbody tr th {\n",
       "        vertical-align: top;\n",
       "    }\n",
       "\n",
       "    .dataframe thead th {\n",
       "        text-align: right;\n",
       "    }\n",
       "</style>\n",
       "<table border=\"1\" class=\"dataframe\">\n",
       "  <thead>\n",
       "    <tr style=\"text-align: right;\">\n",
       "      <th></th>\n",
       "      <th>no</th>\n",
       "      <th>title</th>\n",
       "      <th>artist</th>\n",
       "      <th>year</th>\n",
       "      <th>danceability</th>\n",
       "      <th>energy</th>\n",
       "      <th>key</th>\n",
       "      <th>loudness</th>\n",
       "      <th>mode</th>\n",
       "      <th>speechiness</th>\n",
       "      <th>acousticness</th>\n",
       "      <th>instrumentalness</th>\n",
       "      <th>liveness</th>\n",
       "      <th>valence</th>\n",
       "      <th>tempo</th>\n",
       "      <th>type</th>\n",
       "      <th>duration_ms</th>\n",
       "      <th>time_signature</th>\n",
       "    </tr>\n",
       "  </thead>\n",
       "  <tbody>\n",
       "    <tr>\n",
       "      <th>2554</th>\n",
       "      <td>57</td>\n",
       "      <td>Wildest Dreams</td>\n",
       "      <td>Taylor Swift</td>\n",
       "      <td>2015</td>\n",
       "      <td>0.550</td>\n",
       "      <td>0.688</td>\n",
       "      <td>8</td>\n",
       "      <td>-7.416</td>\n",
       "      <td>1</td>\n",
       "      <td>0.0897</td>\n",
       "      <td>0.0692</td>\n",
       "      <td>0.001440</td>\n",
       "      <td>0.1060</td>\n",
       "      <td>0.465</td>\n",
       "      <td>139.997</td>\n",
       "      <td>audio_features</td>\n",
       "      <td>220440</td>\n",
       "      <td>4</td>\n",
       "    </tr>\n",
       "    <tr>\n",
       "      <th>2555</th>\n",
       "      <td>61</td>\n",
       "      <td>7/11</td>\n",
       "      <td>Beyoncé</td>\n",
       "      <td>2015</td>\n",
       "      <td>0.747</td>\n",
       "      <td>0.705</td>\n",
       "      <td>9</td>\n",
       "      <td>-5.137</td>\n",
       "      <td>0</td>\n",
       "      <td>0.1260</td>\n",
       "      <td>0.0128</td>\n",
       "      <td>0.000000</td>\n",
       "      <td>0.1260</td>\n",
       "      <td>0.571</td>\n",
       "      <td>136.024</td>\n",
       "      <td>audio_features</td>\n",
       "      <td>213507</td>\n",
       "      <td>4</td>\n",
       "    </tr>\n",
       "    <tr>\n",
       "      <th>2556</th>\n",
       "      <td>74</td>\n",
       "      <td>Dear Future Husband</td>\n",
       "      <td>Meghan Trainor</td>\n",
       "      <td>2015</td>\n",
       "      <td>0.655</td>\n",
       "      <td>0.782</td>\n",
       "      <td>1</td>\n",
       "      <td>-4.789</td>\n",
       "      <td>1</td>\n",
       "      <td>0.1850</td>\n",
       "      <td>0.3750</td>\n",
       "      <td>0.000000</td>\n",
       "      <td>0.3170</td>\n",
       "      <td>0.839</td>\n",
       "      <td>79.427</td>\n",
       "      <td>audio_features</td>\n",
       "      <td>184227</td>\n",
       "      <td>4</td>\n",
       "    </tr>\n",
       "    <tr>\n",
       "      <th>2557</th>\n",
       "      <td>77</td>\n",
       "      <td>Habits (Stay High)</td>\n",
       "      <td>Tove Lo</td>\n",
       "      <td>2015</td>\n",
       "      <td>0.691</td>\n",
       "      <td>0.712</td>\n",
       "      <td>5</td>\n",
       "      <td>-3.421</td>\n",
       "      <td>1</td>\n",
       "      <td>0.0327</td>\n",
       "      <td>0.0557</td>\n",
       "      <td>0.000027</td>\n",
       "      <td>0.0896</td>\n",
       "      <td>0.417</td>\n",
       "      <td>110.007</td>\n",
       "      <td>audio_features</td>\n",
       "      <td>208000</td>\n",
       "      <td>4</td>\n",
       "    </tr>\n",
       "    <tr>\n",
       "      <th>2558</th>\n",
       "      <td>91</td>\n",
       "      <td>Heartbeat Song</td>\n",
       "      <td>Kelly Clarkson</td>\n",
       "      <td>2015</td>\n",
       "      <td>0.500</td>\n",
       "      <td>0.791</td>\n",
       "      <td>6</td>\n",
       "      <td>-3.711</td>\n",
       "      <td>1</td>\n",
       "      <td>0.0505</td>\n",
       "      <td>0.0120</td>\n",
       "      <td>0.000000</td>\n",
       "      <td>0.0645</td>\n",
       "      <td>0.465</td>\n",
       "      <td>149.093</td>\n",
       "      <td>audio_features</td>\n",
       "      <td>198693</td>\n",
       "      <td>4</td>\n",
       "    </tr>\n",
       "  </tbody>\n",
       "</table>\n",
       "</div>"
      ],
      "text/plain": [
       "      no                title          artist  year  danceability  energy  \\\n",
       "2554  57       Wildest Dreams    Taylor Swift  2015         0.550   0.688   \n",
       "2555  61                 7/11         Beyoncé  2015         0.747   0.705   \n",
       "2556  74  Dear Future Husband  Meghan Trainor  2015         0.655   0.782   \n",
       "2557  77   Habits (Stay High)         Tove Lo  2015         0.691   0.712   \n",
       "2558  91       Heartbeat Song  Kelly Clarkson  2015         0.500   0.791   \n",
       "\n",
       "      key  loudness  mode  speechiness  acousticness  instrumentalness  \\\n",
       "2554    8    -7.416     1       0.0897        0.0692          0.001440   \n",
       "2555    9    -5.137     0       0.1260        0.0128          0.000000   \n",
       "2556    1    -4.789     1       0.1850        0.3750          0.000000   \n",
       "2557    5    -3.421     1       0.0327        0.0557          0.000027   \n",
       "2558    6    -3.711     1       0.0505        0.0120          0.000000   \n",
       "\n",
       "      liveness  valence    tempo            type  duration_ms  time_signature  \n",
       "2554    0.1060    0.465  139.997  audio_features       220440               4  \n",
       "2555    0.1260    0.571  136.024  audio_features       213507               4  \n",
       "2556    0.3170    0.839   79.427  audio_features       184227               4  \n",
       "2557    0.0896    0.417  110.007  audio_features       208000               4  \n",
       "2558    0.0645    0.465  149.093  audio_features       198693               4  "
      ]
     },
     "execution_count": 20,
     "metadata": {},
     "output_type": "execute_result"
    }
   ],
   "source": [
    "songs.tail()"
   ]
  },
  {
   "cell_type": "code",
   "execution_count": 21,
   "metadata": {},
   "outputs": [
    {
     "data": {
      "text/plain": [
       "(2559, 18)"
      ]
     },
     "execution_count": 21,
     "metadata": {},
     "output_type": "execute_result"
    }
   ],
   "source": [
    "songs.shape"
   ]
  },
  {
   "cell_type": "code",
   "execution_count": 22,
   "metadata": {
    "collapsed": true
   },
   "outputs": [],
   "source": [
    "# convert column of a DataFrame\n",
    "# Drop a row by condition, remove 'Tie' from no column\n",
    "songs = songs[songs.no != 'Tie']\n",
    "songs['no'] = pd.to_numeric(songs['no'])"
   ]
  },
  {
   "cell_type": "code",
   "execution_count": 23,
   "metadata": {},
   "outputs": [
    {
     "data": {
      "text/plain": [
       "no                    int64\n",
       "title                object\n",
       "artist               object\n",
       "year                  int64\n",
       "danceability        float64\n",
       "energy              float64\n",
       "key                   int64\n",
       "loudness            float64\n",
       "mode                  int64\n",
       "speechiness         float64\n",
       "acousticness        float64\n",
       "instrumentalness    float64\n",
       "liveness            float64\n",
       "valence             float64\n",
       "tempo               float64\n",
       "type                 object\n",
       "duration_ms           int64\n",
       "time_signature        int64\n",
       "dtype: object"
      ]
     },
     "execution_count": 23,
     "metadata": {},
     "output_type": "execute_result"
    }
   ],
   "source": [
    "songs.dtypes"
   ]
  },
  {
   "cell_type": "markdown",
   "metadata": {},
   "source": [
    "## Get more data"
   ]
  },
  {
   "cell_type": "code",
   "execution_count": 24,
   "metadata": {},
   "outputs": [
    {
     "data": {
      "text/html": [
       "<div>\n",
       "<style scoped>\n",
       "    .dataframe tbody tr th:only-of-type {\n",
       "        vertical-align: middle;\n",
       "    }\n",
       "\n",
       "    .dataframe tbody tr th {\n",
       "        vertical-align: top;\n",
       "    }\n",
       "\n",
       "    .dataframe thead th {\n",
       "        text-align: right;\n",
       "    }\n",
       "</style>\n",
       "<table border=\"1\" class=\"dataframe\">\n",
       "  <thead>\n",
       "    <tr style=\"text-align: right;\">\n",
       "      <th></th>\n",
       "      <th>song_name</th>\n",
       "      <th>Peak_Position</th>\n",
       "      <th>artist</th>\n",
       "      <th>WeekID</th>\n",
       "      <th>song_popularity</th>\n",
       "      <th>song_duration_ms</th>\n",
       "      <th>acousticness</th>\n",
       "      <th>danceability</th>\n",
       "      <th>energy</th>\n",
       "      <th>instrumentalness</th>\n",
       "      <th>key</th>\n",
       "      <th>liveness</th>\n",
       "      <th>loudness</th>\n",
       "      <th>audio_mode</th>\n",
       "      <th>speechiness</th>\n",
       "      <th>tempo</th>\n",
       "      <th>time_signature</th>\n",
       "      <th>audio_valence</th>\n",
       "      <th>type</th>\n",
       "      <th>year</th>\n",
       "    </tr>\n",
       "  </thead>\n",
       "  <tbody>\n",
       "    <tr>\n",
       "      <th>0</th>\n",
       "      <td>#SELFIE</td>\n",
       "      <td>16</td>\n",
       "      <td>The Chainsmokers</td>\n",
       "      <td>2014-03-15</td>\n",
       "      <td>27</td>\n",
       "      <td>183750</td>\n",
       "      <td>0.0136</td>\n",
       "      <td>0.808</td>\n",
       "      <td>0.915</td>\n",
       "      <td>0.000009</td>\n",
       "      <td>0</td>\n",
       "      <td>0.0788</td>\n",
       "      <td>-3.277</td>\n",
       "      <td>1</td>\n",
       "      <td>0.233</td>\n",
       "      <td>127.984</td>\n",
       "      <td>4</td>\n",
       "      <td>0.647</td>\n",
       "      <td>Other</td>\n",
       "      <td>2014</td>\n",
       "    </tr>\n",
       "    <tr>\n",
       "      <th>1</th>\n",
       "      <td>#SELFIE</td>\n",
       "      <td>16</td>\n",
       "      <td>The Chainsmokers</td>\n",
       "      <td>2014-05-24</td>\n",
       "      <td>27</td>\n",
       "      <td>183750</td>\n",
       "      <td>0.0136</td>\n",
       "      <td>0.808</td>\n",
       "      <td>0.915</td>\n",
       "      <td>0.000009</td>\n",
       "      <td>0</td>\n",
       "      <td>0.0788</td>\n",
       "      <td>-3.277</td>\n",
       "      <td>1</td>\n",
       "      <td>0.233</td>\n",
       "      <td>127.984</td>\n",
       "      <td>4</td>\n",
       "      <td>0.647</td>\n",
       "      <td>Other</td>\n",
       "      <td>2014</td>\n",
       "    </tr>\n",
       "    <tr>\n",
       "      <th>2</th>\n",
       "      <td>#SELFIE</td>\n",
       "      <td>16</td>\n",
       "      <td>The Chainsmokers</td>\n",
       "      <td>2014-05-03</td>\n",
       "      <td>27</td>\n",
       "      <td>183750</td>\n",
       "      <td>0.0136</td>\n",
       "      <td>0.808</td>\n",
       "      <td>0.915</td>\n",
       "      <td>0.000009</td>\n",
       "      <td>0</td>\n",
       "      <td>0.0788</td>\n",
       "      <td>-3.277</td>\n",
       "      <td>1</td>\n",
       "      <td>0.233</td>\n",
       "      <td>127.984</td>\n",
       "      <td>4</td>\n",
       "      <td>0.647</td>\n",
       "      <td>Other</td>\n",
       "      <td>2014</td>\n",
       "    </tr>\n",
       "    <tr>\n",
       "      <th>3</th>\n",
       "      <td>#SELFIE</td>\n",
       "      <td>16</td>\n",
       "      <td>The Chainsmokers</td>\n",
       "      <td>2014-03-22</td>\n",
       "      <td>27</td>\n",
       "      <td>183750</td>\n",
       "      <td>0.0136</td>\n",
       "      <td>0.808</td>\n",
       "      <td>0.915</td>\n",
       "      <td>0.000009</td>\n",
       "      <td>0</td>\n",
       "      <td>0.0788</td>\n",
       "      <td>-3.277</td>\n",
       "      <td>1</td>\n",
       "      <td>0.233</td>\n",
       "      <td>127.984</td>\n",
       "      <td>4</td>\n",
       "      <td>0.647</td>\n",
       "      <td>Other</td>\n",
       "      <td>2014</td>\n",
       "    </tr>\n",
       "    <tr>\n",
       "      <th>4</th>\n",
       "      <td>#SELFIE</td>\n",
       "      <td>16</td>\n",
       "      <td>The Chainsmokers</td>\n",
       "      <td>2014-03-29</td>\n",
       "      <td>27</td>\n",
       "      <td>183750</td>\n",
       "      <td>0.0136</td>\n",
       "      <td>0.808</td>\n",
       "      <td>0.915</td>\n",
       "      <td>0.000009</td>\n",
       "      <td>0</td>\n",
       "      <td>0.0788</td>\n",
       "      <td>-3.277</td>\n",
       "      <td>1</td>\n",
       "      <td>0.233</td>\n",
       "      <td>127.984</td>\n",
       "      <td>4</td>\n",
       "      <td>0.647</td>\n",
       "      <td>Other</td>\n",
       "      <td>2014</td>\n",
       "    </tr>\n",
       "  </tbody>\n",
       "</table>\n",
       "</div>"
      ],
      "text/plain": [
       "  song_name  Peak_Position            artist      WeekID  song_popularity  \\\n",
       "0   #SELFIE             16  The Chainsmokers  2014-03-15               27   \n",
       "1   #SELFIE             16  The Chainsmokers  2014-05-24               27   \n",
       "2   #SELFIE             16  The Chainsmokers  2014-05-03               27   \n",
       "3   #SELFIE             16  The Chainsmokers  2014-03-22               27   \n",
       "4   #SELFIE             16  The Chainsmokers  2014-03-29               27   \n",
       "\n",
       "   song_duration_ms  acousticness  danceability  energy  instrumentalness  \\\n",
       "0            183750        0.0136         0.808   0.915          0.000009   \n",
       "1            183750        0.0136         0.808   0.915          0.000009   \n",
       "2            183750        0.0136         0.808   0.915          0.000009   \n",
       "3            183750        0.0136         0.808   0.915          0.000009   \n",
       "4            183750        0.0136         0.808   0.915          0.000009   \n",
       "\n",
       "   key  liveness  loudness  audio_mode  speechiness    tempo  time_signature  \\\n",
       "0    0    0.0788    -3.277           1        0.233  127.984               4   \n",
       "1    0    0.0788    -3.277           1        0.233  127.984               4   \n",
       "2    0    0.0788    -3.277           1        0.233  127.984               4   \n",
       "3    0    0.0788    -3.277           1        0.233  127.984               4   \n",
       "4    0    0.0788    -3.277           1        0.233  127.984               4   \n",
       "\n",
       "   audio_valence   type  year  \n",
       "0          0.647  Other  2014  \n",
       "1          0.647  Other  2014  \n",
       "2          0.647  Other  2014  \n",
       "3          0.647  Other  2014  \n",
       "4          0.647  Other  2014  "
      ]
     },
     "execution_count": 24,
     "metadata": {},
     "output_type": "execute_result"
    }
   ],
   "source": [
    "data = pd.read_csv('spotsongs.csv')\n",
    "data.head()"
   ]
  },
  {
   "cell_type": "code",
   "execution_count": 25,
   "metadata": {},
   "outputs": [
    {
     "data": {
      "text/plain": [
       "Index(['song_name', 'Peak_Position', 'artist', 'WeekID', 'song_popularity',\n",
       "       'song_duration_ms', 'acousticness', 'danceability', 'energy',\n",
       "       'instrumentalness', 'key', 'liveness', 'loudness', 'audio_mode',\n",
       "       'speechiness', 'tempo', 'time_signature', 'audio_valence', 'type',\n",
       "       'year'],\n",
       "      dtype='object')"
      ]
     },
     "execution_count": 25,
     "metadata": {},
     "output_type": "execute_result"
    }
   ],
   "source": [
    "data.columns"
   ]
  },
  {
   "cell_type": "code",
   "execution_count": 26,
   "metadata": {},
   "outputs": [
    {
     "data": {
      "text/plain": [
       "Index(['no', 'title', 'artist', 'year', 'danceability', 'energy', 'key',\n",
       "       'loudness', 'mode', 'speechiness', 'acousticness', 'instrumentalness',\n",
       "       'liveness', 'valence', 'tempo', 'type', 'duration_ms',\n",
       "       'time_signature'],\n",
       "      dtype='object')"
      ]
     },
     "execution_count": 26,
     "metadata": {},
     "output_type": "execute_result"
    }
   ],
   "source": [
    "songs.columns"
   ]
  },
  {
   "cell_type": "code",
   "execution_count": 27,
   "metadata": {
    "collapsed": true
   },
   "outputs": [],
   "source": [
    "data.columns = ['title', 'no', 'artist', 'WeekID', 'song_popularity',\n",
    "       'duration_ms', 'acousticness', 'danceability', 'energy',\n",
    "       'instrumentalness', 'key', 'liveness', 'loudness', 'audio_mode',\n",
    "       'speechiness', 'tempo', 'time_signature', 'valence', 'type',\n",
    "       'year']"
   ]
  },
  {
   "cell_type": "code",
   "execution_count": 28,
   "metadata": {},
   "outputs": [
    {
     "data": {
      "text/plain": [
       "Index(['title', 'no', 'artist', 'WeekID', 'song_popularity', 'duration_ms',\n",
       "       'acousticness', 'danceability', 'energy', 'instrumentalness', 'key',\n",
       "       'liveness', 'loudness', 'audio_mode', 'speechiness', 'tempo',\n",
       "       'time_signature', 'valence', 'type', 'year'],\n",
       "      dtype='object')"
      ]
     },
     "execution_count": 28,
     "metadata": {},
     "output_type": "execute_result"
    }
   ],
   "source": [
    "data.columns"
   ]
  },
  {
   "cell_type": "code",
   "execution_count": 29,
   "metadata": {
    "collapsed": true
   },
   "outputs": [],
   "source": [
    "cols2 = ['title', 'no', 'artist',\n",
    "       'duration_ms', 'acousticness', 'danceability', 'energy',\n",
    "       'instrumentalness', 'key', 'liveness', 'loudness', 'audio_mode',\n",
    "       'speechiness', 'tempo', 'time_signature', 'valence', 'type',\n",
    "       'year']"
   ]
  },
  {
   "cell_type": "code",
   "execution_count": 30,
   "metadata": {},
   "outputs": [
    {
     "data": {
      "text/html": [
       "<div>\n",
       "<style scoped>\n",
       "    .dataframe tbody tr th:only-of-type {\n",
       "        vertical-align: middle;\n",
       "    }\n",
       "\n",
       "    .dataframe tbody tr th {\n",
       "        vertical-align: top;\n",
       "    }\n",
       "\n",
       "    .dataframe thead th {\n",
       "        text-align: right;\n",
       "    }\n",
       "</style>\n",
       "<table border=\"1\" class=\"dataframe\">\n",
       "  <thead>\n",
       "    <tr style=\"text-align: right;\">\n",
       "      <th></th>\n",
       "      <th>title</th>\n",
       "      <th>no</th>\n",
       "      <th>artist</th>\n",
       "      <th>duration_ms</th>\n",
       "      <th>acousticness</th>\n",
       "      <th>danceability</th>\n",
       "      <th>energy</th>\n",
       "      <th>instrumentalness</th>\n",
       "      <th>key</th>\n",
       "      <th>liveness</th>\n",
       "      <th>loudness</th>\n",
       "      <th>audio_mode</th>\n",
       "      <th>speechiness</th>\n",
       "      <th>tempo</th>\n",
       "      <th>time_signature</th>\n",
       "      <th>valence</th>\n",
       "      <th>type</th>\n",
       "      <th>year</th>\n",
       "    </tr>\n",
       "  </thead>\n",
       "  <tbody>\n",
       "    <tr>\n",
       "      <th>0</th>\n",
       "      <td>#SELFIE</td>\n",
       "      <td>16</td>\n",
       "      <td>The Chainsmokers</td>\n",
       "      <td>183750</td>\n",
       "      <td>0.0136</td>\n",
       "      <td>0.808</td>\n",
       "      <td>0.915</td>\n",
       "      <td>0.000009</td>\n",
       "      <td>0</td>\n",
       "      <td>0.0788</td>\n",
       "      <td>-3.277</td>\n",
       "      <td>1</td>\n",
       "      <td>0.233</td>\n",
       "      <td>127.984</td>\n",
       "      <td>4</td>\n",
       "      <td>0.647</td>\n",
       "      <td>Other</td>\n",
       "      <td>2014</td>\n",
       "    </tr>\n",
       "    <tr>\n",
       "      <th>1</th>\n",
       "      <td>#SELFIE</td>\n",
       "      <td>16</td>\n",
       "      <td>The Chainsmokers</td>\n",
       "      <td>183750</td>\n",
       "      <td>0.0136</td>\n",
       "      <td>0.808</td>\n",
       "      <td>0.915</td>\n",
       "      <td>0.000009</td>\n",
       "      <td>0</td>\n",
       "      <td>0.0788</td>\n",
       "      <td>-3.277</td>\n",
       "      <td>1</td>\n",
       "      <td>0.233</td>\n",
       "      <td>127.984</td>\n",
       "      <td>4</td>\n",
       "      <td>0.647</td>\n",
       "      <td>Other</td>\n",
       "      <td>2014</td>\n",
       "    </tr>\n",
       "    <tr>\n",
       "      <th>2</th>\n",
       "      <td>#SELFIE</td>\n",
       "      <td>16</td>\n",
       "      <td>The Chainsmokers</td>\n",
       "      <td>183750</td>\n",
       "      <td>0.0136</td>\n",
       "      <td>0.808</td>\n",
       "      <td>0.915</td>\n",
       "      <td>0.000009</td>\n",
       "      <td>0</td>\n",
       "      <td>0.0788</td>\n",
       "      <td>-3.277</td>\n",
       "      <td>1</td>\n",
       "      <td>0.233</td>\n",
       "      <td>127.984</td>\n",
       "      <td>4</td>\n",
       "      <td>0.647</td>\n",
       "      <td>Other</td>\n",
       "      <td>2014</td>\n",
       "    </tr>\n",
       "    <tr>\n",
       "      <th>3</th>\n",
       "      <td>#SELFIE</td>\n",
       "      <td>16</td>\n",
       "      <td>The Chainsmokers</td>\n",
       "      <td>183750</td>\n",
       "      <td>0.0136</td>\n",
       "      <td>0.808</td>\n",
       "      <td>0.915</td>\n",
       "      <td>0.000009</td>\n",
       "      <td>0</td>\n",
       "      <td>0.0788</td>\n",
       "      <td>-3.277</td>\n",
       "      <td>1</td>\n",
       "      <td>0.233</td>\n",
       "      <td>127.984</td>\n",
       "      <td>4</td>\n",
       "      <td>0.647</td>\n",
       "      <td>Other</td>\n",
       "      <td>2014</td>\n",
       "    </tr>\n",
       "    <tr>\n",
       "      <th>4</th>\n",
       "      <td>#SELFIE</td>\n",
       "      <td>16</td>\n",
       "      <td>The Chainsmokers</td>\n",
       "      <td>183750</td>\n",
       "      <td>0.0136</td>\n",
       "      <td>0.808</td>\n",
       "      <td>0.915</td>\n",
       "      <td>0.000009</td>\n",
       "      <td>0</td>\n",
       "      <td>0.0788</td>\n",
       "      <td>-3.277</td>\n",
       "      <td>1</td>\n",
       "      <td>0.233</td>\n",
       "      <td>127.984</td>\n",
       "      <td>4</td>\n",
       "      <td>0.647</td>\n",
       "      <td>Other</td>\n",
       "      <td>2014</td>\n",
       "    </tr>\n",
       "  </tbody>\n",
       "</table>\n",
       "</div>"
      ],
      "text/plain": [
       "     title  no            artist  duration_ms  acousticness  danceability  \\\n",
       "0  #SELFIE  16  The Chainsmokers       183750        0.0136         0.808   \n",
       "1  #SELFIE  16  The Chainsmokers       183750        0.0136         0.808   \n",
       "2  #SELFIE  16  The Chainsmokers       183750        0.0136         0.808   \n",
       "3  #SELFIE  16  The Chainsmokers       183750        0.0136         0.808   \n",
       "4  #SELFIE  16  The Chainsmokers       183750        0.0136         0.808   \n",
       "\n",
       "   energy  instrumentalness  key  liveness  loudness  audio_mode  speechiness  \\\n",
       "0   0.915          0.000009    0    0.0788    -3.277           1        0.233   \n",
       "1   0.915          0.000009    0    0.0788    -3.277           1        0.233   \n",
       "2   0.915          0.000009    0    0.0788    -3.277           1        0.233   \n",
       "3   0.915          0.000009    0    0.0788    -3.277           1        0.233   \n",
       "4   0.915          0.000009    0    0.0788    -3.277           1        0.233   \n",
       "\n",
       "     tempo  time_signature  valence   type  year  \n",
       "0  127.984               4    0.647  Other  2014  \n",
       "1  127.984               4    0.647  Other  2014  \n",
       "2  127.984               4    0.647  Other  2014  \n",
       "3  127.984               4    0.647  Other  2014  \n",
       "4  127.984               4    0.647  Other  2014  "
      ]
     },
     "execution_count": 30,
     "metadata": {},
     "output_type": "execute_result"
    }
   ],
   "source": [
    "songs2 = data[cols2]\n",
    "songs2.head()"
   ]
  },
  {
   "cell_type": "code",
   "execution_count": 31,
   "metadata": {},
   "outputs": [
    {
     "data": {
      "text/plain": [
       "title                object\n",
       "no                    int64\n",
       "artist               object\n",
       "duration_ms           int64\n",
       "acousticness        float64\n",
       "danceability        float64\n",
       "energy              float64\n",
       "instrumentalness    float64\n",
       "key                   int64\n",
       "liveness            float64\n",
       "loudness            float64\n",
       "audio_mode            int64\n",
       "speechiness         float64\n",
       "tempo               float64\n",
       "time_signature        int64\n",
       "valence             float64\n",
       "type                 object\n",
       "year                  int64\n",
       "dtype: object"
      ]
     },
     "execution_count": 31,
     "metadata": {},
     "output_type": "execute_result"
    }
   ],
   "source": [
    "songs2.dtypes"
   ]
  },
  {
   "cell_type": "code",
   "execution_count": 32,
   "metadata": {},
   "outputs": [
    {
     "data": {
      "text/plain": [
       "(45400, 18)"
      ]
     },
     "execution_count": 32,
     "metadata": {},
     "output_type": "execute_result"
    }
   ],
   "source": [
    "songs2.shape"
   ]
  },
  {
   "cell_type": "code",
   "execution_count": 33,
   "metadata": {
    "collapsed": true
   },
   "outputs": [],
   "source": [
    "songs2 = songs2.drop_duplicates()"
   ]
  },
  {
   "cell_type": "code",
   "execution_count": 34,
   "metadata": {},
   "outputs": [
    {
     "data": {
      "text/plain": [
       "(3021, 18)"
      ]
     },
     "execution_count": 34,
     "metadata": {},
     "output_type": "execute_result"
    }
   ],
   "source": [
    "songs2.shape"
   ]
  },
  {
   "cell_type": "code",
   "execution_count": 35,
   "metadata": {},
   "outputs": [
    {
     "data": {
      "text/plain": [
       "count    2558.000000\n",
       "mean     1987.901876\n",
       "std        15.620304\n",
       "min      1960.000000\n",
       "25%      1975.000000\n",
       "50%      1989.000000\n",
       "75%      2001.000000\n",
       "max      2015.000000\n",
       "Name: year, dtype: float64"
      ]
     },
     "execution_count": 35,
     "metadata": {},
     "output_type": "execute_result"
    }
   ],
   "source": [
    "songs.year.describe()"
   ]
  },
  {
   "cell_type": "code",
   "execution_count": 36,
   "metadata": {},
   "outputs": [
    {
     "data": {
      "text/plain": [
       "count    3021.000000\n",
       "mean     1997.688845\n",
       "std        17.381877\n",
       "min      1958.000000\n",
       "25%      1985.000000\n",
       "50%      2001.000000\n",
       "75%      2014.000000\n",
       "max      2019.000000\n",
       "Name: year, dtype: float64"
      ]
     },
     "execution_count": 36,
     "metadata": {},
     "output_type": "execute_result"
    }
   ],
   "source": [
    "songs2.year.describe()"
   ]
  },
  {
   "cell_type": "code",
   "execution_count": 37,
   "metadata": {},
   "outputs": [
    {
     "data": {
      "text/html": [
       "<div>\n",
       "<style scoped>\n",
       "    .dataframe tbody tr th:only-of-type {\n",
       "        vertical-align: middle;\n",
       "    }\n",
       "\n",
       "    .dataframe tbody tr th {\n",
       "        vertical-align: top;\n",
       "    }\n",
       "\n",
       "    .dataframe thead th {\n",
       "        text-align: right;\n",
       "    }\n",
       "</style>\n",
       "<table border=\"1\" class=\"dataframe\">\n",
       "  <thead>\n",
       "    <tr style=\"text-align: right;\">\n",
       "      <th></th>\n",
       "      <th>title</th>\n",
       "      <th>no</th>\n",
       "      <th>artist</th>\n",
       "      <th>duration_ms</th>\n",
       "      <th>acousticness</th>\n",
       "      <th>danceability</th>\n",
       "      <th>energy</th>\n",
       "      <th>instrumentalness</th>\n",
       "      <th>key</th>\n",
       "      <th>liveness</th>\n",
       "      <th>loudness</th>\n",
       "      <th>audio_mode</th>\n",
       "      <th>speechiness</th>\n",
       "      <th>tempo</th>\n",
       "      <th>time_signature</th>\n",
       "      <th>valence</th>\n",
       "      <th>type</th>\n",
       "      <th>year</th>\n",
       "    </tr>\n",
       "  </thead>\n",
       "  <tbody>\n",
       "    <tr>\n",
       "      <th>214</th>\n",
       "      <td>1942 Flows</td>\n",
       "      <td>83</td>\n",
       "      <td>Meek Mill</td>\n",
       "      <td>282666</td>\n",
       "      <td>0.0515</td>\n",
       "      <td>0.630</td>\n",
       "      <td>0.628</td>\n",
       "      <td>0.0</td>\n",
       "      <td>2</td>\n",
       "      <td>0.0910</td>\n",
       "      <td>-4.016</td>\n",
       "      <td>1</td>\n",
       "      <td>0.3270</td>\n",
       "      <td>121.307</td>\n",
       "      <td>5</td>\n",
       "      <td>0.266</td>\n",
       "      <td>Other</td>\n",
       "      <td>2017</td>\n",
       "    </tr>\n",
       "    <tr>\n",
       "      <th>319</th>\n",
       "      <td>24K Magic</td>\n",
       "      <td>4</td>\n",
       "      <td>Bruno Mars</td>\n",
       "      <td>225983</td>\n",
       "      <td>0.0340</td>\n",
       "      <td>0.818</td>\n",
       "      <td>0.803</td>\n",
       "      <td>0.0</td>\n",
       "      <td>1</td>\n",
       "      <td>0.1530</td>\n",
       "      <td>-4.282</td>\n",
       "      <td>1</td>\n",
       "      <td>0.0797</td>\n",
       "      <td>106.970</td>\n",
       "      <td>4</td>\n",
       "      <td>0.632</td>\n",
       "      <td>Top10</td>\n",
       "      <td>2016</td>\n",
       "    </tr>\n",
       "    <tr>\n",
       "      <th>321</th>\n",
       "      <td>24K Magic</td>\n",
       "      <td>4</td>\n",
       "      <td>Bruno Mars</td>\n",
       "      <td>225983</td>\n",
       "      <td>0.0340</td>\n",
       "      <td>0.818</td>\n",
       "      <td>0.803</td>\n",
       "      <td>0.0</td>\n",
       "      <td>1</td>\n",
       "      <td>0.1530</td>\n",
       "      <td>-4.282</td>\n",
       "      <td>1</td>\n",
       "      <td>0.0797</td>\n",
       "      <td>106.970</td>\n",
       "      <td>4</td>\n",
       "      <td>0.632</td>\n",
       "      <td>Top10</td>\n",
       "      <td>2017</td>\n",
       "    </tr>\n",
       "    <tr>\n",
       "      <th>401</th>\n",
       "      <td>44 More</td>\n",
       "      <td>22</td>\n",
       "      <td>Logic</td>\n",
       "      <td>188613</td>\n",
       "      <td>0.0717</td>\n",
       "      <td>0.818</td>\n",
       "      <td>0.572</td>\n",
       "      <td>0.0</td>\n",
       "      <td>1</td>\n",
       "      <td>0.1010</td>\n",
       "      <td>-7.085</td>\n",
       "      <td>1</td>\n",
       "      <td>0.2280</td>\n",
       "      <td>139.968</td>\n",
       "      <td>4</td>\n",
       "      <td>0.236</td>\n",
       "      <td>Other</td>\n",
       "      <td>2018</td>\n",
       "    </tr>\n",
       "    <tr>\n",
       "      <th>448</th>\n",
       "      <td>7 Years</td>\n",
       "      <td>2</td>\n",
       "      <td>Lukas Graham</td>\n",
       "      <td>188045</td>\n",
       "      <td>0.8590</td>\n",
       "      <td>0.724</td>\n",
       "      <td>0.390</td>\n",
       "      <td>0.0</td>\n",
       "      <td>10</td>\n",
       "      <td>0.0975</td>\n",
       "      <td>-7.073</td>\n",
       "      <td>1</td>\n",
       "      <td>0.0365</td>\n",
       "      <td>119.838</td>\n",
       "      <td>4</td>\n",
       "      <td>0.360</td>\n",
       "      <td>Top10</td>\n",
       "      <td>2016</td>\n",
       "    </tr>\n",
       "  </tbody>\n",
       "</table>\n",
       "</div>"
      ],
      "text/plain": [
       "          title  no        artist  duration_ms  acousticness  danceability  \\\n",
       "214  1942 Flows  83     Meek Mill       282666        0.0515         0.630   \n",
       "319   24K Magic   4    Bruno Mars       225983        0.0340         0.818   \n",
       "321   24K Magic   4    Bruno Mars       225983        0.0340         0.818   \n",
       "401     44 More  22         Logic       188613        0.0717         0.818   \n",
       "448     7 Years   2  Lukas Graham       188045        0.8590         0.724   \n",
       "\n",
       "     energy  instrumentalness  key  liveness  loudness  audio_mode  \\\n",
       "214   0.628               0.0    2    0.0910    -4.016           1   \n",
       "319   0.803               0.0    1    0.1530    -4.282           1   \n",
       "321   0.803               0.0    1    0.1530    -4.282           1   \n",
       "401   0.572               0.0    1    0.1010    -7.085           1   \n",
       "448   0.390               0.0   10    0.0975    -7.073           1   \n",
       "\n",
       "     speechiness    tempo  time_signature  valence   type  year  \n",
       "214       0.3270  121.307               5    0.266  Other  2017  \n",
       "319       0.0797  106.970               4    0.632  Top10  2016  \n",
       "321       0.0797  106.970               4    0.632  Top10  2017  \n",
       "401       0.2280  139.968               4    0.236  Other  2018  \n",
       "448       0.0365  119.838               4    0.360  Top10  2016  "
      ]
     },
     "execution_count": 37,
     "metadata": {},
     "output_type": "execute_result"
    }
   ],
   "source": [
    "# Extract data for years 2016-2018 using Boolean mask\n",
    "year_mask = songs2.year > 2015\n",
    "songs2016_2019= songs2[year_mask]\n",
    "songs2016_2019.head()"
   ]
  },
  {
   "cell_type": "code",
   "execution_count": 38,
   "metadata": {},
   "outputs": [
    {
     "data": {
      "text/plain": [
       "count     584.000000\n",
       "mean     2017.419521\n",
       "std         0.948247\n",
       "min      2016.000000\n",
       "25%      2017.000000\n",
       "50%      2018.000000\n",
       "75%      2018.000000\n",
       "max      2019.000000\n",
       "Name: year, dtype: float64"
      ]
     },
     "execution_count": 38,
     "metadata": {},
     "output_type": "execute_result"
    }
   ],
   "source": [
    "songs2016_2019.year.describe()"
   ]
  },
  {
   "cell_type": "code",
   "execution_count": 39,
   "metadata": {},
   "outputs": [
    {
     "data": {
      "text/plain": [
       "(584, 18)"
      ]
     },
     "execution_count": 39,
     "metadata": {},
     "output_type": "execute_result"
    }
   ],
   "source": [
    "songs2016_2019.shape"
   ]
  },
  {
   "cell_type": "code",
   "execution_count": 40,
   "metadata": {
    "collapsed": true
   },
   "outputs": [],
   "source": [
    "# Remove duplicates from the dataframe\n",
    "# df.drop_duplicates(['col_1','col_2'])\n",
    "#songs2016_2019 = songs2016_2019.drop_duplicates(['title'])"
   ]
  },
  {
   "cell_type": "code",
   "execution_count": 41,
   "metadata": {},
   "outputs": [
    {
     "data": {
      "text/plain": [
       "(584, 18)"
      ]
     },
     "execution_count": 41,
     "metadata": {},
     "output_type": "execute_result"
    }
   ],
   "source": [
    "songs2016_2019.shape"
   ]
  },
  {
   "cell_type": "code",
   "execution_count": 42,
   "metadata": {},
   "outputs": [
    {
     "data": {
      "text/html": [
       "<div>\n",
       "<style scoped>\n",
       "    .dataframe tbody tr th:only-of-type {\n",
       "        vertical-align: middle;\n",
       "    }\n",
       "\n",
       "    .dataframe tbody tr th {\n",
       "        vertical-align: top;\n",
       "    }\n",
       "\n",
       "    .dataframe thead th {\n",
       "        text-align: right;\n",
       "    }\n",
       "</style>\n",
       "<table border=\"1\" class=\"dataframe\">\n",
       "  <thead>\n",
       "    <tr style=\"text-align: right;\">\n",
       "      <th></th>\n",
       "      <th>title</th>\n",
       "      <th>no</th>\n",
       "      <th>artist</th>\n",
       "      <th>duration_ms</th>\n",
       "      <th>acousticness</th>\n",
       "      <th>danceability</th>\n",
       "      <th>energy</th>\n",
       "      <th>instrumentalness</th>\n",
       "      <th>key</th>\n",
       "      <th>liveness</th>\n",
       "      <th>loudness</th>\n",
       "      <th>audio_mode</th>\n",
       "      <th>speechiness</th>\n",
       "      <th>tempo</th>\n",
       "      <th>time_signature</th>\n",
       "      <th>valence</th>\n",
       "      <th>type</th>\n",
       "      <th>year</th>\n",
       "    </tr>\n",
       "  </thead>\n",
       "  <tbody>\n",
       "    <tr>\n",
       "      <th>214</th>\n",
       "      <td>1942 Flows</td>\n",
       "      <td>83</td>\n",
       "      <td>Meek Mill</td>\n",
       "      <td>282666</td>\n",
       "      <td>0.0515</td>\n",
       "      <td>0.630</td>\n",
       "      <td>0.628</td>\n",
       "      <td>0.0</td>\n",
       "      <td>2</td>\n",
       "      <td>0.0910</td>\n",
       "      <td>-4.016</td>\n",
       "      <td>1</td>\n",
       "      <td>0.3270</td>\n",
       "      <td>121.307</td>\n",
       "      <td>5</td>\n",
       "      <td>0.266</td>\n",
       "      <td>Other</td>\n",
       "      <td>2017</td>\n",
       "    </tr>\n",
       "    <tr>\n",
       "      <th>319</th>\n",
       "      <td>24K Magic</td>\n",
       "      <td>4</td>\n",
       "      <td>Bruno Mars</td>\n",
       "      <td>225983</td>\n",
       "      <td>0.0340</td>\n",
       "      <td>0.818</td>\n",
       "      <td>0.803</td>\n",
       "      <td>0.0</td>\n",
       "      <td>1</td>\n",
       "      <td>0.1530</td>\n",
       "      <td>-4.282</td>\n",
       "      <td>1</td>\n",
       "      <td>0.0797</td>\n",
       "      <td>106.970</td>\n",
       "      <td>4</td>\n",
       "      <td>0.632</td>\n",
       "      <td>Top10</td>\n",
       "      <td>2016</td>\n",
       "    </tr>\n",
       "    <tr>\n",
       "      <th>321</th>\n",
       "      <td>24K Magic</td>\n",
       "      <td>4</td>\n",
       "      <td>Bruno Mars</td>\n",
       "      <td>225983</td>\n",
       "      <td>0.0340</td>\n",
       "      <td>0.818</td>\n",
       "      <td>0.803</td>\n",
       "      <td>0.0</td>\n",
       "      <td>1</td>\n",
       "      <td>0.1530</td>\n",
       "      <td>-4.282</td>\n",
       "      <td>1</td>\n",
       "      <td>0.0797</td>\n",
       "      <td>106.970</td>\n",
       "      <td>4</td>\n",
       "      <td>0.632</td>\n",
       "      <td>Top10</td>\n",
       "      <td>2017</td>\n",
       "    </tr>\n",
       "    <tr>\n",
       "      <th>401</th>\n",
       "      <td>44 More</td>\n",
       "      <td>22</td>\n",
       "      <td>Logic</td>\n",
       "      <td>188613</td>\n",
       "      <td>0.0717</td>\n",
       "      <td>0.818</td>\n",
       "      <td>0.572</td>\n",
       "      <td>0.0</td>\n",
       "      <td>1</td>\n",
       "      <td>0.1010</td>\n",
       "      <td>-7.085</td>\n",
       "      <td>1</td>\n",
       "      <td>0.2280</td>\n",
       "      <td>139.968</td>\n",
       "      <td>4</td>\n",
       "      <td>0.236</td>\n",
       "      <td>Other</td>\n",
       "      <td>2018</td>\n",
       "    </tr>\n",
       "    <tr>\n",
       "      <th>448</th>\n",
       "      <td>7 Years</td>\n",
       "      <td>2</td>\n",
       "      <td>Lukas Graham</td>\n",
       "      <td>188045</td>\n",
       "      <td>0.8590</td>\n",
       "      <td>0.724</td>\n",
       "      <td>0.390</td>\n",
       "      <td>0.0</td>\n",
       "      <td>10</td>\n",
       "      <td>0.0975</td>\n",
       "      <td>-7.073</td>\n",
       "      <td>1</td>\n",
       "      <td>0.0365</td>\n",
       "      <td>119.838</td>\n",
       "      <td>4</td>\n",
       "      <td>0.360</td>\n",
       "      <td>Top10</td>\n",
       "      <td>2016</td>\n",
       "    </tr>\n",
       "  </tbody>\n",
       "</table>\n",
       "</div>"
      ],
      "text/plain": [
       "          title  no        artist  duration_ms  acousticness  danceability  \\\n",
       "214  1942 Flows  83     Meek Mill       282666        0.0515         0.630   \n",
       "319   24K Magic   4    Bruno Mars       225983        0.0340         0.818   \n",
       "321   24K Magic   4    Bruno Mars       225983        0.0340         0.818   \n",
       "401     44 More  22         Logic       188613        0.0717         0.818   \n",
       "448     7 Years   2  Lukas Graham       188045        0.8590         0.724   \n",
       "\n",
       "     energy  instrumentalness  key  liveness  loudness  audio_mode  \\\n",
       "214   0.628               0.0    2    0.0910    -4.016           1   \n",
       "319   0.803               0.0    1    0.1530    -4.282           1   \n",
       "321   0.803               0.0    1    0.1530    -4.282           1   \n",
       "401   0.572               0.0    1    0.1010    -7.085           1   \n",
       "448   0.390               0.0   10    0.0975    -7.073           1   \n",
       "\n",
       "     speechiness    tempo  time_signature  valence   type  year  \n",
       "214       0.3270  121.307               5    0.266  Other  2017  \n",
       "319       0.0797  106.970               4    0.632  Top10  2016  \n",
       "321       0.0797  106.970               4    0.632  Top10  2017  \n",
       "401       0.2280  139.968               4    0.236  Other  2018  \n",
       "448       0.0365  119.838               4    0.360  Top10  2016  "
      ]
     },
     "execution_count": 42,
     "metadata": {},
     "output_type": "execute_result"
    }
   ],
   "source": [
    "songs2016_2019.head()"
   ]
  },
  {
   "cell_type": "code",
   "execution_count": 43,
   "metadata": {},
   "outputs": [
    {
     "data": {
      "text/plain": [
       "title                object\n",
       "no                    int64\n",
       "artist               object\n",
       "duration_ms           int64\n",
       "acousticness        float64\n",
       "danceability        float64\n",
       "energy              float64\n",
       "instrumentalness    float64\n",
       "key                   int64\n",
       "liveness            float64\n",
       "loudness            float64\n",
       "audio_mode            int64\n",
       "speechiness         float64\n",
       "tempo               float64\n",
       "time_signature        int64\n",
       "valence             float64\n",
       "type                 object\n",
       "year                  int64\n",
       "dtype: object"
      ]
     },
     "execution_count": 43,
     "metadata": {},
     "output_type": "execute_result"
    }
   ],
   "source": [
    "songs2016_2019.dtypes"
   ]
  },
  {
   "cell_type": "code",
   "execution_count": 44,
   "metadata": {},
   "outputs": [
    {
     "data": {
      "text/html": [
       "<div>\n",
       "<style scoped>\n",
       "    .dataframe tbody tr th:only-of-type {\n",
       "        vertical-align: middle;\n",
       "    }\n",
       "\n",
       "    .dataframe tbody tr th {\n",
       "        vertical-align: top;\n",
       "    }\n",
       "\n",
       "    .dataframe thead th {\n",
       "        text-align: right;\n",
       "    }\n",
       "</style>\n",
       "<table border=\"1\" class=\"dataframe\">\n",
       "  <thead>\n",
       "    <tr style=\"text-align: right;\">\n",
       "      <th></th>\n",
       "      <th>title</th>\n",
       "      <th>no</th>\n",
       "      <th>artist</th>\n",
       "      <th>duration_ms</th>\n",
       "      <th>acousticness</th>\n",
       "      <th>danceability</th>\n",
       "      <th>energy</th>\n",
       "      <th>instrumentalness</th>\n",
       "      <th>key</th>\n",
       "      <th>liveness</th>\n",
       "      <th>loudness</th>\n",
       "      <th>audio_mode</th>\n",
       "      <th>speechiness</th>\n",
       "      <th>tempo</th>\n",
       "      <th>time_signature</th>\n",
       "      <th>valence</th>\n",
       "      <th>type</th>\n",
       "      <th>year</th>\n",
       "    </tr>\n",
       "  </thead>\n",
       "  <tbody>\n",
       "    <tr>\n",
       "      <th>319</th>\n",
       "      <td>24K Magic</td>\n",
       "      <td>4</td>\n",
       "      <td>Bruno Mars</td>\n",
       "      <td>225983</td>\n",
       "      <td>0.034</td>\n",
       "      <td>0.818</td>\n",
       "      <td>0.803</td>\n",
       "      <td>0.0</td>\n",
       "      <td>1</td>\n",
       "      <td>0.1530</td>\n",
       "      <td>-4.282</td>\n",
       "      <td>1</td>\n",
       "      <td>0.0797</td>\n",
       "      <td>106.970</td>\n",
       "      <td>4</td>\n",
       "      <td>0.632</td>\n",
       "      <td>Top10</td>\n",
       "      <td>2016</td>\n",
       "    </tr>\n",
       "    <tr>\n",
       "      <th>321</th>\n",
       "      <td>24K Magic</td>\n",
       "      <td>4</td>\n",
       "      <td>Bruno Mars</td>\n",
       "      <td>225983</td>\n",
       "      <td>0.034</td>\n",
       "      <td>0.818</td>\n",
       "      <td>0.803</td>\n",
       "      <td>0.0</td>\n",
       "      <td>1</td>\n",
       "      <td>0.1530</td>\n",
       "      <td>-4.282</td>\n",
       "      <td>1</td>\n",
       "      <td>0.0797</td>\n",
       "      <td>106.970</td>\n",
       "      <td>4</td>\n",
       "      <td>0.632</td>\n",
       "      <td>Top10</td>\n",
       "      <td>2017</td>\n",
       "    </tr>\n",
       "    <tr>\n",
       "      <th>448</th>\n",
       "      <td>7 Years</td>\n",
       "      <td>2</td>\n",
       "      <td>Lukas Graham</td>\n",
       "      <td>188045</td>\n",
       "      <td>0.859</td>\n",
       "      <td>0.724</td>\n",
       "      <td>0.390</td>\n",
       "      <td>0.0</td>\n",
       "      <td>10</td>\n",
       "      <td>0.0975</td>\n",
       "      <td>-7.073</td>\n",
       "      <td>1</td>\n",
       "      <td>0.0365</td>\n",
       "      <td>119.838</td>\n",
       "      <td>4</td>\n",
       "      <td>0.360</td>\n",
       "      <td>Top10</td>\n",
       "      <td>2016</td>\n",
       "    </tr>\n",
       "    <tr>\n",
       "      <th>449</th>\n",
       "      <td>7 Years</td>\n",
       "      <td>2</td>\n",
       "      <td>Lukas Graham</td>\n",
       "      <td>237300</td>\n",
       "      <td>0.287</td>\n",
       "      <td>0.765</td>\n",
       "      <td>0.473</td>\n",
       "      <td>0.0</td>\n",
       "      <td>10</td>\n",
       "      <td>0.3910</td>\n",
       "      <td>-5.829</td>\n",
       "      <td>1</td>\n",
       "      <td>0.0514</td>\n",
       "      <td>119.992</td>\n",
       "      <td>4</td>\n",
       "      <td>0.340</td>\n",
       "      <td>Top10</td>\n",
       "      <td>2016</td>\n",
       "    </tr>\n",
       "    <tr>\n",
       "      <th>760</th>\n",
       "      <td>ATM</td>\n",
       "      <td>6</td>\n",
       "      <td>J. Cole</td>\n",
       "      <td>216726</td>\n",
       "      <td>0.115</td>\n",
       "      <td>0.719</td>\n",
       "      <td>0.497</td>\n",
       "      <td>0.0</td>\n",
       "      <td>8</td>\n",
       "      <td>0.0898</td>\n",
       "      <td>-7.661</td>\n",
       "      <td>1</td>\n",
       "      <td>0.6810</td>\n",
       "      <td>81.651</td>\n",
       "      <td>4</td>\n",
       "      <td>0.345</td>\n",
       "      <td>Top10</td>\n",
       "      <td>2018</td>\n",
       "    </tr>\n",
       "  </tbody>\n",
       "</table>\n",
       "</div>"
      ],
      "text/plain": [
       "         title  no        artist  duration_ms  acousticness  danceability  \\\n",
       "319  24K Magic   4    Bruno Mars       225983         0.034         0.818   \n",
       "321  24K Magic   4    Bruno Mars       225983         0.034         0.818   \n",
       "448    7 Years   2  Lukas Graham       188045         0.859         0.724   \n",
       "449    7 Years   2  Lukas Graham       237300         0.287         0.765   \n",
       "760        ATM   6       J. Cole       216726         0.115         0.719   \n",
       "\n",
       "     energy  instrumentalness  key  liveness  loudness  audio_mode  \\\n",
       "319   0.803               0.0    1    0.1530    -4.282           1   \n",
       "321   0.803               0.0    1    0.1530    -4.282           1   \n",
       "448   0.390               0.0   10    0.0975    -7.073           1   \n",
       "449   0.473               0.0   10    0.3910    -5.829           1   \n",
       "760   0.497               0.0    8    0.0898    -7.661           1   \n",
       "\n",
       "     speechiness    tempo  time_signature  valence   type  year  \n",
       "319       0.0797  106.970               4    0.632  Top10  2016  \n",
       "321       0.0797  106.970               4    0.632  Top10  2017  \n",
       "448       0.0365  119.838               4    0.360  Top10  2016  \n",
       "449       0.0514  119.992               4    0.340  Top10  2016  \n",
       "760       0.6810   81.651               4    0.345  Top10  2018  "
      ]
     },
     "execution_count": 44,
     "metadata": {},
     "output_type": "execute_result"
    }
   ],
   "source": [
    "# Extract top 10 songs for years 2016-2018 using Boolean mask\n",
    "top_mask = songs2016_2019.no <= 10\n",
    "top10_2016_2019= songs2016_2019[top_mask]\n",
    "top10_2016_2019.head()"
   ]
  },
  {
   "cell_type": "code",
   "execution_count": 45,
   "metadata": {},
   "outputs": [
    {
     "data": {
      "text/plain": [
       "(205, 18)"
      ]
     },
     "execution_count": 45,
     "metadata": {},
     "output_type": "execute_result"
    }
   ],
   "source": [
    "top10_2016_2019.shape"
   ]
  },
  {
   "cell_type": "markdown",
   "metadata": {},
   "source": [
    "## Create dataframe with many duplicates of Top 10 songs from 2016 to 2019, in order to add more Top 10 songs to the data. Redress the unbalance of the data."
   ]
  },
  {
   "cell_type": "code",
   "execution_count": 46,
   "metadata": {
    "collapsed": true
   },
   "outputs": [],
   "source": [
    "# Save result df as as csv file for future use!\n",
    "#songs2016_2019.to_csv(\"spotsongs2016_2019.csv\", index = False)"
   ]
  },
  {
   "cell_type": "markdown",
   "metadata": {},
   "source": [
    "## Create a categorical column for future classification"
   ]
  },
  {
   "cell_type": "code",
   "execution_count": 47,
   "metadata": {
    "collapsed": true
   },
   "outputs": [],
   "source": [
    "# define the function to convert no into category\n",
    "def billboard_rank(rank):\n",
    "    if rank > 10:\n",
    "        return 'Other'\n",
    "    else:\n",
    "        return 'Top10'"
   ]
  },
  {
   "cell_type": "code",
   "execution_count": 48,
   "metadata": {},
   "outputs": [
    {
     "data": {
      "text/plain": [
       "Other    2310\n",
       "Top10     248\n",
       "Name: type, dtype: int64"
      ]
     },
     "execution_count": 48,
     "metadata": {},
     "output_type": "execute_result"
    }
   ],
   "source": [
    "# convert variable (Peak_Position) into A Categorical Feature/Variable, 'type',\n",
    "# for classification\n",
    "\n",
    "songs['type'] = songs['no'].apply(billboard_rank)\n",
    "\n",
    "songs.type.head()\n",
    "\n",
    "songs.type.value_counts()"
   ]
  },
  {
   "cell_type": "code",
   "execution_count": 49,
   "metadata": {},
   "outputs": [
    {
     "data": {
      "text/plain": [
       "(2558, 18)"
      ]
     },
     "execution_count": 49,
     "metadata": {},
     "output_type": "execute_result"
    }
   ],
   "source": [
    "songs.shape"
   ]
  },
  {
   "cell_type": "code",
   "execution_count": 50,
   "metadata": {
    "collapsed": true
   },
   "outputs": [],
   "source": [
    "songs = songs.drop_duplicates()"
   ]
  },
  {
   "cell_type": "code",
   "execution_count": 51,
   "metadata": {},
   "outputs": [
    {
     "data": {
      "text/plain": [
       "(2558, 18)"
      ]
     },
     "execution_count": 51,
     "metadata": {},
     "output_type": "execute_result"
    }
   ],
   "source": [
    "songs.shape"
   ]
  },
  {
   "cell_type": "markdown",
   "metadata": {},
   "source": [
    "## Concat the additional data from 2016-2019"
   ]
  },
  {
   "cell_type": "code",
   "execution_count": 52,
   "metadata": {},
   "outputs": [
    {
     "name": "stderr",
     "output_type": "stream",
     "text": [
      "/Users/scottlew/miniconda3/lib/python3.6/site-packages/ipykernel/__main__.py:1: FutureWarning: Sorting because non-concatenation axis is not aligned. A future version\n",
      "of pandas will change to not sort by default.\n",
      "\n",
      "To accept the future behavior, pass 'sort=False'.\n",
      "\n",
      "To retain the current behavior and silence the warning, pass 'sort=True'.\n",
      "\n",
      "  if __name__ == '__main__':\n"
     ]
    },
    {
     "data": {
      "text/html": [
       "<div>\n",
       "<style scoped>\n",
       "    .dataframe tbody tr th:only-of-type {\n",
       "        vertical-align: middle;\n",
       "    }\n",
       "\n",
       "    .dataframe tbody tr th {\n",
       "        vertical-align: top;\n",
       "    }\n",
       "\n",
       "    .dataframe thead th {\n",
       "        text-align: right;\n",
       "    }\n",
       "</style>\n",
       "<table border=\"1\" class=\"dataframe\">\n",
       "  <thead>\n",
       "    <tr style=\"text-align: right;\">\n",
       "      <th></th>\n",
       "      <th>acousticness</th>\n",
       "      <th>artist</th>\n",
       "      <th>audio_mode</th>\n",
       "      <th>danceability</th>\n",
       "      <th>duration_ms</th>\n",
       "      <th>energy</th>\n",
       "      <th>instrumentalness</th>\n",
       "      <th>key</th>\n",
       "      <th>liveness</th>\n",
       "      <th>loudness</th>\n",
       "      <th>mode</th>\n",
       "      <th>no</th>\n",
       "      <th>speechiness</th>\n",
       "      <th>tempo</th>\n",
       "      <th>time_signature</th>\n",
       "      <th>title</th>\n",
       "      <th>type</th>\n",
       "      <th>valence</th>\n",
       "      <th>year</th>\n",
       "    </tr>\n",
       "  </thead>\n",
       "  <tbody>\n",
       "    <tr>\n",
       "      <th>0</th>\n",
       "      <td>0.909</td>\n",
       "      <td>Jim Reeves</td>\n",
       "      <td>NaN</td>\n",
       "      <td>0.554</td>\n",
       "      <td>138640</td>\n",
       "      <td>0.186</td>\n",
       "      <td>0.001440</td>\n",
       "      <td>1</td>\n",
       "      <td>0.110</td>\n",
       "      <td>-15.846</td>\n",
       "      <td>1.0</td>\n",
       "      <td>2</td>\n",
       "      <td>0.0379</td>\n",
       "      <td>81.181</td>\n",
       "      <td>3</td>\n",
       "      <td>He'll Have to Go</td>\n",
       "      <td>Top10</td>\n",
       "      <td>0.200</td>\n",
       "      <td>1960</td>\n",
       "    </tr>\n",
       "    <tr>\n",
       "      <th>1</th>\n",
       "      <td>0.790</td>\n",
       "      <td>Johnny Preston</td>\n",
       "      <td>NaN</td>\n",
       "      <td>0.758</td>\n",
       "      <td>160027</td>\n",
       "      <td>0.462</td>\n",
       "      <td>0.000013</td>\n",
       "      <td>5</td>\n",
       "      <td>0.170</td>\n",
       "      <td>-8.952</td>\n",
       "      <td>0.0</td>\n",
       "      <td>4</td>\n",
       "      <td>0.0482</td>\n",
       "      <td>120.004</td>\n",
       "      <td>4</td>\n",
       "      <td>Running Bear</td>\n",
       "      <td>Top10</td>\n",
       "      <td>0.726</td>\n",
       "      <td>1960</td>\n",
       "    </tr>\n",
       "    <tr>\n",
       "      <th>2</th>\n",
       "      <td>0.869</td>\n",
       "      <td>Mark Dinning</td>\n",
       "      <td>NaN</td>\n",
       "      <td>0.583</td>\n",
       "      <td>157080</td>\n",
       "      <td>0.168</td>\n",
       "      <td>0.000000</td>\n",
       "      <td>0</td>\n",
       "      <td>0.148</td>\n",
       "      <td>-12.426</td>\n",
       "      <td>1.0</td>\n",
       "      <td>5</td>\n",
       "      <td>0.0350</td>\n",
       "      <td>97.572</td>\n",
       "      <td>4</td>\n",
       "      <td>Teen Angel</td>\n",
       "      <td>Top10</td>\n",
       "      <td>0.353</td>\n",
       "      <td>1960</td>\n",
       "    </tr>\n",
       "    <tr>\n",
       "      <th>3</th>\n",
       "      <td>0.649</td>\n",
       "      <td>Jimmy Jones</td>\n",
       "      <td>NaN</td>\n",
       "      <td>0.534</td>\n",
       "      <td>120973</td>\n",
       "      <td>0.720</td>\n",
       "      <td>0.000000</td>\n",
       "      <td>10</td>\n",
       "      <td>0.258</td>\n",
       "      <td>-7.679</td>\n",
       "      <td>1.0</td>\n",
       "      <td>8</td>\n",
       "      <td>0.0395</td>\n",
       "      <td>74.207</td>\n",
       "      <td>4</td>\n",
       "      <td>Handy Man</td>\n",
       "      <td>Top10</td>\n",
       "      <td>0.901</td>\n",
       "      <td>1960</td>\n",
       "    </tr>\n",
       "    <tr>\n",
       "      <th>4</th>\n",
       "      <td>0.811</td>\n",
       "      <td>Elvis Presley</td>\n",
       "      <td>NaN</td>\n",
       "      <td>0.664</td>\n",
       "      <td>139293</td>\n",
       "      <td>0.539</td>\n",
       "      <td>0.000691</td>\n",
       "      <td>7</td>\n",
       "      <td>0.156</td>\n",
       "      <td>-11.781</td>\n",
       "      <td>1.0</td>\n",
       "      <td>9</td>\n",
       "      <td>0.0408</td>\n",
       "      <td>132.212</td>\n",
       "      <td>4</td>\n",
       "      <td>Stuck on You</td>\n",
       "      <td>Top10</td>\n",
       "      <td>0.946</td>\n",
       "      <td>1960</td>\n",
       "    </tr>\n",
       "  </tbody>\n",
       "</table>\n",
       "</div>"
      ],
      "text/plain": [
       "   acousticness          artist  audio_mode  danceability  duration_ms  \\\n",
       "0         0.909      Jim Reeves         NaN         0.554       138640   \n",
       "1         0.790  Johnny Preston         NaN         0.758       160027   \n",
       "2         0.869    Mark Dinning         NaN         0.583       157080   \n",
       "3         0.649     Jimmy Jones         NaN         0.534       120973   \n",
       "4         0.811   Elvis Presley         NaN         0.664       139293   \n",
       "\n",
       "   energy  instrumentalness  key  liveness  loudness  mode  no  speechiness  \\\n",
       "0   0.186          0.001440    1     0.110   -15.846   1.0   2       0.0379   \n",
       "1   0.462          0.000013    5     0.170    -8.952   0.0   4       0.0482   \n",
       "2   0.168          0.000000    0     0.148   -12.426   1.0   5       0.0350   \n",
       "3   0.720          0.000000   10     0.258    -7.679   1.0   8       0.0395   \n",
       "4   0.539          0.000691    7     0.156   -11.781   1.0   9       0.0408   \n",
       "\n",
       "     tempo  time_signature             title   type  valence  year  \n",
       "0   81.181               3  He'll Have to Go  Top10    0.200  1960  \n",
       "1  120.004               4      Running Bear  Top10    0.726  1960  \n",
       "2   97.572               4        Teen Angel  Top10    0.353  1960  \n",
       "3   74.207               4         Handy Man  Top10    0.901  1960  \n",
       "4  132.212               4      Stuck on You  Top10    0.946  1960  "
      ]
     },
     "execution_count": 52,
     "metadata": {},
     "output_type": "execute_result"
    }
   ],
   "source": [
    "songs3 = pd.concat([songs,top10_2016_2019])\n",
    "songs3.head()"
   ]
  },
  {
   "cell_type": "code",
   "execution_count": 53,
   "metadata": {},
   "outputs": [
    {
     "data": {
      "text/plain": [
       "(2763, 19)"
      ]
     },
     "execution_count": 53,
     "metadata": {},
     "output_type": "execute_result"
    }
   ],
   "source": [
    "songs3.shape"
   ]
  },
  {
   "cell_type": "code",
   "execution_count": 54,
   "metadata": {},
   "outputs": [
    {
     "data": {
      "text/plain": [
       "acousticness        float64\n",
       "artist               object\n",
       "audio_mode          float64\n",
       "danceability        float64\n",
       "duration_ms           int64\n",
       "energy              float64\n",
       "instrumentalness    float64\n",
       "key                   int64\n",
       "liveness            float64\n",
       "loudness            float64\n",
       "mode                float64\n",
       "no                    int64\n",
       "speechiness         float64\n",
       "tempo               float64\n",
       "time_signature        int64\n",
       "title                object\n",
       "type                 object\n",
       "valence             float64\n",
       "year                  int64\n",
       "dtype: object"
      ]
     },
     "execution_count": 54,
     "metadata": {},
     "output_type": "execute_result"
    }
   ],
   "source": [
    "songs3.dtypes"
   ]
  },
  {
   "cell_type": "code",
   "execution_count": 55,
   "metadata": {},
   "outputs": [
    {
     "data": {
      "text/plain": [
       "Other    2310\n",
       "Top10     453\n",
       "Name: type, dtype: int64"
      ]
     },
     "execution_count": 55,
     "metadata": {},
     "output_type": "execute_result"
    }
   ],
   "source": [
    "songs3.type.value_counts()"
   ]
  },
  {
   "cell_type": "code",
   "execution_count": 56,
   "metadata": {
    "collapsed": true
   },
   "outputs": [],
   "source": [
    "def bb_rank(rank):\n",
    "    if rank > 10:\n",
    "        return 0\n",
    "    else:\n",
    "        return 1"
   ]
  },
  {
   "cell_type": "code",
   "execution_count": 57,
   "metadata": {
    "collapsed": true
   },
   "outputs": [],
   "source": [
    "songs3['bbr'] =  songs3['no'].apply(bb_rank)"
   ]
  },
  {
   "cell_type": "code",
   "execution_count": 58,
   "metadata": {},
   "outputs": [
    {
     "data": {
      "text/plain": [
       "0    2310\n",
       "1     453\n",
       "Name: bbr, dtype: int64"
      ]
     },
     "execution_count": 58,
     "metadata": {},
     "output_type": "execute_result"
    }
   ],
   "source": [
    "songs3.bbr.value_counts()"
   ]
  },
  {
   "cell_type": "code",
   "execution_count": 59,
   "metadata": {},
   "outputs": [
    {
     "data": {
      "text/plain": [
       "Index(['acousticness', 'artist', 'audio_mode', 'danceability', 'duration_ms',\n",
       "       'energy', 'instrumentalness', 'key', 'liveness', 'loudness', 'mode',\n",
       "       'no', 'speechiness', 'tempo', 'time_signature', 'title', 'type',\n",
       "       'valence', 'year', 'bbr'],\n",
       "      dtype='object')"
      ]
     },
     "execution_count": 59,
     "metadata": {},
     "output_type": "execute_result"
    }
   ],
   "source": [
    "songs3.columns"
   ]
  },
  {
   "cell_type": "code",
   "execution_count": 60,
   "metadata": {},
   "outputs": [
    {
     "data": {
      "text/plain": [
       "acousticness           0\n",
       "artist                 0\n",
       "audio_mode          2558\n",
       "danceability           0\n",
       "duration_ms            0\n",
       "energy                 0\n",
       "instrumentalness       0\n",
       "key                    0\n",
       "liveness               0\n",
       "loudness               0\n",
       "mode                 205\n",
       "no                     0\n",
       "speechiness            0\n",
       "tempo                  0\n",
       "time_signature         0\n",
       "title                  0\n",
       "type                   0\n",
       "valence                0\n",
       "year                   0\n",
       "bbr                    0\n",
       "dtype: int64"
      ]
     },
     "execution_count": 60,
     "metadata": {},
     "output_type": "execute_result"
    }
   ],
   "source": [
    "songs3.isnull().sum()"
   ]
  },
  {
   "cell_type": "markdown",
   "metadata": {},
   "source": [
    "## Create A Synthetic Balanced Dataset of Top 10 songs & other songs."
   ]
  },
  {
   "cell_type": "code",
   "execution_count": 61,
   "metadata": {
    "collapsed": true
   },
   "outputs": [],
   "source": [
    "#predictors = [ 'danceability','energy', 'instrumentalness', 'key', 'liveness', 'loudness','speechiness',\n",
    "              #'tempo','duration_ms']\n",
    "#predictors =['acousticness', 'danceability', 'duration_ms',\n",
    "       #'energy', 'instrumentalness', 'key', 'liveness', 'loudness',\n",
    "       #'speechiness', 'tempo', 'time_signature','valence']\n",
    "predictors =['duration_ms','energy', 'loudness','speechiness', 'valence']\n",
    "#predictors = [ 'danceability','loudness','energy','instrumentalness']\n",
    "#predictors = ['key','danceability','loudness','energy','duration_ms']\n",
    "X = songs3[predictors]\n",
    "y = songs3.bbr"
   ]
  },
  {
   "cell_type": "code",
   "execution_count": 62,
   "metadata": {},
   "outputs": [
    {
     "name": "stdout",
     "output_type": "stream",
     "text": [
      "(2210, 5) (2210,)\n",
      "(553, 5) (553,)\n"
     ]
    }
   ],
   "source": [
    "# Split the data into training and test sets\n",
    "X_train, X_test, y_train, y_test = train_test_split(X,y, test_size=0.2,random_state =42)\n",
    "print(X_train.shape, y_train.shape)\n",
    "print(X_test.shape, y_test.shape)"
   ]
  },
  {
   "cell_type": "code",
   "execution_count": 63,
   "metadata": {},
   "outputs": [
    {
     "data": {
      "text/plain": [
       "0    1855\n",
       "1     355\n",
       "Name: bbr, dtype: int64"
      ]
     },
     "execution_count": 63,
     "metadata": {},
     "output_type": "execute_result"
    }
   ],
   "source": [
    "y_train.value_counts()"
   ]
  },
  {
   "cell_type": "code",
   "execution_count": 64,
   "metadata": {},
   "outputs": [
    {
     "data": {
      "text/plain": [
       "0    455\n",
       "1     98\n",
       "Name: bbr, dtype: int64"
      ]
     },
     "execution_count": 64,
     "metadata": {},
     "output_type": "execute_result"
    }
   ],
   "source": [
    "y_test.value_counts()"
   ]
  },
  {
   "cell_type": "code",
   "execution_count": 65,
   "metadata": {
    "collapsed": true
   },
   "outputs": [],
   "source": [
    "smt = SMOTE()\n",
    "X_train, y_train = smt.fit_sample(X_train, y_train)"
   ]
  },
  {
   "cell_type": "code",
   "execution_count": 66,
   "metadata": {},
   "outputs": [
    {
     "data": {
      "text/plain": [
       "(3710, 5)"
      ]
     },
     "execution_count": 66,
     "metadata": {},
     "output_type": "execute_result"
    }
   ],
   "source": [
    "X_train.shape"
   ]
  },
  {
   "cell_type": "code",
   "execution_count": 67,
   "metadata": {
    "collapsed": true
   },
   "outputs": [],
   "source": [
    "# Save result df as as csv file for future use!\n",
    "#songs3.to_csv(\"songs4.csv\", index = False)"
   ]
  },
  {
   "cell_type": "code",
   "execution_count": 68,
   "metadata": {},
   "outputs": [
    {
     "data": {
      "text/plain": [
       "array([1855, 1855])"
      ]
     },
     "execution_count": 68,
     "metadata": {},
     "output_type": "execute_result"
    }
   ],
   "source": [
    "np.bincount(y_train)"
   ]
  },
  {
   "cell_type": "code",
   "execution_count": 69,
   "metadata": {
    "collapsed": true
   },
   "outputs": [],
   "source": [
    "###############################################################################"
   ]
  },
  {
   "cell_type": "code",
   "execution_count": null,
   "metadata": {
    "collapsed": true
   },
   "outputs": [],
   "source": []
  },
  {
   "cell_type": "markdown",
   "metadata": {},
   "source": [
    "## Preliminary Classification"
   ]
  },
  {
   "cell_type": "code",
   "execution_count": 70,
   "metadata": {},
   "outputs": [
    {
     "name": "stderr",
     "output_type": "stream",
     "text": [
      "/Users/scottlew/miniconda3/lib/python3.6/site-packages/sklearn/linear_model/logistic.py:432: FutureWarning: Default solver will be changed to 'lbfgs' in 0.22. Specify a solver to silence this warning.\n",
      "  FutureWarning)\n"
     ]
    },
    {
     "name": "stdout",
     "output_type": "stream",
     "text": [
      "Score: 0.56\n"
     ]
    }
   ],
   "source": [
    "# Logistic Regression for prediction\n",
    "lr = LogisticRegression()\n",
    "lr.fit(X_train, y_train)\n",
    "predictions = lr.predict(X_test)\n",
    "print(\"Score: {:.2f}\".format(lr.score(X_test, y_test)))"
   ]
  },
  {
   "cell_type": "markdown",
   "metadata": {},
   "source": [
    "## Confusion Matrix For Logistic Regression"
   ]
  },
  {
   "cell_type": "code",
   "execution_count": 71,
   "metadata": {},
   "outputs": [
    {
     "name": "stdout",
     "output_type": "stream",
     "text": [
      "\n",
      "[[263 192]\n",
      " [ 54  44]]\n"
     ]
    }
   ],
   "source": [
    "# Generate Confusion Matrix for Logistic Regression\n",
    "actual = y_test\n",
    "predictions = lr.predict(X_test)\n",
    "#results = confusion_matrix(actual, predictions) \n",
    "#print(predictions)\n",
    "print()\n",
    "cm = confusion_matrix(actual,predictions)\n",
    "print(cm)"
   ]
  },
  {
   "cell_type": "code",
   "execution_count": 72,
   "metadata": {},
   "outputs": [
    {
     "data": {
      "image/png": "[encoded data removed]",
      "text/plain": [
       "<matplotlib.figure.Figure at 0x1a1699d0b8>"
      ]
     },
     "metadata": {},
     "output_type": "display_data"
    }
   ],
   "source": [
    "# Nice plot of confusion matrix\n",
    "# Adjust size of confusion matrix by following code taken from StackOverflow\n",
    "# https://stackoverflow.com/questions/43021762/matplotlib-how-to-change-figsize-for-matshow\n",
    "plt.figure(figsize=(10,5))\n",
    "plt.matshow(cm, fignum=1)\n",
    "\n",
    "plt.title('Confusion Matrix Plot For Logistic Regression Classifier')\n",
    "plt.colorbar()\n",
    "plt.xlabel('Predicted')\n",
    "plt.ylabel('Actual')\n",
    "\n",
    "plt.show()"
   ]
  },
  {
   "cell_type": "code",
   "execution_count": 73,
   "metadata": {},
   "outputs": [
    {
     "name": "stdout",
     "output_type": "stream",
     "text": [
      "Score: 0.82\n"
     ]
    },
    {
     "name": "stderr",
     "output_type": "stream",
     "text": [
      "/Users/scottlew/miniconda3/lib/python3.6/site-packages/sklearn/neural_network/multilayer_perceptron.py:566: ConvergenceWarning: Stochastic Optimizer: Maximum iterations (200) reached and the optimization hasn't converged yet.\n",
      "  % self.max_iter, ConvergenceWarning)\n"
     ]
    }
   ],
   "source": [
    "from sklearn.neural_network import MLPClassifier\n",
    "mlp = MLPClassifier().fit(X_train,y_train)\n",
    "\n",
    "# print MLP score\n",
    "print(\"Score: {:.2f}\".format(mlp.score(X_test, y_test)))"
   ]
  },
  {
   "cell_type": "code",
   "execution_count": 74,
   "metadata": {},
   "outputs": [
    {
     "name": "stdout",
     "output_type": "stream",
     "text": [
      "\n",
      "[[455   0]\n",
      " [ 98   0]]\n"
     ]
    }
   ],
   "source": [
    "# Generate Confusion Matrix for Neural Network\n",
    "actual = y_test\n",
    "predictions = mlp.predict(X_test)\n",
    "#results = confusion_matrix(actual, predictions) \n",
    "#print(predictions)\n",
    "print()\n",
    "cm = confusion_matrix(actual,predictions)\n",
    "print(cm)"
   ]
  },
  {
   "cell_type": "code",
   "execution_count": 75,
   "metadata": {},
   "outputs": [
    {
     "data": {
      "image/png": "[encoded data removed]",
      "text/plain": [
       "<matplotlib.figure.Figure at 0x1a1648afd0>"
      ]
     },
     "metadata": {},
     "output_type": "display_data"
    }
   ],
   "source": [
    "# Nice plot of confusion matrix\n",
    "# Adjust size of confusion matrix by following code taken from StackOverflow\n",
    "# https://stackoverflow.com/questions/43021762/matplotlib-how-to-change-figsize-for-matshow\n",
    "plt.figure(figsize=(10,5))\n",
    "plt.matshow(cm, fignum=1)\n",
    "\n",
    "plt.title('Confusion Matrix Plot For Logistic Regression Classifier')\n",
    "plt.colorbar()\n",
    "plt.xlabel('Predicted')\n",
    "plt.ylabel('Actual')\n",
    "\n",
    "plt.show()"
   ]
  },
  {
   "cell_type": "code",
   "execution_count": 76,
   "metadata": {},
   "outputs": [
    {
     "name": "stdout",
     "output_type": "stream",
     "text": [
      "Score: 0.18\n"
     ]
    }
   ],
   "source": [
    "# try another neural network with 3 hidden layers\n",
    "mlp2 = MLPClassifier(hidden_layer_sizes=(10,10,10),max_iter=500).fit(X_train,y_train)\n",
    "# print MLP score\n",
    "print(\"Score: {:.2f}\".format(mlp2.score(X_test, y_test)))"
   ]
  },
  {
   "cell_type": "code",
   "execution_count": 77,
   "metadata": {},
   "outputs": [
    {
     "name": "stdout",
     "output_type": "stream",
     "text": [
      "\n",
      "[[  0 455]\n",
      " [  0  98]]\n"
     ]
    }
   ],
   "source": [
    "# Generate Confusion Matrix for Neural Network\n",
    "actual = y_test\n",
    "predictions = mlp2.predict(X_test)\n",
    "#results = confusion_matrix(actual, predictions) \n",
    "#print(predictions)\n",
    "print()\n",
    "cm = confusion_matrix(actual,predictions)\n",
    "print(cm)"
   ]
  },
  {
   "cell_type": "code",
   "execution_count": null,
   "metadata": {
    "collapsed": true
   },
   "outputs": [],
   "source": []
  }
 ],
 "metadata": {
  "kernelspec": {
   "display_name": "Python [default]",
   "language": "python",
   "name": "python3"
  },
  "language_info": {
   "codemirror_mode": {
    "name": "ipython",
    "version": 3
   },
   "file_extension": ".py",
   "mimetype": "text/x-python",
   "name": "python",
   "nbconvert_exporter": "python",
   "pygments_lexer": "ipython3",
   "version": "3.6.9"
  }
 },
 "nbformat": 4,
 "nbformat_minor": 2
}
