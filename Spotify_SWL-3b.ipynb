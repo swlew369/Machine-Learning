{
 "cells": [
  {
   "cell_type": "code",
   "execution_count": 1,
   "metadata": {
    "collapsed": true
   },
   "outputs": [],
   "source": [
    "import pandas as pd\n",
    "import seaborn as sns\n",
    "import numpy as np\n",
    "import time\n",
    "import re\n",
    "import nltk\n",
    "import math\n",
    "import os\n",
    "import matplotlib.pyplot as plt\n",
    "import sklearn.metrics\n",
    "from sklearn import svm\n",
    "from sklearn.ensemble import GradientBoostingClassifier\n",
    "from sklearn.tree import DecisionTreeClassifier\n",
    "from sklearn.preprocessing import StandardScaler\n",
    "from sklearn.model_selection import train_test_split, GridSearchCV\n",
    "from sklearn.linear_model import LogisticRegression\n",
    "from sklearn.neighbors import KNeighborsClassifier\n",
    "from sklearn.ensemble import RandomForestClassifier\n",
    "from sklearn.naive_bayes import MultinomialNB\n",
    "from nltk.corpus import stopwords\n",
    "from sklearn.feature_extraction.text import TfidfVectorizer\n",
    "from sklearn.feature_extraction.text import CountVectorizer\n",
    "from sklearn.metrics import roc_auc_score\n",
    "\n",
    "%matplotlib inline"
   ]
  },
  {
   "cell_type": "code",
   "execution_count": 2,
   "metadata": {
    "collapsed": true
   },
   "outputs": [],
   "source": [
    "## data from R library 'billboard'"
   ]
  },
  {
   "cell_type": "code",
   "execution_count": 3,
   "metadata": {},
   "outputs": [
    {
     "data": {
      "text/html": [
       "<div>\n",
       "<style>\n",
       "    .dataframe thead tr:only-child th {\n",
       "        text-align: right;\n",
       "    }\n",
       "\n",
       "    .dataframe thead th {\n",
       "        text-align: left;\n",
       "    }\n",
       "\n",
       "    .dataframe tbody tr th {\n",
       "        vertical-align: top;\n",
       "    }\n",
       "</style>\n",
       "<table border=\"1\" class=\"dataframe\">\n",
       "  <thead>\n",
       "    <tr style=\"text-align: right;\">\n",
       "      <th></th>\n",
       "      <th>acousticness</th>\n",
       "      <th>artist</th>\n",
       "      <th>audio_mode</th>\n",
       "      <th>danceability</th>\n",
       "      <th>duration_ms</th>\n",
       "      <th>energy</th>\n",
       "      <th>instrumentalness</th>\n",
       "      <th>key</th>\n",
       "      <th>liveness</th>\n",
       "      <th>loudness</th>\n",
       "      <th>mode</th>\n",
       "      <th>no</th>\n",
       "      <th>speechiness</th>\n",
       "      <th>tempo</th>\n",
       "      <th>time_signature</th>\n",
       "      <th>title</th>\n",
       "      <th>type</th>\n",
       "      <th>valence</th>\n",
       "      <th>year</th>\n",
       "    </tr>\n",
       "  </thead>\n",
       "  <tbody>\n",
       "    <tr>\n",
       "      <th>0</th>\n",
       "      <td>0.909</td>\n",
       "      <td>Jim Reeves</td>\n",
       "      <td>NaN</td>\n",
       "      <td>0.554</td>\n",
       "      <td>138640</td>\n",
       "      <td>0.186</td>\n",
       "      <td>0.001440</td>\n",
       "      <td>1</td>\n",
       "      <td>0.110</td>\n",
       "      <td>-15.846</td>\n",
       "      <td>1.0</td>\n",
       "      <td>2</td>\n",
       "      <td>0.0379</td>\n",
       "      <td>81.181</td>\n",
       "      <td>3</td>\n",
       "      <td>He'll Have to Go</td>\n",
       "      <td>Top10</td>\n",
       "      <td>0.200</td>\n",
       "      <td>1960</td>\n",
       "    </tr>\n",
       "    <tr>\n",
       "      <th>1</th>\n",
       "      <td>0.790</td>\n",
       "      <td>Johnny Preston</td>\n",
       "      <td>NaN</td>\n",
       "      <td>0.758</td>\n",
       "      <td>160027</td>\n",
       "      <td>0.462</td>\n",
       "      <td>0.000013</td>\n",
       "      <td>5</td>\n",
       "      <td>0.170</td>\n",
       "      <td>-8.952</td>\n",
       "      <td>0.0</td>\n",
       "      <td>4</td>\n",
       "      <td>0.0482</td>\n",
       "      <td>120.004</td>\n",
       "      <td>4</td>\n",
       "      <td>Running Bear</td>\n",
       "      <td>Top10</td>\n",
       "      <td>0.726</td>\n",
       "      <td>1960</td>\n",
       "    </tr>\n",
       "    <tr>\n",
       "      <th>2</th>\n",
       "      <td>0.869</td>\n",
       "      <td>Mark Dinning</td>\n",
       "      <td>NaN</td>\n",
       "      <td>0.583</td>\n",
       "      <td>157080</td>\n",
       "      <td>0.168</td>\n",
       "      <td>0.000000</td>\n",
       "      <td>0</td>\n",
       "      <td>0.148</td>\n",
       "      <td>-12.426</td>\n",
       "      <td>1.0</td>\n",
       "      <td>5</td>\n",
       "      <td>0.0350</td>\n",
       "      <td>97.572</td>\n",
       "      <td>4</td>\n",
       "      <td>Teen Angel</td>\n",
       "      <td>Top10</td>\n",
       "      <td>0.353</td>\n",
       "      <td>1960</td>\n",
       "    </tr>\n",
       "    <tr>\n",
       "      <th>3</th>\n",
       "      <td>0.649</td>\n",
       "      <td>Jimmy Jones</td>\n",
       "      <td>NaN</td>\n",
       "      <td>0.534</td>\n",
       "      <td>120973</td>\n",
       "      <td>0.720</td>\n",
       "      <td>0.000000</td>\n",
       "      <td>10</td>\n",
       "      <td>0.258</td>\n",
       "      <td>-7.679</td>\n",
       "      <td>1.0</td>\n",
       "      <td>8</td>\n",
       "      <td>0.0395</td>\n",
       "      <td>74.207</td>\n",
       "      <td>4</td>\n",
       "      <td>Handy Man</td>\n",
       "      <td>Top10</td>\n",
       "      <td>0.901</td>\n",
       "      <td>1960</td>\n",
       "    </tr>\n",
       "    <tr>\n",
       "      <th>4</th>\n",
       "      <td>0.811</td>\n",
       "      <td>Elvis Presley</td>\n",
       "      <td>NaN</td>\n",
       "      <td>0.664</td>\n",
       "      <td>139293</td>\n",
       "      <td>0.539</td>\n",
       "      <td>0.000691</td>\n",
       "      <td>7</td>\n",
       "      <td>0.156</td>\n",
       "      <td>-11.781</td>\n",
       "      <td>1.0</td>\n",
       "      <td>9</td>\n",
       "      <td>0.0408</td>\n",
       "      <td>132.212</td>\n",
       "      <td>4</td>\n",
       "      <td>Stuck on You</td>\n",
       "      <td>Top10</td>\n",
       "      <td>0.946</td>\n",
       "      <td>1960</td>\n",
       "    </tr>\n",
       "    <tr>\n",
       "      <th>5</th>\n",
       "      <td>0.792</td>\n",
       "      <td>Connie Francis</td>\n",
       "      <td>NaN</td>\n",
       "      <td>0.587</td>\n",
       "      <td>160093</td>\n",
       "      <td>0.720</td>\n",
       "      <td>0.000015</td>\n",
       "      <td>1</td>\n",
       "      <td>0.255</td>\n",
       "      <td>-5.214</td>\n",
       "      <td>1.0</td>\n",
       "      <td>11</td>\n",
       "      <td>0.0303</td>\n",
       "      <td>84.272</td>\n",
       "      <td>4</td>\n",
       "      <td>Everybody's Somebody's Fool</td>\n",
       "      <td>Other</td>\n",
       "      <td>0.806</td>\n",
       "      <td>1960</td>\n",
       "    </tr>\n",
       "    <tr>\n",
       "      <th>6</th>\n",
       "      <td>0.852</td>\n",
       "      <td>The Brothers Four</td>\n",
       "      <td>NaN</td>\n",
       "      <td>0.485</td>\n",
       "      <td>183360</td>\n",
       "      <td>0.182</td>\n",
       "      <td>0.000000</td>\n",
       "      <td>11</td>\n",
       "      <td>0.112</td>\n",
       "      <td>-18.083</td>\n",
       "      <td>0.0</td>\n",
       "      <td>13</td>\n",
       "      <td>0.0434</td>\n",
       "      <td>110.608</td>\n",
       "      <td>1</td>\n",
       "      <td>Greenfields</td>\n",
       "      <td>Other</td>\n",
       "      <td>0.347</td>\n",
       "      <td>1960</td>\n",
       "    </tr>\n",
       "    <tr>\n",
       "      <th>7</th>\n",
       "      <td>0.835</td>\n",
       "      <td>Marty Robbins</td>\n",
       "      <td>NaN</td>\n",
       "      <td>0.654</td>\n",
       "      <td>259307</td>\n",
       "      <td>0.452</td>\n",
       "      <td>0.000029</td>\n",
       "      <td>2</td>\n",
       "      <td>0.160</td>\n",
       "      <td>-9.709</td>\n",
       "      <td>1.0</td>\n",
       "      <td>15</td>\n",
       "      <td>0.0300</td>\n",
       "      <td>106.662</td>\n",
       "      <td>3</td>\n",
       "      <td>El Paso</td>\n",
       "      <td>Other</td>\n",
       "      <td>0.697</td>\n",
       "      <td>1960</td>\n",
       "    </tr>\n",
       "    <tr>\n",
       "      <th>8</th>\n",
       "      <td>0.865</td>\n",
       "      <td>Connie Stevens</td>\n",
       "      <td>NaN</td>\n",
       "      <td>0.339</td>\n",
       "      <td>118133</td>\n",
       "      <td>0.406</td>\n",
       "      <td>0.000011</td>\n",
       "      <td>10</td>\n",
       "      <td>0.110</td>\n",
       "      <td>-8.955</td>\n",
       "      <td>1.0</td>\n",
       "      <td>22</td>\n",
       "      <td>0.0319</td>\n",
       "      <td>109.783</td>\n",
       "      <td>3</td>\n",
       "      <td>Sixteen Reasons</td>\n",
       "      <td>Other</td>\n",
       "      <td>0.629</td>\n",
       "      <td>1960</td>\n",
       "    </tr>\n",
       "    <tr>\n",
       "      <th>9</th>\n",
       "      <td>0.297</td>\n",
       "      <td>Paul Anka</td>\n",
       "      <td>NaN</td>\n",
       "      <td>0.346</td>\n",
       "      <td>168200</td>\n",
       "      <td>0.348</td>\n",
       "      <td>0.000575</td>\n",
       "      <td>7</td>\n",
       "      <td>0.334</td>\n",
       "      <td>-13.336</td>\n",
       "      <td>1.0</td>\n",
       "      <td>23</td>\n",
       "      <td>0.0308</td>\n",
       "      <td>101.527</td>\n",
       "      <td>3</td>\n",
       "      <td>Puppy Love</td>\n",
       "      <td>Other</td>\n",
       "      <td>0.631</td>\n",
       "      <td>1960</td>\n",
       "    </tr>\n",
       "  </tbody>\n",
       "</table>\n",
       "</div>"
      ],
      "text/plain": [
       "   acousticness             artist  audio_mode  danceability  duration_ms  \\\n",
       "0         0.909         Jim Reeves         NaN         0.554       138640   \n",
       "1         0.790     Johnny Preston         NaN         0.758       160027   \n",
       "2         0.869       Mark Dinning         NaN         0.583       157080   \n",
       "3         0.649        Jimmy Jones         NaN         0.534       120973   \n",
       "4         0.811      Elvis Presley         NaN         0.664       139293   \n",
       "5         0.792     Connie Francis         NaN         0.587       160093   \n",
       "6         0.852  The Brothers Four         NaN         0.485       183360   \n",
       "7         0.835      Marty Robbins         NaN         0.654       259307   \n",
       "8         0.865     Connie Stevens         NaN         0.339       118133   \n",
       "9         0.297          Paul Anka         NaN         0.346       168200   \n",
       "\n",
       "   energy  instrumentalness  key  liveness  loudness  mode  no  speechiness  \\\n",
       "0   0.186          0.001440    1     0.110   -15.846   1.0   2       0.0379   \n",
       "1   0.462          0.000013    5     0.170    -8.952   0.0   4       0.0482   \n",
       "2   0.168          0.000000    0     0.148   -12.426   1.0   5       0.0350   \n",
       "3   0.720          0.000000   10     0.258    -7.679   1.0   8       0.0395   \n",
       "4   0.539          0.000691    7     0.156   -11.781   1.0   9       0.0408   \n",
       "5   0.720          0.000015    1     0.255    -5.214   1.0  11       0.0303   \n",
       "6   0.182          0.000000   11     0.112   -18.083   0.0  13       0.0434   \n",
       "7   0.452          0.000029    2     0.160    -9.709   1.0  15       0.0300   \n",
       "8   0.406          0.000011   10     0.110    -8.955   1.0  22       0.0319   \n",
       "9   0.348          0.000575    7     0.334   -13.336   1.0  23       0.0308   \n",
       "\n",
       "     tempo  time_signature                        title   type  valence  year  \n",
       "0   81.181               3             He'll Have to Go  Top10    0.200  1960  \n",
       "1  120.004               4                 Running Bear  Top10    0.726  1960  \n",
       "2   97.572               4                   Teen Angel  Top10    0.353  1960  \n",
       "3   74.207               4                    Handy Man  Top10    0.901  1960  \n",
       "4  132.212               4                 Stuck on You  Top10    0.946  1960  \n",
       "5   84.272               4  Everybody's Somebody's Fool  Other    0.806  1960  \n",
       "6  110.608               1                  Greenfields  Other    0.347  1960  \n",
       "7  106.662               3                      El Paso  Other    0.697  1960  \n",
       "8  109.783               3              Sixteen Reasons  Other    0.629  1960  \n",
       "9  101.527               3                   Puppy Love  Other    0.631  1960  "
      ]
     },
     "execution_count": 3,
     "metadata": {},
     "output_type": "execute_result"
    }
   ],
   "source": [
    "df = pd.read_csv('songs4.csv')\n",
    "df.head(10)"
   ]
  },
  {
   "cell_type": "code",
   "execution_count": 4,
   "metadata": {},
   "outputs": [
    {
     "data": {
      "text/plain": [
       "(2840, 19)"
      ]
     },
     "execution_count": 4,
     "metadata": {},
     "output_type": "execute_result"
    }
   ],
   "source": [
    "df.shape"
   ]
  },
  {
   "cell_type": "code",
   "execution_count": 5,
   "metadata": {},
   "outputs": [
    {
     "data": {
      "text/plain": [
       "Index(['acousticness', 'artist', 'audio_mode', 'danceability', 'duration_ms',\n",
       "       'energy', 'instrumentalness', 'key', 'liveness', 'loudness', 'mode',\n",
       "       'no', 'speechiness', 'tempo', 'time_signature', 'title', 'type',\n",
       "       'valence', 'year'],\n",
       "      dtype='object')"
      ]
     },
     "execution_count": 5,
     "metadata": {},
     "output_type": "execute_result"
    }
   ],
   "source": [
    "df.columns"
   ]
  },
  {
   "cell_type": "code",
   "execution_count": 6,
   "metadata": {},
   "outputs": [
    {
     "data": {
      "text/plain": [
       "acousticness           0\n",
       "artist                 0\n",
       "audio_mode          2558\n",
       "danceability           0\n",
       "duration_ms            0\n",
       "energy                 0\n",
       "instrumentalness       0\n",
       "key                    0\n",
       "liveness               0\n",
       "loudness               0\n",
       "mode                 282\n",
       "no                     0\n",
       "speechiness            0\n",
       "tempo                  0\n",
       "time_signature         0\n",
       "title                  0\n",
       "type                   0\n",
       "valence                0\n",
       "year                   0\n",
       "dtype: int64"
      ]
     },
     "execution_count": 6,
     "metadata": {},
     "output_type": "execute_result"
    }
   ],
   "source": [
    "df.isnull().sum()"
   ]
  },
  {
   "cell_type": "code",
   "execution_count": 7,
   "metadata": {},
   "outputs": [
    {
     "data": {
      "text/plain": [
       "acousticness        float64\n",
       "artist               object\n",
       "audio_mode          float64\n",
       "danceability        float64\n",
       "duration_ms           int64\n",
       "energy              float64\n",
       "instrumentalness    float64\n",
       "key                   int64\n",
       "liveness            float64\n",
       "loudness            float64\n",
       "mode                float64\n",
       "no                    int64\n",
       "speechiness         float64\n",
       "tempo               float64\n",
       "time_signature        int64\n",
       "title                object\n",
       "type                 object\n",
       "valence             float64\n",
       "year                  int64\n",
       "dtype: object"
      ]
     },
     "execution_count": 7,
     "metadata": {},
     "output_type": "execute_result"
    }
   ],
   "source": [
    "df.dtypes"
   ]
  },
  {
   "cell_type": "code",
   "execution_count": 8,
   "metadata": {},
   "outputs": [
    {
     "data": {
      "text/plain": [
       "Other    2528\n",
       "Top10     312\n",
       "Name: type, dtype: int64"
      ]
     },
     "execution_count": 8,
     "metadata": {},
     "output_type": "execute_result"
    }
   ],
   "source": [
    "df.type.value_counts()"
   ]
  },
  {
   "cell_type": "markdown",
   "metadata": {},
   "source": [
    "## Create a categorical column for future classification"
   ]
  },
  {
   "cell_type": "code",
   "execution_count": 9,
   "metadata": {
    "collapsed": true
   },
   "outputs": [],
   "source": [
    "# define the function to convert no into category\n",
    "def billboard_rank(rank):\n",
    "    if rank > 10:\n",
    "        return 'Other'\n",
    "    else:\n",
    "        return 'Top10'"
   ]
  },
  {
   "cell_type": "markdown",
   "metadata": {},
   "source": [
    "## EDA"
   ]
  },
  {
   "cell_type": "code",
   "execution_count": 10,
   "metadata": {},
   "outputs": [
    {
     "data": {
      "text/plain": [
       "<matplotlib.text.Text at 0x118020710>"
      ]
     },
     "execution_count": 10,
     "metadata": {},
     "output_type": "execute_result"
    },
    {
     "data": {
      "image/png": "[encoded data removed]",
      "text/plain": [
       "<matplotlib.figure.Figure at 0x1185c4f60>"
      ]
     },
     "metadata": {},
     "output_type": "display_data"
    }
   ],
   "source": [
    "my_pal = {\"Other\": \"r\", \"Top10\": \"b\"}\n",
    "fig, ax = plt.subplots(figsize=(9, 6))\n",
    "for axis in ['top','bottom','left','right']:\n",
    "    ax.spines[axis].set_linewidth(2.5)\n",
    "sns.boxplot(x=\"type\", y=\"danceability\", data= df, palette=my_pal)\n",
    "plt.xlabel('Top 10 Or Not',weight = 'bold',size =20)\n",
    "plt.ylabel('Danceability',weight = 'bold',size =20)"
   ]
  },
  {
   "cell_type": "code",
   "execution_count": 11,
   "metadata": {},
   "outputs": [
    {
     "data": {
      "text/plain": [
       "<matplotlib.text.Text at 0x11bbde9e8>"
      ]
     },
     "execution_count": 11,
     "metadata": {},
     "output_type": "execute_result"
    },
    {
     "data": {
      "image/png": "[encoded data removed]",
      "text/plain": [
       "<matplotlib.figure.Figure at 0x1185c4908>"
      ]
     },
     "metadata": {},
     "output_type": "display_data"
    }
   ],
   "source": [
    "my_pal = {\"Other\": \"r\", \"Top10\": \"b\"}\n",
    "fig, ax = plt.subplots(figsize=(9, 6))\n",
    "for axis in ['top','bottom','left','right']:\n",
    "    ax.spines[axis].set_linewidth(2.5)\n",
    "sns.boxplot(x=\"type\", y=\"tempo\", data= df, palette=my_pal)\n",
    "plt.xlabel('Top 10 Or Not',weight = 'bold',size =20)\n",
    "plt.ylabel('Tempo',weight = 'bold',size =20)"
   ]
  },
  {
   "cell_type": "code",
   "execution_count": 12,
   "metadata": {},
   "outputs": [
    {
     "data": {
      "text/plain": [
       "<matplotlib.text.Text at 0x11bbde4a8>"
      ]
     },
     "execution_count": 12,
     "metadata": {},
     "output_type": "execute_result"
    },
    {
     "data": {
      "image/png": "[encoded data removed]",
      "text/plain": [
       "<matplotlib.figure.Figure at 0x1185da358>"
      ]
     },
     "metadata": {},
     "output_type": "display_data"
    }
   ],
   "source": [
    "my_pal = {\"Other\": \"r\", \"Top10\": \"b\"}\n",
    "fig, ax = plt.subplots(figsize=(9, 6))\n",
    "for axis in ['top','bottom','left','right']:\n",
    "    ax.spines[axis].set_linewidth(2.5)\n",
    "sns.boxplot(x=\"type\", y=\"energy\", data= df, palette=my_pal)\n",
    "plt.xlabel('Top 10 Or Not',weight = 'bold',size =20)\n",
    "plt.ylabel('Energy',weight = 'bold',size =20)"
   ]
  },
  {
   "cell_type": "markdown",
   "metadata": {},
   "source": [
    "## Preliminary Classification"
   ]
  },
  {
   "cell_type": "code",
   "execution_count": 13,
   "metadata": {
    "collapsed": true
   },
   "outputs": [],
   "source": [
    "predictors = [ 'danceability','energy', 'instrumentalness', 'key', 'liveness', 'loudness','speechiness',\n",
    "               'tempo']\n",
    "\n",
    "X = df[predictors]\n",
    "y = df.type"
   ]
  },
  {
   "cell_type": "code",
   "execution_count": 14,
   "metadata": {},
   "outputs": [
    {
     "name": "stdout",
     "output_type": "stream",
     "text": [
      "(2272, 8) (2272,)\n",
      "(568, 8) (568,)\n"
     ]
    }
   ],
   "source": [
    "# Split the data into training and test sets\n",
    "X_train, X_test, y_train, y_test = train_test_split(X,y, test_size=0.2,random_state =42)\n",
    "print(X_train.shape, y_train.shape)\n",
    "print(X_test.shape, y_test.shape)"
   ]
  },
  {
   "cell_type": "code",
   "execution_count": 15,
   "metadata": {},
   "outputs": [
    {
     "name": "stdout",
     "output_type": "stream",
     "text": [
      "Score: 0.88\n"
     ]
    }
   ],
   "source": [
    "# Logistic Regression for prediction\n",
    "lr = LogisticRegression()\n",
    "lr.fit(X_train, y_train)\n",
    "predictions = lr.predict(X_test)\n",
    "print(\"Score: {:.2f}\".format(lr.score(X_test, y_test)))"
   ]
  },
  {
   "cell_type": "code",
   "execution_count": 16,
   "metadata": {},
   "outputs": [
    {
     "data": {
      "text/plain": [
       "[0.88028169014084512,\n",
       " 0.88028169014084512,\n",
       " 0.88028169014084512,\n",
       " 0.88028169014084512,\n",
       " 0.88028169014084512,\n",
       " 0.88028169014084512]"
      ]
     },
     "execution_count": 16,
     "metadata": {},
     "output_type": "execute_result"
    }
   ],
   "source": [
    "# Try optimizing Logistic Regression model\n",
    "#the grid of parameters to search over\n",
    "Cs = [0.001,0.01, 0.1, 1, 10, 100]\n",
    "\n",
    "Scores = []\n",
    "\n",
    "for item in Cs:\n",
    "    clf = LogisticRegression(C=item)\n",
    "    clf.fit(X_train, y_train)\n",
    "    Scores.append((clf.score(X_test, y_test)))\n",
    "    \n",
    "Scores"
   ]
  },
  {
   "cell_type": "code",
   "execution_count": 17,
   "metadata": {},
   "outputs": [
    {
     "name": "stdout",
     "output_type": "stream",
     "text": [
      "Score: 0.87\n"
     ]
    }
   ],
   "source": [
    "knn = KNeighborsClassifier(n_neighbors = 5).fit(X_train, y_train) \n",
    "\n",
    "# print knn score\n",
    "print(\"Score: {:.2f}\".format(knn.score(X_test, y_test)))"
   ]
  },
  {
   "cell_type": "code",
   "execution_count": 18,
   "metadata": {},
   "outputs": [
    {
     "name": "stdout",
     "output_type": "stream",
     "text": [
      "3\n",
      "0.841549295775\n",
      "\n",
      "5\n",
      "0.869718309859\n",
      "\n",
      "7\n",
      "0.880281690141\n",
      "\n",
      "9\n",
      "0.878521126761\n",
      "\n",
      "11\n",
      "0.880281690141\n",
      "\n",
      "13\n",
      "0.880281690141\n",
      "\n",
      "15\n",
      "0.880281690141\n",
      "\n",
      "17\n",
      "0.880281690141\n",
      "\n",
      "19\n",
      "0.880281690141\n",
      "\n"
     ]
    }
   ],
   "source": [
    "training_accuracy = []\n",
    "test_accuracy = []\n",
    "# We define a range of 1 to 10 (included) neighbors that will be tested\n",
    "neighbors_settings = range(3,21,2)\n",
    "\n",
    "# We loop the KNN model through the range of possible neighbors to evaluate which one would be \n",
    "# appropriate for this analysis\n",
    "\n",
    "for n_neighbors in neighbors_settings:\n",
    "    print(n_neighbors)\n",
    "    # creating the KNN classifier\n",
    "    clf = KNeighborsClassifier(n_neighbors=n_neighbors)\n",
    "    # fitting the model\n",
    "    clf.fit(X_train, y_train)\n",
    "    #recording the accuracy of the training set\n",
    "    training_accuracy.append(clf.score(X_train, y_train))\n",
    "    test_accuracy.append(clf.score(X_test, y_test))\n",
    "    #recording the accuracy of the test set\n",
    "    print(clf.score(X_test, y_test))\n",
    "    print()"
   ]
  },
  {
   "cell_type": "code",
   "execution_count": 19,
   "metadata": {},
   "outputs": [
    {
     "name": "stdout",
     "output_type": "stream",
     "text": [
      "Score: 0.83\n"
     ]
    }
   ],
   "source": [
    "from sklearn.naive_bayes import GaussianNB\n",
    "\n",
    "gnb = GaussianNB().fit(X_train,y_train)\n",
    "# print Gaussian Naive Bayes score\n",
    "print(\"Score: {:.2f}\".format(gnb.score(X_test, y_test)))"
   ]
  },
  {
   "cell_type": "code",
   "execution_count": 20,
   "metadata": {},
   "outputs": [
    {
     "name": "stdout",
     "output_type": "stream",
     "text": [
      "Score: 0.80\n"
     ]
    }
   ],
   "source": [
    "from sklearn.tree import DecisionTreeClassifier\n",
    "dtc = DecisionTreeClassifier(random_state=0).fit(X_train, y_train)\n",
    "predictions = dtc.predict(X_test)\n",
    "print(\"Score: {:.2f}\".format(dtc.score(X_test, y_test)))"
   ]
  }
 ],
 "metadata": {
  "kernelspec": {
   "display_name": "Python [default]",
   "language": "python",
   "name": "python3"
  },
  "language_info": {
   "codemirror_mode": {
    "name": "ipython",
    "version": 3
   },
   "file_extension": ".py",
   "mimetype": "text/x-python",
   "name": "python",
   "nbconvert_exporter": "python",
   "pygments_lexer": "ipython3",
   "version": "3.6.0"
  }
 },
 "nbformat": 4,
 "nbformat_minor": 2
}
