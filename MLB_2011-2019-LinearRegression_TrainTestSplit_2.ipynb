{
 "cells": [
  {
   "cell_type": "code",
   "execution_count": 1,
   "metadata": {},
   "outputs": [
    {
     "name": "stderr",
     "output_type": "stream",
     "text": [
      "/Users/scottlew/miniconda3/lib/python3.6/site-packages/statsmodels/compat/pandas.py:56: FutureWarning: The pandas.core.datetools module is deprecated and will be removed in a future version. Please use the pandas.tseries module instead.\n",
      "  from pandas.core import datetools\n"
     ]
    }
   ],
   "source": [
    "import pandas as pd\n",
    "import numpy as np\n",
    "import seaborn as sns\n",
    "import matplotlib.pyplot as plt\n",
    "import pickle\n",
    "import datetime\n",
    "import requests\n",
    "import statsmodels.api as sm\n",
    "from sklearn.model_selection import train_test_split\n",
    "from sklearn.linear_model import LinearRegression\n",
    "from sklearn.ensemble import GradientBoostingRegressor\n",
    "from sklearn.ensemble import RandomForestRegressor\n",
    "from sklearn.ensemble import RandomForestClassifier\n",
    "from sklearn.preprocessing import StandardScaler\n",
    "from sklearn.model_selection import cross_val_score\n",
    "from sklearn.metrics import mean_squared_error\n",
    "from itertools import combinations\n",
    "from collections import OrderedDict \n",
    "\n",
    "%matplotlib inline"
   ]
  },
  {
   "cell_type": "markdown",
   "metadata": {},
   "source": [
    "## READ IN MLB STATS FOR 2001-2018 SEASONS "
   ]
  },
  {
   "cell_type": "markdown",
   "metadata": {},
   "source": [
    "## Note: No salary data is used for regression in this case."
   ]
  },
  {
   "cell_type": "code",
   "execution_count": 2,
   "metadata": {
    "collapsed": true
   },
   "outputs": [],
   "source": [
    "# read data from csv file for 2001-2018 MLB seasons\n",
    "df = pd.read_csv('MLB_STATS_2001-2018.csv')"
   ]
  },
  {
   "cell_type": "code",
   "execution_count": 3,
   "metadata": {},
   "outputs": [
    {
     "data": {
      "text/html": [
       "<div>\n",
       "<style>\n",
       "    .dataframe thead tr:only-child th {\n",
       "        text-align: right;\n",
       "    }\n",
       "\n",
       "    .dataframe thead th {\n",
       "        text-align: left;\n",
       "    }\n",
       "\n",
       "    .dataframe tbody tr th {\n",
       "        vertical-align: top;\n",
       "    }\n",
       "</style>\n",
       "<table border=\"1\" class=\"dataframe\">\n",
       "  <thead>\n",
       "    <tr style=\"text-align: right;\">\n",
       "      <th></th>\n",
       "      <th>Tm</th>\n",
       "      <th>#Bat</th>\n",
       "      <th>BatAge</th>\n",
       "      <th>R/G</th>\n",
       "      <th>G_x</th>\n",
       "      <th>PA</th>\n",
       "      <th>AB</th>\n",
       "      <th>R_x</th>\n",
       "      <th>H_x</th>\n",
       "      <th>2B</th>\n",
       "      <th>...</th>\n",
       "      <th>BF</th>\n",
       "      <th>ERA+</th>\n",
       "      <th>FIP</th>\n",
       "      <th>WHIP</th>\n",
       "      <th>H9</th>\n",
       "      <th>HR9</th>\n",
       "      <th>BB9</th>\n",
       "      <th>SO9</th>\n",
       "      <th>SO/W</th>\n",
       "      <th>LOB_y</th>\n",
       "    </tr>\n",
       "  </thead>\n",
       "  <tbody>\n",
       "    <tr>\n",
       "      <th>0</th>\n",
       "      <td>ARI</td>\n",
       "      <td>51</td>\n",
       "      <td>28.3</td>\n",
       "      <td>4.51</td>\n",
       "      <td>162</td>\n",
       "      <td>6096</td>\n",
       "      <td>5421</td>\n",
       "      <td>731</td>\n",
       "      <td>1357</td>\n",
       "      <td>293</td>\n",
       "      <td>...</td>\n",
       "      <td>6102</td>\n",
       "      <td>104</td>\n",
       "      <td>4.02</td>\n",
       "      <td>1.286</td>\n",
       "      <td>8.8</td>\n",
       "      <td>1.0</td>\n",
       "      <td>2.8</td>\n",
       "      <td>6.6</td>\n",
       "      <td>2.39</td>\n",
       "      <td>1110</td>\n",
       "    </tr>\n",
       "    <tr>\n",
       "      <th>1</th>\n",
       "      <td>ATL</td>\n",
       "      <td>45</td>\n",
       "      <td>28.9</td>\n",
       "      <td>3.96</td>\n",
       "      <td>162</td>\n",
       "      <td>6169</td>\n",
       "      <td>5528</td>\n",
       "      <td>641</td>\n",
       "      <td>1345</td>\n",
       "      <td>244</td>\n",
       "      <td>...</td>\n",
       "      <td>6220</td>\n",
       "      <td>110</td>\n",
       "      <td>3.49</td>\n",
       "      <td>1.252</td>\n",
       "      <td>8.1</td>\n",
       "      <td>0.8</td>\n",
       "      <td>3.2</td>\n",
       "      <td>8.1</td>\n",
       "      <td>2.56</td>\n",
       "      <td>1176</td>\n",
       "    </tr>\n",
       "    <tr>\n",
       "      <th>2</th>\n",
       "      <td>BAL</td>\n",
       "      <td>50</td>\n",
       "      <td>28.3</td>\n",
       "      <td>4.37</td>\n",
       "      <td>162</td>\n",
       "      <td>6156</td>\n",
       "      <td>5585</td>\n",
       "      <td>708</td>\n",
       "      <td>1434</td>\n",
       "      <td>273</td>\n",
       "      <td>...</td>\n",
       "      <td>6332</td>\n",
       "      <td>86</td>\n",
       "      <td>4.67</td>\n",
       "      <td>1.454</td>\n",
       "      <td>9.8</td>\n",
       "      <td>1.3</td>\n",
       "      <td>3.3</td>\n",
       "      <td>6.5</td>\n",
       "      <td>1.95</td>\n",
       "      <td>1132</td>\n",
       "    </tr>\n",
       "    <tr>\n",
       "      <th>3</th>\n",
       "      <td>BOS</td>\n",
       "      <td>49</td>\n",
       "      <td>30.0</td>\n",
       "      <td>5.40</td>\n",
       "      <td>162</td>\n",
       "      <td>6414</td>\n",
       "      <td>5710</td>\n",
       "      <td>875</td>\n",
       "      <td>1600</td>\n",
       "      <td>352</td>\n",
       "      <td>...</td>\n",
       "      <td>6242</td>\n",
       "      <td>103</td>\n",
       "      <td>4.05</td>\n",
       "      <td>1.308</td>\n",
       "      <td>8.4</td>\n",
       "      <td>1.0</td>\n",
       "      <td>3.3</td>\n",
       "      <td>7.5</td>\n",
       "      <td>2.25</td>\n",
       "      <td>1133</td>\n",
       "    </tr>\n",
       "    <tr>\n",
       "      <th>4</th>\n",
       "      <td>CHC</td>\n",
       "      <td>42</td>\n",
       "      <td>29.2</td>\n",
       "      <td>4.04</td>\n",
       "      <td>162</td>\n",
       "      <td>6130</td>\n",
       "      <td>5549</td>\n",
       "      <td>654</td>\n",
       "      <td>1423</td>\n",
       "      <td>285</td>\n",
       "      <td>...</td>\n",
       "      <td>6262</td>\n",
       "      <td>90</td>\n",
       "      <td>4.11</td>\n",
       "      <td>1.408</td>\n",
       "      <td>9.0</td>\n",
       "      <td>1.0</td>\n",
       "      <td>3.6</td>\n",
       "      <td>7.7</td>\n",
       "      <td>2.11</td>\n",
       "      <td>1203</td>\n",
       "    </tr>\n",
       "  </tbody>\n",
       "</table>\n",
       "<p>5 rows × 65 columns</p>\n",
       "</div>"
      ],
      "text/plain": [
       "    Tm  #Bat  BatAge   R/G  G_x    PA    AB  R_x   H_x   2B  ...      BF  \\\n",
       "0  ARI    51    28.3  4.51  162  6096  5421  731  1357  293  ...    6102   \n",
       "1  ATL    45    28.9  3.96  162  6169  5528  641  1345  244  ...    6220   \n",
       "2  BAL    50    28.3  4.37  162  6156  5585  708  1434  273  ...    6332   \n",
       "3  BOS    49    30.0  5.40  162  6414  5710  875  1600  352  ...    6242   \n",
       "4  CHC    42    29.2  4.04  162  6130  5549  654  1423  285  ...    6262   \n",
       "\n",
       "   ERA+   FIP   WHIP   H9  HR9  BB9  SO9  SO/W  LOB_y  \n",
       "0   104  4.02  1.286  8.8  1.0  2.8  6.6  2.39   1110  \n",
       "1   110  3.49  1.252  8.1  0.8  3.2  8.1  2.56   1176  \n",
       "2    86  4.67  1.454  9.8  1.3  3.3  6.5  1.95   1132  \n",
       "3   103  4.05  1.308  8.4  1.0  3.3  7.5  2.25   1133  \n",
       "4    90  4.11  1.408  9.0  1.0  3.6  7.7  2.11   1203  \n",
       "\n",
       "[5 rows x 65 columns]"
      ]
     },
     "execution_count": 3,
     "metadata": {},
     "output_type": "execute_result"
    }
   ],
   "source": [
    "df.head()"
   ]
  },
  {
   "cell_type": "code",
   "execution_count": 4,
   "metadata": {},
   "outputs": [
    {
     "data": {
      "text/plain": [
       "(540, 65)"
      ]
     },
     "execution_count": 4,
     "metadata": {},
     "output_type": "execute_result"
    }
   ],
   "source": [
    "df.shape"
   ]
  },
  {
   "cell_type": "code",
   "execution_count": 5,
   "metadata": {},
   "outputs": [
    {
     "data": {
      "text/html": [
       "<div>\n",
       "<style>\n",
       "    .dataframe thead tr:only-child th {\n",
       "        text-align: right;\n",
       "    }\n",
       "\n",
       "    .dataframe thead th {\n",
       "        text-align: left;\n",
       "    }\n",
       "\n",
       "    .dataframe tbody tr th {\n",
       "        vertical-align: top;\n",
       "    }\n",
       "</style>\n",
       "<table border=\"1\" class=\"dataframe\">\n",
       "  <thead>\n",
       "    <tr style=\"text-align: right;\">\n",
       "      <th></th>\n",
       "      <th>Tm</th>\n",
       "      <th>#Bat</th>\n",
       "      <th>BatAge</th>\n",
       "      <th>R/G</th>\n",
       "      <th>G_x</th>\n",
       "      <th>PA</th>\n",
       "      <th>AB</th>\n",
       "      <th>R_x</th>\n",
       "      <th>H_x</th>\n",
       "      <th>2B</th>\n",
       "      <th>...</th>\n",
       "      <th>BF</th>\n",
       "      <th>ERA+</th>\n",
       "      <th>FIP</th>\n",
       "      <th>WHIP</th>\n",
       "      <th>H9</th>\n",
       "      <th>HR9</th>\n",
       "      <th>BB9</th>\n",
       "      <th>SO9</th>\n",
       "      <th>SO/W</th>\n",
       "      <th>LOB_y</th>\n",
       "    </tr>\n",
       "  </thead>\n",
       "  <tbody>\n",
       "    <tr>\n",
       "      <th>535</th>\n",
       "      <td>STL</td>\n",
       "      <td>42</td>\n",
       "      <td>28.8</td>\n",
       "      <td>4.54</td>\n",
       "      <td>162</td>\n",
       "      <td>6241</td>\n",
       "      <td>5542</td>\n",
       "      <td>736</td>\n",
       "      <td>1456</td>\n",
       "      <td>285</td>\n",
       "      <td>...</td>\n",
       "      <td>6137</td>\n",
       "      <td>109</td>\n",
       "      <td>3.85</td>\n",
       "      <td>1.299</td>\n",
       "      <td>8.7</td>\n",
       "      <td>0.8</td>\n",
       "      <td>3.0</td>\n",
       "      <td>6.8</td>\n",
       "      <td>2.29</td>\n",
       "      <td>1135</td>\n",
       "    </tr>\n",
       "    <tr>\n",
       "      <th>536</th>\n",
       "      <td>TBR</td>\n",
       "      <td>37</td>\n",
       "      <td>27.5</td>\n",
       "      <td>4.95</td>\n",
       "      <td>162</td>\n",
       "      <td>6270</td>\n",
       "      <td>5439</td>\n",
       "      <td>802</td>\n",
       "      <td>1343</td>\n",
       "      <td>295</td>\n",
       "      <td>...</td>\n",
       "      <td>6103</td>\n",
       "      <td>103</td>\n",
       "      <td>4.09</td>\n",
       "      <td>1.255</td>\n",
       "      <td>8.3</td>\n",
       "      <td>1.1</td>\n",
       "      <td>3.0</td>\n",
       "      <td>7.4</td>\n",
       "      <td>2.49</td>\n",
       "      <td>1093</td>\n",
       "    </tr>\n",
       "    <tr>\n",
       "      <th>537</th>\n",
       "      <td>TEX</td>\n",
       "      <td>48</td>\n",
       "      <td>28.3</td>\n",
       "      <td>4.86</td>\n",
       "      <td>162</td>\n",
       "      <td>6302</td>\n",
       "      <td>5635</td>\n",
       "      <td>787</td>\n",
       "      <td>1556</td>\n",
       "      <td>268</td>\n",
       "      <td>...</td>\n",
       "      <td>6213</td>\n",
       "      <td>114</td>\n",
       "      <td>4.17</td>\n",
       "      <td>1.310</td>\n",
       "      <td>8.4</td>\n",
       "      <td>1.0</td>\n",
       "      <td>3.4</td>\n",
       "      <td>7.3</td>\n",
       "      <td>2.14</td>\n",
       "      <td>1160</td>\n",
       "    </tr>\n",
       "    <tr>\n",
       "      <th>538</th>\n",
       "      <td>TOR</td>\n",
       "      <td>44</td>\n",
       "      <td>29.3</td>\n",
       "      <td>4.66</td>\n",
       "      <td>162</td>\n",
       "      <td>6072</td>\n",
       "      <td>5495</td>\n",
       "      <td>755</td>\n",
       "      <td>1364</td>\n",
       "      <td>319</td>\n",
       "      <td>...</td>\n",
       "      <td>6165</td>\n",
       "      <td>100</td>\n",
       "      <td>4.04</td>\n",
       "      <td>1.351</td>\n",
       "      <td>8.8</td>\n",
       "      <td>0.9</td>\n",
       "      <td>3.4</td>\n",
       "      <td>7.4</td>\n",
       "      <td>2.20</td>\n",
       "      <td>1115</td>\n",
       "    </tr>\n",
       "    <tr>\n",
       "      <th>539</th>\n",
       "      <td>WSN</td>\n",
       "      <td>46</td>\n",
       "      <td>29.1</td>\n",
       "      <td>4.04</td>\n",
       "      <td>162</td>\n",
       "      <td>6100</td>\n",
       "      <td>5418</td>\n",
       "      <td>655</td>\n",
       "      <td>1355</td>\n",
       "      <td>250</td>\n",
       "      <td>...</td>\n",
       "      <td>6214</td>\n",
       "      <td>98</td>\n",
       "      <td>4.12</td>\n",
       "      <td>1.380</td>\n",
       "      <td>9.2</td>\n",
       "      <td>0.9</td>\n",
       "      <td>3.2</td>\n",
       "      <td>6.7</td>\n",
       "      <td>2.09</td>\n",
       "      <td>1167</td>\n",
       "    </tr>\n",
       "  </tbody>\n",
       "</table>\n",
       "<p>5 rows × 65 columns</p>\n",
       "</div>"
      ],
      "text/plain": [
       "      Tm  #Bat  BatAge   R/G  G_x    PA    AB  R_x   H_x   2B  ...      BF  \\\n",
       "535  STL    42    28.8  4.54  162  6241  5542  736  1456  285  ...    6137   \n",
       "536  TBR    37    27.5  4.95  162  6270  5439  802  1343  295  ...    6103   \n",
       "537  TEX    48    28.3  4.86  162  6302  5635  787  1556  268  ...    6213   \n",
       "538  TOR    44    29.3  4.66  162  6072  5495  755  1364  319  ...    6165   \n",
       "539  WSN    46    29.1  4.04  162  6100  5418  655  1355  250  ...    6214   \n",
       "\n",
       "     ERA+   FIP   WHIP   H9  HR9  BB9  SO9  SO/W  LOB_y  \n",
       "535   109  3.85  1.299  8.7  0.8  3.0  6.8  2.29   1135  \n",
       "536   103  4.09  1.255  8.3  1.1  3.0  7.4  2.49   1093  \n",
       "537   114  4.17  1.310  8.4  1.0  3.4  7.3  2.14   1160  \n",
       "538   100  4.04  1.351  8.8  0.9  3.4  7.4  2.20   1115  \n",
       "539    98  4.12  1.380  9.2  0.9  3.2  6.7  2.09   1167  \n",
       "\n",
       "[5 rows x 65 columns]"
      ]
     },
     "execution_count": 5,
     "metadata": {},
     "output_type": "execute_result"
    }
   ],
   "source": [
    "df.tail()"
   ]
  },
  {
   "cell_type": "code",
   "execution_count": 6,
   "metadata": {},
   "outputs": [
    {
     "data": {
      "text/plain": [
       "Tm         object\n",
       "#Bat        int64\n",
       "BatAge    float64\n",
       "R/G       float64\n",
       "G_x         int64\n",
       "PA          int64\n",
       "AB          int64\n",
       "R_x         int64\n",
       "H_x         int64\n",
       "2B          int64\n",
       "3B          int64\n",
       "HR_x        int64\n",
       "RBI         int64\n",
       "SB          int64\n",
       "CS          int64\n",
       "BB_x        int64\n",
       "SO_x        int64\n",
       "BA        float64\n",
       "OBP       float64\n",
       "SLG       float64\n",
       "OPS       float64\n",
       "OPS+        int64\n",
       "TB          int64\n",
       "GDP         int64\n",
       "HBP_x       int64\n",
       "SH          int64\n",
       "SF          int64\n",
       "IBB_x       int64\n",
       "LOB_x       int64\n",
       "Year        int64\n",
       "           ...   \n",
       "W-L%      float64\n",
       "ERA       float64\n",
       "G_y         int64\n",
       "GS          int64\n",
       "GF          int64\n",
       "CG          int64\n",
       "tSho        int64\n",
       "cSho        int64\n",
       "SV          int64\n",
       "IP        float64\n",
       "H_y         int64\n",
       "R_y         int64\n",
       "ER          int64\n",
       "HR_y        int64\n",
       "BB_y        int64\n",
       "IBB_y       int64\n",
       "SO_y        int64\n",
       "HBP_y       int64\n",
       "BK          int64\n",
       "WP          int64\n",
       "BF          int64\n",
       "ERA+        int64\n",
       "FIP       float64\n",
       "WHIP      float64\n",
       "H9        float64\n",
       "HR9       float64\n",
       "BB9       float64\n",
       "SO9       float64\n",
       "SO/W      float64\n",
       "LOB_y       int64\n",
       "Length: 65, dtype: object"
      ]
     },
     "execution_count": 6,
     "metadata": {},
     "output_type": "execute_result"
    }
   ],
   "source": [
    "df.dtypes"
   ]
  },
  {
   "cell_type": "code",
   "execution_count": 7,
   "metadata": {},
   "outputs": [
    {
     "data": {
      "text/plain": [
       "Index(['Tm', '#Bat', 'BatAge', 'R/G', 'G_x', 'PA', 'AB', 'R_x', 'H_x', '2B',\n",
       "       '3B', 'HR_x', 'RBI', 'SB', 'CS', 'BB_x', 'SO_x', 'BA', 'OBP', 'SLG',\n",
       "       'OPS', 'OPS+', 'TB', 'GDP', 'HBP_x', 'SH', 'SF', 'IBB_x', 'LOB_x',\n",
       "       'Year', '#P', 'PAge', 'RA/G', 'W', 'L', 'W-L%', 'ERA', 'G_y', 'GS',\n",
       "       'GF', 'CG', 'tSho', 'cSho', 'SV', 'IP', 'H_y', 'R_y', 'ER', 'HR_y',\n",
       "       'BB_y', 'IBB_y', 'SO_y', 'HBP_y', 'BK', 'WP', 'BF', 'ERA+', 'FIP',\n",
       "       'WHIP', 'H9', 'HR9', 'BB9', 'SO9', 'SO/W', 'LOB_y'],\n",
       "      dtype='object')"
      ]
     },
     "execution_count": 7,
     "metadata": {},
     "output_type": "execute_result"
    }
   ],
   "source": [
    "df.columns"
   ]
  },
  {
   "cell_type": "code",
   "execution_count": 8,
   "metadata": {},
   "outputs": [
    {
     "data": {
      "text/plain": [
       "2018    30\n",
       "2017    30\n",
       "2002    30\n",
       "2003    30\n",
       "2004    30\n",
       "2005    30\n",
       "2006    30\n",
       "2007    30\n",
       "2008    30\n",
       "2009    30\n",
       "2010    30\n",
       "2011    30\n",
       "2012    30\n",
       "2013    30\n",
       "2014    30\n",
       "2015    30\n",
       "2016    30\n",
       "2001    30\n",
       "Name: Year, dtype: int64"
      ]
     },
     "execution_count": 8,
     "metadata": {},
     "output_type": "execute_result"
    }
   ],
   "source": [
    "df.Year.value_counts()"
   ]
  },
  {
   "cell_type": "code",
   "execution_count": 9,
   "metadata": {
    "collapsed": true
   },
   "outputs": [],
   "source": [
    "correlation = df.corr()"
   ]
  },
  {
   "cell_type": "code",
   "execution_count": 10,
   "metadata": {},
   "outputs": [
    {
     "data": {
      "text/plain": [
       "#Bat     -0.357100\n",
       "BatAge    0.299576\n",
       "R/G       0.555701\n",
       "G_x       0.115518\n",
       "PA        0.422754\n",
       "AB        0.186805\n",
       "R_x       0.556681\n",
       "H_x       0.354050\n",
       "2B        0.274697\n",
       "3B       -0.074794\n",
       "HR_x      0.381635\n",
       "RBI       0.556678\n",
       "SB        0.041973\n",
       "CS       -0.129402\n",
       "BB_x      0.437243\n",
       "SO_x     -0.132904\n",
       "BA        0.379340\n",
       "OBP       0.521827\n",
       "SLG       0.479715\n",
       "OPS       0.524375\n",
       "OPS+      0.608675\n",
       "TB        0.457988\n",
       "GDP       0.052854\n",
       "HBP_x     0.156519\n",
       "SH       -0.052630\n",
       "SF        0.306050\n",
       "IBB_x     0.305225\n",
       "LOB_x     0.285357\n",
       "Year      0.001888\n",
       "#P       -0.290365\n",
       "            ...   \n",
       "W-L%      0.999887\n",
       "ERA      -0.665668\n",
       "G_y       0.115518\n",
       "GS        0.115518\n",
       "GF       -0.153824\n",
       "CG        0.166163\n",
       "tSho      0.477444\n",
       "cSho      0.243888\n",
       "SV        0.650027\n",
       "IP        0.494510\n",
       "H_y      -0.552952\n",
       "R_y      -0.670395\n",
       "ER       -0.653687\n",
       "HR_y     -0.377776\n",
       "BB_y     -0.473831\n",
       "IBB_y    -0.235755\n",
       "SO_y      0.338786\n",
       "HBP_y    -0.147388\n",
       "BK       -0.204375\n",
       "WP       -0.204249\n",
       "BF       -0.521027\n",
       "ERA+      0.758619\n",
       "FIP      -0.565649\n",
       "WHIP     -0.667580\n",
       "H9       -0.590802\n",
       "HR9      -0.386170\n",
       "BB9      -0.499861\n",
       "SO9       0.311259\n",
       "SO/W      0.499907\n",
       "LOB_y    -0.374661\n",
       "Name: W, Length: 64, dtype: float64"
      ]
     },
     "execution_count": 10,
     "metadata": {},
     "output_type": "execute_result"
    }
   ],
   "source": [
    "W_corr = correlation.W\n",
    "W_corr"
   ]
  },
  {
   "cell_type": "code",
   "execution_count": 11,
   "metadata": {},
   "outputs": [
    {
     "data": {
      "text/plain": [
       "Tm        0\n",
       "#Bat      0\n",
       "BatAge    0\n",
       "R/G       0\n",
       "G_x       0\n",
       "PA        0\n",
       "AB        0\n",
       "R_x       0\n",
       "H_x       0\n",
       "2B        0\n",
       "3B        0\n",
       "HR_x      0\n",
       "RBI       0\n",
       "SB        0\n",
       "CS        0\n",
       "BB_x      0\n",
       "SO_x      0\n",
       "BA        0\n",
       "OBP       0\n",
       "SLG       0\n",
       "OPS       0\n",
       "OPS+      0\n",
       "TB        0\n",
       "GDP       0\n",
       "HBP_x     0\n",
       "SH        0\n",
       "SF        0\n",
       "IBB_x     0\n",
       "LOB_x     0\n",
       "Year      0\n",
       "         ..\n",
       "W-L%      0\n",
       "ERA       0\n",
       "G_y       0\n",
       "GS        0\n",
       "GF        0\n",
       "CG        0\n",
       "tSho      0\n",
       "cSho      0\n",
       "SV        0\n",
       "IP        0\n",
       "H_y       0\n",
       "R_y       0\n",
       "ER        0\n",
       "HR_y      0\n",
       "BB_y      0\n",
       "IBB_y     0\n",
       "SO_y      0\n",
       "HBP_y     0\n",
       "BK        0\n",
       "WP        0\n",
       "BF        0\n",
       "ERA+      0\n",
       "FIP       0\n",
       "WHIP      0\n",
       "H9        0\n",
       "HR9       0\n",
       "BB9       0\n",
       "SO9       0\n",
       "SO/W      0\n",
       "LOB_y     0\n",
       "Length: 65, dtype: int64"
      ]
     },
     "execution_count": 11,
     "metadata": {},
     "output_type": "execute_result"
    }
   ],
   "source": [
    "#df.SV.isna().sum()\n",
    "df.isnull().sum()"
   ]
  },
  {
   "cell_type": "code",
   "execution_count": 12,
   "metadata": {},
   "outputs": [
    {
     "data": {
      "text/plain": [
       "Index(['Tm', '#Bat', 'BatAge', 'R/G', 'G_x', 'PA', 'AB', 'R_x', 'H_x', '2B',\n",
       "       '3B', 'HR_x', 'RBI', 'SB', 'CS', 'BB_x', 'SO_x', 'BA', 'OBP', 'SLG',\n",
       "       'OPS', 'OPS+', 'TB', 'GDP', 'HBP_x', 'SH', 'SF', 'IBB_x', 'LOB_x',\n",
       "       'Year', '#P', 'PAge', 'RA/G', 'W', 'L', 'W-L%', 'ERA', 'G_y', 'GS',\n",
       "       'GF', 'CG', 'tSho', 'cSho', 'SV', 'IP', 'H_y', 'R_y', 'ER', 'HR_y',\n",
       "       'BB_y', 'IBB_y', 'SO_y', 'HBP_y', 'BK', 'WP', 'BF', 'ERA+', 'FIP',\n",
       "       'WHIP', 'H9', 'HR9', 'BB9', 'SO9', 'SO/W', 'LOB_y'],\n",
       "      dtype='object')"
      ]
     },
     "execution_count": 12,
     "metadata": {},
     "output_type": "execute_result"
    }
   ],
   "source": [
    "df.columns"
   ]
  },
  {
   "cell_type": "markdown",
   "metadata": {},
   "source": [
    "# Split the data into training & test sets."
   ]
  },
  {
   "cell_type": "code",
   "execution_count": 13,
   "metadata": {
    "collapsed": true
   },
   "outputs": [],
   "source": [
    "y = df.W\n",
    "#y"
   ]
  },
  {
   "cell_type": "markdown",
   "metadata": {},
   "source": [
    "## Linear Regression with scikit learn model"
   ]
  },
  {
   "cell_type": "code",
   "execution_count": 14,
   "metadata": {},
   "outputs": [
    {
     "name": "stdout",
     "output_type": "stream",
     "text": [
      "(432, 7) (432,)\n",
      "(108, 7) (108,)\n"
     ]
    }
   ],
   "source": [
    "# create training and testing vars\n",
    "predictors = ['ERA','SO_y','SV','SLG','OBP','BA','SO_x']\n",
    "X = df[predictors]\n",
    "X_train, X_test, y_train, y_test = train_test_split(X, y, test_size=0.2,random_state =42)\n",
    "print(X_train.shape, y_train.shape)\n",
    "print(X_test.shape, y_test.shape)"
   ]
  },
  {
   "cell_type": "code",
   "execution_count": 15,
   "metadata": {
    "collapsed": true
   },
   "outputs": [],
   "source": [
    "# fit a model\n",
    "lm = LinearRegression()\n",
    "model = lm.fit(X_train, y_train)\n",
    "predictions = lm.predict(X_test)"
   ]
  },
  {
   "cell_type": "code",
   "execution_count": 16,
   "metadata": {},
   "outputs": [
    {
     "name": "stdout",
     "output_type": "stream",
     "text": [
      "The Trainng Score For Model 1:\n",
      "0.893446074857\n",
      "\n",
      "The Test Score For Model 1:\n",
      "0.904775798443\n",
      "\n",
      "[ -1.34967016e+01   4.21126738e-03   3.87504418e-01   1.66250834e+02\n",
      "   2.32224034e+02  -1.23717763e+01  -2.64106449e-03]\n"
     ]
    }
   ],
   "source": [
    "print(\"The Trainng Score For Model 1:\")\n",
    "print(lm.score(X_train,y_train))\n",
    "print()\n",
    "print(\"The Test Score For Model 1:\")\n",
    "print(lm.score(X_test,y_test))\n",
    "print()\n",
    "print(model.coef_)"
   ]
  },
  {
   "cell_type": "code",
   "execution_count": 17,
   "metadata": {},
   "outputs": [
    {
     "data": {
      "text/plain": [
       "<matplotlib.text.Text at 0x1078e8128>"
      ]
     },
     "execution_count": 17,
     "metadata": {},
     "output_type": "execute_result"
    },
    {
     "data": {
      "image/png": "[encoded data removed]",
      "text/plain": [
       "<matplotlib.figure.Figure at 0x11286f668>"
      ]
     },
     "metadata": {},
     "output_type": "display_data"
    }
   ],
   "source": [
    "plt.scatter(y_test, predictions)\n",
    "plt.xlabel('True Values')\n",
    "plt.ylabel('Predictions')"
   ]
  },
  {
   "cell_type": "code",
   "execution_count": 18,
   "metadata": {},
   "outputs": [
    {
     "name": "stdout",
     "output_type": "stream",
     "text": [
      "For Linear Regression Model 1:\n",
      "Root Mean Squared Error Train: 3.752101249855971\n",
      "\n",
      "Root Mean Squared Error Test: 3.7415011921091037\n",
      "\n"
     ]
    }
   ],
   "source": [
    "pred_tr = lm.predict(X_train)\n",
    "rmse_train = np.sqrt(mean_squared_error(y_train,pred_tr))\n",
    "print('For Linear Regression Model 1:')\n",
    "print(\"Root Mean Squared Error Train: {}\".format(rmse_train))\n",
    "print()\n",
    "rmse_test = np.sqrt(mean_squared_error(y_test,predictions))\n",
    "print(\"Root Mean Squared Error Test: {}\".format(rmse_test))\n",
    "print()"
   ]
  },
  {
   "cell_type": "markdown",
   "metadata": {},
   "source": [
    "## LINEAR REGRESSION WITH STATSMODEL"
   ]
  },
  {
   "cell_type": "code",
   "execution_count": 19,
   "metadata": {
    "collapsed": true
   },
   "outputs": [],
   "source": [
    "predictors = ['ERA','25-Man','SV','SLG','OBP','BA','SO_x']"
   ]
  },
  {
   "cell_type": "code",
   "execution_count": 20,
   "metadata": {},
   "outputs": [
    {
     "name": "stdout",
     "output_type": "stream",
     "text": [
      "statsmodel 1\n",
      "                            OLS Regression Results                            \n",
      "==============================================================================\n",
      "Dep. Variable:                      W   R-squared:                       0.998\n",
      "Model:                            OLS   Adj. R-squared:                  0.998\n",
      "Method:                 Least Squares   F-statistic:                 2.811e+04\n",
      "Date:                Thu, 30 May 2019   Prob (F-statistic):               0.00\n",
      "Time:                        13:13:44   Log-Likelihood:                -1188.6\n",
      "No. Observations:                 432   AIC:                             2391.\n",
      "Df Residuals:                     425   BIC:                             2420.\n",
      "Df Model:                           7                                         \n",
      "Covariance Type:            nonrobust                                         \n",
      "==============================================================================\n",
      "                 coef    std err          t      P>|t|      [0.025      0.975]\n",
      "------------------------------------------------------------------------------\n",
      "ERA          -14.0168      0.486    -28.843      0.000     -14.972     -13.062\n",
      "SO_y           0.0028      0.002      1.722      0.086      -0.000       0.006\n",
      "SV             0.3677      0.030     12.242      0.000       0.309       0.427\n",
      "SLG          181.5299     11.505     15.778      0.000     158.915     204.145\n",
      "OBP          207.2665     25.840      8.021      0.000     156.476     258.057\n",
      "BA           -57.6098     32.514     -1.772      0.077    -121.518       6.298\n",
      "SO_x          -0.0054      0.002     -3.336      0.001      -0.009      -0.002\n",
      "==============================================================================\n",
      "Omnibus:                        0.039   Durbin-Watson:                   1.999\n",
      "Prob(Omnibus):                  0.981   Jarque-Bera (JB):                0.024\n",
      "Skew:                          -0.018   Prob(JB):                        0.988\n",
      "Kurtosis:                       2.990   Cond. No.                     3.54e+05\n",
      "==============================================================================\n",
      "\n",
      "Warnings:\n",
      "[1] Standard Errors assume that the covariance matrix of the errors is correctly specified.\n",
      "[2] The condition number is large, 3.54e+05. This might indicate that there are\n",
      "strong multicollinearity or other numerical problems.\n"
     ]
    }
   ],
   "source": [
    "model = sm.OLS(y_train, X_train)\n",
    "results = model.fit()\n",
    "print('statsmodel 1')\n",
    "print(results.summary())"
   ]
  },
  {
   "cell_type": "code",
   "execution_count": 21,
   "metadata": {
    "collapsed": true
   },
   "outputs": [],
   "source": [
    "resid = results.resid"
   ]
  },
  {
   "cell_type": "code",
   "execution_count": 22,
   "metadata": {},
   "outputs": [
    {
     "data": {
      "text/plain": [
       "<matplotlib.axes._subplots.AxesSubplot at 0x1167a4cc0>"
      ]
     },
     "execution_count": 22,
     "metadata": {},
     "output_type": "execute_result"
    },
    {
     "data": {
      "image/png": "[encoded data removed]",
      "text/plain": [
       "<matplotlib.figure.Figure at 0x11288e898>"
      ]
     },
     "metadata": {},
     "output_type": "display_data"
    }
   ],
   "source": [
    "sns.distplot(resid)"
   ]
  },
  {
   "cell_type": "markdown",
   "metadata": {},
   "source": [
    "## MODEL 2 WITH FEWER PREDICTORS: 'ERA','SO_x','SV','OBP'"
   ]
  },
  {
   "cell_type": "code",
   "execution_count": 23,
   "metadata": {},
   "outputs": [
    {
     "name": "stdout",
     "output_type": "stream",
     "text": [
      "(432, 4) (432,)\n",
      "(108, 4) (108,)\n"
     ]
    }
   ],
   "source": [
    "predictors = ['ERA','SO_x','SV','OBP']\n",
    "X = df[predictors]\n",
    "y = df.W\n",
    "X_train, X_test, y_train, y_test = train_test_split(X, y, test_size=0.2, random_state =42)\n",
    "print(X_train.shape, y_train.shape)\n",
    "print(X_test.shape, y_test.shape)"
   ]
  },
  {
   "cell_type": "code",
   "execution_count": 24,
   "metadata": {
    "collapsed": true
   },
   "outputs": [],
   "source": [
    "#X_train"
   ]
  },
  {
   "cell_type": "code",
   "execution_count": 25,
   "metadata": {
    "collapsed": true
   },
   "outputs": [],
   "source": [
    "#X_test"
   ]
  },
  {
   "cell_type": "markdown",
   "metadata": {},
   "source": [
    "## scikit learn model"
   ]
  },
  {
   "cell_type": "code",
   "execution_count": 26,
   "metadata": {
    "collapsed": true
   },
   "outputs": [],
   "source": [
    "# fit a model\n",
    "lm2 = LinearRegression()\n",
    "model2 = lm2.fit(X_train, y_train)\n",
    "pred2_ts = lm2.predict(X_test)"
   ]
  },
  {
   "cell_type": "code",
   "execution_count": 27,
   "metadata": {},
   "outputs": [
    {
     "name": "stdout",
     "output_type": "stream",
     "text": [
      "The Training Score For Model 2:\n",
      "0.838157011406\n",
      "\n",
      "The Test Score For Model 2:\n",
      "0.868170240167\n",
      "\n",
      "[ -1.26160213e+01   4.93356248e-03   4.49579647e-01   4.65030054e+02]\n"
     ]
    }
   ],
   "source": [
    "print(\"The Training Score For Model 2:\")\n",
    "print(lm2.score(X_train,y_train))\n",
    "print()\n",
    "print(\"The Test Score For Model 2:\")\n",
    "print(lm2.score(X_test,y_test))\n",
    "print()\n",
    "print(model2.coef_)"
   ]
  },
  {
   "cell_type": "code",
   "execution_count": 28,
   "metadata": {},
   "outputs": [
    {
     "name": "stdout",
     "output_type": "stream",
     "text": [
      "Root Mean Squared Error for model 2 Train: 4.62420168622596\n",
      "\n",
      "Root Mean Squared Error for model 2 Test: 4.402293043303214\n",
      "\n"
     ]
    }
   ],
   "source": [
    "pred_tr2 = lm2.predict(X_train)\n",
    "predictions2 = lm2.predict(X_test)\n",
    "rmse_train = np.sqrt(mean_squared_error(y_train,pred_tr2))\n",
    "print(\"Root Mean Squared Error for model 2 Train: {}\".format(rmse_train))\n",
    "print()\n",
    "rmse_test = np.sqrt(mean_squared_error(y_test,predictions2))\n",
    "print(\"Root Mean Squared Error for model 2 Test: {}\".format(rmse_test))\n",
    "print()"
   ]
  },
  {
   "cell_type": "markdown",
   "metadata": {},
   "source": [
    "## LINEAR REGRESSION WITH STATSMODEL"
   ]
  },
  {
   "cell_type": "code",
   "execution_count": 29,
   "metadata": {},
   "outputs": [
    {
     "name": "stdout",
     "output_type": "stream",
     "text": [
      "statsmodel Model 2\n",
      "                            OLS Regression Results                            \n",
      "==============================================================================\n",
      "Dep. Variable:                      W   R-squared:                       0.997\n",
      "Model:                            OLS   Adj. R-squared:                  0.997\n",
      "Method:                 Least Squares   F-statistic:                 3.085e+04\n",
      "Date:                Thu, 30 May 2019   Prob (F-statistic):               0.00\n",
      "Time:                        13:13:45   Log-Likelihood:                -1290.7\n",
      "No. Observations:                 432   AIC:                             2589.\n",
      "Df Residuals:                     428   BIC:                             2606.\n",
      "Df Model:                           4                                         \n",
      "Covariance Type:            nonrobust                                         \n",
      "==============================================================================\n",
      "                 coef    std err          t      P>|t|      [0.025      0.975]\n",
      "------------------------------------------------------------------------------\n",
      "ERA          -13.5411      0.508    -26.630      0.000     -14.541     -12.542\n",
      "SO_x          -0.0007      0.001     -0.546      0.586      -0.003       0.002\n",
      "SV             0.3992      0.037     10.719      0.000       0.326       0.472\n",
      "OBP          375.1933      9.869     38.017      0.000     355.795     394.591\n",
      "==============================================================================\n",
      "Omnibus:                        2.061   Durbin-Watson:                   2.056\n",
      "Prob(Omnibus):                  0.357   Jarque-Bera (JB):                1.804\n",
      "Skew:                           0.038   Prob(JB):                        0.406\n",
      "Kurtosis:                       2.693   Cond. No.                     4.96e+04\n",
      "==============================================================================\n",
      "\n",
      "Warnings:\n",
      "[1] Standard Errors assume that the covariance matrix of the errors is correctly specified.\n",
      "[2] The condition number is large, 4.96e+04. This might indicate that there are\n",
      "strong multicollinearity or other numerical problems.\n"
     ]
    }
   ],
   "source": [
    "sm_model2 = sm.OLS(y_train, X_train)\n",
    "results2 = sm_model2.fit()\n",
    "print('statsmodel Model 2')\n",
    "print(results2.summary())"
   ]
  },
  {
   "cell_type": "code",
   "execution_count": 30,
   "metadata": {
    "collapsed": true
   },
   "outputs": [],
   "source": [
    "#########################################################################################"
   ]
  },
  {
   "cell_type": "markdown",
   "metadata": {
    "collapsed": true
   },
   "source": [
    "## Model 3 with 4 Predictors: 'ERA','SV','SLG','OBP'"
   ]
  },
  {
   "cell_type": "code",
   "execution_count": 31,
   "metadata": {},
   "outputs": [
    {
     "name": "stdout",
     "output_type": "stream",
     "text": [
      "(432, 4) (432,)\n",
      "(108, 4) (108,)\n"
     ]
    }
   ],
   "source": [
    "predictors = ['ERA','OBP','SV','SLG']\n",
    "X = df[predictors]\n",
    "y = df.W\n",
    "X_train, X_test, y_train, y_test = train_test_split(X, y, test_size=0.2,random_state =42)\n",
    "print(X_train.shape, y_train.shape)\n",
    "print(X_test.shape, y_test.shape)"
   ]
  },
  {
   "cell_type": "code",
   "execution_count": 32,
   "metadata": {},
   "outputs": [
    {
     "name": "stdout",
     "output_type": "stream",
     "text": [
      "The Training Score For Model 3:\n",
      "0.891840659112\n",
      "\n",
      "The Test Score For Model 3:\n",
      "0.904865764709\n",
      "\n",
      "[ -14.16234036  225.04330184    0.38330429  168.0219529 ]\n"
     ]
    }
   ],
   "source": [
    "# fit a model\n",
    "lm3= LinearRegression()\n",
    "model3= lm3.fit(X_train, y_train)\n",
    "#odel3= lm3fit(X_train, y_train)\n",
    "pred3_test = lm3.predict(X_test)\n",
    "#red3ts = lm3predict(X_test)\n",
    "\n",
    "# evaluate & print scores for training & test data set\n",
    "# fit a model\n",
    "print(\"The Training Score For Model 3:\")\n",
    "print(lm3.score(X_train, y_train))\n",
    "print()\n",
    "print(\"The Test Score For Model 3:\")\n",
    "print(lm3.score(X_test, y_test))\n",
    "print()\n",
    "print(model3.coef_)\n"
   ]
  },
  {
   "cell_type": "code",
   "execution_count": 33,
   "metadata": {},
   "outputs": [
    {
     "name": "stdout",
     "output_type": "stream",
     "text": [
      "Root Mean train Squared Error for model 3 Train: 3.7802614630948876\n",
      "\n",
      "Root Mean test Squared Error for model 3 Test: 3.7397333199140577\n",
      "\n"
     ]
    }
   ],
   "source": [
    "pred_tr3 = lm3.predict(X_train)\n",
    "predictions3 = lm3.predict(X_test)\n",
    "rmse_train = np.sqrt(mean_squared_error(y_train,pred_tr3))\n",
    "print(\"Root Mean train Squared Error for model 3 Train: {}\".format(rmse_train))\n",
    "print()\n",
    "rmse_test = np.sqrt(mean_squared_error(y_test,predictions3))\n",
    "print(\"Root Mean test Squared Error for model 3 Test: {}\".format(rmse_test))\n",
    "print()"
   ]
  },
  {
   "cell_type": "markdown",
   "metadata": {},
   "source": [
    "## Statsmodel Linear Regression"
   ]
  },
  {
   "cell_type": "code",
   "execution_count": 34,
   "metadata": {},
   "outputs": [
    {
     "name": "stdout",
     "output_type": "stream",
     "text": [
      "statsmodel Model 3\n",
      "                            OLS Regression Results                            \n",
      "==============================================================================\n",
      "Dep. Variable:                      W   R-squared:                       0.998\n",
      "Model:                            OLS   Adj. R-squared:                  0.998\n",
      "Method:                 Least Squares   F-statistic:                 4.819e+04\n",
      "Date:                Thu, 30 May 2019   Prob (F-statistic):               0.00\n",
      "Time:                        13:13:45   Log-Likelihood:                -1194.6\n",
      "No. Observations:                 432   AIC:                             2397.\n",
      "Df Residuals:                     428   BIC:                             2414.\n",
      "Df Model:                           4                                         \n",
      "Covariance Type:            nonrobust                                         \n",
      "==============================================================================\n",
      "                 coef    std err          t      P>|t|      [0.025      0.975]\n",
      "------------------------------------------------------------------------------\n",
      "ERA          -14.7898      0.406    -36.394      0.000     -15.589     -13.991\n",
      "OBP          174.6246     14.963     11.670      0.000     145.215     204.035\n",
      "SV             0.3451      0.029     11.779      0.000       0.288       0.403\n",
      "SLG          174.1759     11.238     15.499      0.000     152.088     196.264\n",
      "==============================================================================\n",
      "Omnibus:                        0.160   Durbin-Watson:                   2.020\n",
      "Prob(Omnibus):                  0.923   Jarque-Bera (JB):                0.106\n",
      "Skew:                          -0.038   Prob(JB):                        0.948\n",
      "Kurtosis:                       3.015   Cond. No.                     4.08e+03\n",
      "==============================================================================\n",
      "\n",
      "Warnings:\n",
      "[1] Standard Errors assume that the covariance matrix of the errors is correctly specified.\n",
      "[2] The condition number is large, 4.08e+03. This might indicate that there are\n",
      "strong multicollinearity or other numerical problems.\n"
     ]
    }
   ],
   "source": [
    "sm_model3 = sm.OLS(y_train, X_train)\n",
    "results3 = sm_model3.fit()\n",
    "print('statsmodel Model 3')\n",
    "print(results3.summary())"
   ]
  },
  {
   "cell_type": "code",
   "execution_count": null,
   "metadata": {
    "collapsed": true
   },
   "outputs": [],
   "source": []
  },
  {
   "cell_type": "code",
   "execution_count": 35,
   "metadata": {
    "collapsed": true
   },
   "outputs": [],
   "source": [
    "######################################################################################"
   ]
  },
  {
   "cell_type": "code",
   "execution_count": 36,
   "metadata": {
    "collapsed": true
   },
   "outputs": [],
   "source": [
    "#standardScalerX = StandardScaler()\n",
    "#x = standardScalerX.fit_transform(X)"
   ]
  },
  {
   "cell_type": "code",
   "execution_count": 37,
   "metadata": {},
   "outputs": [
    {
     "data": {
      "text/html": [
       "<div>\n",
       "<style>\n",
       "    .dataframe thead tr:only-child th {\n",
       "        text-align: right;\n",
       "    }\n",
       "\n",
       "    .dataframe thead th {\n",
       "        text-align: left;\n",
       "    }\n",
       "\n",
       "    .dataframe tbody tr th {\n",
       "        vertical-align: top;\n",
       "    }\n",
       "</style>\n",
       "<table border=\"1\" class=\"dataframe\">\n",
       "  <thead>\n",
       "    <tr style=\"text-align: right;\">\n",
       "      <th></th>\n",
       "      <th>Tm</th>\n",
       "      <th>#Bat</th>\n",
       "      <th>BatAge</th>\n",
       "      <th>R/G</th>\n",
       "      <th>G_x</th>\n",
       "      <th>PA</th>\n",
       "      <th>AB</th>\n",
       "      <th>R_x</th>\n",
       "      <th>H_x</th>\n",
       "      <th>2B</th>\n",
       "      <th>...</th>\n",
       "      <th>BF</th>\n",
       "      <th>ERA+</th>\n",
       "      <th>FIP</th>\n",
       "      <th>WHIP</th>\n",
       "      <th>H9</th>\n",
       "      <th>HR9</th>\n",
       "      <th>BB9</th>\n",
       "      <th>SO9</th>\n",
       "      <th>SO/W</th>\n",
       "      <th>LOB_y</th>\n",
       "    </tr>\n",
       "  </thead>\n",
       "  <tbody>\n",
       "    <tr>\n",
       "      <th>0</th>\n",
       "      <td>ARI</td>\n",
       "      <td>51</td>\n",
       "      <td>28.3</td>\n",
       "      <td>4.51</td>\n",
       "      <td>162</td>\n",
       "      <td>6096</td>\n",
       "      <td>5421</td>\n",
       "      <td>731</td>\n",
       "      <td>1357</td>\n",
       "      <td>293</td>\n",
       "      <td>...</td>\n",
       "      <td>6102</td>\n",
       "      <td>104</td>\n",
       "      <td>4.02</td>\n",
       "      <td>1.286</td>\n",
       "      <td>8.8</td>\n",
       "      <td>1.0</td>\n",
       "      <td>2.8</td>\n",
       "      <td>6.6</td>\n",
       "      <td>2.39</td>\n",
       "      <td>1110</td>\n",
       "    </tr>\n",
       "    <tr>\n",
       "      <th>1</th>\n",
       "      <td>ATL</td>\n",
       "      <td>45</td>\n",
       "      <td>28.9</td>\n",
       "      <td>3.96</td>\n",
       "      <td>162</td>\n",
       "      <td>6169</td>\n",
       "      <td>5528</td>\n",
       "      <td>641</td>\n",
       "      <td>1345</td>\n",
       "      <td>244</td>\n",
       "      <td>...</td>\n",
       "      <td>6220</td>\n",
       "      <td>110</td>\n",
       "      <td>3.49</td>\n",
       "      <td>1.252</td>\n",
       "      <td>8.1</td>\n",
       "      <td>0.8</td>\n",
       "      <td>3.2</td>\n",
       "      <td>8.1</td>\n",
       "      <td>2.56</td>\n",
       "      <td>1176</td>\n",
       "    </tr>\n",
       "    <tr>\n",
       "      <th>2</th>\n",
       "      <td>BAL</td>\n",
       "      <td>50</td>\n",
       "      <td>28.3</td>\n",
       "      <td>4.37</td>\n",
       "      <td>162</td>\n",
       "      <td>6156</td>\n",
       "      <td>5585</td>\n",
       "      <td>708</td>\n",
       "      <td>1434</td>\n",
       "      <td>273</td>\n",
       "      <td>...</td>\n",
       "      <td>6332</td>\n",
       "      <td>86</td>\n",
       "      <td>4.67</td>\n",
       "      <td>1.454</td>\n",
       "      <td>9.8</td>\n",
       "      <td>1.3</td>\n",
       "      <td>3.3</td>\n",
       "      <td>6.5</td>\n",
       "      <td>1.95</td>\n",
       "      <td>1132</td>\n",
       "    </tr>\n",
       "  </tbody>\n",
       "</table>\n",
       "<p>3 rows × 65 columns</p>\n",
       "</div>"
      ],
      "text/plain": [
       "    Tm  #Bat  BatAge   R/G  G_x    PA    AB  R_x   H_x   2B  ...      BF  \\\n",
       "0  ARI    51    28.3  4.51  162  6096  5421  731  1357  293  ...    6102   \n",
       "1  ATL    45    28.9  3.96  162  6169  5528  641  1345  244  ...    6220   \n",
       "2  BAL    50    28.3  4.37  162  6156  5585  708  1434  273  ...    6332   \n",
       "\n",
       "   ERA+   FIP   WHIP   H9  HR9  BB9  SO9  SO/W  LOB_y  \n",
       "0   104  4.02  1.286  8.8  1.0  2.8  6.6  2.39   1110  \n",
       "1   110  3.49  1.252  8.1  0.8  3.2  8.1  2.56   1176  \n",
       "2    86  4.67  1.454  9.8  1.3  3.3  6.5  1.95   1132  \n",
       "\n",
       "[3 rows x 65 columns]"
      ]
     },
     "execution_count": 37,
     "metadata": {},
     "output_type": "execute_result"
    }
   ],
   "source": [
    "df.head(3)"
   ]
  },
  {
   "cell_type": "markdown",
   "metadata": {
    "collapsed": true
   },
   "source": [
    "## Random Forest Regression"
   ]
  },
  {
   "cell_type": "code",
   "execution_count": 38,
   "metadata": {
    "collapsed": true
   },
   "outputs": [],
   "source": [
    "y = df.W\n",
    "#X = df.drop([\"W\",\"Tm\",\"Suspended\"], axis=1)\n",
    "predictors = ['ERA','SO_y','SV','SLG','OBP','BA']\n",
    "X = df[predictors]"
   ]
  },
  {
   "cell_type": "code",
   "execution_count": 39,
   "metadata": {},
   "outputs": [
    {
     "data": {
      "text/html": [
       "<div>\n",
       "<style>\n",
       "    .dataframe thead tr:only-child th {\n",
       "        text-align: right;\n",
       "    }\n",
       "\n",
       "    .dataframe thead th {\n",
       "        text-align: left;\n",
       "    }\n",
       "\n",
       "    .dataframe tbody tr th {\n",
       "        vertical-align: top;\n",
       "    }\n",
       "</style>\n",
       "<table border=\"1\" class=\"dataframe\">\n",
       "  <thead>\n",
       "    <tr style=\"text-align: right;\">\n",
       "      <th></th>\n",
       "      <th>ERA</th>\n",
       "      <th>SO_y</th>\n",
       "      <th>SV</th>\n",
       "      <th>SLG</th>\n",
       "      <th>OBP</th>\n",
       "      <th>BA</th>\n",
       "    </tr>\n",
       "  </thead>\n",
       "  <tbody>\n",
       "    <tr>\n",
       "      <th>0</th>\n",
       "      <td>3.80</td>\n",
       "      <td>1058</td>\n",
       "      <td>58</td>\n",
       "      <td>0.413</td>\n",
       "      <td>0.322</td>\n",
       "      <td>0.250</td>\n",
       "    </tr>\n",
       "    <tr>\n",
       "      <th>1</th>\n",
       "      <td>3.48</td>\n",
       "      <td>1332</td>\n",
       "      <td>52</td>\n",
       "      <td>0.387</td>\n",
       "      <td>0.308</td>\n",
       "      <td>0.243</td>\n",
       "    </tr>\n",
       "    <tr>\n",
       "      <th>2</th>\n",
       "      <td>4.89</td>\n",
       "      <td>1044</td>\n",
       "      <td>32</td>\n",
       "      <td>0.413</td>\n",
       "      <td>0.316</td>\n",
       "      <td>0.257</td>\n",
       "    </tr>\n",
       "  </tbody>\n",
       "</table>\n",
       "</div>"
      ],
      "text/plain": [
       "    ERA  SO_y  SV    SLG    OBP     BA\n",
       "0  3.80  1058  58  0.413  0.322  0.250\n",
       "1  3.48  1332  52  0.387  0.308  0.243\n",
       "2  4.89  1044  32  0.413  0.316  0.257"
      ]
     },
     "execution_count": 39,
     "metadata": {},
     "output_type": "execute_result"
    }
   ],
   "source": [
    "X.head(3)"
   ]
  },
  {
   "cell_type": "code",
   "execution_count": 40,
   "metadata": {
    "collapsed": true
   },
   "outputs": [],
   "source": [
    "#X.columns"
   ]
  },
  {
   "cell_type": "code",
   "execution_count": 41,
   "metadata": {
    "collapsed": true
   },
   "outputs": [],
   "source": [
    "#y"
   ]
  },
  {
   "cell_type": "code",
   "execution_count": 42,
   "metadata": {},
   "outputs": [
    {
     "name": "stdout",
     "output_type": "stream",
     "text": [
      "(432, 6) (432,)\n",
      "(108, 6) (108,)\n"
     ]
    }
   ],
   "source": [
    "X_train, X_test, y_train, y_test = train_test_split(X, y, test_size=0.2,random_state =42)\n",
    "print(X_train.shape, y_train.shape)\n",
    "print(X_test.shape, y_test.shape)"
   ]
  },
  {
   "cell_type": "code",
   "execution_count": 43,
   "metadata": {
    "collapsed": true
   },
   "outputs": [],
   "source": [
    "sc = StandardScaler()  \n",
    "X_train = sc.fit_transform(X_train)  \n",
    "X_test = sc.transform(X_test)  "
   ]
  },
  {
   "cell_type": "code",
   "execution_count": 44,
   "metadata": {
    "collapsed": true
   },
   "outputs": [],
   "source": [
    "# n_estimators refers to the number of trees in the random forest\n",
    "regressor = RandomForestRegressor(n_estimators=20, random_state=0)  \n",
    "regressor.fit(X_train, y_train)  \n",
    "y_pred = regressor.predict(X_test)  "
   ]
  },
  {
   "cell_type": "code",
   "execution_count": 45,
   "metadata": {},
   "outputs": [
    {
     "data": {
      "text/plain": [
       "array([  91.  ,   94.4 ,   76.3 ,   88.85,   72.05,   70.35,   58.  ,\n",
       "         94.2 ,   89.15,   70.85,   80.9 ,   63.25,   85.1 ,   81.25,\n",
       "         94.1 ,   86.95,   95.25,   86.1 ,   89.35,   92.85,   91.85,\n",
       "         66.55,   72.  ,   93.7 ,   63.4 ,   67.5 ,   92.95,   66.3 ,\n",
       "         75.45,   86.65,   91.1 ,   82.4 ,   85.15,   87.3 ,   87.65,\n",
       "         76.25,   74.35,   80.25,   78.5 ,   75.9 ,   86.  ,   88.85,\n",
       "         65.05,   74.85,   86.45,   92.05,   76.35,   78.15,   68.2 ,\n",
       "         85.35,   82.7 ,   89.35,   73.05,   91.6 ,   92.05,   92.45,\n",
       "         77.2 ,   69.4 ,   84.55,   78.45,   82.15,   86.75,   66.7 ,\n",
       "         87.65,   55.35,   74.05,   77.15,   67.75,   89.3 ,   81.7 ,\n",
       "         78.  ,   88.75,   93.55,   75.55,   69.9 ,   64.9 ,   93.15,\n",
       "         72.65,   92.05,   71.65,   77.3 ,   70.75,   76.35,   86.5 ,\n",
       "         89.15,   63.35,   66.05,   77.2 ,  103.9 ,   71.5 ,   87.95,\n",
       "         95.25,   77.25,   92.05,   83.15,   89.75,   87.25,   94.5 ,\n",
       "         53.  ,   83.65,   93.15,   64.5 ,   91.9 ,   95.75,   94.85,\n",
       "         63.45,   73.8 ,   93.6 ])"
      ]
     },
     "execution_count": 45,
     "metadata": {},
     "output_type": "execute_result"
    }
   ],
   "source": [
    "y_pred"
   ]
  },
  {
   "cell_type": "code",
   "execution_count": 46,
   "metadata": {},
   "outputs": [
    {
     "data": {
      "text/plain": [
       "<matplotlib.text.Text at 0x116943f60>"
      ]
     },
     "execution_count": 46,
     "metadata": {},
     "output_type": "execute_result"
    },
    {
     "data": {
      "image/png": "[encoded data removed]",
      "text/plain": [
       "<matplotlib.figure.Figure at 0x11688d5c0>"
      ]
     },
     "metadata": {},
     "output_type": "display_data"
    }
   ],
   "source": [
    "plt.scatter(y_test, y_pred)\n",
    "plt.xlabel('True Values')\n",
    "plt.ylabel('Predictions')"
   ]
  },
  {
   "cell_type": "code",
   "execution_count": 47,
   "metadata": {},
   "outputs": [
    {
     "name": "stdout",
     "output_type": "stream",
     "text": [
      "Random Forest Regressor Model 1\n",
      " root mean squared train error RMSE: 1.9667\n",
      " root mean squared test error RMSE: 4.4043\n"
     ]
    }
   ],
   "source": [
    "# print mean squared error for training and test data\n",
    "mse_train = mean_squared_error(y_train, regressor.predict(X_train))\n",
    "rmse_train = np.sqrt(mse_train)\n",
    "print('Random Forest Regressor Model 1')\n",
    "print(\" root mean squared train error RMSE: %.4f\" % rmse_train)\n",
    "mse_test = mean_squared_error(y_test,regressor.predict(X_test))\n",
    "rmse_test = np.sqrt(mse_test)\n",
    "print(\" root mean squared test error RMSE: %.4f\" % rmse_test)"
   ]
  },
  {
   "cell_type": "code",
   "execution_count": 48,
   "metadata": {},
   "outputs": [
    {
     "name": "stdout",
     "output_type": "stream",
     "text": [
      "The Training Score For Random Forest Regressor Model 1:\n",
      "0.97072404251\n",
      "\n",
      "The Test Score For Random Forest Regressor Model 1:\n",
      "0.86804835789\n",
      "\n"
     ]
    }
   ],
   "source": [
    "print(\"The Training Score For Random Forest Regressor Model 1:\")\n",
    "print(regressor.score(X_train, y_train))\n",
    "print()\n",
    "print(\"The Test Score For Random Forest Regressor Model 1:\")\n",
    "print(regressor.score(X_test, y_test))\n",
    "print()"
   ]
  },
  {
   "cell_type": "code",
   "execution_count": 49,
   "metadata": {},
   "outputs": [
    {
     "name": "stdout",
     "output_type": "stream",
     "text": [
      "(432, 4) (432,)\n",
      "(108, 4) (108,)\n"
     ]
    }
   ],
   "source": [
    "# regressor with fewer predictors\n",
    "y = df.W\n",
    "#predictors = ['ERA','25-Man','SV','OBP']\n",
    "predictors = ['ERA','SO_y','SV','SLG']\n",
    "X = df[predictors]\n",
    "\n",
    "X_train, X_test, y_train, y_test = train_test_split(X, y, test_size=0.2,random_state =42)\n",
    "print(X_train.shape, y_train.shape)\n",
    "print(X_test.shape, y_test.shape)\n",
    "\n",
    "sc = StandardScaler()  \n",
    "X_train = sc.fit_transform(X_train)  \n",
    "X_test = sc.transform(X_test)  "
   ]
  },
  {
   "cell_type": "code",
   "execution_count": 50,
   "metadata": {
    "collapsed": true
   },
   "outputs": [],
   "source": [
    "regressor2 = RandomForestRegressor(n_estimators=10, random_state=0)  \n",
    "regressor2.fit(X_train, y_train)  \n",
    "y_pred2 = regressor2.predict(X_test)"
   ]
  },
  {
   "cell_type": "code",
   "execution_count": 51,
   "metadata": {},
   "outputs": [
    {
     "data": {
      "text/plain": [
       "<matplotlib.text.Text at 0x1168abe10>"
      ]
     },
     "execution_count": 51,
     "metadata": {},
     "output_type": "execute_result"
    },
    {
     "data": {
      "image/png": "[encoded data removed]",
      "text/plain": [
       "<matplotlib.figure.Figure at 0x11694d5c0>"
      ]
     },
     "metadata": {},
     "output_type": "display_data"
    }
   ],
   "source": [
    "plt.scatter(y_test, y_pred2)\n",
    "plt.title('Random Forest Regression Model 2')\n",
    "plt.xlabel('True Values')\n",
    "plt.ylabel('Predictions')"
   ]
  },
  {
   "cell_type": "code",
   "execution_count": 52,
   "metadata": {},
   "outputs": [
    {
     "name": "stdout",
     "output_type": "stream",
     "text": [
      "Random Forest Regressor Model 2\n",
      " root mean squared train error RMSE: 2.2027\n",
      " root mean squared test error RMSE: 4.9146\n"
     ]
    }
   ],
   "source": [
    "# print mean squared error for training and test data\n",
    "mse_train = mean_squared_error(y_train, regressor2.predict(X_train))\n",
    "rmse_train = np.sqrt(mse_train)\n",
    "print('Random Forest Regressor Model 2')\n",
    "print(\" root mean squared train error RMSE: %.4f\" % rmse_train)\n",
    "mse_test = mean_squared_error(y_test,regressor2.predict(X_test))\n",
    "rmse_test = np.sqrt(mse_test)\n",
    "print(\" root mean squared test error RMSE: %.4f\" % rmse_test)"
   ]
  },
  {
   "cell_type": "code",
   "execution_count": 53,
   "metadata": {},
   "outputs": [
    {
     "name": "stdout",
     "output_type": "stream",
     "text": [
      "The Training Score For Random Forest Regressor Model 2:\n",
      "0.963276992149\n",
      "\n",
      "The Test Score For Random Forest Regressor Model 2:\n",
      "0.83570123315\n",
      "\n"
     ]
    }
   ],
   "source": [
    "print(\"The Training Score For Random Forest Regressor Model 2:\")\n",
    "print(regressor2.score(X_train, y_train))\n",
    "print()\n",
    "print(\"The Test Score For Random Forest Regressor Model 2:\")\n",
    "print(regressor2.score(X_test, y_test))\n",
    "print()"
   ]
  },
  {
   "cell_type": "code",
   "execution_count": null,
   "metadata": {
    "collapsed": true
   },
   "outputs": [],
   "source": []
  },
  {
   "cell_type": "markdown",
   "metadata": {},
   "source": [
    "## Gradient Boosting Regression"
   ]
  },
  {
   "cell_type": "code",
   "execution_count": 54,
   "metadata": {
    "collapsed": true
   },
   "outputs": [],
   "source": [
    "# define the target variable and the predictors of target\n",
    "y = df.W\n",
    "predictors = ['ERA','SV','SLG','OBP','BA']\n",
    "X = df[predictors]\n",
    "\n",
    "# split the data\n",
    "X_train, X_test, y_train, y_test = train_test_split(X, y, test_size=0.2,random_state =42)\n",
    "\n",
    "# scale the data\n",
    "sc = StandardScaler()  \n",
    "X_train = sc.fit_transform(X_train)  \n",
    "X_test = sc.transform(X_test)"
   ]
  },
  {
   "cell_type": "code",
   "execution_count": 55,
   "metadata": {},
   "outputs": [
    {
     "name": "stdout",
     "output_type": "stream",
     "text": [
      " root mean squared train error RMSE: 1.1962\n",
      " root mean squared test error RMSE: 4.1811\n"
     ]
    }
   ],
   "source": [
    "# fit the training data with gradient boosting regressor\n",
    "#params['n_estimators'] = \n",
    "\n",
    "#gradient_boosting_regressor = GradientBoostingRegressor(n_estimators = 200)\n",
    "gradient_boosting_regressor = GradientBoostingRegressor(n_estimators = 500)\n",
    "gradient_boosting_regressor.fit(X_train, y_train)\n",
    "# print mean squared error for training and test data\n",
    "mse_train = mean_squared_error(y_train, gradient_boosting_regressor.predict(X_train))\n",
    "rmse_train = np.sqrt(mse_train)\n",
    "print(\" root mean squared train error RMSE: %.4f\" % rmse_train)\n",
    "mse_test = mean_squared_error(y_test, gradient_boosting_regressor.predict(X_test))\n",
    "rmse_test = np.sqrt(mse_test)\n",
    "print(\" root mean squared test error RMSE: %.4f\" % rmse_test)"
   ]
  },
  {
   "cell_type": "code",
   "execution_count": 56,
   "metadata": {},
   "outputs": [
    {
     "name": "stdout",
     "output_type": "stream",
     "text": [
      "The Training Score For the Gradient Boosting Regressor Model 1:\n",
      "0.989169498247\n",
      "\n",
      "The Test Score For the Gradient Boosting Regressor Model 1:\n",
      "0.881084785775\n",
      "\n"
     ]
    }
   ],
   "source": [
    "print(\"The Training Score For the Gradient Boosting Regressor Model 1:\")\n",
    "print(gradient_boosting_regressor.score(X_train, y_train))\n",
    "print()\n",
    "print(\"The Test Score For the Gradient Boosting Regressor Model 1:\")\n",
    "print(gradient_boosting_regressor.score(X_test, y_test))\n",
    "print()"
   ]
  },
  {
   "cell_type": "markdown",
   "metadata": {
    "collapsed": true
   },
   "source": [
    "## CHECK FOR COLLINEARITY OF PREDICTORS"
   ]
  },
  {
   "cell_type": "markdown",
   "metadata": {},
   "source": [
    "### A simple way to detect collinearity is to look at the correlation matrix of the predictors. \n",
    "### An element of this matrix that is large in absolute value \n",
    "### indicates a pair of highly correlated variables, and therefore a collinearity problem"
   ]
  },
  {
   "cell_type": "code",
   "execution_count": 57,
   "metadata": {},
   "outputs": [
    {
     "data": {
      "text/html": [
       "<div>\n",
       "<style>\n",
       "    .dataframe thead tr:only-child th {\n",
       "        text-align: right;\n",
       "    }\n",
       "\n",
       "    .dataframe thead th {\n",
       "        text-align: left;\n",
       "    }\n",
       "\n",
       "    .dataframe tbody tr th {\n",
       "        vertical-align: top;\n",
       "    }\n",
       "</style>\n",
       "<table border=\"1\" class=\"dataframe\">\n",
       "  <thead>\n",
       "    <tr style=\"text-align: right;\">\n",
       "      <th></th>\n",
       "      <th>ERA</th>\n",
       "      <th>SO_y</th>\n",
       "      <th>SV</th>\n",
       "      <th>SLG</th>\n",
       "      <th>OBP</th>\n",
       "      <th>BA</th>\n",
       "    </tr>\n",
       "  </thead>\n",
       "  <tbody>\n",
       "    <tr>\n",
       "      <th>0</th>\n",
       "      <td>3.80</td>\n",
       "      <td>1058</td>\n",
       "      <td>58</td>\n",
       "      <td>0.413</td>\n",
       "      <td>0.322</td>\n",
       "      <td>0.250</td>\n",
       "    </tr>\n",
       "    <tr>\n",
       "      <th>1</th>\n",
       "      <td>3.48</td>\n",
       "      <td>1332</td>\n",
       "      <td>52</td>\n",
       "      <td>0.387</td>\n",
       "      <td>0.308</td>\n",
       "      <td>0.243</td>\n",
       "    </tr>\n",
       "    <tr>\n",
       "      <th>2</th>\n",
       "      <td>4.89</td>\n",
       "      <td>1044</td>\n",
       "      <td>32</td>\n",
       "      <td>0.413</td>\n",
       "      <td>0.316</td>\n",
       "      <td>0.257</td>\n",
       "    </tr>\n",
       "    <tr>\n",
       "      <th>3</th>\n",
       "      <td>4.20</td>\n",
       "      <td>1213</td>\n",
       "      <td>36</td>\n",
       "      <td>0.461</td>\n",
       "      <td>0.349</td>\n",
       "      <td>0.280</td>\n",
       "    </tr>\n",
       "    <tr>\n",
       "      <th>4</th>\n",
       "      <td>4.33</td>\n",
       "      <td>1224</td>\n",
       "      <td>40</td>\n",
       "      <td>0.401</td>\n",
       "      <td>0.314</td>\n",
       "      <td>0.256</td>\n",
       "    </tr>\n",
       "  </tbody>\n",
       "</table>\n",
       "</div>"
      ],
      "text/plain": [
       "    ERA  SO_y  SV    SLG    OBP     BA\n",
       "0  3.80  1058  58  0.413  0.322  0.250\n",
       "1  3.48  1332  52  0.387  0.308  0.243\n",
       "2  4.89  1044  32  0.413  0.316  0.257\n",
       "3  4.20  1213  36  0.461  0.349  0.280\n",
       "4  4.33  1224  40  0.401  0.314  0.256"
      ]
     },
     "execution_count": 57,
     "metadata": {},
     "output_type": "execute_result"
    }
   ],
   "source": [
    "#df2 = df[[ 'OPS+','RBI','ERA+','25-Man','SV']]\n",
    "#predictors = ['ERA','25-Man','SV','SLG','OBP','BA']\n",
    "#df2 = df[[ 'OPS+','RBI','ERA','25-Man','SV','SLG']]\n",
    "df2 = df[['ERA','SO_y','SV','SLG','OBP','BA']]\n",
    "df2.head()"
   ]
  },
  {
   "cell_type": "code",
   "execution_count": 58,
   "metadata": {},
   "outputs": [
    {
     "data": {
      "text/html": [
       "<div>\n",
       "<style>\n",
       "    .dataframe thead tr:only-child th {\n",
       "        text-align: right;\n",
       "    }\n",
       "\n",
       "    .dataframe thead th {\n",
       "        text-align: left;\n",
       "    }\n",
       "\n",
       "    .dataframe tbody tr th {\n",
       "        vertical-align: top;\n",
       "    }\n",
       "</style>\n",
       "<table border=\"1\" class=\"dataframe\">\n",
       "  <thead>\n",
       "    <tr style=\"text-align: right;\">\n",
       "      <th></th>\n",
       "      <th>ERA</th>\n",
       "      <th>SO_y</th>\n",
       "      <th>SV</th>\n",
       "      <th>SLG</th>\n",
       "      <th>OBP</th>\n",
       "      <th>BA</th>\n",
       "    </tr>\n",
       "  </thead>\n",
       "  <tbody>\n",
       "    <tr>\n",
       "      <th>ERA</th>\n",
       "      <td>1.000000</td>\n",
       "      <td>-0.521396</td>\n",
       "      <td>-0.536422</td>\n",
       "      <td>0.186122</td>\n",
       "      <td>0.081984</td>\n",
       "      <td>0.188281</td>\n",
       "    </tr>\n",
       "    <tr>\n",
       "      <th>SO_y</th>\n",
       "      <td>-0.521396</td>\n",
       "      <td>1.000000</td>\n",
       "      <td>0.255753</td>\n",
       "      <td>-0.044779</td>\n",
       "      <td>-0.185448</td>\n",
       "      <td>-0.288269</td>\n",
       "    </tr>\n",
       "    <tr>\n",
       "      <th>SV</th>\n",
       "      <td>-0.536422</td>\n",
       "      <td>0.255753</td>\n",
       "      <td>1.000000</td>\n",
       "      <td>0.105109</td>\n",
       "      <td>0.094542</td>\n",
       "      <td>0.043282</td>\n",
       "    </tr>\n",
       "    <tr>\n",
       "      <th>SLG</th>\n",
       "      <td>0.186122</td>\n",
       "      <td>-0.044779</td>\n",
       "      <td>0.105109</td>\n",
       "      <td>1.000000</td>\n",
       "      <td>0.750685</td>\n",
       "      <td>0.708654</td>\n",
       "    </tr>\n",
       "    <tr>\n",
       "      <th>OBP</th>\n",
       "      <td>0.081984</td>\n",
       "      <td>-0.185448</td>\n",
       "      <td>0.094542</td>\n",
       "      <td>0.750685</td>\n",
       "      <td>1.000000</td>\n",
       "      <td>0.838311</td>\n",
       "    </tr>\n",
       "    <tr>\n",
       "      <th>BA</th>\n",
       "      <td>0.188281</td>\n",
       "      <td>-0.288269</td>\n",
       "      <td>0.043282</td>\n",
       "      <td>0.708654</td>\n",
       "      <td>0.838311</td>\n",
       "      <td>1.000000</td>\n",
       "    </tr>\n",
       "  </tbody>\n",
       "</table>\n",
       "</div>"
      ],
      "text/plain": [
       "           ERA      SO_y        SV       SLG       OBP        BA\n",
       "ERA   1.000000 -0.521396 -0.536422  0.186122  0.081984  0.188281\n",
       "SO_y -0.521396  1.000000  0.255753 -0.044779 -0.185448 -0.288269\n",
       "SV   -0.536422  0.255753  1.000000  0.105109  0.094542  0.043282\n",
       "SLG   0.186122 -0.044779  0.105109  1.000000  0.750685  0.708654\n",
       "OBP   0.081984 -0.185448  0.094542  0.750685  1.000000  0.838311\n",
       "BA    0.188281 -0.288269  0.043282  0.708654  0.838311  1.000000"
      ]
     },
     "execution_count": 58,
     "metadata": {},
     "output_type": "execute_result"
    }
   ],
   "source": [
    "df2.corr()"
   ]
  },
  {
   "cell_type": "code",
   "execution_count": null,
   "metadata": {
    "collapsed": true
   },
   "outputs": [],
   "source": []
  },
  {
   "cell_type": "code",
   "execution_count": 59,
   "metadata": {
    "collapsed": true
   },
   "outputs": [],
   "source": [
    "# Based on the above correlation matrix, SV is moderately negatively correlated with ERA\n",
    "# SLG, OBP & BA are all highly correlated with each other"
   ]
  }
 ],
 "metadata": {
  "kernelspec": {
   "display_name": "Python [default]",
   "language": "python",
   "name": "python3"
  },
  "language_info": {
   "codemirror_mode": {
    "name": "ipython",
    "version": 3
   },
   "file_extension": ".py",
   "mimetype": "text/x-python",
   "name": "python",
   "nbconvert_exporter": "python",
   "pygments_lexer": "ipython3",
   "version": "3.6.0"
  }
 },
 "nbformat": 4,
 "nbformat_minor": 2
}
