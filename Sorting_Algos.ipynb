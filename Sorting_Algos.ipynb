{
 "cells": [
  {
   "cell_type": "code",
   "execution_count": 1,
   "metadata": {},
   "outputs": [],
   "source": [
    "def swap(arr, firstIndex, secondIndex):\n",
    "    \n",
    "    first_original = arr[firstIndex]\n",
    "    second_original = arr[secondIndex]\n",
    "    arr[firstIndex] = second_original\n",
    "    arr[secondIndex] = first_original\n",
    "    \n",
    "    "
   ]
  },
  {
   "cell_type": "code",
   "execution_count": 2,
   "metadata": {},
   "outputs": [],
   "source": [
    "def swap_2(arr, firstIndex, secondIndex):\n",
    "    # uses only one temp variable\n",
    "    temp = arr[firstIndex]\n",
    "    arr[firstIndex] = arr[secondIndex]\n",
    "    arr[secondIndex] = temp\n",
    "    "
   ]
  },
  {
   "cell_type": "code",
   "execution_count": 3,
   "metadata": {},
   "outputs": [],
   "source": [
    "def swap_3(arr, firstIndex, secondIndex):\n",
    "    # uses NO temp variable, the magic of Python!\n",
    "    arr[firstIndex],arr[secondIndex] = arr[secondIndex],arr[firstIndex]\n",
    "    "
   ]
  },
  {
   "cell_type": "code",
   "execution_count": 4,
   "metadata": {},
   "outputs": [
    {
     "name": "stdout",
     "output_type": "stream",
     "text": [
      "[1, 2, 3, 4, 5, 6, 7, 8, 9]\n"
     ]
    }
   ],
   "source": [
    "my_list = [1,2,3,4,5,6,7,8,9]\n",
    "\n",
    "print(my_list)"
   ]
  },
  {
   "cell_type": "code",
   "execution_count": 5,
   "metadata": {},
   "outputs": [],
   "source": [
    "#swap(my_list,0, 8)\n",
    "#swap_2(my_list,2, 3)\n",
    "swap_3(my_list,0, 8)"
   ]
  },
  {
   "cell_type": "code",
   "execution_count": 6,
   "metadata": {},
   "outputs": [
    {
     "name": "stdout",
     "output_type": "stream",
     "text": [
      "[9, 2, 3, 4, 5, 6, 7, 8, 1]\n"
     ]
    }
   ],
   "source": [
    "print(my_list)"
   ]
  },
  {
   "cell_type": "code",
   "execution_count": 7,
   "metadata": {},
   "outputs": [],
   "source": [
    "def index_Of_Minimum(arr,start_index):\n",
    "    '''Find index of minimum value in a subarray'''\n",
    "    minValue = arr[start_index]\n",
    "    min_index = start_index\n",
    "    # Loop over items starting with startIndex, \n",
    "    # updating minValue and minIndex as needed:\n",
    "    for idx in range(start_index, len(arr)):\n",
    "        if arr[idx] < minValue:\n",
    "            minValue = arr[idx]\n",
    "            min_index = arr.index(minValue)\n",
    "            \n",
    "    return minValue, min_index\n",
    "        "
   ]
  },
  {
   "cell_type": "code",
   "execution_count": 8,
   "metadata": {},
   "outputs": [],
   "source": [
    "#my_list2 = [6,5,3,2,4,1]\n",
    "my_list2 = [1,-2,3]\n",
    "\n",
    "min_value, mini_index = index_Of_Minimum(my_list2,0)"
   ]
  },
  {
   "cell_type": "code",
   "execution_count": 9,
   "metadata": {},
   "outputs": [
    {
     "name": "stdout",
     "output_type": "stream",
     "text": [
      "-2\n",
      "\n",
      "1\n"
     ]
    }
   ],
   "source": [
    "print(min_value)\n",
    "print()\n",
    "print(mini_index)"
   ]
  },
  {
   "cell_type": "markdown",
   "metadata": {},
   "source": [
    "## Selection Sorting"
   ]
  },
  {
   "cell_type": "code",
   "execution_count": 10,
   "metadata": {},
   "outputs": [],
   "source": [
    "def proto_sort(arr,start_index):\n",
    "    '''Find index of minimum value in a subarray for Selection sorting'''\n",
    "    minValue = arr[start_index]\n",
    "    min_index = start_index\n",
    "    # Loop over items starting with startIndex, \n",
    "    # updating minValue and minIndex as needed:\n",
    "    for idx in range(start_index, len(arr)):\n",
    "        if arr[idx] < minValue:\n",
    "            minValue = arr[idx]\n",
    "            min_index = idx\n",
    "    # swap start index value with lowest min value if necessary\n",
    "    arr[start_index],arr[min_index] = arr[min_index],arr[start_index]\n",
    "    "
   ]
  },
  {
   "cell_type": "code",
   "execution_count": 11,
   "metadata": {},
   "outputs": [
    {
     "name": "stdout",
     "output_type": "stream",
     "text": [
      "[2, 3, 1]\n"
     ]
    }
   ],
   "source": [
    "my_list2 = [2,3,1]\n",
    "\n",
    "print(my_list2)"
   ]
  },
  {
   "cell_type": "code",
   "execution_count": 12,
   "metadata": {},
   "outputs": [],
   "source": [
    "proto_sort(my_list2,0)"
   ]
  },
  {
   "cell_type": "code",
   "execution_count": 13,
   "metadata": {},
   "outputs": [
    {
     "name": "stdout",
     "output_type": "stream",
     "text": [
      "[1, 3, 2]\n"
     ]
    }
   ],
   "source": [
    "print(my_list2)"
   ]
  },
  {
   "cell_type": "code",
   "execution_count": 14,
   "metadata": {},
   "outputs": [],
   "source": [
    "proto_sort(my_list2,1)"
   ]
  },
  {
   "cell_type": "code",
   "execution_count": 15,
   "metadata": {},
   "outputs": [
    {
     "name": "stdout",
     "output_type": "stream",
     "text": [
      "[1, 2, 3]\n"
     ]
    }
   ],
   "source": [
    "print(my_list2)"
   ]
  },
  {
   "cell_type": "code",
   "execution_count": 16,
   "metadata": {},
   "outputs": [
    {
     "name": "stdout",
     "output_type": "stream",
     "text": [
      "[2, 3, 1, 5, 4]\n"
     ]
    }
   ],
   "source": [
    "my_list_3 = [2,3,1,5,4]\n",
    "\n",
    "print(my_list_3)"
   ]
  },
  {
   "cell_type": "code",
   "execution_count": 17,
   "metadata": {},
   "outputs": [],
   "source": [
    "for idx in range(0,len(my_list_3)):\n",
    "    proto_sort(my_list_3,idx)"
   ]
  },
  {
   "cell_type": "code",
   "execution_count": 18,
   "metadata": {},
   "outputs": [
    {
     "name": "stdout",
     "output_type": "stream",
     "text": [
      "[1, 2, 3, 4, 5]\n"
     ]
    }
   ],
   "source": [
    "print(my_list_3)"
   ]
  },
  {
   "cell_type": "code",
   "execution_count": 19,
   "metadata": {},
   "outputs": [],
   "source": [
    "def prototype_selection_sort(arr):\n",
    "    # call the function, proto_sort\n",
    "    # in a loop for entire array\n",
    "    for idx in range(0,len(arr)):\n",
    "        proto_sort(arr,idx)"
   ]
  },
  {
   "cell_type": "code",
   "execution_count": 20,
   "metadata": {},
   "outputs": [
    {
     "name": "stdout",
     "output_type": "stream",
     "text": [
      "[2, 3, 1, 5, 6, 4]\n"
     ]
    }
   ],
   "source": [
    "my_list_3 = [2,3,1,5,6,4]\n",
    "\n",
    "print(my_list_3)"
   ]
  },
  {
   "cell_type": "code",
   "execution_count": 21,
   "metadata": {},
   "outputs": [],
   "source": [
    "prototype_selection_sort(my_list_3)"
   ]
  },
  {
   "cell_type": "code",
   "execution_count": 22,
   "metadata": {},
   "outputs": [
    {
     "name": "stdout",
     "output_type": "stream",
     "text": [
      "[1, 2, 3, 4, 5, 6]\n"
     ]
    }
   ],
   "source": [
    "print(my_list_3)"
   ]
  },
  {
   "cell_type": "code",
   "execution_count": 23,
   "metadata": {},
   "outputs": [],
   "source": [
    "my_list_3 = [10,7,8,9,2,3,1,5,6,4]"
   ]
  },
  {
   "cell_type": "code",
   "execution_count": 24,
   "metadata": {},
   "outputs": [
    {
     "name": "stdout",
     "output_type": "stream",
     "text": [
      "CPU times: user 25 µs, sys: 1 µs, total: 26 µs\n",
      "Wall time: 28.8 µs\n"
     ]
    }
   ],
   "source": [
    "%%time\n",
    "prototype_selection_sort(my_list_3)"
   ]
  },
  {
   "cell_type": "code",
   "execution_count": 25,
   "metadata": {},
   "outputs": [
    {
     "name": "stdout",
     "output_type": "stream",
     "text": [
      "[1, 2, 3, 4, 5, 6, 7, 8, 9, 10]\n"
     ]
    }
   ],
   "source": [
    "print(my_list_3)"
   ]
  },
  {
   "cell_type": "code",
   "execution_count": 26,
   "metadata": {},
   "outputs": [],
   "source": [
    "my_list_3 = [10,7,8,9,2,3,1,5,6,4]"
   ]
  },
  {
   "cell_type": "code",
   "execution_count": 27,
   "metadata": {},
   "outputs": [
    {
     "name": "stdout",
     "output_type": "stream",
     "text": [
      "CPU times: user 9 µs, sys: 4 µs, total: 13 µs\n",
      "Wall time: 64.8 µs\n"
     ]
    }
   ],
   "source": [
    "%%time\n",
    "my_list_3.sort()"
   ]
  },
  {
   "cell_type": "code",
   "execution_count": 28,
   "metadata": {},
   "outputs": [
    {
     "name": "stdout",
     "output_type": "stream",
     "text": [
      "[1, 2, 3, 4, 5, 6, 7, 8, 9, 10]\n"
     ]
    }
   ],
   "source": [
    "print(my_list_3)"
   ]
  },
  {
   "cell_type": "code",
   "execution_count": 29,
   "metadata": {},
   "outputs": [],
   "source": [
    "def prototype_sort_2(arr):\n",
    "    '''Find index of minimum value in a subarray'''\n",
    "    # This is an attempt to streamline the previous version of prototype_sort\n",
    "    # Will avoid calling another function and rely on built-in python methods\n",
    "    # like min() and list.index()\n",
    "    minValue = 0 # placeholder value\n",
    "    min_index = 0 # placeholder value\n",
    "    # Loop over list values \n",
    "    # updating minValue and minIndex as needed:\n",
    "    for idx in range(0, len(arr)):\n",
    "        minValue = min(arr[idx:])\n",
    "        min_index = arr.index(minValue)\n",
    "        # swap start index value with lowest min value if necessary\n",
    "        arr[idx],arr[min_index] = arr[min_index],arr[idx]\n",
    "    "
   ]
  },
  {
   "cell_type": "code",
   "execution_count": 30,
   "metadata": {},
   "outputs": [
    {
     "name": "stdout",
     "output_type": "stream",
     "text": [
      "[10, 7, 8, 9, 2, 3, 1, 5, 6, 4]\n"
     ]
    }
   ],
   "source": [
    "my_list_3 = [10,7,8,9,2,3,1,5,6,4]\n",
    "\n",
    "print(my_list_3)"
   ]
  },
  {
   "cell_type": "code",
   "execution_count": 31,
   "metadata": {},
   "outputs": [],
   "source": [
    "prototype_sort_2(my_list_3)"
   ]
  },
  {
   "cell_type": "code",
   "execution_count": 32,
   "metadata": {},
   "outputs": [
    {
     "name": "stdout",
     "output_type": "stream",
     "text": [
      "[1, 2, 3, 4, 5, 6, 7, 8, 9, 10]\n"
     ]
    }
   ],
   "source": [
    "print(my_list_3)"
   ]
  },
  {
   "cell_type": "code",
   "execution_count": 33,
   "metadata": {},
   "outputs": [],
   "source": [
    "my_list_3 = [10,7,8,9,2,3,1,5,6,4]\n"
   ]
  },
  {
   "cell_type": "code",
   "execution_count": 34,
   "metadata": {},
   "outputs": [
    {
     "name": "stdout",
     "output_type": "stream",
     "text": [
      "CPU times: user 23 µs, sys: 1 µs, total: 24 µs\n",
      "Wall time: 26.9 µs\n"
     ]
    }
   ],
   "source": [
    "%%time\n",
    "prototype_sort_2(my_list_3)"
   ]
  },
  {
   "cell_type": "markdown",
   "metadata": {},
   "source": [
    "## Insertion Sort Stuff"
   ]
  },
  {
   "cell_type": "code",
   "execution_count": 35,
   "metadata": {},
   "outputs": [],
   "source": [
    "# function is a stepping stone to implementing an insertion sort algo in code\n",
    "\n",
    "def step_n_slide(arr,key):\n",
    "    # swaps two values of an array: the key index and key -1\n",
    "    # if value at index key, arr[key] < arr[key-1],\n",
    "    # swap values else do nothing\n",
    "    \n",
    "    if arr[key] < arr[key -1]:\n",
    "        arr[key],arr[key -1] = arr[key -1], arr[key]\n",
    "    "
   ]
  },
  {
   "cell_type": "code",
   "execution_count": 36,
   "metadata": {},
   "outputs": [],
   "source": [
    "# function is a stepping stone to implementing an insertion sort algo in code\n",
    "\n",
    "def step_n_slide_2(arr,key):\n",
    "    # swaps two values of an array: the key index and key -1\n",
    "    # if value at index key, arr[key] < arr[key-1],\n",
    "    # swap values else do nothing\n",
    "    \n",
    "    while key >=0:\n",
    "        print('key: ' + str(key))\n",
    "        print(arr[key])\n",
    "        print(arr)\n",
    "        print()\n",
    "        if arr[key] < arr[key -1]:\n",
    "            arr[key],arr[key -1] = arr[key -1], arr[key]\n",
    "            \n",
    "        key = key -1\n",
    "    "
   ]
  },
  {
   "cell_type": "code",
   "execution_count": 37,
   "metadata": {},
   "outputs": [
    {
     "name": "stdout",
     "output_type": "stream",
     "text": [
      "[3, 2, 1]\n",
      "[2, 3, 1]\n"
     ]
    }
   ],
   "source": [
    "#hug = [10,7,8,9,2,3,1,5,6,4]\n",
    "hug = [3,2,1]\n",
    "print(hug)\n",
    "key = 1\n",
    "step_n_slide(hug,key)\n",
    "print(hug)"
   ]
  },
  {
   "cell_type": "code",
   "execution_count": 38,
   "metadata": {},
   "outputs": [
    {
     "name": "stdout",
     "output_type": "stream",
     "text": [
      "[3, 2, 1]\n",
      "key: 1\n",
      "2\n",
      "[3, 2, 1]\n",
      "\n",
      "key: 0\n",
      "2\n",
      "[2, 3, 1]\n",
      "\n",
      "[2, 3, 1]\n"
     ]
    }
   ],
   "source": [
    "hug = [3,2,1]\n",
    "print(hug)\n",
    "\n",
    "key = 1\n",
    "step_n_slide_2(hug,key)\n",
    "print(hug)\n"
   ]
  },
  {
   "cell_type": "code",
   "execution_count": 39,
   "metadata": {},
   "outputs": [
    {
     "name": "stdout",
     "output_type": "stream",
     "text": [
      "[3, 2, 1]\n",
      "key: 2\n",
      "1\n",
      "[3, 2, 1]\n",
      "\n",
      "key: 1\n",
      "1\n",
      "[3, 1, 2]\n",
      "\n",
      "key: 0\n",
      "1\n",
      "[1, 3, 2]\n",
      "\n",
      "[2, 3, 1]\n"
     ]
    }
   ],
   "source": [
    "hug = [3,2,1]\n",
    "print(hug)\n",
    "\n",
    "key = 2\n",
    "step_n_slide_2(hug,key)\n",
    "\n",
    "print(hug)\n"
   ]
  },
  {
   "cell_type": "code",
   "execution_count": 40,
   "metadata": {},
   "outputs": [
    {
     "name": "stdout",
     "output_type": "stream",
     "text": [
      "1\n"
     ]
    }
   ],
   "source": [
    "print(hug[key])"
   ]
  },
  {
   "cell_type": "code",
   "execution_count": 41,
   "metadata": {},
   "outputs": [
    {
     "name": "stdout",
     "output_type": "stream",
     "text": [
      "[2, 3, 1]\n"
     ]
    }
   ],
   "source": [
    "print(hug)"
   ]
  },
  {
   "cell_type": "code",
   "execution_count": 42,
   "metadata": {},
   "outputs": [
    {
     "name": "stdout",
     "output_type": "stream",
     "text": [
      "[2, 3, 1]\n"
     ]
    }
   ],
   "source": [
    "print(hug)"
   ]
  },
  {
   "cell_type": "markdown",
   "metadata": {},
   "source": [
    "## Success! step_n_slide works as intended!"
   ]
  },
  {
   "cell_type": "code",
   "execution_count": 43,
   "metadata": {},
   "outputs": [],
   "source": [
    "hug = [10,7,3,13,2,8,5]"
   ]
  },
  {
   "cell_type": "code",
   "execution_count": 44,
   "metadata": {},
   "outputs": [],
   "source": [
    "key = 1\n",
    "step_n_slide(hug,key)"
   ]
  },
  {
   "cell_type": "code",
   "execution_count": 45,
   "metadata": {},
   "outputs": [
    {
     "name": "stdout",
     "output_type": "stream",
     "text": [
      "[7, 10, 3, 13, 2, 8, 5]\n"
     ]
    }
   ],
   "source": [
    "print(hug)"
   ]
  },
  {
   "cell_type": "code",
   "execution_count": 46,
   "metadata": {},
   "outputs": [],
   "source": [
    "key = 2\n",
    "step_n_slide(hug,key)"
   ]
  },
  {
   "cell_type": "code",
   "execution_count": 47,
   "metadata": {},
   "outputs": [
    {
     "name": "stdout",
     "output_type": "stream",
     "text": [
      "[7, 3, 10, 13, 2, 8, 5]\n"
     ]
    }
   ],
   "source": [
    "print(hug)"
   ]
  },
  {
   "cell_type": "code",
   "execution_count": 48,
   "metadata": {},
   "outputs": [
    {
     "name": "stdout",
     "output_type": "stream",
     "text": [
      "[7, 3, 10, 13, 2, 8, 5]\n"
     ]
    }
   ],
   "source": [
    "key = 3\n",
    "step_n_slide(hug,key)\n",
    "print(hug)"
   ]
  },
  {
   "cell_type": "code",
   "execution_count": 49,
   "metadata": {},
   "outputs": [
    {
     "name": "stdout",
     "output_type": "stream",
     "text": [
      "[7, 3, 10, 2, 13, 8, 5]\n"
     ]
    }
   ],
   "source": [
    "key = 4\n",
    "step_n_slide(hug,key)\n",
    "print(hug)"
   ]
  },
  {
   "cell_type": "code",
   "execution_count": 50,
   "metadata": {},
   "outputs": [
    {
     "name": "stdout",
     "output_type": "stream",
     "text": [
      "[7, 3, 10, 2, 8, 13, 5]\n"
     ]
    }
   ],
   "source": [
    "key = 5\n",
    "step_n_slide(hug,key)\n",
    "print(hug)"
   ]
  },
  {
   "cell_type": "code",
   "execution_count": 51,
   "metadata": {},
   "outputs": [],
   "source": [
    "def proto_insert_sort(arr):\n",
    "    for idx in range(2,len(arr)):\n",
    "        #apply step_n_slide function over & over\n",
    "        step_n_slide(arr,idx)"
   ]
  },
  {
   "cell_type": "code",
   "execution_count": 52,
   "metadata": {},
   "outputs": [
    {
     "name": "stdout",
     "output_type": "stream",
     "text": [
      "[10, 7, 3, 13, 2, 8, 5]\n"
     ]
    }
   ],
   "source": [
    "hug = [10,7,3,13,2,8,5]\n",
    "\n",
    "print(hug)"
   ]
  },
  {
   "cell_type": "code",
   "execution_count": 53,
   "metadata": {},
   "outputs": [],
   "source": [
    "proto_insert_sort(hug)"
   ]
  },
  {
   "cell_type": "code",
   "execution_count": 54,
   "metadata": {},
   "outputs": [
    {
     "name": "stdout",
     "output_type": "stream",
     "text": [
      "[10, 3, 7, 2, 8, 5, 13]\n"
     ]
    }
   ],
   "source": [
    "print(hug)"
   ]
  },
  {
   "cell_type": "code",
   "execution_count": 55,
   "metadata": {},
   "outputs": [],
   "source": [
    "def prototype_insert_sort(arr,key_index):\n",
    "    #assert key_index >=1 and key_index <= len(arr), \"key_index must be greater than zero and less than equal to the length of rhe array\"\n",
    "    while (key_index > 0) and (arr[key_index] < arr[key_index - 1]):\n",
    "        # swap array values if arr[key_index] less than arr[key_index - 1]\n",
    "        arr[key_index],arr[key_index - 1] = arr[key_index - 1],arr[key_index]\n",
    "        # decrement key_index value by 1 \n",
    "        key_index -= 1\n",
    "    "
   ]
  },
  {
   "cell_type": "code",
   "execution_count": 56,
   "metadata": {},
   "outputs": [
    {
     "name": "stdout",
     "output_type": "stream",
     "text": [
      "[2, 3, 1]\n"
     ]
    }
   ],
   "source": [
    "hug = [2,3,1]\n",
    "\n",
    "print(hug)"
   ]
  },
  {
   "cell_type": "code",
   "execution_count": 57,
   "metadata": {},
   "outputs": [
    {
     "name": "stdout",
     "output_type": "stream",
     "text": [
      "[1, 2, 3]\n"
     ]
    }
   ],
   "source": [
    "prototype_insert_sort(hug,2)\n",
    "\n",
    "print(hug)"
   ]
  },
  {
   "cell_type": "code",
   "execution_count": 58,
   "metadata": {},
   "outputs": [
    {
     "name": "stdout",
     "output_type": "stream",
     "text": [
      "[3, 2, 1]\n"
     ]
    }
   ],
   "source": [
    "hug = [3,2,1]\n",
    "\n",
    "print(hug)"
   ]
  },
  {
   "cell_type": "code",
   "execution_count": 59,
   "metadata": {},
   "outputs": [
    {
     "name": "stdout",
     "output_type": "stream",
     "text": [
      "[2, 3, 1]\n"
     ]
    }
   ],
   "source": [
    "prototype_insert_sort(hug,1)\n",
    "\n",
    "print(hug)"
   ]
  },
  {
   "cell_type": "code",
   "execution_count": 60,
   "metadata": {},
   "outputs": [
    {
     "name": "stdout",
     "output_type": "stream",
     "text": [
      "[1, 2, 3]\n"
     ]
    }
   ],
   "source": [
    "prototype_insert_sort(hug,2)\n",
    "\n",
    "print(hug)"
   ]
  },
  {
   "cell_type": "code",
   "execution_count": 61,
   "metadata": {},
   "outputs": [
    {
     "name": "stdout",
     "output_type": "stream",
     "text": [
      "Before:\n",
      "[3, 2, 1]\n",
      "\n",
      "After:\n",
      "[1, 3, 2]\n"
     ]
    }
   ],
   "source": [
    "hug = [3,2,1]\n",
    "\n",
    "print('Before:')\n",
    "print(hug)\n",
    "print()\n",
    "\n",
    "prototype_insert_sort(hug,2)\n",
    "print('After:')\n",
    "print(hug)"
   ]
  },
  {
   "cell_type": "code",
   "execution_count": 62,
   "metadata": {},
   "outputs": [],
   "source": [
    "def my_insertion_sort(arr):\n",
    "    # Insertion sorting using previous function: prototype_insert_sort(arr,key_idx)\n",
    "    for key_idx in range(1,len(arr)):\n",
    "        # starting from key index value of 1,increase key index by and sort using prototyp_insert_sort\n",
    "        #apply prototype_insert_sort function over & over\n",
    "        prototype_insert_sort(arr,key_idx)\n",
    "        "
   ]
  },
  {
   "cell_type": "code",
   "execution_count": 63,
   "metadata": {},
   "outputs": [
    {
     "name": "stdout",
     "output_type": "stream",
     "text": [
      "Before:\n",
      "[5, 4, 3, 2, 1]\n",
      "\n"
     ]
    }
   ],
   "source": [
    "hug = [5,4,3,2,1]\n",
    "\n",
    "print('Before:')\n",
    "print(hug)\n",
    "print()"
   ]
  },
  {
   "cell_type": "code",
   "execution_count": 64,
   "metadata": {},
   "outputs": [
    {
     "name": "stdout",
     "output_type": "stream",
     "text": [
      "After:\n",
      "[1, 2, 3, 4, 5]\n",
      "\n"
     ]
    }
   ],
   "source": [
    "my_insertion_sort(hug)\n",
    "print('After:')\n",
    "print(hug)\n",
    "print()"
   ]
  },
  {
   "cell_type": "code",
   "execution_count": 65,
   "metadata": {},
   "outputs": [],
   "source": [
    "hug = [6,5,4,3,2,1]"
   ]
  },
  {
   "cell_type": "code",
   "execution_count": 66,
   "metadata": {},
   "outputs": [
    {
     "name": "stdout",
     "output_type": "stream",
     "text": [
      "CPU times: user 5 µs, sys: 1e+03 ns, total: 6 µs\n",
      "Wall time: 9.06 µs\n"
     ]
    }
   ],
   "source": [
    "%%time\n",
    "hug.sort()"
   ]
  },
  {
   "cell_type": "code",
   "execution_count": 67,
   "metadata": {},
   "outputs": [
    {
     "name": "stdout",
     "output_type": "stream",
     "text": [
      "[1, 2, 3, 4, 5, 6]\n"
     ]
    }
   ],
   "source": [
    "print(hug)"
   ]
  },
  {
   "cell_type": "code",
   "execution_count": 68,
   "metadata": {},
   "outputs": [],
   "source": [
    "hug = [6,5,4,3,2,1]"
   ]
  },
  {
   "cell_type": "code",
   "execution_count": 69,
   "metadata": {},
   "outputs": [
    {
     "name": "stdout",
     "output_type": "stream",
     "text": [
      "CPU times: user 18 µs, sys: 0 ns, total: 18 µs\n",
      "Wall time: 22.2 µs\n"
     ]
    }
   ],
   "source": [
    "%%time\n",
    "my_insertion_sort(hug)"
   ]
  },
  {
   "cell_type": "code",
   "execution_count": 70,
   "metadata": {},
   "outputs": [
    {
     "name": "stdout",
     "output_type": "stream",
     "text": [
      "[1, 2, 3, 4, 5, 6]\n"
     ]
    }
   ],
   "source": [
    "print(hug)"
   ]
  },
  {
   "cell_type": "markdown",
   "metadata": {},
   "source": [
    "## Comparison of Selection Sort vs. Insertion Sort"
   ]
  },
  {
   "cell_type": "code",
   "execution_count": 71,
   "metadata": {},
   "outputs": [
    {
     "name": "stdout",
     "output_type": "stream",
     "text": [
      "[10, 7, 8, 9, 2, 3, 1, 5, 6, 4]\n"
     ]
    }
   ],
   "source": [
    "# compare selection sort with insertion sort times\n",
    "my_list_3 = [10,7,8,9,2,3,1,5,6,4]\n",
    "\n",
    "print(my_list_3)"
   ]
  },
  {
   "cell_type": "markdown",
   "metadata": {},
   "source": [
    "# Selection Sort Time"
   ]
  },
  {
   "cell_type": "code",
   "execution_count": 72,
   "metadata": {},
   "outputs": [
    {
     "name": "stdout",
     "output_type": "stream",
     "text": [
      "CPU times: user 30 µs, sys: 0 ns, total: 30 µs\n",
      "Wall time: 35 µs\n"
     ]
    }
   ],
   "source": [
    "%%time\n",
    "prototype_selection_sort(my_list_3)"
   ]
  },
  {
   "cell_type": "code",
   "execution_count": 73,
   "metadata": {},
   "outputs": [
    {
     "name": "stdout",
     "output_type": "stream",
     "text": [
      "[1, 2, 3, 4, 5, 6, 7, 8, 9, 10]\n"
     ]
    }
   ],
   "source": [
    "print(my_list_3)"
   ]
  },
  {
   "cell_type": "markdown",
   "metadata": {},
   "source": [
    "## Insertion Sort Time"
   ]
  },
  {
   "cell_type": "code",
   "execution_count": 74,
   "metadata": {},
   "outputs": [
    {
     "name": "stdout",
     "output_type": "stream",
     "text": [
      "[10, 7, 8, 9, 2, 3, 1, 5, 6, 4]\n"
     ]
    }
   ],
   "source": [
    "my_list_3 = [10,7,8,9,2,3,1,5,6,4]\n",
    "\n",
    "print(my_list_3)"
   ]
  },
  {
   "cell_type": "code",
   "execution_count": 75,
   "metadata": {},
   "outputs": [
    {
     "name": "stdout",
     "output_type": "stream",
     "text": [
      "CPU times: user 32 µs, sys: 1 µs, total: 33 µs\n",
      "Wall time: 35.8 µs\n"
     ]
    }
   ],
   "source": [
    "%%time\n",
    "my_insertion_sort(my_list_3)"
   ]
  },
  {
   "cell_type": "code",
   "execution_count": 76,
   "metadata": {},
   "outputs": [
    {
     "name": "stdout",
     "output_type": "stream",
     "text": [
      "[1, 2, 3, 4, 5, 6, 7, 8, 9, 10]\n"
     ]
    }
   ],
   "source": [
    "print(my_list_3)"
   ]
  },
  {
   "cell_type": "code",
   "execution_count": null,
   "metadata": {},
   "outputs": [],
   "source": []
  }
 ],
 "metadata": {
  "kernelspec": {
   "display_name": "Python 3",
   "language": "python",
   "name": "python3"
  },
  "language_info": {
   "codemirror_mode": {
    "name": "ipython",
    "version": 3
   },
   "file_extension": ".py",
   "mimetype": "text/x-python",
   "name": "python",
   "nbconvert_exporter": "python",
   "pygments_lexer": "ipython3",
   "version": "3.6.10"
  }
 },
 "nbformat": 4,
 "nbformat_minor": 4
}
