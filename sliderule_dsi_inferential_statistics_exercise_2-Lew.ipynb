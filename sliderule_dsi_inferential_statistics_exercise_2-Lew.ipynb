{
 "cells": [
  {
   "cell_type": "markdown",
   "metadata": {},
   "source": [
    "# Examining Racial Discrimination in the US Job Market\n",
    "\n",
    "### Background\n",
    "Racial discrimination continues to be pervasive in cultures throughout the world. Researchers examined the level of racial discrimination in the United States labor market by randomly assigning identical résumés to black-sounding or white-sounding names and observing the impact on requests for interviews from employers.\n",
    "\n",
    "### Data\n",
    "In the dataset provided, each row represents a resume. The 'race' column has two values, 'b' and 'w', indicating black-sounding and white-sounding. The column 'call' has two values, 1 and 0, indicating whether the resume received a call from employers or not.\n",
    "\n",
    "Note that the 'b' and 'w' values in race are assigned randomly to the resumes when presented to the employer."
   ]
  },
  {
   "cell_type": "markdown",
   "metadata": {},
   "source": [
    "### Exercises\n",
    "You will perform a statistical analysis to establish whether race has a significant impact on the rate of callbacks for resumes.\n",
    "\n",
    "Answer the following questions **in this notebook below and submit to your Github account**. \n",
    "\n",
    "   1. What test is appropriate for this problem? Does CLT apply?\n",
    "   2. What are the null and alternate hypotheses?\n",
    "   3. Compute margin of error, confidence interval, and p-value. Try using both the bootstrapping and the frequentist statistical approaches.\n",
    "   4. Write a story describing the statistical significance in the context or the original problem.\n",
    "   5. Does your analysis mean that race/name is the most important factor in callback success? Why or why not? If not, how would you amend your analysis?\n",
    "\n",
    "You can include written notes in notebook cells using Markdown: \n",
    "   - In the control panel at the top, choose Cell > Cell Type > Markdown\n",
    "   - Markdown syntax: http://nestacms.com/docs/creating-content/markdown-cheat-sheet\n",
    "\n",
    "#### Resources\n",
    "+ Experiment information and data source: http://www.povertyactionlab.org/evaluation/discrimination-job-market-united-states\n",
    "+ Scipy statistical methods: http://docs.scipy.org/doc/scipy/reference/stats.html \n",
    "+ Markdown syntax: http://nestacms.com/docs/creating-content/markdown-cheat-sheet\n",
    "+ Formulas for the Bernoulli distribution: https://en.wikipedia.org/wiki/Bernoulli_distribution"
   ]
  },
  {
   "cell_type": "code",
   "execution_count": 1,
   "metadata": {
    "collapsed": true
   },
   "outputs": [],
   "source": [
    "import pandas as pd\n",
    "import numpy as np\n",
    "from scipy import stats\n",
    "import seaborn as sns\n",
    "import numpy as np\n",
    "import math\n",
    "#import statsmodels.api as sm\n",
    "from statsmodels.stats.proportion import proportions_ztest\n",
    "from scipy import stats\n",
    "import matplotlib.pyplot as plt\n",
    "%matplotlib inline"
   ]
  },
  {
   "cell_type": "code",
   "execution_count": 2,
   "metadata": {
    "collapsed": true
   },
   "outputs": [],
   "source": [
    "data = pd.io.stata.read_stata('data/us_job_market_discrimination.dta')"
   ]
  },
  {
   "cell_type": "code",
   "execution_count": 3,
   "metadata": {},
   "outputs": [
    {
     "data": {
      "text/plain": [
       "157.0"
      ]
     },
     "execution_count": 3,
     "metadata": {},
     "output_type": "execute_result"
    }
   ],
   "source": [
    "# number of callbacks for black-sounding names\n",
    "sum(data[data.race=='b'].call)"
   ]
  },
  {
   "cell_type": "code",
   "execution_count": 4,
   "metadata": {},
   "outputs": [
    {
     "data": {
      "text/html": [
       "<div>\n",
       "<style>\n",
       "    .dataframe thead tr:only-child th {\n",
       "        text-align: right;\n",
       "    }\n",
       "\n",
       "    .dataframe thead th {\n",
       "        text-align: left;\n",
       "    }\n",
       "\n",
       "    .dataframe tbody tr th {\n",
       "        vertical-align: top;\n",
       "    }\n",
       "</style>\n",
       "<table border=\"1\" class=\"dataframe\">\n",
       "  <thead>\n",
       "    <tr style=\"text-align: right;\">\n",
       "      <th></th>\n",
       "      <th>id</th>\n",
       "      <th>ad</th>\n",
       "      <th>education</th>\n",
       "      <th>ofjobs</th>\n",
       "      <th>yearsexp</th>\n",
       "      <th>honors</th>\n",
       "      <th>volunteer</th>\n",
       "      <th>military</th>\n",
       "      <th>empholes</th>\n",
       "      <th>occupspecific</th>\n",
       "      <th>...</th>\n",
       "      <th>compreq</th>\n",
       "      <th>orgreq</th>\n",
       "      <th>manuf</th>\n",
       "      <th>transcom</th>\n",
       "      <th>bankreal</th>\n",
       "      <th>trade</th>\n",
       "      <th>busservice</th>\n",
       "      <th>othservice</th>\n",
       "      <th>missind</th>\n",
       "      <th>ownership</th>\n",
       "    </tr>\n",
       "  </thead>\n",
       "  <tbody>\n",
       "    <tr>\n",
       "      <th>0</th>\n",
       "      <td>b</td>\n",
       "      <td>1</td>\n",
       "      <td>4</td>\n",
       "      <td>2</td>\n",
       "      <td>6</td>\n",
       "      <td>0</td>\n",
       "      <td>0</td>\n",
       "      <td>0</td>\n",
       "      <td>1</td>\n",
       "      <td>17</td>\n",
       "      <td>...</td>\n",
       "      <td>1.0</td>\n",
       "      <td>0.0</td>\n",
       "      <td>1.0</td>\n",
       "      <td>0.0</td>\n",
       "      <td>0.0</td>\n",
       "      <td>0.0</td>\n",
       "      <td>0.0</td>\n",
       "      <td>0.0</td>\n",
       "      <td>0.0</td>\n",
       "      <td></td>\n",
       "    </tr>\n",
       "    <tr>\n",
       "      <th>1</th>\n",
       "      <td>b</td>\n",
       "      <td>1</td>\n",
       "      <td>3</td>\n",
       "      <td>3</td>\n",
       "      <td>6</td>\n",
       "      <td>0</td>\n",
       "      <td>1</td>\n",
       "      <td>1</td>\n",
       "      <td>0</td>\n",
       "      <td>316</td>\n",
       "      <td>...</td>\n",
       "      <td>1.0</td>\n",
       "      <td>0.0</td>\n",
       "      <td>1.0</td>\n",
       "      <td>0.0</td>\n",
       "      <td>0.0</td>\n",
       "      <td>0.0</td>\n",
       "      <td>0.0</td>\n",
       "      <td>0.0</td>\n",
       "      <td>0.0</td>\n",
       "      <td></td>\n",
       "    </tr>\n",
       "    <tr>\n",
       "      <th>2</th>\n",
       "      <td>b</td>\n",
       "      <td>1</td>\n",
       "      <td>4</td>\n",
       "      <td>1</td>\n",
       "      <td>6</td>\n",
       "      <td>0</td>\n",
       "      <td>0</td>\n",
       "      <td>0</td>\n",
       "      <td>0</td>\n",
       "      <td>19</td>\n",
       "      <td>...</td>\n",
       "      <td>1.0</td>\n",
       "      <td>0.0</td>\n",
       "      <td>1.0</td>\n",
       "      <td>0.0</td>\n",
       "      <td>0.0</td>\n",
       "      <td>0.0</td>\n",
       "      <td>0.0</td>\n",
       "      <td>0.0</td>\n",
       "      <td>0.0</td>\n",
       "      <td></td>\n",
       "    </tr>\n",
       "    <tr>\n",
       "      <th>3</th>\n",
       "      <td>b</td>\n",
       "      <td>1</td>\n",
       "      <td>3</td>\n",
       "      <td>4</td>\n",
       "      <td>6</td>\n",
       "      <td>0</td>\n",
       "      <td>1</td>\n",
       "      <td>0</td>\n",
       "      <td>1</td>\n",
       "      <td>313</td>\n",
       "      <td>...</td>\n",
       "      <td>1.0</td>\n",
       "      <td>0.0</td>\n",
       "      <td>1.0</td>\n",
       "      <td>0.0</td>\n",
       "      <td>0.0</td>\n",
       "      <td>0.0</td>\n",
       "      <td>0.0</td>\n",
       "      <td>0.0</td>\n",
       "      <td>0.0</td>\n",
       "      <td></td>\n",
       "    </tr>\n",
       "    <tr>\n",
       "      <th>4</th>\n",
       "      <td>b</td>\n",
       "      <td>1</td>\n",
       "      <td>3</td>\n",
       "      <td>3</td>\n",
       "      <td>22</td>\n",
       "      <td>0</td>\n",
       "      <td>0</td>\n",
       "      <td>0</td>\n",
       "      <td>0</td>\n",
       "      <td>313</td>\n",
       "      <td>...</td>\n",
       "      <td>1.0</td>\n",
       "      <td>1.0</td>\n",
       "      <td>0.0</td>\n",
       "      <td>0.0</td>\n",
       "      <td>0.0</td>\n",
       "      <td>0.0</td>\n",
       "      <td>0.0</td>\n",
       "      <td>1.0</td>\n",
       "      <td>0.0</td>\n",
       "      <td>Nonprofit</td>\n",
       "    </tr>\n",
       "  </tbody>\n",
       "</table>\n",
       "<p>5 rows × 65 columns</p>\n",
       "</div>"
      ],
      "text/plain": [
       "  id ad  education  ofjobs  yearsexp  honors  volunteer  military  empholes  \\\n",
       "0  b  1          4       2         6       0          0         0         1   \n",
       "1  b  1          3       3         6       0          1         1         0   \n",
       "2  b  1          4       1         6       0          0         0         0   \n",
       "3  b  1          3       4         6       0          1         0         1   \n",
       "4  b  1          3       3        22       0          0         0         0   \n",
       "\n",
       "   occupspecific    ...      compreq  orgreq  manuf  transcom  bankreal trade  \\\n",
       "0             17    ...          1.0     0.0    1.0       0.0       0.0   0.0   \n",
       "1            316    ...          1.0     0.0    1.0       0.0       0.0   0.0   \n",
       "2             19    ...          1.0     0.0    1.0       0.0       0.0   0.0   \n",
       "3            313    ...          1.0     0.0    1.0       0.0       0.0   0.0   \n",
       "4            313    ...          1.0     1.0    0.0       0.0       0.0   0.0   \n",
       "\n",
       "  busservice othservice  missind  ownership  \n",
       "0        0.0        0.0      0.0             \n",
       "1        0.0        0.0      0.0             \n",
       "2        0.0        0.0      0.0             \n",
       "3        0.0        0.0      0.0             \n",
       "4        0.0        1.0      0.0  Nonprofit  \n",
       "\n",
       "[5 rows x 65 columns]"
      ]
     },
     "execution_count": 4,
     "metadata": {},
     "output_type": "execute_result"
    }
   ],
   "source": [
    "data.head()"
   ]
  },
  {
   "cell_type": "code",
   "execution_count": 5,
   "metadata": {},
   "outputs": [
    {
     "data": {
      "text/plain": [
       "(4870, 65)"
      ]
     },
     "execution_count": 5,
     "metadata": {},
     "output_type": "execute_result"
    }
   ],
   "source": [
    "data.shape"
   ]
  },
  {
   "cell_type": "code",
   "execution_count": 6,
   "metadata": {},
   "outputs": [
    {
     "data": {
      "text/plain": [
       "4870"
      ]
     },
     "execution_count": 6,
     "metadata": {},
     "output_type": "execute_result"
    }
   ],
   "source": [
    "data.shape[0]"
   ]
  },
  {
   "cell_type": "code",
   "execution_count": 7,
   "metadata": {},
   "outputs": [
    {
     "data": {
      "text/plain": [
       "b    2435\n",
       "w    2435\n",
       "Name: race, dtype: int64"
      ]
     },
     "execution_count": 7,
     "metadata": {},
     "output_type": "execute_result"
    }
   ],
   "source": [
    "data.race.value_counts()"
   ]
  },
  {
   "cell_type": "code",
   "execution_count": 8,
   "metadata": {},
   "outputs": [
    {
     "data": {
      "text/plain": [
       "b    2435\n",
       "Name: race, dtype: int64"
      ]
     },
     "execution_count": 8,
     "metadata": {},
     "output_type": "execute_result"
    }
   ],
   "source": [
    "mask_b = data['race'] == 'b'\n",
    "mask_w = data['race'] == 'w'\n",
    "black = data[mask_b]\n",
    "white = data[mask_w]\n",
    "black.race.value_counts()"
   ]
  },
  {
   "cell_type": "code",
   "execution_count": 9,
   "metadata": {},
   "outputs": [
    {
     "data": {
      "text/plain": [
       "w    2435\n",
       "Name: race, dtype: int64"
      ]
     },
     "execution_count": 9,
     "metadata": {},
     "output_type": "execute_result"
    }
   ],
   "source": [
    "white.race.value_counts()"
   ]
  },
  {
   "cell_type": "code",
   "execution_count": 10,
   "metadata": {},
   "outputs": [
    {
     "name": "stdout",
     "output_type": "stream",
     "text": [
      "For White:\n",
      "0.0    2200\n",
      "1.0     235\n",
      "Name: call, dtype: int64\n",
      "\n",
      "For Black:\n",
      "0.0    2278\n",
      "1.0     157\n",
      "Name: call, dtype: int64\n",
      "\n"
     ]
    }
   ],
   "source": [
    "print('For White:')\n",
    "print(white.call.value_counts())\n",
    "print()\n",
    "print('For Black:')\n",
    "print(black.call.value_counts())\n",
    "print()"
   ]
  },
  {
   "cell_type": "code",
   "execution_count": 11,
   "metadata": {},
   "outputs": [
    {
     "name": "stdout",
     "output_type": "stream",
     "text": [
      "157.0\n",
      "race\n",
      "b    0.245650\n",
      "w    0.295349\n",
      "Name: call, dtype: float32\n",
      "\n",
      "235.0\n",
      "race\n",
      "b    0.245650\n",
      "w    0.295349\n",
      "Name: call, dtype: float32\n",
      "\n"
     ]
    }
   ],
   "source": [
    "#print(data.groupby('race').call)\n",
    "grouped = data.groupby('race')\n",
    "\n",
    "for name,group in grouped:\n",
    "    #print(name)\n",
    "    print(group.call.sum())\n",
    "    print(grouped.call.std())\n",
    "    print()"
   ]
  },
  {
   "cell_type": "markdown",
   "metadata": {
    "collapsed": true
   },
   "source": [
    "<div class=\"span5 alert alert-success\">\n",
    "<p>Your answers to Q1 and Q2 here</p>\n",
    "</div>"
   ]
  },
  {
   "cell_type": "markdown",
   "metadata": {},
   "source": [
    "## Question 1"
   ]
  },
  {
   "cell_type": "markdown",
   "metadata": {},
   "source": [
    "## The Z-test of proportions is a good test to study whether race has a significant impact on the rate of callbacks for resumes."
   ]
  },
  {
   "cell_type": "markdown",
   "metadata": {},
   "source": [
    "## The Central Limit Theorem can be applied in this exercise. A distribution of many boostrap sampling replicates, ~10,000, of the proportion difference between the two groups has a Normal Distribution. "
   ]
  },
  {
   "cell_type": "markdown",
   "metadata": {},
   "source": [
    "## Question 2"
   ]
  },
  {
   "cell_type": "markdown",
   "metadata": {
    "collapsed": true
   },
   "source": [
    "## The Null Hypothesis is that the proportion of callbacks for people with black-sounding or white-sounding names is the same. The Alternate Hypothesis is the there is a difference in callback proportions for the two groups."
   ]
  },
  {
   "cell_type": "code",
   "execution_count": 12,
   "metadata": {
    "collapsed": true
   },
   "outputs": [],
   "source": [
    "w = data[data.race=='w']\n",
    "b = data[data.race=='b']"
   ]
  },
  {
   "cell_type": "code",
   "execution_count": 13,
   "metadata": {},
   "outputs": [
    {
     "data": {
      "text/plain": [
       "2435"
      ]
     },
     "execution_count": 13,
     "metadata": {},
     "output_type": "execute_result"
    }
   ],
   "source": [
    "len(w)"
   ]
  },
  {
   "cell_type": "code",
   "execution_count": 14,
   "metadata": {},
   "outputs": [
    {
     "data": {
      "text/plain": [
       "0    2210\n",
       "1     225\n",
       "Name: military, dtype: int64"
      ]
     },
     "execution_count": 14,
     "metadata": {},
     "output_type": "execute_result"
    }
   ],
   "source": [
    "w.military.value_counts()"
   ]
  },
  {
   "cell_type": "code",
   "execution_count": 15,
   "metadata": {},
   "outputs": [
    {
     "data": {
      "text/plain": [
       "0    2187\n",
       "1     248\n",
       "Name: military, dtype: int64"
      ]
     },
     "execution_count": 15,
     "metadata": {},
     "output_type": "execute_result"
    }
   ],
   "source": [
    "b.military.value_counts()"
   ]
  },
  {
   "cell_type": "code",
   "execution_count": 16,
   "metadata": {},
   "outputs": [
    {
     "data": {
      "text/plain": [
       "2435"
      ]
     },
     "execution_count": 16,
     "metadata": {},
     "output_type": "execute_result"
    }
   ],
   "source": [
    "len(b)"
   ]
  },
  {
   "cell_type": "code",
   "execution_count": 17,
   "metadata": {},
   "outputs": [
    {
     "data": {
      "text/plain": [
       "0.096509240246406572"
      ]
     },
     "execution_count": 17,
     "metadata": {},
     "output_type": "execute_result"
    }
   ],
   "source": [
    "w[w.call == 1].call.value_counts()\n",
    "w_callback = w[w.call == 1].call.sum()\n",
    "w_callback\n",
    "w_nocall = len(w) -  w_callback\n",
    "w_nocall\n",
    "callback_percent_w = w_callback/len(w)\n",
    "callback_percent_w"
   ]
  },
  {
   "cell_type": "code",
   "execution_count": 18,
   "metadata": {},
   "outputs": [
    {
     "data": {
      "text/plain": [
       "0.064476386036960986"
      ]
     },
     "execution_count": 18,
     "metadata": {},
     "output_type": "execute_result"
    }
   ],
   "source": [
    "b[b.call == 1].call.value_counts()\n",
    "b_callback = b[b.call == 1].call.sum()\n",
    "b_callback\n",
    "b_nocall = len(b) -  b_callback\n",
    "b_nocall\n",
    "callback_percent_b = b_callback/len(b)\n",
    "callback_percent_b"
   ]
  },
  {
   "cell_type": "code",
   "execution_count": 19,
   "metadata": {},
   "outputs": [
    {
     "data": {
      "text/plain": [
       "0.032032854209445585"
      ]
     },
     "execution_count": 19,
     "metadata": {},
     "output_type": "execute_result"
    }
   ],
   "source": [
    "empirical_prop_diff = callback_percent_w - callback_percent_b\n",
    "empirical_prop_diff"
   ]
  },
  {
   "cell_type": "code",
   "execution_count": 20,
   "metadata": {},
   "outputs": [
    {
     "data": {
      "text/plain": [
       "392.0"
      ]
     },
     "execution_count": 20,
     "metadata": {},
     "output_type": "execute_result"
    }
   ],
   "source": [
    "callback_all = data[data.call == 1].call.sum()\n",
    "callback_all"
   ]
  },
  {
   "cell_type": "markdown",
   "metadata": {},
   "source": [
    "## Question 3"
   ]
  },
  {
   "cell_type": "code",
   "execution_count": 21,
   "metadata": {},
   "outputs": [
    {
     "name": "stdout",
     "output_type": "stream",
     "text": [
      "235.0\n",
      "157.0\n",
      "4870\n",
      "0.0804928131417\n",
      "\n",
      "0.0804928131417\n"
     ]
    }
   ],
   "source": [
    "#callback_all = data[data.call == 1].call.value_counts()\n",
    "print(w_callback)\n",
    "print(b_callback)\n",
    "print(data.shape[0])\n",
    "callback_percentage_all = (w_callback + b_callback)/data.shape[0]\n",
    "print(callback_percentage_all)\n",
    "print()\n",
    "print(callback_percentage_all)"
   ]
  },
  {
   "cell_type": "code",
   "execution_count": 22,
   "metadata": {},
   "outputs": [
    {
     "name": "stdout",
     "output_type": "stream",
     "text": [
      "0.0320328542094\n"
     ]
    }
   ],
   "source": [
    "pw = np.sum(w[w.call == 1].call)/len(w)\n",
    "pb = np.sum(b[b.call == 1].call)/len(b)  \n",
    "\n",
    "empirical_prop_diff = pw - pb\n",
    "print(empirical_prop_diff)"
   ]
  },
  {
   "cell_type": "markdown",
   "metadata": {
    "collapsed": true
   },
   "source": [
    "## Bootstraping Method"
   ]
  },
  {
   "cell_type": "code",
   "execution_count": 23,
   "metadata": {},
   "outputs": [
    {
     "data": {
      "text/plain": [
       "array([ 1.,  0.,  0.,  0.,  0.,  0.,  0.,  0.,  0.,  0.,  0.,  0.,  0.,\n",
       "        0.,  0.,  0.,  0.,  0.,  0.,  0.,  0.,  0.,  0.,  0.,  0.,  0.,\n",
       "        0.,  0.,  0.,  0.,  0.,  0.,  0.,  0.,  0.,  0.,  0.,  0.,  0.,\n",
       "        0.,  0.,  0.,  0.,  0.,  0.,  0.,  0.,  0.,  0.,  0.,  0.,  0.,\n",
       "        0.,  0.,  1.,  0.,  0.,  0.,  0.,  0.,  0.,  0.,  0.,  0.,  0.,\n",
       "        0.,  0.,  0.,  0.,  0.,  0.,  0.,  0.,  0.,  0.,  0.,  0.,  1.,\n",
       "        0.,  0.,  0.,  0.,  0.,  1.,  0.,  0.,  0.,  1.,  1.,  0.,  0.,\n",
       "        0.,  0.,  0.,  0.,  1.,  0.,  0.,  0.,  0.], dtype=float32)"
      ]
     },
     "execution_count": 23,
     "metadata": {},
     "output_type": "execute_result"
    }
   ],
   "source": [
    "\n",
    "bs_sample_b = np.random.choice(b.call,replace = True,size = 100)\n",
    "bs_sample_w = np.random.choice(w.call,replace = True,size = 100)\n",
    "\n",
    "bs_sample_b   "
   ]
  },
  {
   "cell_type": "code",
   "execution_count": 24,
   "metadata": {},
   "outputs": [
    {
     "data": {
      "text/plain": [
       "0.070000000000000007"
      ]
     },
     "execution_count": 24,
     "metadata": {},
     "output_type": "execute_result"
    }
   ],
   "source": [
    "np.sum(bs_sample_b == 1)/len(bs_sample_b)"
   ]
  },
  {
   "cell_type": "code",
   "execution_count": 25,
   "metadata": {},
   "outputs": [
    {
     "data": {
      "text/plain": [
       "7"
      ]
     },
     "execution_count": 25,
     "metadata": {},
     "output_type": "execute_result"
    }
   ],
   "source": [
    "np.sum(bs_sample_b == 1)"
   ]
  },
  {
   "cell_type": "code",
   "execution_count": 26,
   "metadata": {},
   "outputs": [
    {
     "data": {
      "text/plain": [
       "0.16"
      ]
     },
     "execution_count": 26,
     "metadata": {},
     "output_type": "execute_result"
    }
   ],
   "source": [
    "np.sum(bs_sample_w == 1)/len(bs_sample_w)"
   ]
  },
  {
   "cell_type": "code",
   "execution_count": 27,
   "metadata": {},
   "outputs": [
    {
     "data": {
      "text/plain": [
       "16"
      ]
     },
     "execution_count": 27,
     "metadata": {},
     "output_type": "execute_result"
    }
   ],
   "source": [
    "np.sum(bs_sample_w == 1)"
   ]
  },
  {
   "cell_type": "code",
   "execution_count": 28,
   "metadata": {},
   "outputs": [
    {
     "data": {
      "text/plain": [
       "0.089999999999999997"
      ]
     },
     "execution_count": 28,
     "metadata": {},
     "output_type": "execute_result"
    }
   ],
   "source": [
    "abs( np.sum(bs_sample_w == 1)/len(bs_sample_w) - np.sum(bs_sample_b == 1)/len(bs_sample_b))"
   ]
  },
  {
   "cell_type": "code",
   "execution_count": 29,
   "metadata": {},
   "outputs": [
    {
     "name": "stdout",
     "output_type": "stream",
     "text": [
      "0.0965092402464\n",
      "0.064476386037\n"
     ]
    }
   ],
   "source": [
    "print(np.sum(w[w.call == 1].call)/len(w))\n",
    "print(np.sum(b[b.call == 1].call)/len(b))"
   ]
  },
  {
   "cell_type": "code",
   "execution_count": 30,
   "metadata": {
    "collapsed": true
   },
   "outputs": [],
   "source": [
    "sizeB = 10000\n",
    "cb_b = np.empty(sizeB)\n",
    "cb_w = np.empty(sizeB)\n",
    "diff = np.empty(sizeB)\n",
    "\n",
    "for idx in range(sizeB):\n",
    "    bs_sample_b = np.random.choice(b.call,replace = True,size = 100)\n",
    "    bs_sample_w = np.random.choice(w.call,replace = True,size = 100)\n",
    "    #bs_sample_b = np.random.choice(b.call,replace = False,size = 100)\n",
    "    #bs_sample_w = np.random.choice(w.call,replace = False,size = 100)\n",
    "    prop_w = np.sum(bs_sample_w == 1)/len(bs_sample_w)\n",
    "    prop_b = np.sum(bs_sample_b == 1)/len(bs_sample_b) \n",
    "    cb_b[idx] = prop_b\n",
    "    cb_w[idx] = prop_w\n",
    "    #diff[idx] = abs(prop_w - prop_b)\n",
    "    diff[idx] = (prop_w - prop_b)\n",
    "    "
   ]
  },
  {
   "cell_type": "code",
   "execution_count": 31,
   "metadata": {},
   "outputs": [
    {
     "data": {
      "text/plain": [
       "<matplotlib.text.Text at 0x1132a6240>"
      ]
     },
     "execution_count": 31,
     "metadata": {},
     "output_type": "execute_result"
    },
    {
     "data": {
      "image/png": "[encoded data removed]",
      "text/plain": [
       "<matplotlib.figure.Figure at 0x11350c438>"
      ]
     },
     "metadata": {},
     "output_type": "display_data"
    }
   ],
   "source": [
    "fig, ax = plt.subplots(figsize=(9, 6))\n",
    "sns.distplot(diff)\n",
    "plt.title('Bootstrap Sample Proportion Differences')\n",
    "plt.axvline(x=empirical_prop_diff,color ='red')\n",
    "plt.xlabel('Proportion Difference')"
   ]
  },
  {
   "cell_type": "code",
   "execution_count": 32,
   "metadata": {},
   "outputs": [
    {
     "name": "stdout",
     "output_type": "stream",
     "text": [
      "Black-names callback boostrap mean proportion:\n",
      "0.064291\n",
      "\n",
      "White-names callback boostrap mean proportion:\n",
      "0.095853\n",
      "\n",
      "Calculated Difference Bootstrap Mean Difference:\n",
      "0.031562\n",
      "\n",
      "Observed Difference in Proportions:\n",
      "0.0320328542094\n",
      "\n"
     ]
    }
   ],
   "source": [
    "print('Black-names callback boostrap mean proportion:')\n",
    "print(np.mean(cb_b))\n",
    "print()\n",
    "print('White-names callback boostrap mean proportion:')\n",
    "print(np.mean(cb_w))\n",
    "print()\n",
    "print('Calculated Difference Bootstrap Mean Difference:')\n",
    "print(np.mean(diff))\n",
    "print()\n",
    "print('Observed Difference in Proportions:')\n",
    "print(empirical_prop_diff)\n",
    "print()"
   ]
  },
  {
   "cell_type": "code",
   "execution_count": 33,
   "metadata": {},
   "outputs": [
    {
     "name": "stdout",
     "output_type": "stream",
     "text": [
      "p-val = 0.4617\n"
     ]
    }
   ],
   "source": [
    "# p value for boostrap replicates\n",
    "# Compute and print the p-value: p\n",
    "p = np.sum(diff >= empirical_prop_diff ) / len(diff)\n",
    "print('p-val =', p)"
   ]
  },
  {
   "cell_type": "markdown",
   "metadata": {},
   "source": [
    "## Using Bootstrap sampling, the 95% Confidence Level is Between 0.017  &  0.047 for the proportion difference between the two groups as shown in the analysis below. The margin of error for 95% confidence level is 0.0075. And, the p-value for the observed difference in proportions between the two groups is 0.47 using the bootstrap analysis."
   ]
  },
  {
   "cell_type": "code",
   "execution_count": 34,
   "metadata": {},
   "outputs": [
    {
     "data": {
      "text/plain": [
       "0.038482465565501382"
      ]
     },
     "execution_count": 34,
     "metadata": {},
     "output_type": "execute_result"
    }
   ],
   "source": [
    "std_error = np.std(diff)\n",
    "std_error"
   ]
  },
  {
   "cell_type": "code",
   "execution_count": 35,
   "metadata": {},
   "outputs": [
    {
     "name": "stdout",
     "output_type": "stream",
     "text": [
      "0.00384824655655\n"
     ]
    }
   ],
   "source": [
    "sample_size = 100\n",
    "sigma = np.std(diff)/math.sqrt(sample_size)  # Standard deviation estimate\n",
    "print(sigma)"
   ]
  },
  {
   "cell_type": "code",
   "execution_count": 36,
   "metadata": {},
   "outputs": [
    {
     "name": "stdout",
     "output_type": "stream",
     "text": [
      "z critical value:\n",
      "1.96\n",
      "margin of error for 95% confidence level:\n",
      "0.00754256325084\n",
      "\n"
     ]
    }
   ],
   "source": [
    "z_critical = 1.96\n",
    "print('z critical value:')\n",
    "print(z_critical)\n",
    "print('margin of error for 95% confidence level:')\n",
    "margin_of_error = z_critical * sigma\n",
    "print(margin_of_error)\n",
    "print()"
   ]
  },
  {
   "cell_type": "code",
   "execution_count": 37,
   "metadata": {},
   "outputs": [
    {
     "name": "stdout",
     "output_type": "stream",
     "text": [
      "0.0463454239716\n",
      "\n",
      "0.0167785760284\n",
      "\n",
      "Using The Boostrap Method: The 95% Confidence Interval For The Difference In Proportions is:\n",
      "between 0.0167785760284 and 0.0463454239716\n"
     ]
    }
   ],
   "source": [
    "#bs_stat = np.mean(cb_w) - np.mean(cb_b)\n",
    "bs_stat = np.mean(diff)\n",
    "up_bnd = bs_stat + (1.96*margin_of_error)\n",
    "#up_bnd = bs_stat + (2*margin_of_error)\n",
    "low_bnd = bs_stat - (1.96*margin_of_error)\n",
    "print(up_bnd)\n",
    "print()\n",
    "print(low_bnd)\n",
    "print()\n",
    "print('Using The Boostrap Method: The 95% Confidence Interval For The Difference In Proportions is:')\n",
    "print('between ' + str(low_bnd) + ' and ' + str(up_bnd))"
   ]
  },
  {
   "cell_type": "markdown",
   "metadata": {},
   "source": [
    "<div class=\"span5 alert alert-success\">\n",
    "<p> Your answers to Q4 and Q5 here </p>\n",
    "</div>"
   ]
  },
  {
   "cell_type": "markdown",
   "metadata": {
    "collapsed": true
   },
   "source": [
    "## Question 4"
   ]
  },
  {
   "cell_type": "code",
   "execution_count": 38,
   "metadata": {
    "collapsed": true
   },
   "outputs": [],
   "source": [
    "# implementation from scratch\n",
    "# borrowed from https://github.com/Volodymyrk/stats-testing-in-python/blob/master/03%20-%20AB%20testing%20Proportions%20with%20z-test.ipynb\n",
    "def ztest_proportion_two_samples(x1, n1, x2, n2, one_sided=False):\n",
    "    p1 = x1/n1\n",
    "    p2 = x2/n2  \n",
    "    print('proportion 1:')\n",
    "    print(p1)\n",
    "    print()\n",
    "    print('proportion 2:')\n",
    "    print(p2)\n",
    "    print()\n",
    "    p = (x1+x2)/(n1+n2)\n",
    "    se = p*(1-p)*(1/n1+1/n2)\n",
    "    se = np.sqrt(se)\n",
    "    \n",
    "    z = (p1-p2)/se\n",
    "    p = 1-stats.norm.cdf(abs(z))\n",
    "    p *= 2-one_sided # if not one_sided: p *= 2\n",
    "    return z, p"
   ]
  },
  {
   "cell_type": "code",
   "execution_count": 39,
   "metadata": {},
   "outputs": [
    {
     "name": "stdout",
     "output_type": "stream",
     "text": [
      "proportion 1:\n",
      "0.064476386037\n",
      "\n",
      "proportion 2:\n",
      "0.0965092402464\n",
      "\n",
      " z-stat = -4.108412152434346 \n",
      " p-value = 3.983886837577444e-05\n"
     ]
    }
   ],
   "source": [
    "z,p = ztest_proportion_two_samples(b_callback,len(b) ,w_callback ,len(w), one_sided=False)\n",
    "print(' z-stat = {z} \\n p-value = {p}'.format(z=z,p=p))"
   ]
  },
  {
   "cell_type": "markdown",
   "metadata": {
    "collapsed": true
   },
   "source": [
    "## Statsmodel z-test proportion two samples"
   ]
  },
  {
   "cell_type": "code",
   "execution_count": 40,
   "metadata": {},
   "outputs": [
    {
     "name": "stdout",
     "output_type": "stream",
     "text": [
      "0.000040\n",
      "-4.10841215243\n"
     ]
    }
   ],
   "source": [
    "count = np.array([b_callback,w_callback ])\n",
    "nobs = np.array([len(b),len(w)])\n",
    "stat, pval = proportions_ztest(count, nobs)\n",
    "print('{0:0.6f}'.format(pval))\n",
    "print(stat)"
   ]
  },
  {
   "cell_type": "markdown",
   "metadata": {},
   "source": [
    "## p-value for z-test proportion of two samples is .00004 and z value of -4.1¶"
   ]
  },
  {
   "cell_type": "markdown",
   "metadata": {},
   "source": [
    "## PERMUTATION SAMPLE: CONCATENATE/COMBINE BOTH GROUPS AND RANDOM SAMPLE A NEW 'BLACK' & 'WHITE' GROUPS. CALCULATE PROPORTION OF BOTH PERMUTATION GROUPS."
   ]
  },
  {
   "cell_type": "code",
   "execution_count": 41,
   "metadata": {},
   "outputs": [
    {
     "name": "stdout",
     "output_type": "stream",
     "text": [
      "197.0\n",
      "2435\n",
      "Percent Callback for Permutation Black sample:\n",
      "0.0809034907598\n",
      "195.0\n",
      "2435\n",
      "Percent Callback for Permutation White sample:\n",
      "0.0800821355236\n"
     ]
    }
   ],
   "source": [
    "permuted_data = np.random.permutation(data.call)\n",
    "\n",
    "# Split the permuted array into two: perm_sample_1, perm_sample_2\n",
    "perm_sample_b = permuted_data[0:len(b)]\n",
    "perm_sample_w = permuted_data[len(b):]\n",
    "perm_b_callback = np.sum(perm_sample_b[perm_sample_b == 1])\n",
    "print(np.sum(perm_sample_b[perm_sample_b == 1]))\n",
    "print(len(perm_sample_b))\n",
    "print('Percent Callback for Permutation Black sample:')\n",
    "print(np.sum(perm_sample_b[perm_sample_b == 1])/len(perm_sample_b))\n",
    "perm_w_callback = np.sum(perm_sample_w[perm_sample_w == 1])\n",
    "print(np.sum(perm_sample_w[perm_sample_w == 1]))\n",
    "print(len(perm_sample_w))\n",
    "print('Percent Callback for Permutation White sample:')\n",
    "print(np.sum(perm_sample_w[perm_sample_w == 1])/len(perm_sample_w))"
   ]
  },
  {
   "cell_type": "code",
   "execution_count": 42,
   "metadata": {},
   "outputs": [
    {
     "name": "stdout",
     "output_type": "stream",
     "text": [
      "proportion 1:\n",
      "0.0809034907598\n",
      "\n",
      "proportion 2:\n",
      "0.0800821355236\n",
      "\n",
      " z-stat = 0.10534390134447055 \n",
      " p-value = 0.9161029285127436\n"
     ]
    }
   ],
   "source": [
    "z,p = ztest_proportion_two_samples(perm_b_callback,len(perm_sample_b),perm_w_callback,len(perm_sample_w), one_sided=False)\n",
    "print(' z-stat = {z} \\n p-value = {p}'.format(z=z,p=p))"
   ]
  },
  {
   "cell_type": "code",
   "execution_count": 43,
   "metadata": {
    "collapsed": true
   },
   "outputs": [],
   "source": [
    "def permutation_sample(data1, data2):\n",
    "    \"\"\"Generate a permutation sample from two data sets.\"\"\"\n",
    "\n",
    "    # Concatenate the data sets: data\n",
    "    data = np.concatenate((data1,data2))\n",
    "\n",
    "    # Permute the concatenated array: permuted_data\n",
    "    permuted_data = np.random.permutation(data)\n",
    "\n",
    "    # Split the permuted array into two: perm_sample_1, perm_sample_2\n",
    "    perm_sample_1 = permuted_data[0:len(data1)]\n",
    "    perm_sample_2 = permuted_data[len(data1):]\n",
    "\n",
    "    return perm_sample_1, perm_sample_2"
   ]
  },
  {
   "cell_type": "code",
   "execution_count": 44,
   "metadata": {
    "collapsed": true
   },
   "outputs": [],
   "source": [
    "def draw_perm_reps(data_1, data_2, func, size=1):\n",
    "    \"\"\"Generate multiple permutation replicates.\"\"\"\n",
    "\n",
    "    # Initialize array of replicates: perm_replicates\n",
    "    perm_replicates = np.empty(size)\n",
    "\n",
    "    for i in range(size):\n",
    "       # Generate permutation sample\n",
    "       perm_sample_1, perm_sample_2 = permutation_sample(data_1,data_2)\n",
    "\n",
    "       # Compute the test statistic\n",
    "       perm_replicates[i] = func(perm_sample_1,perm_sample_2)\n",
    "\n",
    "    return perm_replicates"
   ]
  },
  {
   "cell_type": "code",
   "execution_count": 45,
   "metadata": {
    "collapsed": true
   },
   "outputs": [],
   "source": [
    "def diff_prop(data_A,data_B):\n",
    "    prop_A = data_A[data_A == 1].sum()/len(data_A)\n",
    "    prop_B = data_B[data_B == 1].sum()/len(data_B)\n",
    "    \n",
    "    return abs(prop_A - prop_B)"
   ]
  },
  {
   "cell_type": "code",
   "execution_count": 46,
   "metadata": {
    "collapsed": true
   },
   "outputs": [],
   "source": [
    "size = 10000\n",
    "prop_diff2 = np.empty(size)\n",
    "proportions2 = []\n",
    "\n",
    "for idx in range(size):\n",
    "    # Generate permutation samples\n",
    "    permuted_data = np.random.permutation(data.call)\n",
    "    # Split the permuted array into two: perm_sample_1, perm_sample_2\n",
    "    perm_b = permuted_data[0:len(b)]\n",
    "    perm_w = permuted_data[len(b):]\n",
    "    \n",
    "    prop_b = perm_b[perm_sample_b == 1].sum()/len(perm_b)\n",
    "    prop_w = perm_w[perm_sample_w == 1].sum()/len(perm_w)\n",
    "    #prop_diff2[idx] = abs(prop_b-prop_w)\n",
    "    prop_diff2[idx] = (prop_b-prop_w)\n",
    "    proportions2.append((prop_b,prop_w))"
   ]
  },
  {
   "cell_type": "code",
   "execution_count": 47,
   "metadata": {},
   "outputs": [
    {
     "data": {
      "text/plain": [
       "<matplotlib.text.Text at 0x116ce85c0>"
      ]
     },
     "execution_count": 47,
     "metadata": {},
     "output_type": "execute_result"
    },
    {
     "data": {
      "image/png": "[encoded data removed]",
      "text/plain": [
       "<matplotlib.figure.Figure at 0x116cd3860>"
      ]
     },
     "metadata": {},
     "output_type": "display_data"
    }
   ],
   "source": [
    "fig, ax = plt.subplots(figsize=(9, 6))\n",
    "sns.distplot(prop_diff2)\n",
    "plt.title('Permutation Replicates Proprotion Difference')\n",
    "plt.axvline(x=empirical_prop_diff,color ='red')\n",
    "plt.xlabel('Proportion Difference')"
   ]
  },
  {
   "cell_type": "code",
   "execution_count": 48,
   "metadata": {},
   "outputs": [
    {
     "name": "stdout",
     "output_type": "stream",
     "text": [
      "0.0320328542094\n"
     ]
    }
   ],
   "source": [
    "pw = np.sum(w[w.call == 1].call)/len(w)\n",
    "pb = np.sum(b[b.call == 1].call)/len(b)  \n",
    "\n",
    "empirical_prop_diff = pw - pb\n",
    "print(empirical_prop_diff)"
   ]
  },
  {
   "cell_type": "code",
   "execution_count": 49,
   "metadata": {},
   "outputs": [
    {
     "name": "stdout",
     "output_type": "stream",
     "text": [
      "p-value =\n",
      "0.000000000\n"
     ]
    }
   ],
   "source": [
    "# Compute p-value: p\n",
    "p = float(np.sum(prop_diff2 >= empirical_prop_diff) / len(prop_diff2))\n",
    "\n",
    "# Print the result\n",
    "print('p-value =')\n",
    "print('{0:0.9f}'.format(p))"
   ]
  },
  {
   "cell_type": "markdown",
   "metadata": {},
   "source": [
    "## The permuation analysis shows that the observed difference in proportions between the two groups is very unlikely to be obtained from a permutation replicate sample distribution. Therefore, the null hypothesis that there is no difference in proportion of job interviews for the two groups is rejected."
   ]
  },
  {
   "cell_type": "markdown",
   "metadata": {},
   "source": [
    "## The statistical significance of both the z-test of two sample proportions and the permutation sample analysis indicates that there is a statistically significant difference between the two groups. "
   ]
  },
  {
   "cell_type": "markdown",
   "metadata": {},
   "source": [
    "## Question 5"
   ]
  },
  {
   "cell_type": "markdown",
   "metadata": {},
   "source": [
    "## Based on the above analysis which showed that there is a statistically significant difference between the two groups, the name of the candidate was a factor in the likelihood of having a job callback. Given that the resumes submitted to employers are identical except for the name, It appears that a bias DOES indeed exist based on the candidate's name. However, for comparison, I also briefly studied other factors that may have influenced the callback rate of candidates. As shown in the data, there are other characteristics for each candidate such as: gender, military service and education that may be significant that I studied out of curiosity. "
   ]
  },
  {
   "cell_type": "code",
   "execution_count": 50,
   "metadata": {},
   "outputs": [
    {
     "data": {
      "text/plain": [
       "<matplotlib.axes._subplots.AxesSubplot at 0x116f41c88>"
      ]
     },
     "execution_count": 50,
     "metadata": {},
     "output_type": "execute_result"
    },
    {
     "data": {
      "image/png": "[encoded data removed]",
      "text/plain": [
       "<matplotlib.figure.Figure at 0x116ad8978>"
      ]
     },
     "metadata": {},
     "output_type": "display_data"
    }
   ],
   "source": [
    "sns.distplot(data.education)"
   ]
  },
  {
   "cell_type": "markdown",
   "metadata": {},
   "source": [
    "## Observed callback rate for education level of candidates:"
   ]
  },
  {
   "cell_type": "code",
   "execution_count": 51,
   "metadata": {
    "collapsed": true
   },
   "outputs": [],
   "source": [
    "edu_0 = data[data.education == 0].call\n",
    "edu_1 = data[data.education == 1].call\n",
    "edu_2 = data[data.education == 2].call\n",
    "edu_3 = data[data.education == 3].call\n",
    "edu_4 = data[data.education == 4].call"
   ]
  },
  {
   "cell_type": "code",
   "execution_count": 52,
   "metadata": {},
   "outputs": [
    {
     "name": "stdout",
     "output_type": "stream",
     "text": [
      "The call back for education level 0 is:\n",
      "0.0652173913043\n",
      "\n",
      "The call back for education level 1 is:\n",
      "0.075\n",
      "\n",
      "The call back for education level 2 is:\n",
      "0.0912408759124\n",
      "\n",
      "The call back for education level 3 is:\n",
      "0.0834990059642\n",
      "\n",
      "The call back for education level 4 is:\n",
      "0.0790525114155\n",
      "\n"
     ]
    }
   ],
   "source": [
    "print('The call back for education level 0 is:')\n",
    "print(np.sum(edu_0 == 1)/len(edu_0))\n",
    "print()\n",
    "print('The call back for education level 1 is:')\n",
    "print(np.sum(edu_1 == 1)/len(edu_1))\n",
    "print()\n",
    "print('The call back for education level 2 is:')\n",
    "print(np.sum(edu_2 == 1)/len(edu_2))\n",
    "print()\n",
    "print('The call back for education level 3 is:')\n",
    "print(np.sum(edu_3 == 1)/len(edu_3))\n",
    "print()\n",
    "print('The call back for education level 4 is:')\n",
    "print(np.sum(edu_4 == 1)/len(edu_4))\n",
    "print()"
   ]
  },
  {
   "cell_type": "code",
   "execution_count": 53,
   "metadata": {},
   "outputs": [
    {
     "name": "stdout",
     "output_type": "stream",
     "text": [
      "proportion 1:\n",
      "0.0652173913043\n",
      "\n",
      "proportion 2:\n",
      "0.0912408759124\n",
      "\n"
     ]
    },
    {
     "data": {
      "text/plain": [
       "(-0.57799514998215673, 0.56326739368421253)"
      ]
     },
     "execution_count": 53,
     "metadata": {},
     "output_type": "execute_result"
    }
   ],
   "source": [
    "edu_0_c = np.sum(edu_0 == 1)\n",
    "edu_2_c = np.sum(edu_2 == 1)\n",
    "ztest_proportion_two_samples(edu_0_c,len(edu_0), edu_2_c,len(edu_2), one_sided=False)"
   ]
  },
  {
   "cell_type": "code",
   "execution_count": 54,
   "metadata": {},
   "outputs": [
    {
     "name": "stdout",
     "output_type": "stream",
     "text": [
      "0.563267393684\n"
     ]
    }
   ],
   "source": [
    "count = np.array([edu_0_c,edu_2_c])\n",
    "nobs = np.array([len(edu_0),len(edu_2)])\n",
    "stat, pval = proportions_ztest(count, nobs)\n",
    "print(pval)"
   ]
  },
  {
   "cell_type": "code",
   "execution_count": 55,
   "metadata": {},
   "outputs": [
    {
     "name": "stdout",
     "output_type": "stream",
     "text": [
      "The call back for women is:\n",
      "0.0824879871863\n",
      "\n",
      "The call back for men is:\n",
      "0.0738434163701\n",
      "\n"
     ]
    }
   ],
   "source": [
    "girl = data[data.sex == \"f\"].call\n",
    "boy = data[data.sex == \"m\"].call\n",
    "print('The call back for women is:')\n",
    "print(np.sum(girl == 1)/len(girl))\n",
    "print()\n",
    "print('The call back for men is:')\n",
    "print(np.sum(boy == 1)/len(boy))\n",
    "print()"
   ]
  },
  {
   "cell_type": "code",
   "execution_count": 56,
   "metadata": {},
   "outputs": [
    {
     "name": "stdout",
     "output_type": "stream",
     "text": [
      "0.35014524574\n"
     ]
    }
   ],
   "source": [
    "# statsmodel z-test for proportions\n",
    "gc = np.sum(girl == 1)\n",
    "bc = np.sum(boy == 1)\n",
    "count = np.array([gc,bc])\n",
    "nobs = np.array([len(girl),len(boy)])\n",
    "stat, pval = proportions_ztest(count, nobs)\n",
    "print(pval)"
   ]
  },
  {
   "cell_type": "code",
   "execution_count": 57,
   "metadata": {},
   "outputs": [
    {
     "name": "stdout",
     "output_type": "stream",
     "text": [
      "proportion 1:\n",
      "0.0824879871863\n",
      "\n",
      "proportion 2:\n",
      "0.0738434163701\n",
      "\n"
     ]
    },
    {
     "data": {
      "text/plain": [
       "(0.93430759876612524, 0.35014524573983241)"
      ]
     },
     "execution_count": 57,
     "metadata": {},
     "output_type": "execute_result"
    }
   ],
   "source": [
    "ztest_proportion_two_samples(gc,len(girl), bc,len(boy), one_sided=False)"
   ]
  },
  {
   "cell_type": "code",
   "execution_count": 58,
   "metadata": {},
   "outputs": [
    {
     "name": "stdout",
     "output_type": "stream",
     "text": [
      "The call back for military 1 is:\n",
      "0.0634249471459\n",
      "\n",
      "The call back for military 0 is:\n",
      "0.0823288605868\n",
      "\n"
     ]
    }
   ],
   "source": [
    "mil_0 = data[data.military == 0].call\n",
    "mil_1 = data[data.military == 1].call\n",
    "print('The call back for military 1 is:')\n",
    "print(np.sum(mil_1 == 1)/len(mil_1))\n",
    "print()\n",
    "print('The call back for military 0 is:')\n",
    "print(np.sum(mil_0 == 1)/len(mil_0))\n",
    "print()"
   ]
  },
  {
   "cell_type": "code",
   "execution_count": 59,
   "metadata": {},
   "outputs": [
    {
     "name": "stdout",
     "output_type": "stream",
     "text": [
      "1.43595200938\n",
      "0.151015997561\n"
     ]
    }
   ],
   "source": [
    "# statsmodel z-test for proportions\n",
    "mil0_c = np.sum(mil_0 == 1)\n",
    "mil1_c = np.sum(mil_1 == 1)\n",
    "count = np.array([mil0_c,mil1_c])\n",
    "nobs = np.array([len(mil_0),len(mil_1)])\n",
    "stat, pval = proportions_ztest(count, nobs)\n",
    "print(stat)\n",
    "print(pval)"
   ]
  },
  {
   "cell_type": "code",
   "execution_count": 60,
   "metadata": {},
   "outputs": [
    {
     "name": "stdout",
     "output_type": "stream",
     "text": [
      "proportion 1:\n",
      "0.0823288605868\n",
      "\n",
      "proportion 2:\n",
      "0.0634249471459\n",
      "\n"
     ]
    },
    {
     "data": {
      "text/plain": [
       "(1.4359520093772888, 0.15101599756096618)"
      ]
     },
     "execution_count": 60,
     "metadata": {},
     "output_type": "execute_result"
    }
   ],
   "source": [
    "ztest_proportion_two_samples(mil0_c,len(mil_0), mil1_c,len(mil_1), one_sided=False)"
   ]
  },
  {
   "cell_type": "markdown",
   "metadata": {},
   "source": [
    "## Based on the above brief analysis, gender, military service & education level does NOT appear to be a significant factor in job callbacks."
   ]
  },
  {
   "cell_type": "code",
   "execution_count": null,
   "metadata": {
    "collapsed": true
   },
   "outputs": [],
   "source": []
  }
 ],
 "metadata": {
  "kernelspec": {
   "display_name": "Python [default]",
   "language": "python",
   "name": "python3"
  },
  "language_info": {
   "codemirror_mode": {
    "name": "ipython",
    "version": 3
   },
   "file_extension": ".py",
   "mimetype": "text/x-python",
   "name": "python",
   "nbconvert_exporter": "python",
   "pygments_lexer": "ipython3",
   "version": "3.6.0"
  }
 },
 "nbformat": 4,
 "nbformat_minor": 1
}
