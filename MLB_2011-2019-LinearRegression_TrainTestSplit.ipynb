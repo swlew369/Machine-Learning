{
 "cells": [
  {
   "cell_type": "code",
   "execution_count": 1,
   "metadata": {},
   "outputs": [
    {
     "name": "stderr",
     "output_type": "stream",
     "text": [
      "/Users/scottlew/miniconda3/lib/python3.6/site-packages/statsmodels/compat/pandas.py:56: FutureWarning: The pandas.core.datetools module is deprecated and will be removed in a future version. Please use the pandas.tseries module instead.\n",
      "  from pandas.core import datetools\n"
     ]
    }
   ],
   "source": [
    "import pandas as pd\n",
    "import numpy as np\n",
    "import seaborn as sns\n",
    "import matplotlib.pyplot as plt\n",
    "import pickle\n",
    "import datetime\n",
    "import requests\n",
    "import statsmodels.api as sm\n",
    "from sklearn.model_selection import train_test_split\n",
    "from sklearn.linear_model import LinearRegression\n",
    "from sklearn.ensemble import GradientBoostingRegressor\n",
    "from sklearn.ensemble import RandomForestRegressor\n",
    "from sklearn.ensemble import RandomForestClassifier\n",
    "from sklearn.preprocessing import StandardScaler\n",
    "from sklearn.model_selection import cross_val_score\n",
    "from sklearn.metrics import mean_squared_error\n",
    "from itertools import combinations\n",
    "from collections import OrderedDict \n",
    "\n",
    "%matplotlib inline"
   ]
  },
  {
   "cell_type": "markdown",
   "metadata": {},
   "source": [
    "## READ IN MLB STATS FOR 2011-2018 SEASONS "
   ]
  },
  {
   "cell_type": "code",
   "execution_count": 2,
   "metadata": {
    "collapsed": true
   },
   "outputs": [],
   "source": [
    "df = pd.read_csv('MLB_STATS_2011-2018.csv')"
   ]
  },
  {
   "cell_type": "code",
   "execution_count": 3,
   "metadata": {},
   "outputs": [
    {
     "data": {
      "text/html": [
       "<div>\n",
       "<style>\n",
       "    .dataframe thead tr:only-child th {\n",
       "        text-align: right;\n",
       "    }\n",
       "\n",
       "    .dataframe thead th {\n",
       "        text-align: left;\n",
       "    }\n",
       "\n",
       "    .dataframe tbody tr th {\n",
       "        vertical-align: top;\n",
       "    }\n",
       "</style>\n",
       "<table border=\"1\" class=\"dataframe\">\n",
       "  <thead>\n",
       "    <tr style=\"text-align: right;\">\n",
       "      <th></th>\n",
       "      <th>#Bat</th>\n",
       "      <th>#P</th>\n",
       "      <th>25-Man</th>\n",
       "      <th>2B</th>\n",
       "      <th>3B</th>\n",
       "      <th>AB</th>\n",
       "      <th>Avg_Salary</th>\n",
       "      <th>BA</th>\n",
       "      <th>BB9</th>\n",
       "      <th>BB_x</th>\n",
       "      <th>...</th>\n",
       "      <th>Suspended</th>\n",
       "      <th>TB</th>\n",
       "      <th>Tm</th>\n",
       "      <th>Total Payroll</th>\n",
       "      <th>W</th>\n",
       "      <th>WHIP</th>\n",
       "      <th>WP</th>\n",
       "      <th>Year</th>\n",
       "      <th>cSho</th>\n",
       "      <th>tSho</th>\n",
       "    </tr>\n",
       "  </thead>\n",
       "  <tbody>\n",
       "    <tr>\n",
       "      <th>0</th>\n",
       "      <td>51</td>\n",
       "      <td>25</td>\n",
       "      <td>57930520.0</td>\n",
       "      <td>293</td>\n",
       "      <td>37</td>\n",
       "      <td>5421</td>\n",
       "      <td>1.731183e+06</td>\n",
       "      <td>0.250</td>\n",
       "      <td>2.8</td>\n",
       "      <td>531</td>\n",
       "      <td>...</td>\n",
       "      <td>NaN</td>\n",
       "      <td>2240</td>\n",
       "      <td>ARI</td>\n",
       "      <td>65784971.0</td>\n",
       "      <td>94</td>\n",
       "      <td>1.286</td>\n",
       "      <td>39</td>\n",
       "      <td>2011</td>\n",
       "      <td>1</td>\n",
       "      <td>12</td>\n",
       "    </tr>\n",
       "    <tr>\n",
       "      <th>1</th>\n",
       "      <td>45</td>\n",
       "      <td>21</td>\n",
       "      <td>98521630.0</td>\n",
       "      <td>244</td>\n",
       "      <td>16</td>\n",
       "      <td>5528</td>\n",
       "      <td>2.321633e+06</td>\n",
       "      <td>0.243</td>\n",
       "      <td>3.2</td>\n",
       "      <td>504</td>\n",
       "      <td>...</td>\n",
       "      <td>NaN</td>\n",
       "      <td>2140</td>\n",
       "      <td>ATL</td>\n",
       "      <td>99830230.0</td>\n",
       "      <td>89</td>\n",
       "      <td>1.252</td>\n",
       "      <td>61</td>\n",
       "      <td>2011</td>\n",
       "      <td>2</td>\n",
       "      <td>16</td>\n",
       "    </tr>\n",
       "    <tr>\n",
       "      <th>2</th>\n",
       "      <td>50</td>\n",
       "      <td>27</td>\n",
       "      <td>94391741.0</td>\n",
       "      <td>273</td>\n",
       "      <td>13</td>\n",
       "      <td>5585</td>\n",
       "      <td>1.926362e+06</td>\n",
       "      <td>0.257</td>\n",
       "      <td>3.3</td>\n",
       "      <td>452</td>\n",
       "      <td>...</td>\n",
       "      <td>NaN</td>\n",
       "      <td>2306</td>\n",
       "      <td>BAL</td>\n",
       "      <td>94391741.0</td>\n",
       "      <td>69</td>\n",
       "      <td>1.454</td>\n",
       "      <td>32</td>\n",
       "      <td>2011</td>\n",
       "      <td>1</td>\n",
       "      <td>7</td>\n",
       "    </tr>\n",
       "    <tr>\n",
       "      <th>3</th>\n",
       "      <td>49</td>\n",
       "      <td>27</td>\n",
       "      <td>164517590.0</td>\n",
       "      <td>352</td>\n",
       "      <td>35</td>\n",
       "      <td>5710</td>\n",
       "      <td>3.671346e+06</td>\n",
       "      <td>0.280</td>\n",
       "      <td>3.3</td>\n",
       "      <td>578</td>\n",
       "      <td>...</td>\n",
       "      <td>NaN</td>\n",
       "      <td>2631</td>\n",
       "      <td>BOS</td>\n",
       "      <td>172553261.0</td>\n",
       "      <td>90</td>\n",
       "      <td>1.308</td>\n",
       "      <td>58</td>\n",
       "      <td>2011</td>\n",
       "      <td>1</td>\n",
       "      <td>13</td>\n",
       "    </tr>\n",
       "    <tr>\n",
       "      <th>4</th>\n",
       "      <td>42</td>\n",
       "      <td>22</td>\n",
       "      <td>124652698.0</td>\n",
       "      <td>285</td>\n",
       "      <td>36</td>\n",
       "      <td>5549</td>\n",
       "      <td>3.486942e+06</td>\n",
       "      <td>0.256</td>\n",
       "      <td>3.6</td>\n",
       "      <td>425</td>\n",
       "      <td>...</td>\n",
       "      <td>NaN</td>\n",
       "      <td>2224</td>\n",
       "      <td>CHC</td>\n",
       "      <td>139477698.0</td>\n",
       "      <td>71</td>\n",
       "      <td>1.408</td>\n",
       "      <td>51</td>\n",
       "      <td>2011</td>\n",
       "      <td>1</td>\n",
       "      <td>5</td>\n",
       "    </tr>\n",
       "  </tbody>\n",
       "</table>\n",
       "<p>5 rows × 72 columns</p>\n",
       "</div>"
      ],
      "text/plain": [
       "   #Bat  #P       25-Man   2B  3B    AB    Avg_Salary     BA  BB9  BB_x  ...   \\\n",
       "0    51  25   57930520.0  293  37  5421  1.731183e+06  0.250  2.8   531  ...    \n",
       "1    45  21   98521630.0  244  16  5528  2.321633e+06  0.243  3.2   504  ...    \n",
       "2    50  27   94391741.0  273  13  5585  1.926362e+06  0.257  3.3   452  ...    \n",
       "3    49  27  164517590.0  352  35  5710  3.671346e+06  0.280  3.3   578  ...    \n",
       "4    42  22  124652698.0  285  36  5549  3.486942e+06  0.256  3.6   425  ...    \n",
       "\n",
       "   Suspended    TB   Tm  Total Payroll   W   WHIP  WP  Year  cSho  tSho  \n",
       "0        NaN  2240  ARI     65784971.0  94  1.286  39  2011     1    12  \n",
       "1        NaN  2140  ATL     99830230.0  89  1.252  61  2011     2    16  \n",
       "2        NaN  2306  BAL     94391741.0  69  1.454  32  2011     1     7  \n",
       "3        NaN  2631  BOS    172553261.0  90  1.308  58  2011     1    13  \n",
       "4        NaN  2224  CHC    139477698.0  71  1.408  51  2011     1     5  \n",
       "\n",
       "[5 rows x 72 columns]"
      ]
     },
     "execution_count": 3,
     "metadata": {},
     "output_type": "execute_result"
    }
   ],
   "source": [
    "df.head()"
   ]
  },
  {
   "cell_type": "code",
   "execution_count": 4,
   "metadata": {},
   "outputs": [
    {
     "data": {
      "text/plain": [
       "(239, 72)"
      ]
     },
     "execution_count": 4,
     "metadata": {},
     "output_type": "execute_result"
    }
   ],
   "source": [
    "df.shape"
   ]
  },
  {
   "cell_type": "code",
   "execution_count": 5,
   "metadata": {},
   "outputs": [
    {
     "data": {
      "text/html": [
       "<div>\n",
       "<style>\n",
       "    .dataframe thead tr:only-child th {\n",
       "        text-align: right;\n",
       "    }\n",
       "\n",
       "    .dataframe thead th {\n",
       "        text-align: left;\n",
       "    }\n",
       "\n",
       "    .dataframe tbody tr th {\n",
       "        vertical-align: top;\n",
       "    }\n",
       "</style>\n",
       "<table border=\"1\" class=\"dataframe\">\n",
       "  <thead>\n",
       "    <tr style=\"text-align: right;\">\n",
       "      <th></th>\n",
       "      <th>#Bat</th>\n",
       "      <th>#P</th>\n",
       "      <th>25-Man</th>\n",
       "      <th>2B</th>\n",
       "      <th>3B</th>\n",
       "      <th>AB</th>\n",
       "      <th>Avg_Salary</th>\n",
       "      <th>BA</th>\n",
       "      <th>BB9</th>\n",
       "      <th>BB_x</th>\n",
       "      <th>...</th>\n",
       "      <th>Suspended</th>\n",
       "      <th>TB</th>\n",
       "      <th>Tm</th>\n",
       "      <th>Total Payroll</th>\n",
       "      <th>W</th>\n",
       "      <th>WHIP</th>\n",
       "      <th>WP</th>\n",
       "      <th>Year</th>\n",
       "      <th>cSho</th>\n",
       "      <th>tSho</th>\n",
       "    </tr>\n",
       "  </thead>\n",
       "  <tbody>\n",
       "    <tr>\n",
       "      <th>234</th>\n",
       "      <td>49</td>\n",
       "      <td>30</td>\n",
       "      <td>113991329.0</td>\n",
       "      <td>248</td>\n",
       "      <td>9</td>\n",
       "      <td>5498</td>\n",
       "      <td>4.549564e+06</td>\n",
       "      <td>0.249</td>\n",
       "      <td>3.7</td>\n",
       "      <td>525</td>\n",
       "      <td>...</td>\n",
       "      <td>0.0</td>\n",
       "      <td>2250</td>\n",
       "      <td>STL</td>\n",
       "      <td>163784311.0</td>\n",
       "      <td>88</td>\n",
       "      <td>1.338</td>\n",
       "      <td>63</td>\n",
       "      <td>2018</td>\n",
       "      <td>1</td>\n",
       "      <td>8</td>\n",
       "    </tr>\n",
       "    <tr>\n",
       "      <th>235</th>\n",
       "      <td>54</td>\n",
       "      <td>31</td>\n",
       "      <td>25668988.0</td>\n",
       "      <td>274</td>\n",
       "      <td>43</td>\n",
       "      <td>5475</td>\n",
       "      <td>1.966005e+06</td>\n",
       "      <td>0.258</td>\n",
       "      <td>3.1</td>\n",
       "      <td>540</td>\n",
       "      <td>...</td>\n",
       "      <td>0.0</td>\n",
       "      <td>2225</td>\n",
       "      <td>TBR</td>\n",
       "      <td>68810167.0</td>\n",
       "      <td>90</td>\n",
       "      <td>1.199</td>\n",
       "      <td>55</td>\n",
       "      <td>2018</td>\n",
       "      <td>0</td>\n",
       "      <td>14</td>\n",
       "    </tr>\n",
       "    <tr>\n",
       "      <th>236</th>\n",
       "      <td>50</td>\n",
       "      <td>32</td>\n",
       "      <td>96239016.0</td>\n",
       "      <td>266</td>\n",
       "      <td>24</td>\n",
       "      <td>5453</td>\n",
       "      <td>4.017858e+06</td>\n",
       "      <td>0.240</td>\n",
       "      <td>3.1</td>\n",
       "      <td>555</td>\n",
       "      <td>...</td>\n",
       "      <td>0.0</td>\n",
       "      <td>2204</td>\n",
       "      <td>TEX</td>\n",
       "      <td>140625018.0</td>\n",
       "      <td>67</td>\n",
       "      <td>1.403</td>\n",
       "      <td>57</td>\n",
       "      <td>2018</td>\n",
       "      <td>0</td>\n",
       "      <td>5</td>\n",
       "    </tr>\n",
       "    <tr>\n",
       "      <th>237</th>\n",
       "      <td>63</td>\n",
       "      <td>36</td>\n",
       "      <td>81293347.0</td>\n",
       "      <td>320</td>\n",
       "      <td>16</td>\n",
       "      <td>5477</td>\n",
       "      <td>4.079626e+06</td>\n",
       "      <td>0.244</td>\n",
       "      <td>3.5</td>\n",
       "      <td>499</td>\n",
       "      <td>...</td>\n",
       "      <td>0.0</td>\n",
       "      <td>2339</td>\n",
       "      <td>TOR</td>\n",
       "      <td>150946147.0</td>\n",
       "      <td>73</td>\n",
       "      <td>1.414</td>\n",
       "      <td>71</td>\n",
       "      <td>2018</td>\n",
       "      <td>0</td>\n",
       "      <td>3</td>\n",
       "    </tr>\n",
       "    <tr>\n",
       "      <th>238</th>\n",
       "      <td>53</td>\n",
       "      <td>31</td>\n",
       "      <td>130197979.0</td>\n",
       "      <td>284</td>\n",
       "      <td>25</td>\n",
       "      <td>5517</td>\n",
       "      <td>5.182360e+06</td>\n",
       "      <td>0.254</td>\n",
       "      <td>3.0</td>\n",
       "      <td>631</td>\n",
       "      <td>...</td>\n",
       "      <td>0.0</td>\n",
       "      <td>2309</td>\n",
       "      <td>WSN</td>\n",
       "      <td>181382609.0</td>\n",
       "      <td>82</td>\n",
       "      <td>1.250</td>\n",
       "      <td>42</td>\n",
       "      <td>2018</td>\n",
       "      <td>1</td>\n",
       "      <td>7</td>\n",
       "    </tr>\n",
       "  </tbody>\n",
       "</table>\n",
       "<p>5 rows × 72 columns</p>\n",
       "</div>"
      ],
      "text/plain": [
       "     #Bat  #P       25-Man   2B  3B    AB    Avg_Salary     BA  BB9  BB_x  \\\n",
       "234    49  30  113991329.0  248   9  5498  4.549564e+06  0.249  3.7   525   \n",
       "235    54  31   25668988.0  274  43  5475  1.966005e+06  0.258  3.1   540   \n",
       "236    50  32   96239016.0  266  24  5453  4.017858e+06  0.240  3.1   555   \n",
       "237    63  36   81293347.0  320  16  5477  4.079626e+06  0.244  3.5   499   \n",
       "238    53  31  130197979.0  284  25  5517  5.182360e+06  0.254  3.0   631   \n",
       "\n",
       "     ...   Suspended    TB   Tm  Total Payroll   W   WHIP  WP  Year  cSho  \\\n",
       "234  ...         0.0  2250  STL    163784311.0  88  1.338  63  2018     1   \n",
       "235  ...         0.0  2225  TBR     68810167.0  90  1.199  55  2018     0   \n",
       "236  ...         0.0  2204  TEX    140625018.0  67  1.403  57  2018     0   \n",
       "237  ...         0.0  2339  TOR    150946147.0  73  1.414  71  2018     0   \n",
       "238  ...         0.0  2309  WSN    181382609.0  82  1.250  42  2018     1   \n",
       "\n",
       "     tSho  \n",
       "234     8  \n",
       "235    14  \n",
       "236     5  \n",
       "237     3  \n",
       "238     7  \n",
       "\n",
       "[5 rows x 72 columns]"
      ]
     },
     "execution_count": 5,
     "metadata": {},
     "output_type": "execute_result"
    }
   ],
   "source": [
    "df.tail()"
   ]
  },
  {
   "cell_type": "code",
   "execution_count": 6,
   "metadata": {},
   "outputs": [
    {
     "data": {
      "text/plain": [
       "#Bat               int64\n",
       "#P                 int64\n",
       "25-Man           float64\n",
       "2B                 int64\n",
       "3B                 int64\n",
       "AB                 int64\n",
       "Avg_Salary       float64\n",
       "BA               float64\n",
       "BB9              float64\n",
       "BB_x               int64\n",
       "BB_y               int64\n",
       "BF                 int64\n",
       "BK                 int64\n",
       "BatAge           float64\n",
       "Buried           float64\n",
       "CG                 int64\n",
       "CS                 int64\n",
       "Disabled List    float64\n",
       "ER                 int64\n",
       "ERA              float64\n",
       "ERA+               int64\n",
       "FIP              float64\n",
       "GDP                int64\n",
       "GF                 int64\n",
       "GS                 int64\n",
       "G_x                int64\n",
       "G_y                int64\n",
       "H9               float64\n",
       "HBP_x              int64\n",
       "HBP_y              int64\n",
       "                  ...   \n",
       "OPS+               int64\n",
       "PA                 int64\n",
       "PAge             float64\n",
       "R/G              float64\n",
       "RA/G             float64\n",
       "RBI                int64\n",
       "R_x                int64\n",
       "R_y                int64\n",
       "Rank             float64\n",
       "Retained         float64\n",
       "Roster             int64\n",
       "SB                 int64\n",
       "SF                 int64\n",
       "SH                 int64\n",
       "SLG              float64\n",
       "SO/W             float64\n",
       "SO9              float64\n",
       "SO_x               int64\n",
       "SO_y               int64\n",
       "SV                 int64\n",
       "Suspended        float64\n",
       "TB                 int64\n",
       "Tm                object\n",
       "Total Payroll    float64\n",
       "W                  int64\n",
       "WHIP             float64\n",
       "WP                 int64\n",
       "Year               int64\n",
       "cSho               int64\n",
       "tSho               int64\n",
       "Length: 72, dtype: object"
      ]
     },
     "execution_count": 6,
     "metadata": {},
     "output_type": "execute_result"
    }
   ],
   "source": [
    "df.dtypes"
   ]
  },
  {
   "cell_type": "code",
   "execution_count": 7,
   "metadata": {},
   "outputs": [
    {
     "data": {
      "text/plain": [
       "Index(['#Bat', '#P', '25-Man', '2B', '3B', 'AB', 'Avg_Salary', 'BA', 'BB9',\n",
       "       'BB_x', 'BB_y', 'BF', 'BK', 'BatAge', 'Buried', 'CG', 'CS',\n",
       "       'Disabled List', 'ER', 'ERA', 'ERA+', 'FIP', 'GDP', 'GF', 'GS', 'G_x',\n",
       "       'G_y', 'H9', 'HBP_x', 'HBP_y', 'HR9', 'HR_x', 'HR_y', 'H_x', 'H_y',\n",
       "       'IBB_x', 'IBB_y', 'IP', 'LOB_x', 'LOB_y', 'OBP', 'OPS', 'OPS+', 'PA',\n",
       "       'PAge', 'R/G', 'RA/G', 'RBI', 'R_x', 'R_y', 'Rank', 'Retained',\n",
       "       'Roster', 'SB', 'SF', 'SH', 'SLG', 'SO/W', 'SO9', 'SO_x', 'SO_y', 'SV',\n",
       "       'Suspended', 'TB', 'Tm', 'Total Payroll', 'W', 'WHIP', 'WP', 'Year',\n",
       "       'cSho', 'tSho'],\n",
       "      dtype='object')"
      ]
     },
     "execution_count": 7,
     "metadata": {},
     "output_type": "execute_result"
    }
   ],
   "source": [
    "df.columns"
   ]
  },
  {
   "cell_type": "code",
   "execution_count": 8,
   "metadata": {},
   "outputs": [
    {
     "data": {
      "text/plain": [
       "2018    30\n",
       "2017    30\n",
       "2016    30\n",
       "2015    30\n",
       "2014    30\n",
       "2013    30\n",
       "2012    30\n",
       "2011    29\n",
       "Name: Year, dtype: int64"
      ]
     },
     "execution_count": 8,
     "metadata": {},
     "output_type": "execute_result"
    }
   ],
   "source": [
    "df.Year.value_counts()"
   ]
  },
  {
   "cell_type": "code",
   "execution_count": 9,
   "metadata": {
    "collapsed": true
   },
   "outputs": [],
   "source": [
    "correlation = df.corr()"
   ]
  },
  {
   "cell_type": "code",
   "execution_count": 10,
   "metadata": {},
   "outputs": [
    {
     "data": {
      "text/plain": [
       "#Bat            -0.288480\n",
       "#P              -0.247136\n",
       "25-Man           0.513069\n",
       "2B               0.317035\n",
       "3B              -0.089006\n",
       "AB               0.134088\n",
       "Avg_Salary       0.306017\n",
       "BA               0.378658\n",
       "BB9             -0.481999\n",
       "BB_x             0.458665\n",
       "BB_y            -0.453219\n",
       "BF              -0.588028\n",
       "BK              -0.206974\n",
       "BatAge           0.262656\n",
       "Buried           0.070167\n",
       "CG               0.228315\n",
       "CS              -0.175995\n",
       "Disabled List   -0.106827\n",
       "ER              -0.721523\n",
       "ERA             -0.727691\n",
       "ERA+             0.802283\n",
       "FIP             -0.612804\n",
       "GDP              0.080360\n",
       "GF              -0.213823\n",
       "GS               0.130083\n",
       "G_x              0.130083\n",
       "G_y              0.130083\n",
       "H9              -0.704778\n",
       "HBP_x            0.222003\n",
       "HBP_y           -0.111587\n",
       "                   ...   \n",
       "OPS              0.542539\n",
       "OPS+             0.603916\n",
       "PA               0.450390\n",
       "PAge             0.319259\n",
       "R/G              0.569436\n",
       "RA/G            -0.740626\n",
       "RBI              0.568976\n",
       "R_x              0.571025\n",
       "R_y             -0.739640\n",
       "Rank            -0.405430\n",
       "Retained        -0.322973\n",
       "Roster           0.117970\n",
       "SB              -0.037598\n",
       "SF               0.306124\n",
       "SH              -0.040650\n",
       "SLG              0.473929\n",
       "SO/W             0.605483\n",
       "SO9              0.440743\n",
       "SO_x            -0.174412\n",
       "SO_y             0.477075\n",
       "SV               0.621094\n",
       "Suspended       -0.063330\n",
       "TB               0.454578\n",
       "Total Payroll    0.358529\n",
       "W                1.000000\n",
       "WHIP            -0.750118\n",
       "WP              -0.131695\n",
       "Year            -0.004962\n",
       "cSho             0.233149\n",
       "tSho             0.499969\n",
       "Name: W, Length: 71, dtype: float64"
      ]
     },
     "execution_count": 10,
     "metadata": {},
     "output_type": "execute_result"
    }
   ],
   "source": [
    "W_corr = correlation.W\n",
    "W_corr"
   ]
  },
  {
   "cell_type": "code",
   "execution_count": 11,
   "metadata": {},
   "outputs": [
    {
     "data": {
      "text/plain": [
       "#Bat              0\n",
       "#P                0\n",
       "25-Man            0\n",
       "2B                0\n",
       "3B                0\n",
       "AB                0\n",
       "Avg_Salary        0\n",
       "BA                0\n",
       "BB9               0\n",
       "BB_x              0\n",
       "BB_y              0\n",
       "BF                0\n",
       "BK                0\n",
       "BatAge            0\n",
       "Buried           89\n",
       "CG                0\n",
       "CS                0\n",
       "Disabled List    89\n",
       "ER                0\n",
       "ERA               0\n",
       "ERA+              0\n",
       "FIP               0\n",
       "GDP               0\n",
       "GF                0\n",
       "GS                0\n",
       "G_x               0\n",
       "G_y               0\n",
       "H9                0\n",
       "HBP_x             0\n",
       "HBP_y             0\n",
       "                 ..\n",
       "OPS+              0\n",
       "PA                0\n",
       "PAge              0\n",
       "R/G               0\n",
       "RA/G              0\n",
       "RBI               0\n",
       "R_x               0\n",
       "R_y               0\n",
       "Rank             89\n",
       "Retained         89\n",
       "Roster            0\n",
       "SB                0\n",
       "SF                0\n",
       "SH                0\n",
       "SLG               0\n",
       "SO/W              0\n",
       "SO9               0\n",
       "SO_x              0\n",
       "SO_y              0\n",
       "SV                0\n",
       "Suspended        89\n",
       "TB                0\n",
       "Tm                0\n",
       "Total Payroll     0\n",
       "W                 0\n",
       "WHIP              0\n",
       "WP                0\n",
       "Year              0\n",
       "cSho              0\n",
       "tSho              0\n",
       "Length: 72, dtype: int64"
      ]
     },
     "execution_count": 11,
     "metadata": {},
     "output_type": "execute_result"
    }
   ],
   "source": [
    "#df.SV.isna().sum()\n",
    "df.isnull().sum()"
   ]
  },
  {
   "cell_type": "code",
   "execution_count": 12,
   "metadata": {},
   "outputs": [
    {
     "data": {
      "text/plain": [
       "Index(['#Bat', '#P', '25-Man', '2B', '3B', 'AB', 'Avg_Salary', 'BA', 'BB9',\n",
       "       'BB_x', 'BB_y', 'BF', 'BK', 'BatAge', 'Buried', 'CG', 'CS',\n",
       "       'Disabled List', 'ER', 'ERA', 'ERA+', 'FIP', 'GDP', 'GF', 'GS', 'G_x',\n",
       "       'G_y', 'H9', 'HBP_x', 'HBP_y', 'HR9', 'HR_x', 'HR_y', 'H_x', 'H_y',\n",
       "       'IBB_x', 'IBB_y', 'IP', 'LOB_x', 'LOB_y', 'OBP', 'OPS', 'OPS+', 'PA',\n",
       "       'PAge', 'R/G', 'RA/G', 'RBI', 'R_x', 'R_y', 'Rank', 'Retained',\n",
       "       'Roster', 'SB', 'SF', 'SH', 'SLG', 'SO/W', 'SO9', 'SO_x', 'SO_y', 'SV',\n",
       "       'Suspended', 'TB', 'Tm', 'Total Payroll', 'W', 'WHIP', 'WP', 'Year',\n",
       "       'cSho', 'tSho'],\n",
       "      dtype='object')"
      ]
     },
     "execution_count": 12,
     "metadata": {},
     "output_type": "execute_result"
    }
   ],
   "source": [
    "df.columns"
   ]
  },
  {
   "cell_type": "markdown",
   "metadata": {},
   "source": [
    "# Split the data into training & test sets."
   ]
  },
  {
   "cell_type": "code",
   "execution_count": 13,
   "metadata": {
    "collapsed": true
   },
   "outputs": [],
   "source": [
    "y = df.W\n",
    "#y"
   ]
  },
  {
   "cell_type": "markdown",
   "metadata": {},
   "source": [
    "## Linear Regression with scikit learn model"
   ]
  },
  {
   "cell_type": "code",
   "execution_count": 14,
   "metadata": {},
   "outputs": [
    {
     "name": "stdout",
     "output_type": "stream",
     "text": [
      "(191, 6) (191,)\n",
      "(48, 6) (48,)\n"
     ]
    }
   ],
   "source": [
    "# create training and testing vars\n",
    "predictors = ['ERA','25-Man','SV','SLG','OBP','BA']\n",
    "X = df[predictors]\n",
    "X_train, X_test, y_train, y_test = train_test_split(X, y, test_size=0.2,random_state =42)\n",
    "print(X_train.shape, y_train.shape)\n",
    "print(X_test.shape, y_test.shape)"
   ]
  },
  {
   "cell_type": "code",
   "execution_count": 15,
   "metadata": {
    "collapsed": true
   },
   "outputs": [],
   "source": [
    "# fit a model\n",
    "lm = LinearRegression()\n",
    "model = lm.fit(X_train, y_train)\n",
    "predictions = lm.predict(X_test)"
   ]
  },
  {
   "cell_type": "code",
   "execution_count": 16,
   "metadata": {},
   "outputs": [
    {
     "name": "stdout",
     "output_type": "stream",
     "text": [
      "The Trainng Score For Model 1:\n",
      "0.893179087426\n",
      "\n",
      "The Test Score For Model 1:\n",
      "0.88767317079\n",
      "\n",
      "[ -1.36088360e+01   2.07094854e-08   3.54368137e-01   1.91589685e+02\n",
      "   1.54554125e+02  -4.40510444e+01]\n"
     ]
    }
   ],
   "source": [
    "print(\"The Trainng Score For Model 1:\")\n",
    "print(lm.score(X_train,y_train))\n",
    "print()\n",
    "print(\"The Test Score For Model 1:\")\n",
    "print(lm.score(X_test,y_test))\n",
    "print()\n",
    "print(model.coef_)"
   ]
  },
  {
   "cell_type": "code",
   "execution_count": 17,
   "metadata": {},
   "outputs": [
    {
     "data": {
      "text/plain": [
       "<matplotlib.text.Text at 0x1122900f0>"
      ]
     },
     "execution_count": 17,
     "metadata": {},
     "output_type": "execute_result"
    },
    {
     "data": {
      "image/png": "[encoded data removed]",
      "text/plain": [
       "<matplotlib.figure.Figure at 0x112087cc0>"
      ]
     },
     "metadata": {},
     "output_type": "display_data"
    }
   ],
   "source": [
    "plt.scatter(y_test, predictions)\n",
    "plt.xlabel('True Values')\n",
    "plt.ylabel('Predictions')"
   ]
  },
  {
   "cell_type": "code",
   "execution_count": 18,
   "metadata": {},
   "outputs": [
    {
     "name": "stdout",
     "output_type": "stream",
     "text": [
      "For Linear Regression Model 1:\n",
      "Root Mean Squared Error Train: 3.5858843055916756\n",
      "\n",
      "Root Mean Squared Error Test: 4.303196145972421\n",
      "\n"
     ]
    }
   ],
   "source": [
    "pred_tr = lm.predict(X_train)\n",
    "rmse_train = np.sqrt(mean_squared_error(y_train,pred_tr))\n",
    "print('For Linear Regression Model 1:')\n",
    "print(\"Root Mean Squared Error Train: {}\".format(rmse_train))\n",
    "print()\n",
    "rmse_test = np.sqrt(mean_squared_error(y_test,predictions))\n",
    "print(\"Root Mean Squared Error Test: {}\".format(rmse_test))\n",
    "print()"
   ]
  },
  {
   "cell_type": "markdown",
   "metadata": {},
   "source": [
    "## LINEAR REGRESSION WITH STATSMODEL"
   ]
  },
  {
   "cell_type": "code",
   "execution_count": 19,
   "metadata": {
    "collapsed": true
   },
   "outputs": [],
   "source": [
    "predictors = ['ERA','25-Man','SV','SLG','OBP','BA']"
   ]
  },
  {
   "cell_type": "code",
   "execution_count": 20,
   "metadata": {},
   "outputs": [
    {
     "name": "stdout",
     "output_type": "stream",
     "text": [
      "statsmodel 1\n",
      "                            OLS Regression Results                            \n",
      "==============================================================================\n",
      "Dep. Variable:                      W   R-squared:                       0.998\n",
      "Model:                            OLS   Adj. R-squared:                  0.998\n",
      "Method:                 Least Squares   F-statistic:                 1.629e+04\n",
      "Date:                Wed, 29 May 2019   Prob (F-statistic):          5.05e-249\n",
      "Time:                        13:01:29   Log-Likelihood:                -514.99\n",
      "No. Observations:                 191   AIC:                             1042.\n",
      "Df Residuals:                     185   BIC:                             1061.\n",
      "Df Model:                           6                                         \n",
      "Covariance Type:            nonrobust                                         \n",
      "==============================================================================\n",
      "                 coef    std err          t      P>|t|      [0.025      0.975]\n",
      "------------------------------------------------------------------------------\n",
      "ERA          -13.4821      0.657    -20.506      0.000     -14.779     -12.185\n",
      "25-Man      2.022e-08   6.84e-09      2.958      0.004    6.73e-09    3.37e-08\n",
      "SV             0.3610      0.041      8.897      0.000       0.281       0.441\n",
      "SLG          189.3891     15.932     11.887      0.000     157.957     220.822\n",
      "OBP          165.1067     36.128      4.570      0.000      93.831     236.383\n",
      "BA           -44.0248     41.589     -1.059      0.291    -126.075      38.025\n",
      "==============================================================================\n",
      "Omnibus:                        0.348   Durbin-Watson:                   1.867\n",
      "Prob(Omnibus):                  0.840   Jarque-Bera (JB):                0.204\n",
      "Skew:                          -0.076   Prob(JB):                        0.903\n",
      "Kurtosis:                       3.049   Cond. No.                     2.17e+10\n",
      "==============================================================================\n",
      "\n",
      "Warnings:\n",
      "[1] Standard Errors assume that the covariance matrix of the errors is correctly specified.\n",
      "[2] The condition number is large, 2.17e+10. This might indicate that there are\n",
      "strong multicollinearity or other numerical problems.\n"
     ]
    }
   ],
   "source": [
    "model = sm.OLS(y_train, X_train)\n",
    "results = model.fit()\n",
    "print('statsmodel 1')\n",
    "print(results.summary())"
   ]
  },
  {
   "cell_type": "code",
   "execution_count": 21,
   "metadata": {
    "collapsed": true
   },
   "outputs": [],
   "source": [
    "resid = results.resid"
   ]
  },
  {
   "cell_type": "code",
   "execution_count": 22,
   "metadata": {},
   "outputs": [
    {
     "data": {
      "text/plain": [
       "<matplotlib.axes._subplots.AxesSubplot at 0x11555e2b0>"
      ]
     },
     "execution_count": 22,
     "metadata": {},
     "output_type": "execute_result"
    },
    {
     "data": {
      "image/png": "[encoded data removed]",
      "text/plain": [
       "<matplotlib.figure.Figure at 0x112087ba8>"
      ]
     },
     "metadata": {},
     "output_type": "display_data"
    }
   ],
   "source": [
    "sns.distplot(resid)"
   ]
  },
  {
   "cell_type": "markdown",
   "metadata": {},
   "source": [
    "## MODEL 2 WITH FEWER PREDICTORS: 'ERA','25-Man','SV','OBP'"
   ]
  },
  {
   "cell_type": "code",
   "execution_count": 23,
   "metadata": {},
   "outputs": [
    {
     "name": "stdout",
     "output_type": "stream",
     "text": [
      "(191, 4) (191,)\n",
      "(48, 4) (48,)\n"
     ]
    }
   ],
   "source": [
    "predictors = ['ERA','25-Man','SV','OBP']\n",
    "X = df[predictors]\n",
    "y = df.W\n",
    "X_train, X_test, y_train, y_test = train_test_split(X, y, test_size=0.2, random_state =42)\n",
    "print(X_train.shape, y_train.shape)\n",
    "print(X_test.shape, y_test.shape)"
   ]
  },
  {
   "cell_type": "code",
   "execution_count": 24,
   "metadata": {
    "collapsed": true
   },
   "outputs": [],
   "source": [
    "#X_train"
   ]
  },
  {
   "cell_type": "code",
   "execution_count": 25,
   "metadata": {
    "collapsed": true
   },
   "outputs": [],
   "source": [
    "#X_test"
   ]
  },
  {
   "cell_type": "markdown",
   "metadata": {},
   "source": [
    "## scikit learn model"
   ]
  },
  {
   "cell_type": "code",
   "execution_count": 26,
   "metadata": {
    "collapsed": true
   },
   "outputs": [],
   "source": [
    "# fit a model\n",
    "lm2 = LinearRegression()\n",
    "model2 = lm2.fit(X_train, y_train)\n",
    "pred2_ts = lm2.predict(X_test)"
   ]
  },
  {
   "cell_type": "code",
   "execution_count": 27,
   "metadata": {},
   "outputs": [
    {
     "name": "stdout",
     "output_type": "stream",
     "text": [
      "The Training Score For Model 2:\n",
      "0.820973368621\n",
      "\n",
      "The Test Score For Model 2:\n",
      "0.861491080668\n",
      "\n",
      "[ -1.04254804e+01   3.15223300e-08   4.61854405e-01   4.27196630e+02]\n"
     ]
    }
   ],
   "source": [
    "print(\"The Training Score For Model 2:\")\n",
    "print(lm2.score(X_train,y_train))\n",
    "print()\n",
    "print(\"The Test Score For Model 2:\")\n",
    "print(lm2.score(X_test,y_test))\n",
    "print()\n",
    "print(model2.coef_)"
   ]
  },
  {
   "cell_type": "code",
   "execution_count": 28,
   "metadata": {},
   "outputs": [
    {
     "name": "stdout",
     "output_type": "stream",
     "text": [
      "Root Mean Squared Error for model 2 Train: 4.642233181556876\n",
      "\n",
      "Root Mean Squared Error for model 2 Test: 4.7784633885448695\n",
      "\n"
     ]
    }
   ],
   "source": [
    "pred_tr2 = lm2.predict(X_train)\n",
    "predictions2 = lm2.predict(X_test)\n",
    "rmse_train = np.sqrt(mean_squared_error(y_train,pred_tr2))\n",
    "print(\"Root Mean Squared Error for model 2 Train: {}\".format(rmse_train))\n",
    "print()\n",
    "rmse_test = np.sqrt(mean_squared_error(y_test,predictions2))\n",
    "print(\"Root Mean Squared Error for model 2 Test: {}\".format(rmse_test))\n",
    "print()"
   ]
  },
  {
   "cell_type": "markdown",
   "metadata": {},
   "source": [
    "## LINEAR REGRESSION WITH STATSMODEL"
   ]
  },
  {
   "cell_type": "code",
   "execution_count": 29,
   "metadata": {},
   "outputs": [
    {
     "name": "stdout",
     "output_type": "stream",
     "text": [
      "statsmodel Model 2\n",
      "                            OLS Regression Results                            \n",
      "==============================================================================\n",
      "Dep. Variable:                      W   R-squared:                       0.997\n",
      "Model:                            OLS   Adj. R-squared:                  0.997\n",
      "Method:                 Least Squares   F-statistic:                 1.397e+04\n",
      "Date:                Wed, 29 May 2019   Prob (F-statistic):          2.43e-230\n",
      "Time:                        13:01:30   Log-Likelihood:                -569.26\n",
      "No. Observations:                 191   AIC:                             1147.\n",
      "Df Residuals:                     187   BIC:                             1160.\n",
      "Df Model:                           4                                         \n",
      "Covariance Type:            nonrobust                                         \n",
      "==============================================================================\n",
      "                 coef    std err          t      P>|t|      [0.025      0.975]\n",
      "------------------------------------------------------------------------------\n",
      "ERA          -11.5502      0.808    -14.300      0.000     -13.144      -9.957\n",
      "25-Man      3.942e-08   8.76e-09      4.499      0.000    2.21e-08    5.67e-08\n",
      "SV             0.3933      0.053      7.377      0.000       0.288       0.498\n",
      "OBP          336.9826     15.489     21.756      0.000     306.426     367.539\n",
      "==============================================================================\n",
      "Omnibus:                        3.386   Durbin-Watson:                   1.889\n",
      "Prob(Omnibus):                  0.184   Jarque-Bera (JB):                2.511\n",
      "Skew:                           0.128   Prob(JB):                        0.285\n",
      "Kurtosis:                       2.500   Cond. No.                     4.83e+09\n",
      "==============================================================================\n",
      "\n",
      "Warnings:\n",
      "[1] Standard Errors assume that the covariance matrix of the errors is correctly specified.\n",
      "[2] The condition number is large, 4.83e+09. This might indicate that there are\n",
      "strong multicollinearity or other numerical problems.\n"
     ]
    }
   ],
   "source": [
    "sm_model2 = sm.OLS(y_train, X_train)\n",
    "results2 = sm_model2.fit()\n",
    "print('statsmodel Model 2')\n",
    "print(results2.summary())"
   ]
  },
  {
   "cell_type": "code",
   "execution_count": 30,
   "metadata": {
    "collapsed": true
   },
   "outputs": [],
   "source": [
    "#########################################################################################"
   ]
  },
  {
   "cell_type": "markdown",
   "metadata": {
    "collapsed": true
   },
   "source": [
    "## Model 3 with 4 Predictors: 'ERA','25-Man','SV','SLG'"
   ]
  },
  {
   "cell_type": "code",
   "execution_count": 31,
   "metadata": {},
   "outputs": [
    {
     "name": "stdout",
     "output_type": "stream",
     "text": [
      "(191, 4) (191,)\n",
      "(48, 4) (48,)\n"
     ]
    }
   ],
   "source": [
    "predictors = ['ERA','25-Man','SV','SLG']\n",
    "X = df[predictors]\n",
    "y = df.W\n",
    "X_train, X_test, y_train, y_test = train_test_split(X, y, test_size=0.2,random_state =42)\n",
    "print(X_train.shape, y_train.shape)\n",
    "print(X_test.shape, y_test.shape)"
   ]
  },
  {
   "cell_type": "code",
   "execution_count": 32,
   "metadata": {},
   "outputs": [
    {
     "name": "stdout",
     "output_type": "stream",
     "text": [
      "The Training Score For Model 3:\n",
      "0.886118609064\n",
      "\n",
      "The Test Score For Model 3:\n",
      "0.870849998009\n",
      "\n",
      "[ -1.44875111e+01   2.46748488e-08   3.24473737e-01   2.32949997e+02]\n"
     ]
    }
   ],
   "source": [
    "# fit a model\n",
    "lm3= LinearRegression()\n",
    "model3= lm3.fit(X_train, y_train)\n",
    "#odel3= lm3fit(X_train, y_train)\n",
    "pred3_test = lm3.predict(X_test)\n",
    "#red3ts = lm3predict(X_test)\n",
    "\n",
    "# evaluate & print scores for training & test data set\n",
    "# fit a model\n",
    "print(\"The Training Score For Model 3:\")\n",
    "print(lm3.score(X_train, y_train))\n",
    "print()\n",
    "print(\"The Test Score For Model 3:\")\n",
    "print(lm3.score(X_test, y_test))\n",
    "print()\n",
    "print(model3.coef_)\n"
   ]
  },
  {
   "cell_type": "code",
   "execution_count": 33,
   "metadata": {},
   "outputs": [
    {
     "name": "stdout",
     "output_type": "stream",
     "text": [
      "Root Mean train Squared Error for model 3 Train: 3.702495275250317\n",
      "\n",
      "Root Mean test Squared Error for model 3 Test: 4.614201978517011\n",
      "\n"
     ]
    }
   ],
   "source": [
    "pred_tr3 = lm3.predict(X_train)\n",
    "predictions3 = lm3.predict(X_test)\n",
    "rmse_train = np.sqrt(mean_squared_error(y_train,pred_tr3))\n",
    "print(\"Root Mean train Squared Error for model 3 Train: {}\".format(rmse_train))\n",
    "print()\n",
    "rmse_test = np.sqrt(mean_squared_error(y_test,predictions3))\n",
    "print(\"Root Mean test Squared Error for model 3 Test: {}\".format(rmse_test))\n",
    "print()"
   ]
  },
  {
   "cell_type": "markdown",
   "metadata": {},
   "source": [
    "## Statsmodel Linear Regression"
   ]
  },
  {
   "cell_type": "code",
   "execution_count": 34,
   "metadata": {},
   "outputs": [
    {
     "name": "stdout",
     "output_type": "stream",
     "text": [
      "statsmodel Model 3\n",
      "                            OLS Regression Results                            \n",
      "==============================================================================\n",
      "Dep. Variable:                      W   R-squared:                       0.998\n",
      "Model:                            OLS   Adj. R-squared:                  0.998\n",
      "Method:                 Least Squares   F-statistic:                 2.006e+04\n",
      "Date:                Wed, 29 May 2019   Prob (F-statistic):          5.40e-245\n",
      "Time:                        13:01:30   Log-Likelihood:                -534.79\n",
      "No. Observations:                 191   AIC:                             1078.\n",
      "Df Residuals:                     187   BIC:                             1091.\n",
      "Df Model:                           4                                         \n",
      "Covariance Type:            nonrobust                                         \n",
      "==============================================================================\n",
      "                 coef    std err          t      P>|t|      [0.025      0.975]\n",
      "------------------------------------------------------------------------------\n",
      "ERA          -12.5932      0.678    -18.566      0.000     -13.931     -11.255\n",
      "25-Man       2.11e-08   7.53e-09      2.800      0.006    6.23e-09     3.6e-08\n",
      "SV             0.4492      0.042     10.746      0.000       0.367       0.532\n",
      "SLG          273.2779      9.911     27.573      0.000     253.726     292.830\n",
      "==============================================================================\n",
      "Omnibus:                        1.955   Durbin-Watson:                   1.980\n",
      "Prob(Omnibus):                  0.376   Jarque-Bera (JB):                1.575\n",
      "Skew:                          -0.195   Prob(JB):                        0.455\n",
      "Kurtosis:                       3.216   Cond. No.                     3.70e+09\n",
      "==============================================================================\n",
      "\n",
      "Warnings:\n",
      "[1] Standard Errors assume that the covariance matrix of the errors is correctly specified.\n",
      "[2] The condition number is large, 3.7e+09. This might indicate that there are\n",
      "strong multicollinearity or other numerical problems.\n"
     ]
    }
   ],
   "source": [
    "sm_model3 = sm.OLS(y_train, X_train)\n",
    "results3 = sm_model3.fit()\n",
    "print('statsmodel Model 3')\n",
    "print(results3.summary())"
   ]
  },
  {
   "cell_type": "code",
   "execution_count": null,
   "metadata": {
    "collapsed": true
   },
   "outputs": [],
   "source": []
  },
  {
   "cell_type": "code",
   "execution_count": 35,
   "metadata": {
    "collapsed": true
   },
   "outputs": [],
   "source": [
    "######################################################################################"
   ]
  },
  {
   "cell_type": "code",
   "execution_count": 36,
   "metadata": {
    "collapsed": true
   },
   "outputs": [],
   "source": [
    "#standardScalerX = StandardScaler()\n",
    "#x = standardScalerX.fit_transform(X)"
   ]
  },
  {
   "cell_type": "code",
   "execution_count": 37,
   "metadata": {},
   "outputs": [
    {
     "data": {
      "text/html": [
       "<div>\n",
       "<style>\n",
       "    .dataframe thead tr:only-child th {\n",
       "        text-align: right;\n",
       "    }\n",
       "\n",
       "    .dataframe thead th {\n",
       "        text-align: left;\n",
       "    }\n",
       "\n",
       "    .dataframe tbody tr th {\n",
       "        vertical-align: top;\n",
       "    }\n",
       "</style>\n",
       "<table border=\"1\" class=\"dataframe\">\n",
       "  <thead>\n",
       "    <tr style=\"text-align: right;\">\n",
       "      <th></th>\n",
       "      <th>#Bat</th>\n",
       "      <th>#P</th>\n",
       "      <th>25-Man</th>\n",
       "      <th>2B</th>\n",
       "      <th>3B</th>\n",
       "      <th>AB</th>\n",
       "      <th>Avg_Salary</th>\n",
       "      <th>BA</th>\n",
       "      <th>BB9</th>\n",
       "      <th>BB_x</th>\n",
       "      <th>...</th>\n",
       "      <th>Suspended</th>\n",
       "      <th>TB</th>\n",
       "      <th>Tm</th>\n",
       "      <th>Total Payroll</th>\n",
       "      <th>W</th>\n",
       "      <th>WHIP</th>\n",
       "      <th>WP</th>\n",
       "      <th>Year</th>\n",
       "      <th>cSho</th>\n",
       "      <th>tSho</th>\n",
       "    </tr>\n",
       "  </thead>\n",
       "  <tbody>\n",
       "    <tr>\n",
       "      <th>0</th>\n",
       "      <td>51</td>\n",
       "      <td>25</td>\n",
       "      <td>57930520.0</td>\n",
       "      <td>293</td>\n",
       "      <td>37</td>\n",
       "      <td>5421</td>\n",
       "      <td>1.731183e+06</td>\n",
       "      <td>0.250</td>\n",
       "      <td>2.8</td>\n",
       "      <td>531</td>\n",
       "      <td>...</td>\n",
       "      <td>NaN</td>\n",
       "      <td>2240</td>\n",
       "      <td>ARI</td>\n",
       "      <td>65784971.0</td>\n",
       "      <td>94</td>\n",
       "      <td>1.286</td>\n",
       "      <td>39</td>\n",
       "      <td>2011</td>\n",
       "      <td>1</td>\n",
       "      <td>12</td>\n",
       "    </tr>\n",
       "    <tr>\n",
       "      <th>1</th>\n",
       "      <td>45</td>\n",
       "      <td>21</td>\n",
       "      <td>98521630.0</td>\n",
       "      <td>244</td>\n",
       "      <td>16</td>\n",
       "      <td>5528</td>\n",
       "      <td>2.321633e+06</td>\n",
       "      <td>0.243</td>\n",
       "      <td>3.2</td>\n",
       "      <td>504</td>\n",
       "      <td>...</td>\n",
       "      <td>NaN</td>\n",
       "      <td>2140</td>\n",
       "      <td>ATL</td>\n",
       "      <td>99830230.0</td>\n",
       "      <td>89</td>\n",
       "      <td>1.252</td>\n",
       "      <td>61</td>\n",
       "      <td>2011</td>\n",
       "      <td>2</td>\n",
       "      <td>16</td>\n",
       "    </tr>\n",
       "    <tr>\n",
       "      <th>2</th>\n",
       "      <td>50</td>\n",
       "      <td>27</td>\n",
       "      <td>94391741.0</td>\n",
       "      <td>273</td>\n",
       "      <td>13</td>\n",
       "      <td>5585</td>\n",
       "      <td>1.926362e+06</td>\n",
       "      <td>0.257</td>\n",
       "      <td>3.3</td>\n",
       "      <td>452</td>\n",
       "      <td>...</td>\n",
       "      <td>NaN</td>\n",
       "      <td>2306</td>\n",
       "      <td>BAL</td>\n",
       "      <td>94391741.0</td>\n",
       "      <td>69</td>\n",
       "      <td>1.454</td>\n",
       "      <td>32</td>\n",
       "      <td>2011</td>\n",
       "      <td>1</td>\n",
       "      <td>7</td>\n",
       "    </tr>\n",
       "  </tbody>\n",
       "</table>\n",
       "<p>3 rows × 72 columns</p>\n",
       "</div>"
      ],
      "text/plain": [
       "   #Bat  #P      25-Man   2B  3B    AB    Avg_Salary     BA  BB9  BB_x  ...   \\\n",
       "0    51  25  57930520.0  293  37  5421  1.731183e+06  0.250  2.8   531  ...    \n",
       "1    45  21  98521630.0  244  16  5528  2.321633e+06  0.243  3.2   504  ...    \n",
       "2    50  27  94391741.0  273  13  5585  1.926362e+06  0.257  3.3   452  ...    \n",
       "\n",
       "   Suspended    TB   Tm  Total Payroll   W   WHIP  WP  Year  cSho  tSho  \n",
       "0        NaN  2240  ARI     65784971.0  94  1.286  39  2011     1    12  \n",
       "1        NaN  2140  ATL     99830230.0  89  1.252  61  2011     2    16  \n",
       "2        NaN  2306  BAL     94391741.0  69  1.454  32  2011     1     7  \n",
       "\n",
       "[3 rows x 72 columns]"
      ]
     },
     "execution_count": 37,
     "metadata": {},
     "output_type": "execute_result"
    }
   ],
   "source": [
    "df.head(3)"
   ]
  },
  {
   "cell_type": "markdown",
   "metadata": {
    "collapsed": true
   },
   "source": [
    "## Random Forest Regression"
   ]
  },
  {
   "cell_type": "code",
   "execution_count": 38,
   "metadata": {
    "collapsed": true
   },
   "outputs": [],
   "source": [
    "y = df.W\n",
    "#X = df.drop([\"W\",\"Tm\",\"Suspended\"], axis=1)\n",
    "predictors = ['ERA','25-Man','SV','SLG','OBP','BA']\n",
    "X = df[predictors]"
   ]
  },
  {
   "cell_type": "code",
   "execution_count": 39,
   "metadata": {},
   "outputs": [
    {
     "data": {
      "text/html": [
       "<div>\n",
       "<style>\n",
       "    .dataframe thead tr:only-child th {\n",
       "        text-align: right;\n",
       "    }\n",
       "\n",
       "    .dataframe thead th {\n",
       "        text-align: left;\n",
       "    }\n",
       "\n",
       "    .dataframe tbody tr th {\n",
       "        vertical-align: top;\n",
       "    }\n",
       "</style>\n",
       "<table border=\"1\" class=\"dataframe\">\n",
       "  <thead>\n",
       "    <tr style=\"text-align: right;\">\n",
       "      <th></th>\n",
       "      <th>ERA</th>\n",
       "      <th>25-Man</th>\n",
       "      <th>SV</th>\n",
       "      <th>SLG</th>\n",
       "      <th>OBP</th>\n",
       "      <th>BA</th>\n",
       "    </tr>\n",
       "  </thead>\n",
       "  <tbody>\n",
       "    <tr>\n",
       "      <th>0</th>\n",
       "      <td>3.80</td>\n",
       "      <td>57930520.0</td>\n",
       "      <td>58</td>\n",
       "      <td>0.413</td>\n",
       "      <td>0.322</td>\n",
       "      <td>0.250</td>\n",
       "    </tr>\n",
       "    <tr>\n",
       "      <th>1</th>\n",
       "      <td>3.48</td>\n",
       "      <td>98521630.0</td>\n",
       "      <td>52</td>\n",
       "      <td>0.387</td>\n",
       "      <td>0.308</td>\n",
       "      <td>0.243</td>\n",
       "    </tr>\n",
       "    <tr>\n",
       "      <th>2</th>\n",
       "      <td>4.89</td>\n",
       "      <td>94391741.0</td>\n",
       "      <td>32</td>\n",
       "      <td>0.413</td>\n",
       "      <td>0.316</td>\n",
       "      <td>0.257</td>\n",
       "    </tr>\n",
       "  </tbody>\n",
       "</table>\n",
       "</div>"
      ],
      "text/plain": [
       "    ERA      25-Man  SV    SLG    OBP     BA\n",
       "0  3.80  57930520.0  58  0.413  0.322  0.250\n",
       "1  3.48  98521630.0  52  0.387  0.308  0.243\n",
       "2  4.89  94391741.0  32  0.413  0.316  0.257"
      ]
     },
     "execution_count": 39,
     "metadata": {},
     "output_type": "execute_result"
    }
   ],
   "source": [
    "X.head(3)"
   ]
  },
  {
   "cell_type": "code",
   "execution_count": 40,
   "metadata": {
    "collapsed": true
   },
   "outputs": [],
   "source": [
    "#X.columns"
   ]
  },
  {
   "cell_type": "code",
   "execution_count": 41,
   "metadata": {
    "collapsed": true
   },
   "outputs": [],
   "source": [
    "#y"
   ]
  },
  {
   "cell_type": "code",
   "execution_count": 42,
   "metadata": {},
   "outputs": [
    {
     "name": "stdout",
     "output_type": "stream",
     "text": [
      "(191, 6) (191,)\n",
      "(48, 6) (48,)\n"
     ]
    }
   ],
   "source": [
    "X_train, X_test, y_train, y_test = train_test_split(X, y, test_size=0.2,random_state =42)\n",
    "print(X_train.shape, y_train.shape)\n",
    "print(X_test.shape, y_test.shape)"
   ]
  },
  {
   "cell_type": "code",
   "execution_count": 43,
   "metadata": {
    "collapsed": true
   },
   "outputs": [],
   "source": [
    "sc = StandardScaler()  \n",
    "X_train = sc.fit_transform(X_train)  \n",
    "X_test = sc.transform(X_test)  "
   ]
  },
  {
   "cell_type": "code",
   "execution_count": 44,
   "metadata": {
    "collapsed": true
   },
   "outputs": [],
   "source": [
    "# n_estimators refers to the number of trees in the random forest\n",
    "regressor = RandomForestRegressor(n_estimators=20, random_state=0)  \n",
    "regressor.fit(X_train, y_train)  \n",
    "y_pred = regressor.predict(X_test)  "
   ]
  },
  {
   "cell_type": "code",
   "execution_count": 45,
   "metadata": {},
   "outputs": [
    {
     "data": {
      "text/plain": [
       "array([ 101.35,   79.5 ,   69.4 ,   76.25,   85.35,   87.2 ,   75.3 ,\n",
       "         95.45,   88.  ,   81.35,   69.55,   85.3 ,   85.7 ,   87.25,\n",
       "         89.45,   76.8 ,   69.4 ,   64.95,   66.9 ,   68.4 ,   68.95,\n",
       "         96.45,   86.95,   91.5 ,   80.25,   65.85,   64.75,   95.3 ,\n",
       "         75.15,   92.45,   81.45,   94.3 ,   84.45,   74.75,   75.75,\n",
       "         61.45,   64.4 ,   91.15,   67.7 ,   66.  ,   73.55,   87.1 ,\n",
       "         69.9 ,   79.2 ,   67.3 ,   89.25,   81.4 ,   90.  ])"
      ]
     },
     "execution_count": 45,
     "metadata": {},
     "output_type": "execute_result"
    }
   ],
   "source": [
    "y_pred"
   ]
  },
  {
   "cell_type": "code",
   "execution_count": 46,
   "metadata": {},
   "outputs": [
    {
     "data": {
      "text/plain": [
       "<matplotlib.text.Text at 0x115f14d30>"
      ]
     },
     "execution_count": 46,
     "metadata": {},
     "output_type": "execute_result"
    },
    {
     "data": {
      "image/png": "[encoded data removed]",
      "text/plain": [
       "<matplotlib.figure.Figure at 0x115ef2c18>"
      ]
     },
     "metadata": {},
     "output_type": "display_data"
    }
   ],
   "source": [
    "plt.scatter(y_test, y_pred)\n",
    "plt.xlabel('True Values')\n",
    "plt.ylabel('Predictions')"
   ]
  },
  {
   "cell_type": "code",
   "execution_count": 47,
   "metadata": {},
   "outputs": [
    {
     "name": "stdout",
     "output_type": "stream",
     "text": [
      "Random Forest Regressor Model 1\n",
      " root mean squared train error RMSE: 1.9062\n",
      " root mean squared test error RMSE: 5.5022\n"
     ]
    }
   ],
   "source": [
    "# print mean squared error for training and test data\n",
    "mse_train = mean_squared_error(y_train, regressor.predict(X_train))\n",
    "rmse_train = np.sqrt(mse_train)\n",
    "print('Random Forest Regressor Model 1')\n",
    "print(\" root mean squared train error RMSE: %.4f\" % rmse_train)\n",
    "mse_test = mean_squared_error(y_test,regressor.predict(X_test))\n",
    "rmse_test = np.sqrt(mse_test)\n",
    "print(\" root mean squared test error RMSE: %.4f\" % rmse_test)"
   ]
  },
  {
   "cell_type": "code",
   "execution_count": 48,
   "metadata": {},
   "outputs": [
    {
     "name": "stdout",
     "output_type": "stream",
     "text": [
      "The Training Score For Random Forest Regressor Model 1:\n",
      "0.969812918431\n",
      "\n",
      "The Test Score For Random Forest Regressor Model 1:\n",
      "0.816354565153\n",
      "\n"
     ]
    }
   ],
   "source": [
    "print(\"The Training Score For Random Forest Regressor Model 1:\")\n",
    "print(regressor.score(X_train, y_train))\n",
    "print()\n",
    "print(\"The Test Score For Random Forest Regressor Model 1:\")\n",
    "print(regressor.score(X_test, y_test))\n",
    "print()"
   ]
  },
  {
   "cell_type": "code",
   "execution_count": 49,
   "metadata": {},
   "outputs": [
    {
     "name": "stdout",
     "output_type": "stream",
     "text": [
      "(191, 4) (191,)\n",
      "(48, 4) (48,)\n"
     ]
    }
   ],
   "source": [
    "# regressor with fewer predictors\n",
    "y = df.W\n",
    "#predictors = ['ERA','25-Man','SV','OBP']\n",
    "predictors = ['ERA','25-Man','SV','SLG']\n",
    "X = df[predictors]\n",
    "\n",
    "X_train, X_test, y_train, y_test = train_test_split(X, y, test_size=0.2,random_state =42)\n",
    "print(X_train.shape, y_train.shape)\n",
    "print(X_test.shape, y_test.shape)\n",
    "\n",
    "sc = StandardScaler()  \n",
    "X_train = sc.fit_transform(X_train)  \n",
    "X_test = sc.transform(X_test)  "
   ]
  },
  {
   "cell_type": "code",
   "execution_count": 50,
   "metadata": {
    "collapsed": true
   },
   "outputs": [],
   "source": [
    "regressor2 = RandomForestRegressor(n_estimators=10, random_state=0)  \n",
    "regressor2.fit(X_train, y_train)  \n",
    "y_pred2 = regressor2.predict(X_test)"
   ]
  },
  {
   "cell_type": "code",
   "execution_count": 51,
   "metadata": {},
   "outputs": [
    {
     "data": {
      "text/plain": [
       "<matplotlib.text.Text at 0x1160b2b00>"
      ]
     },
     "execution_count": 51,
     "metadata": {},
     "output_type": "execute_result"
    },
    {
     "data": {
      "image/png": "[encoded data removed]",
      "text/plain": [
       "<matplotlib.figure.Figure at 0x1160046a0>"
      ]
     },
     "metadata": {},
     "output_type": "display_data"
    }
   ],
   "source": [
    "plt.scatter(y_test, y_pred2)\n",
    "plt.title('Random Forest Regression Model 2')\n",
    "plt.xlabel('True Values')\n",
    "plt.ylabel('Predictions')"
   ]
  },
  {
   "cell_type": "code",
   "execution_count": 52,
   "metadata": {},
   "outputs": [
    {
     "name": "stdout",
     "output_type": "stream",
     "text": [
      "Random Forest Regressor Model 2\n",
      " root mean squared train error RMSE: 2.2539\n",
      " root mean squared test error RMSE: 5.5519\n"
     ]
    }
   ],
   "source": [
    "# print mean squared error for training and test data\n",
    "mse_train = mean_squared_error(y_train, regressor2.predict(X_train))\n",
    "rmse_train = np.sqrt(mse_train)\n",
    "print('Random Forest Regressor Model 2')\n",
    "print(\" root mean squared train error RMSE: %.4f\" % rmse_train)\n",
    "mse_test = mean_squared_error(y_test,regressor2.predict(X_test))\n",
    "rmse_test = np.sqrt(mse_test)\n",
    "print(\" root mean squared test error RMSE: %.4f\" % rmse_test)"
   ]
  },
  {
   "cell_type": "code",
   "execution_count": 53,
   "metadata": {},
   "outputs": [
    {
     "name": "stdout",
     "output_type": "stream",
     "text": [
      "The Training Score For Random Forest Regressor Model 2:\n",
      "0.957798977547\n",
      "\n",
      "The Test Score For Random Forest Regressor Model 2:\n",
      "0.813023645224\n",
      "\n"
     ]
    }
   ],
   "source": [
    "print(\"The Training Score For Random Forest Regressor Model 2:\")\n",
    "print(regressor2.score(X_train, y_train))\n",
    "print()\n",
    "print(\"The Test Score For Random Forest Regressor Model 2:\")\n",
    "print(regressor2.score(X_test, y_test))\n",
    "print()"
   ]
  },
  {
   "cell_type": "code",
   "execution_count": null,
   "metadata": {
    "collapsed": true
   },
   "outputs": [],
   "source": []
  },
  {
   "cell_type": "markdown",
   "metadata": {},
   "source": [
    "## Gradient Boosting Regression"
   ]
  },
  {
   "cell_type": "code",
   "execution_count": 54,
   "metadata": {
    "collapsed": true
   },
   "outputs": [],
   "source": [
    "# define the target variable and the predictors of target\n",
    "y = df.W\n",
    "predictors = ['ERA','25-Man','SV','SLG','OBP','BA']\n",
    "X = df[predictors]\n",
    "\n",
    "# split the data\n",
    "X_train, X_test, y_train, y_test = train_test_split(X, y, test_size=0.2,random_state =42)\n",
    "\n",
    "# scale the data\n",
    "sc = StandardScaler()  \n",
    "X_train = sc.fit_transform(X_train)  \n",
    "X_test = sc.transform(X_test)"
   ]
  },
  {
   "cell_type": "code",
   "execution_count": 55,
   "metadata": {},
   "outputs": [
    {
     "name": "stdout",
     "output_type": "stream",
     "text": [
      " root mean squared train error RMSE: 0.1988\n",
      " root mean squared test error RMSE: 5.2876\n"
     ]
    }
   ],
   "source": [
    "# fit the training data with gradient boosting regressor\n",
    "#params['n_estimators'] = \n",
    "\n",
    "#gradient_boosting_regressor = GradientBoostingRegressor(n_estimators = 200)\n",
    "gradient_boosting_regressor = GradientBoostingRegressor(n_estimators = 500)\n",
    "gradient_boosting_regressor.fit(X_train, y_train)\n",
    "# print mean squared error for training and test data\n",
    "mse_train = mean_squared_error(y_train, gradient_boosting_regressor.predict(X_train))\n",
    "rmse_train = np.sqrt(mse_train)\n",
    "print(\" root mean squared train error RMSE: %.4f\" % rmse_train)\n",
    "mse_test = mean_squared_error(y_test, gradient_boosting_regressor.predict(X_test))\n",
    "rmse_test = np.sqrt(mse_test)\n",
    "print(\" root mean squared test error RMSE: %.4f\" % rmse_test)"
   ]
  },
  {
   "cell_type": "code",
   "execution_count": 56,
   "metadata": {},
   "outputs": [
    {
     "name": "stdout",
     "output_type": "stream",
     "text": [
      "The Training Score For the Gradient Boosting Regressor Model 1:\n",
      "0.999671786569\n",
      "\n",
      "The Test Score For the Gradient Boosting Regressor Model 1:\n",
      "0.830402951249\n",
      "\n"
     ]
    }
   ],
   "source": [
    "print(\"The Training Score For the Gradient Boosting Regressor Model 1:\")\n",
    "print(gradient_boosting_regressor.score(X_train, y_train))\n",
    "print()\n",
    "print(\"The Test Score For the Gradient Boosting Regressor Model 1:\")\n",
    "print(gradient_boosting_regressor.score(X_test, y_test))\n",
    "print()"
   ]
  },
  {
   "cell_type": "markdown",
   "metadata": {
    "collapsed": true
   },
   "source": [
    "## CHECK FOR COLLINEARITY OF PREDICTORS"
   ]
  },
  {
   "cell_type": "markdown",
   "metadata": {},
   "source": [
    "### A simple way to detect collinearity is to look at the correlation matrix of the predictors. \n",
    "### An element of this matrix that is large in absolute value \n",
    "### indicates a pair of highly correlated variables, and therefore a collinearity problem"
   ]
  },
  {
   "cell_type": "code",
   "execution_count": 57,
   "metadata": {},
   "outputs": [
    {
     "data": {
      "text/html": [
       "<div>\n",
       "<style>\n",
       "    .dataframe thead tr:only-child th {\n",
       "        text-align: right;\n",
       "    }\n",
       "\n",
       "    .dataframe thead th {\n",
       "        text-align: left;\n",
       "    }\n",
       "\n",
       "    .dataframe tbody tr th {\n",
       "        vertical-align: top;\n",
       "    }\n",
       "</style>\n",
       "<table border=\"1\" class=\"dataframe\">\n",
       "  <thead>\n",
       "    <tr style=\"text-align: right;\">\n",
       "      <th></th>\n",
       "      <th>ERA</th>\n",
       "      <th>25-Man</th>\n",
       "      <th>SV</th>\n",
       "      <th>SLG</th>\n",
       "      <th>OBP</th>\n",
       "      <th>BA</th>\n",
       "    </tr>\n",
       "  </thead>\n",
       "  <tbody>\n",
       "    <tr>\n",
       "      <th>0</th>\n",
       "      <td>3.80</td>\n",
       "      <td>57930520.0</td>\n",
       "      <td>58</td>\n",
       "      <td>0.413</td>\n",
       "      <td>0.322</td>\n",
       "      <td>0.250</td>\n",
       "    </tr>\n",
       "    <tr>\n",
       "      <th>1</th>\n",
       "      <td>3.48</td>\n",
       "      <td>98521630.0</td>\n",
       "      <td>52</td>\n",
       "      <td>0.387</td>\n",
       "      <td>0.308</td>\n",
       "      <td>0.243</td>\n",
       "    </tr>\n",
       "    <tr>\n",
       "      <th>2</th>\n",
       "      <td>4.89</td>\n",
       "      <td>94391741.0</td>\n",
       "      <td>32</td>\n",
       "      <td>0.413</td>\n",
       "      <td>0.316</td>\n",
       "      <td>0.257</td>\n",
       "    </tr>\n",
       "    <tr>\n",
       "      <th>3</th>\n",
       "      <td>4.20</td>\n",
       "      <td>164517590.0</td>\n",
       "      <td>36</td>\n",
       "      <td>0.461</td>\n",
       "      <td>0.349</td>\n",
       "      <td>0.280</td>\n",
       "    </tr>\n",
       "    <tr>\n",
       "      <th>4</th>\n",
       "      <td>4.33</td>\n",
       "      <td>124652698.0</td>\n",
       "      <td>40</td>\n",
       "      <td>0.401</td>\n",
       "      <td>0.314</td>\n",
       "      <td>0.256</td>\n",
       "    </tr>\n",
       "  </tbody>\n",
       "</table>\n",
       "</div>"
      ],
      "text/plain": [
       "    ERA       25-Man  SV    SLG    OBP     BA\n",
       "0  3.80   57930520.0  58  0.413  0.322  0.250\n",
       "1  3.48   98521630.0  52  0.387  0.308  0.243\n",
       "2  4.89   94391741.0  32  0.413  0.316  0.257\n",
       "3  4.20  164517590.0  36  0.461  0.349  0.280\n",
       "4  4.33  124652698.0  40  0.401  0.314  0.256"
      ]
     },
     "execution_count": 57,
     "metadata": {},
     "output_type": "execute_result"
    }
   ],
   "source": [
    "#df2 = df[[ 'OPS+','RBI','ERA+','25-Man','SV']]\n",
    "#predictors = ['ERA','25-Man','SV','SLG','OBP','BA']\n",
    "#df2 = df[[ 'OPS+','RBI','ERA','25-Man','SV','SLG']]\n",
    "df2 = df[['ERA','25-Man','SV','SLG','OBP','BA']]\n",
    "df2.head()"
   ]
  },
  {
   "cell_type": "code",
   "execution_count": 58,
   "metadata": {},
   "outputs": [
    {
     "data": {
      "text/html": [
       "<div>\n",
       "<style>\n",
       "    .dataframe thead tr:only-child th {\n",
       "        text-align: right;\n",
       "    }\n",
       "\n",
       "    .dataframe thead th {\n",
       "        text-align: left;\n",
       "    }\n",
       "\n",
       "    .dataframe tbody tr th {\n",
       "        vertical-align: top;\n",
       "    }\n",
       "</style>\n",
       "<table border=\"1\" class=\"dataframe\">\n",
       "  <thead>\n",
       "    <tr style=\"text-align: right;\">\n",
       "      <th></th>\n",
       "      <th>ERA</th>\n",
       "      <th>25-Man</th>\n",
       "      <th>SV</th>\n",
       "      <th>SLG</th>\n",
       "      <th>OBP</th>\n",
       "      <th>BA</th>\n",
       "    </tr>\n",
       "  </thead>\n",
       "  <tbody>\n",
       "    <tr>\n",
       "      <th>ERA</th>\n",
       "      <td>1.000000</td>\n",
       "      <td>-0.284428</td>\n",
       "      <td>-0.567735</td>\n",
       "      <td>0.122555</td>\n",
       "      <td>-0.137369</td>\n",
       "      <td>0.041072</td>\n",
       "    </tr>\n",
       "    <tr>\n",
       "      <th>25-Man</th>\n",
       "      <td>-0.284428</td>\n",
       "      <td>1.000000</td>\n",
       "      <td>0.248230</td>\n",
       "      <td>0.336750</td>\n",
       "      <td>0.419624</td>\n",
       "      <td>0.358246</td>\n",
       "    </tr>\n",
       "    <tr>\n",
       "      <th>SV</th>\n",
       "      <td>-0.567735</td>\n",
       "      <td>0.248230</td>\n",
       "      <td>1.000000</td>\n",
       "      <td>0.074105</td>\n",
       "      <td>0.119942</td>\n",
       "      <td>0.038671</td>\n",
       "    </tr>\n",
       "    <tr>\n",
       "      <th>SLG</th>\n",
       "      <td>0.122555</td>\n",
       "      <td>0.336750</td>\n",
       "      <td>0.074105</td>\n",
       "      <td>1.000000</td>\n",
       "      <td>0.732401</td>\n",
       "      <td>0.649018</td>\n",
       "    </tr>\n",
       "    <tr>\n",
       "      <th>OBP</th>\n",
       "      <td>-0.137369</td>\n",
       "      <td>0.419624</td>\n",
       "      <td>0.119942</td>\n",
       "      <td>0.732401</td>\n",
       "      <td>1.000000</td>\n",
       "      <td>0.792759</td>\n",
       "    </tr>\n",
       "    <tr>\n",
       "      <th>BA</th>\n",
       "      <td>0.041072</td>\n",
       "      <td>0.358246</td>\n",
       "      <td>0.038671</td>\n",
       "      <td>0.649018</td>\n",
       "      <td>0.792759</td>\n",
       "      <td>1.000000</td>\n",
       "    </tr>\n",
       "  </tbody>\n",
       "</table>\n",
       "</div>"
      ],
      "text/plain": [
       "             ERA    25-Man        SV       SLG       OBP        BA\n",
       "ERA     1.000000 -0.284428 -0.567735  0.122555 -0.137369  0.041072\n",
       "25-Man -0.284428  1.000000  0.248230  0.336750  0.419624  0.358246\n",
       "SV     -0.567735  0.248230  1.000000  0.074105  0.119942  0.038671\n",
       "SLG     0.122555  0.336750  0.074105  1.000000  0.732401  0.649018\n",
       "OBP    -0.137369  0.419624  0.119942  0.732401  1.000000  0.792759\n",
       "BA      0.041072  0.358246  0.038671  0.649018  0.792759  1.000000"
      ]
     },
     "execution_count": 58,
     "metadata": {},
     "output_type": "execute_result"
    }
   ],
   "source": [
    "df2.corr()"
   ]
  },
  {
   "cell_type": "code",
   "execution_count": 59,
   "metadata": {
    "collapsed": true
   },
   "outputs": [],
   "source": [
    "# Based on the above correlation matrix, SV is moderately negatively correlated with ERA\n",
    "# SLG, OBP & BA are all highly correlated with each other"
   ]
  },
  {
   "cell_type": "code",
   "execution_count": null,
   "metadata": {
    "collapsed": true
   },
   "outputs": [],
   "source": []
  }
 ],
 "metadata": {
  "kernelspec": {
   "display_name": "Python [default]",
   "language": "python",
   "name": "python3"
  },
  "language_info": {
   "codemirror_mode": {
    "name": "ipython",
    "version": 3
   },
   "file_extension": ".py",
   "mimetype": "text/x-python",
   "name": "python",
   "nbconvert_exporter": "python",
   "pygments_lexer": "ipython3",
   "version": "3.6.0"
  }
 },
 "nbformat": 4,
 "nbformat_minor": 2
}
