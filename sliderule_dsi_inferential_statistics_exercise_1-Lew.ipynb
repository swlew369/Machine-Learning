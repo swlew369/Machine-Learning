{
 "cells": [
  {
   "cell_type": "markdown",
   "metadata": {},
   "source": [
    "# What is the True Normal Human Body Temperature? \n",
    "\n",
    "#### Background\n",
    "\n",
    "The mean normal body temperature was held to be 37$^{\\circ}$C or 98.6$^{\\circ}$F for more than 120 years since it was first conceptualized and reported by Carl Wunderlich in a famous 1868 book. But, is this value statistically correct?"
   ]
  },
  {
   "cell_type": "markdown",
   "metadata": {},
   "source": [
    "<h3>Exercises</h3>\n",
    "\n",
    "<p>In this exercise, you will analyze a dataset of human body temperatures and employ the concepts of hypothesis testing, confidence intervals, and statistical significance.</p>\n",
    "\n",
    "<p>Answer the following questions <b>in this notebook below and submit to your Github account</b>.</p> \n",
    "\n",
    "<ol>\n",
    "<li>  Is the distribution of body temperatures normal? \n",
    "    <ul>\n",
    "    <li> Although this is not a requirement for the Central Limit Theorem to hold (read the introduction on Wikipedia's page about the CLT carefully: https://en.wikipedia.org/wiki/Central_limit_theorem), it gives us some peace of mind that the population may also be normally distributed if we assume that this sample is representative of the population.\n",
    "    <li> Think about the way you're going to check for the normality of the distribution. Graphical methods are usually used first, but there are also other ways: https://en.wikipedia.org/wiki/Normality_test\n",
    "    </ul>\n",
    "<li>  Is the sample size large? Are the observations independent?\n",
    "    <ul>\n",
    "    <li> Remember that this is a condition for the Central Limit Theorem, and hence the statistical tests we are using, to apply.\n",
    "    </ul>\n",
    "<li>  Is the true population mean really 98.6 degrees F?\n",
    "    <ul>\n",
    "    <li> First, try a bootstrap hypothesis test.\n",
    "    <li> Now, let's try frequentist statistical testing. Would you use a one-sample or two-sample test? Why?\n",
    "    <li> In this situation, is it appropriate to use the $t$ or $z$ statistic? \n",
    "    <li> Now try using the other test. How is the result be different? Why?\n",
    "    </ul>\n",
    "<li>  Draw a small sample of size 10 from the data and repeat both frequentist tests. \n",
    "    <ul>\n",
    "    <li> Which one is the correct one to use? \n",
    "    <li> What do you notice? What does this tell you about the difference in application of the $t$ and $z$ statistic?\n",
    "    </ul>\n",
    "<li>  At what temperature should we consider someone's temperature to be \"abnormal\"?\n",
    "    <ul>\n",
    "    <li> As in the previous example, try calculating everything using the boostrap approach, as well as the frequentist approach.\n",
    "    <li> Start by computing the margin of error and confidence interval. When calculating the confidence interval, keep in mind that you should use the appropriate formula for one draw, and not N draws.\n",
    "    </ul>\n",
    "<li>  Is there a significant difference between males and females in normal temperature?\n",
    "    <ul>\n",
    "    <li> What testing approach did you use and why?\n",
    "    <li> Write a story with your conclusion in the context of the original problem.\n",
    "    </ul>\n",
    "</ol>\n",
    "\n",
    "You can include written notes in notebook cells using Markdown: \n",
    "   - In the control panel at the top, choose Cell > Cell Type > Markdown\n",
    "   - Markdown syntax: http://nestacms.com/docs/creating-content/markdown-cheat-sheet\n",
    "\n",
    "#### Resources\n",
    "\n",
    "+ Information and data sources: http://www.amstat.org/publications/jse/datasets/normtemp.txt, http://www.amstat.org/publications/jse/jse_data_archive.htm\n",
    "+ Markdown syntax: http://nestacms.com/docs/creating-content/markdown-cheat-sheet\n",
    "\n",
    "****"
   ]
  },
  {
   "cell_type": "code",
   "execution_count": 46,
   "metadata": {
    "collapsed": true
   },
   "outputs": [],
   "source": [
    "import pandas as pd\n",
    "import seaborn as sns\n",
    "import numpy as np\n",
    "import random\n",
    "from scipy import stats\n",
    "from statsmodels.stats import weightstats as stests\n",
    "import matplotlib.pyplot as plt\n",
    "%matplotlib inline\n",
    "\n",
    "df = pd.read_csv('data/human_body_temperature.csv')"
   ]
  },
  {
   "cell_type": "code",
   "execution_count": 47,
   "metadata": {
    "collapsed": true
   },
   "outputs": [],
   "source": [
    "# Your work here."
   ]
  },
  {
   "cell_type": "code",
   "execution_count": 48,
   "metadata": {},
   "outputs": [
    {
     "data": {
      "text/html": [
       "<div>\n",
       "<style>\n",
       "    .dataframe thead tr:only-child th {\n",
       "        text-align: right;\n",
       "    }\n",
       "\n",
       "    .dataframe thead th {\n",
       "        text-align: left;\n",
       "    }\n",
       "\n",
       "    .dataframe tbody tr th {\n",
       "        vertical-align: top;\n",
       "    }\n",
       "</style>\n",
       "<table border=\"1\" class=\"dataframe\">\n",
       "  <thead>\n",
       "    <tr style=\"text-align: right;\">\n",
       "      <th></th>\n",
       "      <th>temperature</th>\n",
       "      <th>gender</th>\n",
       "      <th>heart_rate</th>\n",
       "    </tr>\n",
       "  </thead>\n",
       "  <tbody>\n",
       "    <tr>\n",
       "      <th>0</th>\n",
       "      <td>99.3</td>\n",
       "      <td>F</td>\n",
       "      <td>68.0</td>\n",
       "    </tr>\n",
       "    <tr>\n",
       "      <th>1</th>\n",
       "      <td>98.4</td>\n",
       "      <td>F</td>\n",
       "      <td>81.0</td>\n",
       "    </tr>\n",
       "    <tr>\n",
       "      <th>2</th>\n",
       "      <td>97.8</td>\n",
       "      <td>M</td>\n",
       "      <td>73.0</td>\n",
       "    </tr>\n",
       "    <tr>\n",
       "      <th>3</th>\n",
       "      <td>99.2</td>\n",
       "      <td>F</td>\n",
       "      <td>66.0</td>\n",
       "    </tr>\n",
       "    <tr>\n",
       "      <th>4</th>\n",
       "      <td>98.0</td>\n",
       "      <td>F</td>\n",
       "      <td>73.0</td>\n",
       "    </tr>\n",
       "  </tbody>\n",
       "</table>\n",
       "</div>"
      ],
      "text/plain": [
       "   temperature gender  heart_rate\n",
       "0         99.3      F        68.0\n",
       "1         98.4      F        81.0\n",
       "2         97.8      M        73.0\n",
       "3         99.2      F        66.0\n",
       "4         98.0      F        73.0"
      ]
     },
     "execution_count": 48,
     "metadata": {},
     "output_type": "execute_result"
    }
   ],
   "source": [
    "df.head()"
   ]
  },
  {
   "cell_type": "code",
   "execution_count": 49,
   "metadata": {},
   "outputs": [
    {
     "data": {
      "text/plain": [
       "(130, 3)"
      ]
     },
     "execution_count": 49,
     "metadata": {},
     "output_type": "execute_result"
    }
   ],
   "source": [
    "df.shape"
   ]
  },
  {
   "cell_type": "code",
   "execution_count": 50,
   "metadata": {},
   "outputs": [
    {
     "data": {
      "text/plain": [
       "Index(['temperature', 'gender', 'heart_rate'], dtype='object')"
      ]
     },
     "execution_count": 50,
     "metadata": {},
     "output_type": "execute_result"
    }
   ],
   "source": [
    "df.columns"
   ]
  },
  {
   "cell_type": "code",
   "execution_count": 51,
   "metadata": {},
   "outputs": [
    {
     "data": {
      "text/plain": [
       "temperature    float64\n",
       "gender          object\n",
       "heart_rate     float64\n",
       "dtype: object"
      ]
     },
     "execution_count": 51,
     "metadata": {},
     "output_type": "execute_result"
    }
   ],
   "source": [
    "df.dtypes"
   ]
  },
  {
   "cell_type": "markdown",
   "metadata": {},
   "source": [
    "## Question 1"
   ]
  },
  {
   "cell_type": "code",
   "execution_count": 52,
   "metadata": {},
   "outputs": [
    {
     "data": {
      "image/png": "[encoded data removed]",
      "text/plain": [
       "<matplotlib.figure.Figure at 0x118e9b898>"
      ]
     },
     "metadata": {},
     "output_type": "display_data"
    },
    {
     "data": {
      "text/plain": [
       "<matplotlib.figure.Figure at 0x1194c7128>"
      ]
     },
     "metadata": {},
     "output_type": "display_data"
    }
   ],
   "source": [
    "\n",
    "fig, ax = plt.subplots(figsize=(9, 6))\n",
    "plt.title(\"Distribution of Body Temperatures\")\n",
    "sns.distplot(df['temperature'])\n",
    "plt.figure(figsize = [9,6]) # [width, height]\n",
    "\n",
    "for axis in ['top','bottom','left','right']:\n",
    "    ax.spines[axis].set_linewidth(2.5)"
   ]
  },
  {
   "cell_type": "markdown",
   "metadata": {},
   "source": [
    "## The distribution of body temperatures is mostly normal. There looks like a slight skew and a small second peak for very high temperatures."
   ]
  },
  {
   "cell_type": "markdown",
   "metadata": {},
   "source": [
    "## Q-Q plot: most of the body temperature points are on the diagonal line which confirms the distribution of temperature is mostly Normal."
   ]
  },
  {
   "cell_type": "code",
   "execution_count": 53,
   "metadata": {},
   "outputs": [
    {
     "data": {
      "image/png": "[encoded data removed]",
      "text/plain": [
       "<matplotlib.figure.Figure at 0x11966cdd8>"
      ]
     },
     "execution_count": 53,
     "metadata": {},
     "output_type": "execute_result"
    },
    {
     "data": {
      "image/png": "[encoded data removed]",
      "text/plain": [
       "<matplotlib.figure.Figure at 0x11966cdd8>"
      ]
     },
     "metadata": {},
     "output_type": "display_data"
    }
   ],
   "source": [
    "from scipy import stats\n",
    "from statsmodels.graphics.gofplots import qqplot\n",
    "# q-q plot\n",
    "qqplot(data = df['temperature'], line='s')\n",
    "#pyplot.show()"
   ]
  },
  {
   "cell_type": "code",
   "execution_count": 54,
   "metadata": {},
   "outputs": [
    {
     "data": {
      "text/plain": [
       "<matplotlib.text.Text at 0x1198e9358>"
      ]
     },
     "execution_count": 54,
     "metadata": {},
     "output_type": "execute_result"
    },
    {
     "data": {
      "image/png": "[encoded data removed]",
      "text/plain": [
       "<matplotlib.figure.Figure at 0x1197d2a20>"
      ]
     },
     "metadata": {},
     "output_type": "display_data"
    }
   ],
   "source": [
    "# Create CDF plot values for body temperature data\n",
    "\n",
    "df['cdf'] = df.temperature.rank(method = 'average', pct = True)\n",
    "\n",
    "df.sort_values('temperature').plot(x = 'temperature', y = 'cdf', figsize = (9,6),grid = True)\n",
    "\n",
    "plt.title(\"CDF of Body Temperature\")"
   ]
  },
  {
   "cell_type": "code",
   "execution_count": 55,
   "metadata": {
    "collapsed": true
   },
   "outputs": [],
   "source": [
    "def ecdf(data):\n",
    "    \"\"\"Compute ECDF for a one-dimensional array of measurements.\"\"\"\n",
    "    # Number of data points: n\n",
    "    n = len(data)\n",
    "\n",
    "    # x-data for the ECDF: x\n",
    "    x = np.sort(data)\n",
    "\n",
    "    # y-data for the ECDF: y\n",
    "    y = np.arange(1, n+1) / n\n",
    "\n",
    "    return x, y"
   ]
  },
  {
   "cell_type": "code",
   "execution_count": 56,
   "metadata": {},
   "outputs": [
    {
     "name": "stdout",
     "output_type": "stream",
     "text": [
      "98.24923076923078\n",
      "\n",
      "0.7303577789050377\n"
     ]
    }
   ],
   "source": [
    "# Compute mean and standard deviation: mu, sigma\n",
    "mu = np.mean(df.temperature)\n",
    "sigma = np.std(df.temperature)\n",
    "samples = np.random.normal(mu,sigma, 10000)\n",
    "print(mu)\n",
    "print()\n",
    "print(sigma)"
   ]
  },
  {
   "cell_type": "code",
   "execution_count": 57,
   "metadata": {
    "collapsed": true
   },
   "outputs": [],
   "source": [
    "x_theo,y_theo = ecdf(samples)\n",
    "x_temp,y_temp = ecdf(df.temperature)"
   ]
  },
  {
   "cell_type": "code",
   "execution_count": 58,
   "metadata": {},
   "outputs": [
    {
     "data": {
      "image/png": "[encoded data removed]",
      "text/plain": [
       "<matplotlib.figure.Figure at 0x119694d30>"
      ]
     },
     "metadata": {},
     "output_type": "display_data"
    }
   ],
   "source": [
    "# Plot the CDFs and show the plot\n",
    "_ = plt.plot(x_theo, y_theo)\n",
    "_ = plt.plot(x_temp, y_temp, marker='.', linestyle='none')\n",
    "_ = plt.xlabel('Body Temperature')\n",
    "_ = plt.ylabel('CDF')\n",
    "plt.show()"
   ]
  },
  {
   "cell_type": "markdown",
   "metadata": {},
   "source": [
    "##  The Cumulative Distribution Function (CDF) for body temperature looks sigmoidal which is expected for a Normal Distribution. In addition, the theoretical CDF values for a Theoretical Normal Distribution with the mean and standard deviation of the body temperature data matches very closely to ECDF of body temperature data. This is more evidence that body temperature data has a Normal Distribution. "
   ]
  },
  {
   "cell_type": "markdown",
   "metadata": {},
   "source": [
    "## The mean,median and mode for the body temperature data are practically identical further confirming that the body temperature data has a Normal Distribution."
   ]
  },
  {
   "cell_type": "code",
   "execution_count": 59,
   "metadata": {},
   "outputs": [
    {
     "name": "stdout",
     "output_type": "stream",
     "text": [
      "Mean of body temperature:\n",
      "98.24923076923078\n",
      "\n",
      "Median of body temperature:\n",
      "98.3\n",
      "\n",
      "Mode of body temperature:\n",
      "ModeResult(mode=array([ 98.]), count=array([11]))\n",
      "\n"
     ]
    }
   ],
   "source": [
    "print(\"Mean of body temperature:\")\n",
    "print(np.mean(df.temperature))\n",
    "print()\n",
    "print(\"Median of body temperature:\")\n",
    "print(np.median(df.temperature))\n",
    "print()\n",
    "print(\"Mode of body temperature:\")\n",
    "print(stats.mode(df.temperature))\n",
    "print()"
   ]
  },
  {
   "cell_type": "markdown",
   "metadata": {},
   "source": [
    "## Calculate the percentage of body temperature data that is within one standard devation of the mean body temperature."
   ]
  },
  {
   "cell_type": "code",
   "execution_count": 60,
   "metadata": {},
   "outputs": [
    {
     "name": "stdout",
     "output_type": "stream",
     "text": [
      "Standard deviation of body temperature:\n",
      "0.7303577789050377\n",
      "\n",
      "One Standard deviation above mean body temperature:\n",
      "98.97958854813581\n",
      "\n",
      "One Standard deviation below mean body temperature:\n",
      "97.51887299032575\n",
      "\n"
     ]
    }
   ],
   "source": [
    "print(\"Standard deviation of body temperature:\")\n",
    "print(np.std(df.temperature))\n",
    "print()\n",
    "print(\"One Standard deviation above mean body temperature:\")\n",
    "print(np.std(df.temperature) + np.mean(df.temperature))\n",
    "print()\n",
    "print(\"One Standard deviation below mean body temperature:\")\n",
    "print(np.mean(df.temperature)- np.std(df.temperature))\n",
    "print()"
   ]
  },
  {
   "cell_type": "code",
   "execution_count": 61,
   "metadata": {},
   "outputs": [
    {
     "name": "stdout",
     "output_type": "stream",
     "text": [
      "Number of Rows in dataframe where body temperatue is within one standard deviation of mean :  90\n",
      "The percent of body temperature data one standard deviation above or below the mean is: \n",
      "69.23076923076923\n"
     ]
    }
   ],
   "source": [
    "one_std_dev_ = df.temperature.apply(lambda x: True if (x > np.mean(df.temperature)- np.std(df.temperature)) &\n",
    "                                (x < np.mean(df.temperature)+ np.std(df.temperature)) else False)\n",
    " \n",
    "# Count number of True in series\n",
    "numOfRows = len(df.temperature[one_std_dev_ == True].index)\n",
    " \n",
    "print('Number of Rows in dataframe where body temperatue is within one standard deviation of mean : ', numOfRows)\n",
    "print('The percent of body temperature data one standard deviation above or below the mean is: ')\n",
    "print(100*numOfRows/df.shape[0])\n"
   ]
  },
  {
   "cell_type": "markdown",
   "metadata": {},
   "source": [
    "## Approximately 69% of the temperature data is within one standard deviation of the mean which is very close to the theoretical value of 68% for a Normal Distribution. This is further evidence that the body temperature data has a Normal Distribution. "
   ]
  },
  {
   "cell_type": "markdown",
   "metadata": {},
   "source": [
    "## Shapiro-Wilk Test & Jarque–Bera Test for Normality\n",
    "## Test the Null Hypothesis: body temperature data has a Normal Distribution\n",
    "## In this case, we want to accept the Null Hypothesis\n",
    "## although the sample is only 130 which is small which makes me question the validity of these tests... should check on this in the future!"
   ]
  },
  {
   "cell_type": "markdown",
   "metadata": {},
   "source": [
    "## For both tests, the p values are 23-26% which supports the Null Hypothesis that the body temperature data has a Normal Distribution"
   ]
  },
  {
   "cell_type": "markdown",
   "metadata": {},
   "source": [
    "## Based on the above analysis, the body temperature data has a Normal Distribution. "
   ]
  },
  {
   "cell_type": "code",
   "execution_count": 62,
   "metadata": {},
   "outputs": [
    {
     "data": {
      "text/plain": [
       "(0.9865770936012268, 0.233174666762352)"
      ]
     },
     "execution_count": 62,
     "metadata": {},
     "output_type": "execute_result"
    }
   ],
   "source": [
    "from scipy import stats\n",
    "stats.shapiro(df.temperature)"
   ]
  },
  {
   "cell_type": "code",
   "execution_count": 63,
   "metadata": {},
   "outputs": [
    {
     "data": {
      "text/plain": [
       "(2.6923250029836856, 0.26023700604065192)"
      ]
     },
     "execution_count": 63,
     "metadata": {},
     "output_type": "execute_result"
    }
   ],
   "source": [
    "stats.jarque_bera(df.temperature)"
   ]
  },
  {
   "cell_type": "code",
   "execution_count": 64,
   "metadata": {},
   "outputs": [
    {
     "name": "stdout",
     "output_type": "stream",
     "text": [
      "(0.9998276233673096, 0.6586761474609375)\n"
     ]
    },
    {
     "name": "stderr",
     "output_type": "stream",
     "text": [
      "/Users/scottlew/miniconda3/lib/python3.6/site-packages/scipy/stats/morestats.py:1326: UserWarning: p-value may not be accurate for N > 5000.\n",
      "  warnings.warn(\"p-value may not be accurate for N > 5000.\")\n"
     ]
    }
   ],
   "source": [
    "# For comparison, run the same 2 tests on data has a Normal Distribution\n",
    "mu, sigma = 0, 0.1 # mean and standard deviation\n",
    "rando = np.random.normal(mu, sigma, 10000)\n",
    "print(stats.shapiro(rando))"
   ]
  },
  {
   "cell_type": "code",
   "execution_count": 65,
   "metadata": {},
   "outputs": [
    {
     "data": {
      "text/plain": [
       "(1.1133462423971026, 0.57311257178894814)"
      ]
     },
     "execution_count": 65,
     "metadata": {},
     "output_type": "execute_result"
    }
   ],
   "source": [
    "stats.jarque_bera(rando)"
   ]
  },
  {
   "cell_type": "code",
   "execution_count": 66,
   "metadata": {},
   "outputs": [
    {
     "data": {
      "text/plain": [
       "<matplotlib.axes._subplots.AxesSubplot at 0x11964a780>"
      ]
     },
     "execution_count": 66,
     "metadata": {},
     "output_type": "execute_result"
    },
    {
     "data": {
      "image/png": "[encoded data removed]",
      "text/plain": [
       "<matplotlib.figure.Figure at 0x119a66908>"
      ]
     },
     "metadata": {},
     "output_type": "display_data"
    }
   ],
   "source": [
    "sns.distplot(rando)"
   ]
  },
  {
   "cell_type": "markdown",
   "metadata": {},
   "source": [
    "## Question 2"
   ]
  },
  {
   "cell_type": "markdown",
   "metadata": {},
   "source": [
    "## The sample size is only 130. This sample size is large enough for a z test. It is assumed that each observation in the data is independent."
   ]
  },
  {
   "cell_type": "markdown",
   "metadata": {},
   "source": [
    "## Question 3"
   ]
  },
  {
   "cell_type": "markdown",
   "metadata": {},
   "source": [
    " ## Is the true population mean really 98.6 degrees F?"
   ]
  },
  {
   "cell_type": "markdown",
   "metadata": {},
   "source": [
    "## Boot Strap Hypothesis Testing"
   ]
  },
  {
   "cell_type": "code",
   "execution_count": 67,
   "metadata": {},
   "outputs": [
    {
     "data": {
      "text/plain": [
       "<matplotlib.lines.Line2D at 0x1197e3b70>"
      ]
     },
     "execution_count": 67,
     "metadata": {},
     "output_type": "execute_result"
    },
    {
     "data": {
      "image/png": "[encoded data removed]",
      "text/plain": [
       "<matplotlib.figure.Figure at 0x1197f8f28>"
      ]
     },
     "metadata": {},
     "output_type": "display_data"
    }
   ],
   "source": [
    "# bootstrap sample of 50\n",
    "\n",
    "num_samples = 10000\n",
    "sample_means_50 = np.empty(num_samples)\n",
    "for idx in range(num_samples):\n",
    "    bs_sample = np.random.choice(df.temperature,size = 50)\n",
    "    sample_means_50[idx] = np.mean(bs_sample)\n",
    "    \n",
    "\n",
    "fig, ax = plt.subplots(figsize=(9, 6))\n",
    "sns.distplot(sample_means_50)\n",
    "plt.title('Boostrap Hypothesis Test For Sample Of Size 50')\n",
    "plt.axvline(98.6, color='red', linestyle='--')"
   ]
  },
  {
   "cell_type": "code",
   "execution_count": 68,
   "metadata": {},
   "outputs": [
    {
     "name": "stdout",
     "output_type": "stream",
     "text": [
      "The mean of the sample means for samples of size 50:\n",
      "for 10000 samples\n",
      "98.2504554\n"
     ]
    }
   ],
   "source": [
    "print('The mean of the sample means for samples of size 50:')\n",
    "print('for ' + str(num_samples)+ ' samples')\n",
    "print(np.mean(sample_means_50))"
   ]
  },
  {
   "cell_type": "code",
   "execution_count": 69,
   "metadata": {},
   "outputs": [
    {
     "name": "stdout",
     "output_type": "stream",
     "text": [
      "p-val = 0.0003\n"
     ]
    }
   ],
   "source": [
    "# p value for boostrap replicates\n",
    "# Compute and print the p-value: p\n",
    "p = np.sum(sample_means_50 >= 98.6) / len(sample_means_50)\n",
    "print('p-val =', p)"
   ]
  },
  {
   "cell_type": "markdown",
   "metadata": {},
   "source": [
    "## The p value for obtaining 98.6 or greater from the bootstrap replicate distributions  is less than 0.01, which makes it very unlikely to obtain a value this extreme as shown in the above graph. Therefore, based on this p-value, the bootstrap test indicates that the true population mean body temperature data is NOT 98.6 and reject the null hypothesis."
   ]
  },
  {
   "cell_type": "markdown",
   "metadata": {},
   "source": [
    "## The z-test is more appropriate when the sample size is greater than 30. But, for comparison, I will also use the t-test."
   ]
  },
  {
   "cell_type": "markdown",
   "metadata": {
    "collapsed": true
   },
   "source": [
    "## Use the One sample t-test. This is a two-sided test for the null hypothesis that the expected value (mean) of a  sample of independent observations a is equal to the given population mean, popmean."
   ]
  },
  {
   "cell_type": "code",
   "execution_count": 70,
   "metadata": {},
   "outputs": [
    {
     "data": {
      "text/plain": [
       "Ttest_1sampResult(statistic=-5.4548232923645195, pvalue=2.4106320415561276e-07)"
      ]
     },
     "execution_count": 70,
     "metadata": {},
     "output_type": "execute_result"
    }
   ],
   "source": [
    "stats.ttest_1samp(df.temperature,98.6)"
   ]
  },
  {
   "cell_type": "markdown",
   "metadata": {},
   "source": [
    "## Based on p-value of 2.41e-07 obtained from the one sample t-test, the sample mean is NOT equal to the predicted population mean of 98.6 degrees F."
   ]
  },
  {
   "cell_type": "markdown",
   "metadata": {},
   "source": [
    "## Z-test "
   ]
  },
  {
   "cell_type": "code",
   "execution_count": 71,
   "metadata": {},
   "outputs": [
    {
     "name": "stdout",
     "output_type": "stream",
     "text": [
      "p value:\n",
      "4.9021570141012155e-08\n",
      "\n",
      "Reject null hypothesis\n"
     ]
    }
   ],
   "source": [
    "from statsmodels.stats import weightstats as stests\n",
    "#ztest ,pval = stests.ztest(98.2, 98.6)\n",
    "ztest ,pval = stests.ztest(df.temperature, x2=None, value= 98.6)\n",
    "print('p value:')\n",
    "print(float(pval))\n",
    "print()\n",
    "if pval<0.05:\n",
    "    print(\"Reject null hypothesis\")\n",
    "else:\n",
    "    print(\"Accept null hypothesis\")"
   ]
  },
  {
   "cell_type": "markdown",
   "metadata": {},
   "source": [
    "## Based on the low p-value obtained from the one sample z-test, we reject the null hypothesis that the population body temperature the data came from is 98.6 degrees Fahrenheit."
   ]
  },
  {
   "cell_type": "markdown",
   "metadata": {},
   "source": [
    "## Interestingly, a recent published study regarding human body temperature reported that the average human body temperature of adults younger than 60 years old is ~ 36.69  degrees Celsius or 98.04 degrees Fahrenheit, which is lower than the mean temperature of 98.2 from the data or the 98.6 degrees reported by Carl Wunderlich."
   ]
  },
  {
   "cell_type": "markdown",
   "metadata": {},
   "source": [
    "## Question 4"
   ]
  },
  {
   "cell_type": "markdown",
   "metadata": {},
   "source": [
    "## Sample of Size 10"
   ]
  },
  {
   "cell_type": "markdown",
   "metadata": {},
   "source": [
    "## Small Sample t-test"
   ]
  },
  {
   "cell_type": "code",
   "execution_count": 72,
   "metadata": {},
   "outputs": [
    {
     "name": "stdout",
     "output_type": "stream",
     "text": [
      "98.15\n"
     ]
    }
   ],
   "source": [
    "# Create a sample of size 10 from body temperature data\n",
    "random.seed(42)\n",
    "sample_size10 = np.random.choice(df.temperature,size = 10, )\n",
    "print(np.mean(sample_size10))"
   ]
  },
  {
   "cell_type": "code",
   "execution_count": 73,
   "metadata": {},
   "outputs": [
    {
     "data": {
      "text/plain": [
       "Ttest_1sampResult(statistic=-2.2738101868795511, pvalue=0.049056515042058241)"
      ]
     },
     "execution_count": 73,
     "metadata": {},
     "output_type": "execute_result"
    }
   ],
   "source": [
    "stats.ttest_1samp(sample_size10,98.6)"
   ]
  },
  {
   "cell_type": "code",
   "execution_count": 74,
   "metadata": {},
   "outputs": [
    {
     "name": "stdout",
     "output_type": "stream",
     "text": [
      "p value:\n",
      "0.022977401503209066\n",
      "\n",
      "Accept null hypothesis\n"
     ]
    }
   ],
   "source": [
    "from statsmodels.stats import weightstats as stests\n",
    "ztest ,pval = stests.ztest(sample_size10, x2=None, value= 98.6)\n",
    "print('p value:')\n",
    "print(float(pval))\n",
    "print()\n",
    "if pval<0.01:\n",
    "    print(\"Reject null hypothesis\")\n",
    "else:\n",
    "    print(\"Accept null hypothesis\")"
   ]
  },
  {
   "cell_type": "markdown",
   "metadata": {},
   "source": [
    "## The t-test is more appropriate for small sample size, 10 in this case. For this particular sample of size 10, both the z-test & t-test had p values greater than 0.01, and thererfore the null hypothesis that the population body temperature mean is 98.6 degrees  is NOT rejected at the 5% significance level. However, in other random samples of size 10 the null hypothesis was rejected. Given the variability in results obtained, a small sample is probably not the best way to test a hypothesis."
   ]
  },
  {
   "cell_type": "markdown",
   "metadata": {
    "collapsed": true
   },
   "source": [
    "## The t-test is best used for small samples, sample size,n, < 30. While the z-test is best used when dealing with large sample sizes, n > 30."
   ]
  },
  {
   "cell_type": "markdown",
   "metadata": {
    "collapsed": true
   },
   "source": [
    "## Question 5"
   ]
  },
  {
   "cell_type": "markdown",
   "metadata": {
    "collapsed": true
   },
   "source": [
    "## Data beyond two standard deviations away from the mean is considered \"unusual\" or \"abnormal\" data."
   ]
  },
  {
   "cell_type": "code",
   "execution_count": 75,
   "metadata": {},
   "outputs": [
    {
     "name": "stdout",
     "output_type": "stream",
     "text": [
      "Two Standard Deviations:\n",
      "1.4607155578100754\n",
      "\n",
      "The mean body temperature is:\n",
      "98.24923076923078\n",
      "\n",
      "Standard deviation of body temperature:\n",
      "0.7303577789050377\n",
      "\n",
      "Two Standard deviation above mean body temperature:\n",
      "99.70994632704085\n",
      "\n",
      "Two Standard deviation below mean body temperature:\n",
      "96.7885152114207\n",
      "\n"
     ]
    }
   ],
   "source": [
    "one_std = np.std(df.temperature)\n",
    "two_std = 2*one_std\n",
    "temp_mean = np.mean(df.temperature)\n",
    "print('Two Standard Deviations:')\n",
    "print(two_std)\n",
    "print()\n",
    "print(\"The mean body temperature is:\")\n",
    "print(np.mean(df.temperature))\n",
    "print()\n",
    "print(\"Standard deviation of body temperature:\")\n",
    "print(np.std(df.temperature))\n",
    "print()\n",
    "print(\"Two Standard deviation above mean body temperature:\")\n",
    "print(two_std + temp_mean)\n",
    "print()\n",
    "print(\"Two Standard deviation below mean body temperature:\")\n",
    "print(temp_mean - two_std)\n",
    "print()"
   ]
  },
  {
   "cell_type": "markdown",
   "metadata": {},
   "source": [
    "## Based on mean and standard deviation of body temperature data, a body temperature above 99.7 or below 96.7 would be considered \"abnormal\"."
   ]
  },
  {
   "cell_type": "code",
   "execution_count": 76,
   "metadata": {},
   "outputs": [
    {
     "data": {
      "text/plain": [
       "<matplotlib.lines.Line2D at 0x119fd5208>"
      ]
     },
     "execution_count": 76,
     "metadata": {},
     "output_type": "execute_result"
    },
    {
     "data": {
      "image/png": "[encoded data removed]",
      "text/plain": [
       "<matplotlib.figure.Figure at 0x119de0c18>"
      ]
     },
     "metadata": {},
     "output_type": "display_data"
    }
   ],
   "source": [
    "fig, ax = plt.subplots(figsize=(9, 6))\n",
    "for axis in ['top','bottom','left','right']:\n",
    "    ax.spines[axis].set_linewidth(2.5)\n",
    "sns.distplot(df.temperature)\n",
    "plt.axvline(99.7, color='red', linestyle='--')\n",
    "plt.axvline(temp_mean, color='red', linestyle='--')\n",
    "plt.axvline(96.78, color='red', linestyle='--')"
   ]
  },
  {
   "cell_type": "code",
   "execution_count": 77,
   "metadata": {},
   "outputs": [
    {
     "name": "stdout",
     "output_type": "stream",
     "text": [
      "98.2490786\n",
      "98.2490786\n",
      "\n",
      "The Standard Error is :\n",
      "0.102310465848\n",
      "\n",
      "Two SE below the sample mean:\n",
      "98.0444576683\n",
      "\n",
      "Two SE above the sample mean:\n",
      "98.4536995317\n",
      "\n"
     ]
    }
   ],
   "source": [
    "# bootstrap sample of 50\n",
    "sample_means_50 = []\n",
    "num_samples = 10000\n",
    "for idx in range(num_samples):\n",
    "    bs_sample = np.random.choice(df.temperature,size = 50)\n",
    "    #bs_sample = np.random.choice(df.temperature,size = 20)\n",
    "    sample_means_50.append(np.mean(bs_sample))\n",
    "    \n",
    "s_error = np.std(sample_means_50)\n",
    "two_s_error = 2*s_error\n",
    "sample_mean = np.mean(sample_means_50)\n",
    "print(np.mean(sample_means_50))\n",
    "print(sample_mean)\n",
    "print()\n",
    "print('The Standard Error is :')\n",
    "print(s_error)\n",
    "print()\n",
    "print('Two SE below the sample mean:')\n",
    "print(sample_mean - two_s_error)\n",
    "print()\n",
    "print('Two SE above the sample mean:')\n",
    "print(sample_mean + two_s_error)\n",
    "print()"
   ]
  },
  {
   "cell_type": "markdown",
   "metadata": {},
   "source": [
    "## Note bootstrap standard error is considerably less than the standard deviation calculated above,  approximately 7X smaller."
   ]
  },
  {
   "cell_type": "markdown",
   "metadata": {},
   "source": [
    "## Based on Bootstrap sample of body temperature mean and bootstrap standard error with sample size of 50, a body temperature below 98.04 or above 98.4 degrees Farenheit would be considered \"abnormal\"."
   ]
  },
  {
   "cell_type": "code",
   "execution_count": 78,
   "metadata": {},
   "outputs": [
    {
     "data": {
      "text/plain": [
       "<matplotlib.text.Text at 0x11a144d30>"
      ]
     },
     "execution_count": 78,
     "metadata": {},
     "output_type": "execute_result"
    },
    {
     "data": {
      "image/png": "[encoded data removed]",
      "text/plain": [
       "<matplotlib.figure.Figure at 0x119e97358>"
      ]
     },
     "metadata": {},
     "output_type": "display_data"
    }
   ],
   "source": [
    "fig, ax = plt.subplots(figsize=(9, 6))\n",
    "for axis in ['top','bottom','left','right']:\n",
    "    ax.spines[axis].set_linewidth(2.5)\n",
    "sns.distplot(sample_means_50)\n",
    "plt.xlabel('Body Temperature')\n",
    "plt.axvline(98.045, color='red', linestyle='--')\n",
    "plt.axvline(sample_mean, color='red', linestyle='--')\n",
    "plt.axvline(98.45, color='red', linestyle='--')\n",
    "plt.title('Bootstrap Sample of Body Temperature Mean')"
   ]
  },
  {
   "cell_type": "markdown",
   "metadata": {},
   "source": [
    "## Question 6"
   ]
  },
  {
   "cell_type": "code",
   "execution_count": 79,
   "metadata": {},
   "outputs": [
    {
     "name": "stdout",
     "output_type": "stream",
     "text": [
      "98.39384615384613\n",
      "\n",
      "98.1046153846154\n"
     ]
    }
   ],
   "source": [
    "print(np.mean(df[df.gender == 'F'].temperature))\n",
    "print()\n",
    "print(np.mean(df[df.gender == 'M'].temperature))"
   ]
  },
  {
   "cell_type": "code",
   "execution_count": 80,
   "metadata": {},
   "outputs": [
    {
     "name": "stdout",
     "output_type": "stream",
     "text": [
      "98.1046153846154\n",
      "\n",
      "98.39384615384613\n"
     ]
    }
   ],
   "source": [
    "female = df[df.gender == 'F'].temperature\n",
    "male = df[df.gender == 'M'].temperature\n",
    "print(np.mean(male))\n",
    "print()\n",
    "print(np.mean(female))"
   ]
  },
  {
   "cell_type": "code",
   "execution_count": 81,
   "metadata": {},
   "outputs": [
    {
     "name": "stdout",
     "output_type": "stream",
     "text": [
      "65\n",
      "\n",
      "65\n"
     ]
    }
   ],
   "source": [
    "print(len(female))\n",
    "print()\n",
    "print(len(male))"
   ]
  },
  {
   "cell_type": "code",
   "execution_count": 82,
   "metadata": {},
   "outputs": [
    {
     "data": {
      "text/plain": [
       "<matplotlib.text.Text at 0x119ff5a58>"
      ]
     },
     "execution_count": 82,
     "metadata": {},
     "output_type": "execute_result"
    },
    {
     "data": {
      "image/png": "[encoded data removed]",
      "text/plain": [
       "<matplotlib.figure.Figure at 0x119e5ba90>"
      ]
     },
     "metadata": {},
     "output_type": "display_data"
    }
   ],
   "source": [
    "# visual ANOVA using boxplot\n",
    "my_pal = {\"M\": \"r\", \"F\": \"b\"}\n",
    "fig, ax = plt.subplots(figsize=(9, 6))\n",
    "for axis in ['top','bottom','left','right']:\n",
    "    ax.spines[axis].set_linewidth(2.5)\n",
    "sns.boxplot(x=\"gender\", y=\"temperature\", data=df, palette=my_pal)\n",
    "plt.xlabel('Gender',weight = 'bold',size =20)\n",
    "plt.ylabel('Temperature (Farenheit)',weight = 'bold',size =20)"
   ]
  },
  {
   "cell_type": "code",
   "execution_count": 83,
   "metadata": {},
   "outputs": [
    {
     "data": {
      "text/plain": [
       "Ttest_indResult(statistic=-2.2854345381656103, pvalue=0.023931883122395609)"
      ]
     },
     "execution_count": 83,
     "metadata": {},
     "output_type": "execute_result"
    }
   ],
   "source": [
    "stats.ttest_ind(male,female)"
   ]
  },
  {
   "cell_type": "markdown",
   "metadata": {},
   "source": [
    "## t test: This is a two-sided test for the null hypothesis that the 2 groups,male and female,  have identical average (expected) values. Based on the obtained p-value of 0.024, the difference in mean body temperatures between men and women is significant. Therefore, we reject the null hypothesis that there is no difference in body temperature between men & women assuming we use a signifcance level of 5%. "
   ]
  },
  {
   "cell_type": "markdown",
   "metadata": {},
   "source": [
    "## Permutation sample to test for difference in body temperature between the sexes.\n",
    "## Combine data for both women & men, permute the data , then take samples of appropriate size."
   ]
  },
  {
   "cell_type": "code",
   "execution_count": 84,
   "metadata": {
    "collapsed": true
   },
   "outputs": [],
   "source": [
    "def permutation_sample(data1, data2):\n",
    "    \"\"\"Generate a permutation sample from two data sets.\"\"\"\n",
    "\n",
    "    # Concatenate the data sets: data\n",
    "    data = np.concatenate((data1,data2))\n",
    "\n",
    "    # Permute the concatenated array: permuted_data\n",
    "    permuted_data = np.random.permutation(data)\n",
    "\n",
    "    # Split the permuted array into two: perm_sample_1, perm_sample_2\n",
    "    perm_sample_1 = permuted_data[0:len(data1)]\n",
    "    perm_sample_2 = permuted_data[len(data1):]\n",
    "\n",
    "    return perm_sample_1, perm_sample_2"
   ]
  },
  {
   "cell_type": "code",
   "execution_count": 85,
   "metadata": {
    "collapsed": true
   },
   "outputs": [],
   "source": [
    "def draw_perm_reps(data_1, data_2, func, size=1):\n",
    "    \"\"\"Generate multiple permutation replicates.\"\"\"\n",
    "\n",
    "    # Initialize array of replicates: perm_replicates\n",
    "    perm_replicates = np.empty(size)\n",
    "\n",
    "    for i in range(size):\n",
    "       # Generate permutation sample\n",
    "       perm_sample_1, perm_sample_2 = permutation_sample(data_1,data_2)\n",
    "\n",
    "       # Compute the test statistic\n",
    "       perm_replicates[i] = func(perm_sample_1,perm_sample_2)\n",
    "\n",
    "    return perm_replicates"
   ]
  },
  {
   "cell_type": "code",
   "execution_count": 86,
   "metadata": {
    "collapsed": true
   },
   "outputs": [],
   "source": [
    "def diff_of_means(data_1, data_2):\n",
    "    \"\"\"Difference in means of two arrays.\"\"\"\n",
    "\n",
    "    # The difference of means of data_1, data_2: diff\n",
    "    diff = np.mean(data_1) - np.mean(data_2)\n",
    "\n",
    "    return diff"
   ]
  },
  {
   "cell_type": "code",
   "execution_count": 87,
   "metadata": {
    "collapsed": true
   },
   "outputs": [],
   "source": [
    "# Draw 10,000 permutation replicates: perm_replicates\n",
    "perm_replicates = draw_perm_reps(female,male,\n",
    "                                diff_of_means , size=10000)"
   ]
  },
  {
   "cell_type": "code",
   "execution_count": 88,
   "metadata": {},
   "outputs": [
    {
     "name": "stdout",
     "output_type": "stream",
     "text": [
      "The observed difference in mean body temperature between women and men:\n",
      "0.289230769230727\n"
     ]
    }
   ],
   "source": [
    "empirical_mean_diff = np.mean(female) - np.mean(male)\n",
    "print(\"The observed difference in mean body temperature between women and men:\")\n",
    "print(empirical_mean_diff)"
   ]
  },
  {
   "cell_type": "code",
   "execution_count": 89,
   "metadata": {},
   "outputs": [
    {
     "name": "stdout",
     "output_type": "stream",
     "text": [
      "For permutation sample replicates:\n",
      "p-value = 0.0146\n"
     ]
    }
   ],
   "source": [
    "# Calculate p value of permutation replicate mean differences\n",
    "p_val = float(np.sum(perm_replicates >= empirical_mean_diff) / len(perm_replicates))\n",
    "\n",
    "# Print the result\n",
    "print('For permutation sample replicates:')\n",
    "print('p-value =', p_val)"
   ]
  },
  {
   "cell_type": "code",
   "execution_count": 90,
   "metadata": {},
   "outputs": [
    {
     "data": {
      "text/plain": [
       "<matplotlib.text.Text at 0x119662208>"
      ]
     },
     "execution_count": 90,
     "metadata": {},
     "output_type": "execute_result"
    },
    {
     "data": {
      "image/png": "[encoded data removed]",
      "text/plain": [
       "<matplotlib.figure.Figure at 0x11a2c66d8>"
      ]
     },
     "metadata": {},
     "output_type": "display_data"
    }
   ],
   "source": [
    "fig, ax = plt.subplots(figsize=(9, 6))\n",
    "for axis in ['top','bottom','left','right']:\n",
    "    ax.spines[axis].set_linewidth(2.5)\n",
    "sns.distplot(perm_replicates)\n",
    "plt.axvline(x=empirical_mean_diff,color ='red')\n",
    "plt.title('Permutation Replicates of Mean Difference of Body Temperature Between Women & Men')"
   ]
  },
  {
   "cell_type": "markdown",
   "metadata": {},
   "source": [
    "## Based on the p-value for permutation replicates of ~ 0.015, the observed difference in body temperature means between women and men IS statistically significant. As shown in the above graph, it is unlikely to obtain the empirical difference in body temperature from a permutation replicate sample. Therefore, we reject the null hypothesis that there is no difference in body temperature between men & women assuming we use a signifcance level of 5%. "
   ]
  },
  {
   "cell_type": "code",
   "execution_count": null,
   "metadata": {
    "collapsed": true
   },
   "outputs": [],
   "source": []
  }
 ],
 "metadata": {
  "kernelspec": {
   "display_name": "Python [default]",
   "language": "python",
   "name": "python3"
  },
  "language_info": {
   "codemirror_mode": {
    "name": "ipython",
    "version": 3
   },
   "file_extension": ".py",
   "mimetype": "text/x-python",
   "name": "python",
   "nbconvert_exporter": "python",
   "pygments_lexer": "ipython3",
   "version": "3.6.0"
  }
 },
 "nbformat": 4,
 "nbformat_minor": 1
}
